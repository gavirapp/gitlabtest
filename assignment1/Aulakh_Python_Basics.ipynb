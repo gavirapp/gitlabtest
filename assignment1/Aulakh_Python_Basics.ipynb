{
  "nbformat": 4,
  "nbformat_minor": 0,
  "metadata": {
    "kernelspec": {
      "display_name": "Python 3",
      "language": "python",
      "name": "python3"
    },
    "language_info": {
      "codemirror_mode": {
        "name": "ipython",
        "version": 3
      },
      "file_extension": ".py",
      "mimetype": "text/x-python",
      "name": "python",
      "nbconvert_exporter": "python",
      "pygments_lexer": "ipython3",
      "version": "3.7.3"
    },
    "colab": {
      "name": "Aulakh_Python_Basics.ipynb",
      "provenance": [],
      "collapsed_sections": []
    }
  },
  "cells": [
    {
      "cell_type": "markdown",
      "metadata": {
        "id": "RY7842s0SERX",
        "colab_type": "text"
      },
      "source": [
        "# This is our first jupyter notebook"
      ]
    },
    {
      "cell_type": "markdown",
      "metadata": {
        "id": "HeYLSVCuSERf",
        "colab_type": "text"
      },
      "source": [
        "### Markdown cell example:\n",
        "$x = \\frac{-b\\pm\\sqrt{b^2-4ac}}{2a}$"
      ]
    },
    {
      "cell_type": "markdown",
      "metadata": {
        "id": "nLQNJAC3SERi",
        "colab_type": "text"
      },
      "source": [
        "## Basic programming aspects of Python"
      ]
    },
    {
      "cell_type": "code",
      "metadata": {
        "id": "rZ2owgHwSERk",
        "colab_type": "code",
        "outputId": "dd565218-e8e9-49ca-d828-9e552dc6f4c4",
        "colab": {}
      },
      "source": [
        "#print the version of python you are using:\n",
        "import sys\n",
        "print(\"Python version\")\n",
        "print(sys.version)"
      ],
      "execution_count": 0,
      "outputs": [
        {
          "output_type": "stream",
          "text": [
            "Python version\n",
            "3.7.3 (default, Mar 27 2019, 17:13:21) [MSC v.1915 64 bit (AMD64)]\n"
          ],
          "name": "stdout"
        }
      ]
    },
    {
      "cell_type": "markdown",
      "metadata": {
        "id": "CtKCNSKESER0",
        "colab_type": "text"
      },
      "source": [
        "#### Variables"
      ]
    },
    {
      "cell_type": "code",
      "metadata": {
        "id": "xsONWMliSER1",
        "colab_type": "code",
        "outputId": "fa7c43c1-181a-42d1-a5f4-ae4c98c8bafc",
        "colab": {}
      },
      "source": [
        "#Two types of key variables: numerical and string\n",
        "x = 10  # Integer variable\n",
        "y = \"Hello World\"  # String variable\n",
        " \n",
        "# Displaying variables value using **print** statement\n",
        "print(x)\n",
        "print(y)"
      ],
      "execution_count": 0,
      "outputs": [
        {
          "output_type": "stream",
          "text": [
            "10\n",
            "Hello World\n"
          ],
          "name": "stdout"
        }
      ]
    },
    {
      "cell_type": "code",
      "metadata": {
        "id": "_gGPbeJwSER6",
        "colab_type": "code",
        "outputId": "afbaaf22-4400-41c9-af5a-420df1ec3bf4",
        "colab": {}
      },
      "source": [
        "#Checking type of variable\n",
        "var1 = 'Hello World'\n",
        "print(type(var1))\n",
        " \n",
        "var2 = 100\n",
        "if type(var2) == int:\n",
        "    print('Integer')"
      ],
      "execution_count": 0,
      "outputs": [
        {
          "output_type": "stream",
          "text": [
            "<class 'str'>\n",
            "Integer\n"
          ],
          "name": "stdout"
        }
      ]
    },
    {
      "cell_type": "markdown",
      "metadata": {
        "id": "PNbyEJvhSESF",
        "colab_type": "text"
      },
      "source": [
        "### Execise 1:\n",
        "\n",
        "Write a Python program to print the following string in a specific format using \\n and \\t (see the output). Go to the editor\n",
        "Sample String : \"Twinkle, twinkle, little star, How I wonder what you are! Up above the world so high, Like a diamond in the sky. Twinkle, twinkle, little star, How I wonder what you are\" Output :"
      ]
    },
    {
      "cell_type": "code",
      "metadata": {
        "id": "w9k8c9j7SESG",
        "colab_type": "code",
        "outputId": "095fe2e0-ad79-4bc3-b459-36a64fbd2736",
        "colab": {
          "base_uri": "https://localhost:8080/",
          "height": 119
        }
      },
      "source": [
        "\n",
        "\n",
        "print(\"Twinkle, twinkle little star,\\n\\tHow I wonder what you are!\\n\\t\\tUp above the word so high,\\n\\t\\tLike a diamond in the sky.\\nTwinkle, twinkle, little star,\\n\\tHow I wonder what you are\")"
      ],
      "execution_count": 0,
      "outputs": [
        {
          "output_type": "stream",
          "text": [
            "Twinkle, twinkle little star,\n",
            "\tHow I wonder what you are!\n",
            "\t\tUp above the word so high,\n",
            "\t\tLike a diamond in the sky.\n",
            "Twinkle, twinkle, little star,\n",
            "\tHow I wonder what you are\n"
          ],
          "name": "stdout"
        }
      ]
    },
    {
      "cell_type": "markdown",
      "metadata": {
        "id": "Zheh9KHcSESL",
        "colab_type": "text"
      },
      "source": [
        "#### Functions"
      ]
    },
    {
      "cell_type": "code",
      "metadata": {
        "id": "CD3KQvE0SESN",
        "colab_type": "code",
        "outputId": "f3003c46-554f-4092-a745-4e7d025af969",
        "colab": {}
      },
      "source": [
        "#Here is an example of a basic function\n",
        "def square(x):\n",
        "    \"\"\"This program calculates the square\n",
        "    input is x\n",
        "    returns the square of x\"\"\"\n",
        "    out = x*x\n",
        "    return out\n",
        "\n",
        "print(square(10))"
      ],
      "execution_count": 0,
      "outputs": [
        {
          "output_type": "stream",
          "text": [
            "100\n"
          ],
          "name": "stdout"
        }
      ]
    },
    {
      "cell_type": "code",
      "metadata": {
        "id": "EvGz_ayrSEST",
        "colab_type": "code",
        "outputId": "9b3f5a28-8c5c-47c6-8355-8bd34064fbfa",
        "colab": {}
      },
      "source": [
        "a = int(input(\"Input an integer : \"))\n",
        "print(square(a))"
      ],
      "execution_count": 0,
      "outputs": [
        {
          "output_type": "stream",
          "text": [
            "Input an integer : 57\n",
            "3249\n"
          ],
          "name": "stdout"
        }
      ]
    },
    {
      "cell_type": "markdown",
      "metadata": {
        "id": "Y6Ok7dtSSESZ",
        "colab_type": "text"
      },
      "source": [
        "### Exercise 2:\n",
        "Write a Python program that accepts an integer (n) and computes the value of n+nn+nnn.\n"
      ]
    },
    {
      "cell_type": "code",
      "metadata": {
        "id": "SyeRwAxyZvuQ",
        "colab_type": "code",
        "outputId": "9c37bd56-e6ff-4441-c57a-a3a5198c337b",
        "colab": {
          "base_uri": "https://localhost:8080/",
          "height": 34
        }
      },
      "source": [
        "def weird(n):\n",
        "  s = n + 11*n + 111*n\n",
        "  return s\n",
        "\n",
        "weird(3)\n",
        "\n",
        "\n",
        "  \n",
        "  \n"
      ],
      "execution_count": 0,
      "outputs": [
        {
          "output_type": "execute_result",
          "data": {
            "text/plain": [
              "369"
            ]
          },
          "metadata": {
            "tags": []
          },
          "execution_count": 9
        }
      ]
    },
    {
      "cell_type": "markdown",
      "metadata": {
        "id": "WwOVWtW8SESc",
        "colab_type": "text"
      },
      "source": [
        "Conditionals"
      ]
    },
    {
      "cell_type": "code",
      "metadata": {
        "id": "fTigB2GPSESe",
        "colab_type": "code",
        "outputId": "f3706985-97e6-4113-e551-87800fa0c749",
        "colab": {}
      },
      "source": [
        "#if statement\n",
        "x = 10\n",
        "y = 20\n",
        " \n",
        "if x < y:\n",
        "    print(\"x is less than y\")"
      ],
      "execution_count": 0,
      "outputs": [
        {
          "output_type": "stream",
          "text": [
            "x is less than y\n"
          ],
          "name": "stdout"
        }
      ]
    },
    {
      "cell_type": "code",
      "metadata": {
        "id": "TG8OXc_ESESl",
        "colab_type": "code",
        "outputId": "a9d47001-6ff8-4456-c78f-7fd844625351",
        "colab": {}
      },
      "source": [
        "#if-then-else\n",
        "x = 10\n",
        "y = 5\n",
        " \n",
        "if x < y:\n",
        "    print(\"x is less than y\")\n",
        "else:\n",
        "    print(\"y is less than x\")"
      ],
      "execution_count": 0,
      "outputs": [
        {
          "output_type": "stream",
          "text": [
            "y is less than x\n"
          ],
          "name": "stdout"
        }
      ]
    },
    {
      "cell_type": "markdown",
      "metadata": {
        "id": "e6VmSMsuSESr",
        "colab_type": "text"
      },
      "source": [
        "### Exercise 3:\n",
        "Write a Python program to find whether a given number (accept from the user) is even or odd, print out an appropriate message to the user"
      ]
    },
    {
      "cell_type": "code",
      "metadata": {
        "id": "iBmOhnJXSESu",
        "colab_type": "code",
        "outputId": "3e96c536-eb60-4ec1-b91a-5f262b9fa8bb",
        "colab": {}
      },
      "source": [
        "#extension\n",
        "x = 10\n",
        "y = 10\n",
        "z = 15\n",
        " \n",
        "if x < y:\n",
        "    print(\"x is less than y\")\n",
        "elif x < z:\n",
        "    print(\"x is less than z\")\n",
        "else:\n",
        "    print(\"x is equal to y\")"
      ],
      "execution_count": 0,
      "outputs": [
        {
          "output_type": "stream",
          "text": [
            "x is less than z\n"
          ],
          "name": "stdout"
        }
      ]
    },
    {
      "cell_type": "code",
      "metadata": {
        "id": "iOLGkxOIcDVE",
        "colab_type": "code",
        "outputId": "a1a4c4f3-ec82-4d72-c0f2-4d76f9b353b7",
        "colab": {
          "base_uri": "https://localhost:8080/",
          "height": 51
        }
      },
      "source": [
        "def odd(n):\n",
        "  if n%2 == 0:\n",
        "    print(\"that number is even\")\n",
        "  else: \n",
        "    print(\"that number is odd\")\n",
        "\n",
        "a = int(input(\"Input an integer: \"))\n",
        "odd(a)"
      ],
      "execution_count": 0,
      "outputs": [
        {
          "output_type": "stream",
          "text": [
            "Input an integer: 17\n",
            "that number is odd\n"
          ],
          "name": "stdout"
        }
      ]
    },
    {
      "cell_type": "markdown",
      "metadata": {
        "id": "Oa6Bk44jSES1",
        "colab_type": "text"
      },
      "source": [
        "### Exercise 4:\n",
        "Write a Python program to test and print whether the input number is within 100 of 1000."
      ]
    },
    {
      "cell_type": "code",
      "metadata": {
        "id": "TgGSDD8ed-9W",
        "colab_type": "code",
        "outputId": "16b068d6-f7a5-4a0c-cccb-e5564933be5b",
        "colab": {
          "base_uri": "https://localhost:8080/",
          "height": 34
        }
      },
      "source": [
        "def test(x):\n",
        "  if x >= 900 and x <= 1100:\n",
        "    print(\"Number is within the given range\")\n",
        "  else:\n",
        "    print(\"Number is not within the given range\")\n",
        "\n",
        "test(1012)"
      ],
      "execution_count": 0,
      "outputs": [
        {
          "output_type": "stream",
          "text": [
            "Number is within the given range\n"
          ],
          "name": "stdout"
        }
      ]
    },
    {
      "cell_type": "markdown",
      "metadata": {
        "id": "N6n9inr5SES2",
        "colab_type": "text"
      },
      "source": [
        "#### For loops"
      ]
    },
    {
      "cell_type": "code",
      "metadata": {
        "id": "TCzQf2zVSES3",
        "colab_type": "code",
        "outputId": "f6c796e7-c5ba-428e-f07c-f87baf8b8af3",
        "colab": {}
      },
      "source": [
        "for number in [1, 2, 3, 4, 5]:\n",
        "    print(number)"
      ],
      "execution_count": 0,
      "outputs": [
        {
          "output_type": "stream",
          "text": [
            "1\n",
            "2\n",
            "3\n",
            "4\n",
            "5\n"
          ],
          "name": "stdout"
        }
      ]
    },
    {
      "cell_type": "code",
      "metadata": {
        "id": "ZTEorAFuSES_",
        "colab_type": "code",
        "outputId": "a98c212b-f811-42a8-8118-7dcc73cd0ef7",
        "colab": {}
      },
      "source": [
        "for number in range(5):\n",
        "    print(\"Python\")"
      ],
      "execution_count": 0,
      "outputs": [
        {
          "output_type": "stream",
          "text": [
            "Python\n",
            "Python\n",
            "Python\n",
            "Python\n",
            "Python\n"
          ],
          "name": "stdout"
        }
      ]
    },
    {
      "cell_type": "markdown",
      "metadata": {
        "id": "dvl08HW5SETF",
        "colab_type": "text"
      },
      "source": [
        "#### Data structures"
      ]
    },
    {
      "cell_type": "code",
      "metadata": {
        "id": "ICBFqh3bSETG",
        "colab_type": "code",
        "outputId": "d15a0a86-544f-452b-e571-350192ad912f",
        "colab": {}
      },
      "source": [
        "#List of various entities\n",
        "intList = [10, 20, 30, 40]\n",
        "strList = [\"Canada\", \"Japan\", \"London\"]\n",
        "mixList = [\"Canada\", 20, True, 500.50]\n",
        "generate = [x + 6 for x in [4, 5, 6]]  # Generate from loop: list comprehension\n",
        "listfromtuple = list((5, 13, 15, 17, 29))  # List from a tuple\n",
        "python = list('python')  # List from a string\n",
        " \n",
        "print(intList)\n",
        "print(strList)\n",
        "print(mixList)\n",
        "print(generate)\n",
        "print(listfromtuple)\n",
        "print(python)"
      ],
      "execution_count": 0,
      "outputs": [
        {
          "output_type": "stream",
          "text": [
            "[10, 20, 30, 40]\n",
            "['Canada', 'Japan', 'London']\n",
            "['Canada', 20, True, 500.5]\n",
            "[10, 11, 12]\n",
            "[5, 13, 15, 17, 29]\n",
            "['p', 'y', 't', 'h', 'o', 'n']\n"
          ],
          "name": "stdout"
        }
      ]
    },
    {
      "cell_type": "code",
      "metadata": {
        "id": "a_EwQhwySETM",
        "colab_type": "code",
        "outputId": "cb4284cc-6af0-4412-c621-5b9d8ec9b910",
        "colab": {
          "base_uri": "https://localhost:8080/",
          "height": 85
        }
      },
      "source": [
        "#Accessing list items by index\n",
        "testList = [\"Canada\", \"Japan\", \"London\"]\n",
        "print(testList[1])\n",
        "print(testList[-1])\n",
        "print(testList[-2:])\n",
        "print(testList[-3])"
      ],
      "execution_count": 0,
      "outputs": [
        {
          "output_type": "stream",
          "text": [
            "Japan\n",
            "London\n",
            "['Japan', 'London']\n",
            "Canada\n"
          ],
          "name": "stdout"
        }
      ]
    },
    {
      "cell_type": "code",
      "metadata": {
        "id": "Vty43nxnSETU",
        "colab_type": "code",
        "outputId": "d5fc7042-8657-45be-9cb1-e1ff7d9a5b75",
        "colab": {}
      },
      "source": [
        "#Changing list items directly\n",
        "testList = [\"Canada\", \"Japan\", \"London\"]\n",
        "print(testList)\n",
        " \n",
        "testList[0] = \"Germany\"\n",
        "testList[1] = 100\n",
        "print(testList)"
      ],
      "execution_count": 0,
      "outputs": [
        {
          "output_type": "stream",
          "text": [
            "['Canada', 'Japan', 'London']\n",
            "['Germany', 100, 'London']\n"
          ],
          "name": "stdout"
        }
      ]
    },
    {
      "cell_type": "code",
      "metadata": {
        "id": "b7Peq15uSETY",
        "colab_type": "code",
        "outputId": "826a83a2-de0b-470c-e5bc-7f9d28bca7f1",
        "colab": {}
      },
      "source": [
        "#Removing duplicate entries in a list:\n",
        "testList = [\"Canada\", \"Japan\", \"Canada\", \"Germany\", \"Japan\", \"Italy\"]\n",
        "\n",
        "print(testList)\n",
        " \n",
        "cleanlist = []\n",
        "#The following is an example if a powerful Python utility called \"list comprehension\"\n",
        "[cleanlist.append(x) for x in testList if x not in cleanlist]\n",
        "\n",
        "print(cleanlist)"
      ],
      "execution_count": 0,
      "outputs": [
        {
          "output_type": "stream",
          "text": [
            "['Canada', 'Japan', 'Canada', 'Germany', 'Japan', 'Italy']\n",
            "['Canada', 'Japan', 'Germany', 'Italy']\n"
          ],
          "name": "stdout"
        }
      ]
    },
    {
      "cell_type": "code",
      "metadata": {
        "id": "E-Y60Jz4SETe",
        "colab_type": "code",
        "outputId": "ef90ca8a-3794-469e-d404-9054d7aa466d",
        "colab": {}
      },
      "source": [
        "#The difference between two lists:\n",
        "list1 = [\"Canada\", \"Japan\", \"Canada\", \"Germany\", \"Japan\", \"Italy\"]\n",
        "list2 = [\"Germany\", \"France\", \"Poland\", \"Italy\", \"India\", \"London\"]\n",
        "\n",
        "#when chaning a list to a set, only unique entries are kept and in no specific order \n",
        "sub1 = list(set(list1) - set(list2))\n",
        "print(sub1)\n",
        " \n",
        "sub2 = list(set(list2) - set(list1))\n",
        "print(sub2)"
      ],
      "execution_count": 0,
      "outputs": [
        {
          "output_type": "stream",
          "text": [
            "['Canada', 'Japan']\n",
            "['Poland', 'London', 'India', 'France']\n"
          ],
          "name": "stdout"
        }
      ]
    },
    {
      "cell_type": "markdown",
      "metadata": {
        "id": "VCCIMycZSETj",
        "colab_type": "text"
      },
      "source": [
        "### Exercise 5\n",
        "Write a Python program to print out a set containing all the colors from color_list_1 which are not present in color_list_2.    Here is an example:  \n",
        "\n",
        "Test Data :  \n",
        "color_list_1 = set([\"White\", \"Black\", \"Red\"])  \n",
        "color_list_2 = set([\"Red\", \"Green\"])  \n",
        "Expected Output :  \n",
        "{'Black', 'White'}  "
      ]
    },
    {
      "cell_type": "code",
      "metadata": {
        "id": "9R29HLSqh9vW",
        "colab_type": "code",
        "outputId": "2ef70bcc-3c7c-4ff4-bdb0-94fad84690d4",
        "colab": {
          "base_uri": "https://localhost:8080/",
          "height": 34
        }
      },
      "source": [
        "color_list_1=set([\"white\", \"black\", \"red\"])\n",
        "color_list_2=set([\"red\", \"green\"])\n",
        "sub1 = set(color_list_1 - color_list_2)\n",
        "print(sub1)"
      ],
      "execution_count": 0,
      "outputs": [
        {
          "output_type": "stream",
          "text": [
            "{'white', 'black'}\n"
          ],
          "name": "stdout"
        }
      ]
    },
    {
      "cell_type": "markdown",
      "metadata": {
        "id": "VPr8T80pSETm",
        "colab_type": "text"
      },
      "source": [
        "#### Dictionaries are a more general type of list, where each entry is a key:value pair\n",
        "#There are many ways to generate dictionaries"
      ]
    },
    {
      "cell_type": "code",
      "metadata": {
        "id": "vRFdAvXOSETn",
        "colab_type": "code",
        "outputId": "52638014-5b91-4ce1-b1b4-2f8f0ec72340",
        "colab": {}
      },
      "source": [
        "#The follwoing are all equivalent ways of creating the same dictionary\n",
        "\n",
        "d1 = dict(Canada=100, Japan=500)\n",
        "d2 = {'Canada': 100, 'Japan': 500}\n",
        "d3 = dict(zip(['Canada', 'Japan'], [100, 500]))\n",
        "d4 = dict([('Canada', 100), ('Japan', 500)])\n",
        "d5 = dict({'Japan': 500, 'Canada': 100})\n",
        "print(d1)\n",
        "print(d2)\n",
        "print(d3)\n",
        "print(d4)\n",
        "print(d5)   "
      ],
      "execution_count": 0,
      "outputs": [
        {
          "output_type": "stream",
          "text": [
            "{'Canada': 100, 'Japan': 500}\n",
            "{'Canada': 100, 'Japan': 500}\n",
            "{'Canada': 100, 'Japan': 500}\n",
            "{'Canada': 100, 'Japan': 500}\n",
            "{'Japan': 500, 'Canada': 100}\n"
          ],
          "name": "stdout"
        }
      ]
    },
    {
      "cell_type": "code",
      "metadata": {
        "id": "Tpp7L4h-SETx",
        "colab_type": "code",
        "outputId": "78c464f1-19bd-49db-a250-417550e8e050",
        "colab": {}
      },
      "source": [
        "#here are ways to get values of keys from a dictionary:\n",
        "d1 = {'Canada': 100, 'Japan': 500}\n",
        "x = d1[\"Canada\"]\n",
        "y = d1.get(\"Japan\")\n",
        "print(x)\n",
        "print(y)"
      ],
      "execution_count": 0,
      "outputs": [
        {
          "output_type": "stream",
          "text": [
            "100\n",
            "500\n"
          ],
          "name": "stdout"
        }
      ]
    },
    {
      "cell_type": "markdown",
      "metadata": {
        "id": "U-wCnzB5SET1",
        "colab_type": "text"
      },
      "source": [
        "#### to retrieve keys and values as lists"
      ]
    },
    {
      "cell_type": "code",
      "metadata": {
        "id": "LurVZY6HSET2",
        "colab_type": "code",
        "outputId": "212c39bc-5aaf-4f58-861b-0bd0585e1157",
        "colab": {}
      },
      "source": [
        "for item in d1.keys():\n",
        "    print(item)"
      ],
      "execution_count": 0,
      "outputs": [
        {
          "output_type": "stream",
          "text": [
            "Canada\n",
            "Japan\n"
          ],
          "name": "stdout"
        }
      ]
    },
    {
      "cell_type": "code",
      "metadata": {
        "id": "_MYEaRIeSET5",
        "colab_type": "code",
        "outputId": "e99f5353-377f-4868-8557-7d81c4a4d2e9",
        "colab": {}
      },
      "source": [
        "##values as a list\n",
        "list(d1.values())"
      ],
      "execution_count": 0,
      "outputs": [
        {
          "output_type": "execute_result",
          "data": {
            "text/plain": [
              "[100, 500]"
            ]
          },
          "metadata": {
            "tags": []
          },
          "execution_count": 31
        }
      ]
    },
    {
      "cell_type": "markdown",
      "metadata": {
        "id": "huqBSoxhSET9",
        "colab_type": "text"
      },
      "source": [
        "### Exercise 6\n",
        "Print each of the keys and corresponding values, one per line, in a dictionary (say d3) in the format: key = value"
      ]
    },
    {
      "cell_type": "code",
      "metadata": {
        "id": "efvLA0J86ZSY",
        "colab_type": "code",
        "outputId": "2aceb6f6-bad9-4af8-b18a-3cec588ab736",
        "colab": {
          "base_uri": "https://localhost:8080/",
          "height": 68
        }
      },
      "source": [
        "d3 = dict(alpha=1, beta=2, charlie=3)\n",
        "x = list(d3.keys())\n",
        "y = list(d3.values())\n",
        "\n",
        "for i in range(3):\n",
        "  print(x[i] + \"=\" + str(y[i]))"
      ],
      "execution_count": 0,
      "outputs": [
        {
          "output_type": "stream",
          "text": [
            "alpha=1\n",
            "beta=2\n",
            "charlie=3\n"
          ],
          "name": "stdout"
        }
      ]
    },
    {
      "cell_type": "markdown",
      "metadata": {
        "id": "pGSBtObXSET9",
        "colab_type": "text"
      },
      "source": [
        "#### Classes and Objects"
      ]
    },
    {
      "cell_type": "code",
      "metadata": {
        "id": "w0yPI8XUSET-",
        "colab_type": "code",
        "colab": {}
      },
      "source": [
        "#A class is an abstraction of an entity\n",
        "class Employee:\n",
        "    name = \"John\"\n",
        "    age = 26"
      ],
      "execution_count": 0,
      "outputs": []
    },
    {
      "cell_type": "code",
      "metadata": {
        "id": "7OGV-Q1HSEUE",
        "colab_type": "code",
        "outputId": "8d864ec8-b138-4f5c-cc47-66c0b9b89deb",
        "colab": {}
      },
      "source": [
        "#Here is how to create an object of the class Employee\n",
        "e = Employee()\n",
        "print(e.name, e.age)\n",
        "print(type(e))  # <class '__main__.Employee'>"
      ],
      "execution_count": 0,
      "outputs": [
        {
          "output_type": "stream",
          "text": [
            "John 26\n",
            "<class '__main__.Employee'>\n"
          ],
          "name": "stdout"
        }
      ]
    },
    {
      "cell_type": "code",
      "metadata": {
        "id": "y9W6tIaBSEUH",
        "colab_type": "code",
        "outputId": "e9043213-002c-4300-85e9-3ea67cf66048",
        "colab": {}
      },
      "source": [
        "#Typically a class object will have initializer to set initial value to its attributes, as in this example:\n",
        "class Employee:\n",
        "    def __init__(self, name, age):\n",
        "        self.name = name\n",
        "        self.age = age\n",
        " \n",
        " \n",
        "e = Employee(\"Sam\", 36)\n",
        "print(e.name, e.age)"
      ],
      "execution_count": 0,
      "outputs": [
        {
          "output_type": "stream",
          "text": [
            "Sam 36\n"
          ],
          "name": "stdout"
        }
      ]
    },
    {
      "cell_type": "code",
      "metadata": {
        "id": "M5LcLs3pSEUO",
        "colab_type": "code",
        "outputId": "e9a39f2a-3b07-42f3-ca7d-9bbfb4c9e0a2",
        "colab": {}
      },
      "source": [
        "#Another important part of a class object are its methods\n",
        "class Employee:\n",
        "    def __init__(self, name, age):\n",
        "        self.name = name\n",
        "        self.age = age\n",
        "    \n",
        "    #method \"details\"\n",
        "    def details(self):\n",
        "        print(\"Employee Name:\",  self.name)\n",
        "        print(\"Employee Age:\", self.age)\n",
        " \n",
        " \n",
        "emp = Employee(\"Sam\", 36)\n",
        "emp.details()"
      ],
      "execution_count": 0,
      "outputs": [
        {
          "output_type": "stream",
          "text": [
            "Employee Name: Sam\n",
            "Employee Age: 36\n"
          ],
          "name": "stdout"
        }
      ]
    },
    {
      "cell_type": "markdown",
      "metadata": {
        "id": "yHtne0s-SEUV",
        "colab_type": "text"
      },
      "source": [
        "### Exercise 7:\n",
        "Create a python class \"Student\" with \n",
        "\n",
        "- attributes: name, age, major, year in college\n",
        "- methods: \n",
        "           1. __init__ that allows to initialize the each Student instance with attributes when created\n",
        "           2. details that prints out name, age and major when called"
      ]
    },
    {
      "cell_type": "code",
      "metadata": {
        "id": "x9_AFAFkSEUX",
        "colab_type": "code",
        "outputId": "edc6047e-9ec3-47e6-92b2-6482f6a6c76a",
        "colab": {
          "base_uri": "https://localhost:8080/",
          "height": 68
        }
      },
      "source": [
        "class Student:\n",
        "  name = \"ron\"\n",
        "  age = 23\n",
        "  major = \"math\"\n",
        "  year = \"sr.\"\n",
        "\n",
        "  def __init__(self,name,age,major,year):\n",
        "    self.name = name\n",
        "    self.age = age\n",
        "    self.major = major\n",
        "    self.year = year\n",
        "\n",
        "  def details(self):\n",
        "    print(\"Student name:\", self.name)\n",
        "    print(\"Student age:\", self.age)\n",
        "    print(\"Student major:\", self.major)\n",
        "\n",
        "ron = Student(\"Ronjoat\", 23, \"Mathematics\", \"Senior\")\n",
        "ron.details()\n",
        "\n",
        " \n"
      ],
      "execution_count": 0,
      "outputs": [
        {
          "output_type": "stream",
          "text": [
            "Student name: Ronjoat\n",
            "Student age: 23\n",
            "Student major: Mathematics\n"
          ],
          "name": "stdout"
        }
      ]
    }
  ]
}