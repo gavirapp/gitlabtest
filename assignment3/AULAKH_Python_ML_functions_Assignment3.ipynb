{
  "nbformat": 4,
  "nbformat_minor": 0,
  "metadata": {
    "coursera": {
      "course_slug": "neural-networks-deep-learning",
      "graded_item_id": "XHpfv",
      "launcher_item_id": "Zh0CU"
    },
    "kernelspec": {
      "display_name": "Python 3",
      "language": "python",
      "name": "python3"
    },
    "language_info": {
      "codemirror_mode": {
        "name": "ipython",
        "version": 3
      },
      "file_extension": ".py",
      "mimetype": "text/x-python",
      "name": "python",
      "nbconvert_exporter": "python",
      "pygments_lexer": "ipython3",
      "version": "3.7.6"
    },
    "colab": {
      "name": "AULAKH_Python_ML_functions_Assignment3.ipynb",
      "provenance": [],
      "collapsed_sections": []
    },
    "widgets": {
      "application/vnd.jupyter.widget-state+json": {
        "dcb15ca8a8ce4440b10e6a62023684e6": {
          "model_module": "@jupyter-widgets/controls",
          "model_name": "VBoxModel",
          "state": {
            "_view_name": "VBoxView",
            "_dom_classes": [
              "widget-interact"
            ],
            "_model_name": "VBoxModel",
            "_view_module": "@jupyter-widgets/controls",
            "_model_module_version": "1.5.0",
            "_view_count": null,
            "_view_module_version": "1.5.0",
            "box_style": "",
            "layout": "IPY_MODEL_1a8d8b90ebd84e118ada407ba71253bc",
            "_model_module": "@jupyter-widgets/controls",
            "children": [
              "IPY_MODEL_6d28187886444d3a9915947a0c599fe9",
              "IPY_MODEL_98946590ad444984abbb630680f15390",
              "IPY_MODEL_8186722436f24b1eafde6d6c02808198"
            ]
          }
        },
        "1a8d8b90ebd84e118ada407ba71253bc": {
          "model_module": "@jupyter-widgets/base",
          "model_name": "LayoutModel",
          "state": {
            "_view_name": "LayoutView",
            "grid_template_rows": null,
            "right": null,
            "justify_content": null,
            "_view_module": "@jupyter-widgets/base",
            "overflow": null,
            "_model_module_version": "1.2.0",
            "_view_count": null,
            "flex_flow": null,
            "width": null,
            "min_width": null,
            "border": null,
            "align_items": null,
            "bottom": null,
            "_model_module": "@jupyter-widgets/base",
            "top": null,
            "grid_column": null,
            "overflow_y": null,
            "overflow_x": null,
            "grid_auto_flow": null,
            "grid_area": null,
            "grid_template_columns": null,
            "flex": null,
            "_model_name": "LayoutModel",
            "justify_items": null,
            "grid_row": null,
            "max_height": null,
            "align_content": null,
            "visibility": null,
            "align_self": null,
            "height": null,
            "min_height": null,
            "padding": null,
            "grid_auto_rows": null,
            "grid_gap": null,
            "max_width": null,
            "order": null,
            "_view_module_version": "1.2.0",
            "grid_template_areas": null,
            "object_position": null,
            "object_fit": null,
            "grid_auto_columns": null,
            "margin": null,
            "display": null,
            "left": null
          }
        },
        "6d28187886444d3a9915947a0c599fe9": {
          "model_module": "@jupyter-widgets/controls",
          "model_name": "IntSliderModel",
          "state": {
            "_view_name": "IntSliderView",
            "style": "IPY_MODEL_29637f331b4f4bd0bbcbc90337627f38",
            "_dom_classes": [],
            "description": "angle1",
            "step": 10,
            "_model_name": "IntSliderModel",
            "orientation": "horizontal",
            "max": 180,
            "_view_module": "@jupyter-widgets/controls",
            "_model_module_version": "1.5.0",
            "value": 20,
            "_view_count": null,
            "disabled": false,
            "_view_module_version": "1.5.0",
            "min": -180,
            "continuous_update": true,
            "readout_format": "d",
            "description_tooltip": null,
            "readout": true,
            "_model_module": "@jupyter-widgets/controls",
            "layout": "IPY_MODEL_19cb1ad1e1d142249239f18ce9e2a221"
          }
        },
        "98946590ad444984abbb630680f15390": {
          "model_module": "@jupyter-widgets/controls",
          "model_name": "IntSliderModel",
          "state": {
            "_view_name": "IntSliderView",
            "style": "IPY_MODEL_bdad017055d74d0fa7062e78f75b34b5",
            "_dom_classes": [],
            "description": "angle2",
            "step": 10,
            "_model_name": "IntSliderModel",
            "orientation": "horizontal",
            "max": 180,
            "_view_module": "@jupyter-widgets/controls",
            "_model_module_version": "1.5.0",
            "value": 50,
            "_view_count": null,
            "disabled": false,
            "_view_module_version": "1.5.0",
            "min": -180,
            "continuous_update": true,
            "readout_format": "d",
            "description_tooltip": null,
            "readout": true,
            "_model_module": "@jupyter-widgets/controls",
            "layout": "IPY_MODEL_dd9bc62ebc3c4a60a903931b9628a592"
          }
        },
        "8186722436f24b1eafde6d6c02808198": {
          "model_module": "@jupyter-widgets/output",
          "model_name": "OutputModel",
          "state": {
            "_view_name": "OutputView",
            "msg_id": "",
            "_dom_classes": [],
            "_model_name": "OutputModel",
            "outputs": [
              {
                "output_type": "display_data",
                "metadata": {
                  "tags": []
                },
                "text/plain": "<Figure size 576x288 with 0 Axes>"
              },
              {
                "output_type": "display_data",
                "metadata": {
                  "tags": []
                },
                "image/png": "iVBORw0KGgoAAAANSUhEUgAAAtQAAAKaCAYAAAAef87sAAAABHNCSVQICAgIfAhkiAAAAAlwSFlz\nAAALEgAACxIB0t1+/AAAADh0RVh0U29mdHdhcmUAbWF0cGxvdGxpYiB2ZXJzaW9uMy4xLjMsIGh0\ndHA6Ly9tYXRwbG90bGliLm9yZy+AADFEAAAgAElEQVR4nOzdeXQb530v/O9gsJAgQJBYKIIEwEWU\nKNmSnNh17NSN7cR16uw5TtskNze26/Q0zXubpk7i1omTuH3j1k6b3OaeuG3ac3xrxclJ4zdOmute\nO0udeGksy7bk3ZYoWZZI0ZQEgBtAENvM8/4hAQJAigswM8AMv59zdGwsnHmwEPPFj795HkkIASIi\nIiIiqo+t2QMgIiIiIjIzBmoiIiIiogYwUBMRERERNYCBmoiIiIioAQzUREREREQNsK9yO6cAISIi\nIq1JzR4AkZZYoSYiIiIiagADNRERERFRAxioiYiIiIgawEBNRERERNQABmoiIiIiogYwUBMRERER\nNYCBmoiIiIioAQzUREREREQNYKAmIiIiImoAAzURERERUQMYqImIiIiIGsBATURERETUAAZqIiIi\nIqIGMFATERERETWAgZqIiIiIqAEM1EREREREDWCgJiIiIiJqAAM1EREREVEDGKiJiIiIiBrAQE1E\nRERE1AAGaiIiIiKiBjBQExERERE1gIGaiIiIiKgBDNRERERERA1goCYiIiIiagADNRERERFRAxio\niYiIiIgawEBNRERERNQABmoiIiIiogYwUBMRERERNYCBmoiIiIioAQzUREREREQNYKAmIiIiImoA\nAzXROZw8eRK/+Zu/iSuuuALveMc7MDU11dTxPPXUU3jrW9+Kyy+/HB/96EdRKBSaOp5m4GtCRESt\nSBJCrHT7ijcSWZmiKJAkCTabDffccw+OHz+OL33pS00bz9TUFLq6utDe3o4vfOELuOiii/C7v/u7\nTRtPM/A1IbIMqdkDINISK9TUsHg8jquvvhrd3d248cYb8YUvfAHf/OY3ddvfW97yFrz88su6bb9E\nlmXYbKd/RVKpFM4//3zd97mScDiM9vZ2AIDT6SyPbSPha0JERK2In/7UsDvuuANbtmzBzMwMvva1\nr+E73/kOPvnJT+q2v89//vP4yle+otv2Kz333HO45JJLcNddd+HCCy/UZJv/9m//hu3bt6OjowOb\nN2/G448/vq6fP3bsGH7+85/jfe97X8Njueuuu/Abv/EbcLlcuOGGG6puy+Vy+MQnPoGBgQF4vV68\n6U1vwkMPPdTwPhul9Wvy6quv4h3veAd8Ph9GRkbw4x//eN3b0Oo1Wctz7vF4qv7JsoxPf/rTDe13\nNSu9TwBtnkMiIlMTQqz0j2hVO3fuFL/85S+FEEL87d/+rfjDP/xDXfe3uLgouru7xdTUlK77qfSD\nH/xAfPKTn2x4Oz//+c9FLBYTe/bsEYqiiOPHj4vjx4+v+efn5ubE2972NnHgwIFV73vbbbeJ2267\nbcX73H///eLHP/6x+OM//mNx/fXXV92WTqfFbbfdJl5//XWhKIp44IEHhMfjEa+//vqax1vPmNZq\nLa/JavsrFApiy5Yt4hvf+IYoFovi4YcfFm63Wxw8eHDN49DyNVnvc55KpURHR4d49NFH1zze9Y5J\niJXfJ1o8h7QhrZY/+I//TPWPFWqqWz6fh8/nw4svvoj3ve992LlzJx566CFcccUV5fv8+Z//OT74\nwQ+WL99888246qqrkM/nz7nddDoNWZarTjh76aWXEA6HkUql0NbWhosuugg/+9nPGn4MK42vcow+\nnw9ut7vh/d122234yle+gksvvRQ2mw39/f3o7+9f03iKxSI+8pGP4LbbbsPo6GjDYwGAa6+9Fh/8\n4AcRCASW3NbR0YG//Mu/xODgIGw2G9773vdiaGgI+/btW3Ws9Vrttdf6NTlw4ADeeOMN3HTTTZBl\nGe94xztw2WWX4d57713TeLR+TVZ7zmvdf//96Onpwdve9rZVx9qIld4nqz2HREQbAQM11c3pdGLP\nnj3o6elBOp3Giy++iBdffLEqWPzFX/wFfvWrX+HZZ5/Ft7/9bfz0pz/Fj370IzidznNu1+PxYNu2\nbdi/f3/5ultuuQVf/OIX4fV6AQDbt2/H888/v+Rn3/ve96Krq2vZf+9973uX3H+l8T333HO4/PLL\n8fa3vx3f/OY3cfPNNzfydEFRFDzzzDOIx+MYGRlBJBLBn/zJn2BxcXFN4/n+97+PvXv34qtf/Squ\nvPJK/OAHP2hoPOt18uRJjI2NlfuW63ltV7Paa6/1a7IcIQReeumlNY1H79ek9jmvtXv3blx33XWQ\nJGlNvzdGqXwOiYg2AnuzB0Dm9txzz+GCCy4oX56dna06eAcCAdx00024/vrrMTc3h//6r/+Cz+db\ndbsXX3wx9u/fj/e85z147LHH8Morr+BHP/pR+Xav17vslGn/8R//sa7xrzS+t7zlLXjsscfWtb2V\nnDx5EoVCAT/84Q/x+OOPw+Fw4AMf+ABuv/12/PVf//Wq4/n4xz+Oj3/845qNZz0KhQI+9rGP4frr\nr8e2bdtWHWsjVnrttX5NRkdH0dPTg7/7u7/DTTfdhF/96ld49NFH8fa3v31N49HzNVnuOa907Ngx\nPProo7j77rvXNFa9rOU5JCKyvFV6QohWdPPNN4vPf/7z5cuhUEg89dRTVff593//dwFAfO9731vz\ndu+66y7xwQ9+UAghxCWXXCK++93vVt3+6U9/Wtx0000NjLyx8ZVcccUVAqenl1zy77LLLqu67/T0\ntAAg7rnnnvJ1P/zhD8Wb3vQmzcbznve8R/h8PuHz+YTL5RIul6t8+T3vec85f+7WW29d0htboiiK\n+PCHPyze9a53iXw+v+6xrndMq732q1nv/p5//nlx+eWXC7/fL975zneKj33sY+LGG29s2niEWPk5\nL/nqV78qLr/88qrr1jpWrd8nqz2HRMtoes8r//Gflv9WuwPRit75zneKe++9t3z5qquuqjqIv/DC\nCyIcDovrr79eXHXVVWve7t69e0UsFhM//OEPxQUXXCBUVa26/bd/+7ergmnJNddcIzo6Opb9d801\n1yy5f73jq1ckEhG7d+8uX77//vurArWW41nPCYDnCkqqqoobbrhBXHnllSKTyVTdVs9Y1zKm1V77\n9ajnJMi3vvWt4tvf/nbTxrPSc15py5Yt4u677666rp6xavE+qVX7HBIto+kBiP/4T8t/7KGmhjz/\n/PNVLR/vfve78eijjwIAJicn8b73vQ/f/va38Y//+I948cUX8cgjj1T9/A033LDsNFwXXHABTpw4\ngc997nO44447IEln1wDIZrPYt28frr766iU/99BDDyGdTi/7r3b6sbWMT2t/8Ad/gG9961s4deoU\nZmZm8Pd///fl3u5mjKdYLCKbzUJRFCiKgmw2i2KxWL79U5/6FF599VU88MAD5fmW9R7rSq+9Hl54\n4QVks1lkMhl8/etfx9TUVNV70ujxnOs5r/TEE09gcnISv/d7v1d1vV5jXe19stpzSERkdQzUVLcT\nJ05gZmamqr/zuuuuw4MPPoi5uTm8+93vxmc/+1m8//3vh9vtxs0334xbb721ahsTExO47LLLlmzb\n5XJh586dGBwcxLve9a6q2x544AFceeWV6Ovrq3vs8/Pzaxqf1r785S/j4osvxtatW7F9+3a8+c1v\nxq233tq08dx+++1ob2/HnXfeie9+97tob2/H7bffDuB0j+4///M/47nnnkNvb2953uPdu3frOtaV\nXns93HvvvQiHw+jp6cHDDz+MX/ziF3C5XE0Zz7me8+9973tV99u9ezeuvfbaJScb6jXWld4nwOrP\nIRGR1XHpcdLcF7/4RfT09ODP/uzPVrxfPp/HBRdcgBdeeAEOh2PJbSMjI7jvvvtw6aWXVt12ySWX\n4O6778aOHTs0Hzs130qvPcezMjONlTY8Lj1OlsJATS3p1ltvxZEjR/D973+/2UMhg7Xaa99q41mJ\nmcZKGx4DNVkKWz6opezfvx8+nw+PPfYYvvWtbzV7OGSgVnvtW208KzHTWImIrIgVaiIiIjIaK9Rk\nKaxQExERERE1gIGaiIiIiKgBDNRERERERA1goCYiIiIiagADNRERERFRAxioiYiIiIgawEBNRERE\nRNQABmoiIiIiogYwUBMRERERNYCBmoiIiIioAQzUREREREQNYKAmIiIiImoAAzURERERUQMYqImI\niIiIGsBATURERETUAAZqIiIiIqIGMFATERERETWAgZqIiIiIqAEM1ERkCkIICCGaPQwiIqIl7M0e\nABHRuaiqCkVRUCgUUCgU4HQ64XA4IMsyJElq9vCIiIgAANIqFR+Wg4jIMEIIqKpaDtCKopRvkyQJ\nLperXKWWZRl2ux2SJDFcE5kPf2nJUhioiaipVFVFsVhEsVhEoVAot3bYbLYlYdnpdAKobv+QJAl2\nu51VayJz4S8rWQoDNREZSggBRVHKAbqyCl0K0edSCtS122PVmsh0+AtKlsJATUS6K1WhC4UCEokE\nAKCzs3PZKvRKlgvUJaxaE5kKfzHJUnhSIhFpbrkqtBACkiQhk8nAZrPB7/drus/KYC6EwNjYGAKB\nALq7u1m1JiIiXTFQE5EmSicTlvqhK6vFq7VyaE2SJORyufIsIYqiQJKkqpYQIiIirTBQE1FdKqvQ\n+XweqqqWq9A2mw02W/OnuS+NBTg93lLYl2UZsiwbHvSJiMiaGKiJaE1KPcqlKnShUCjf1owq9HqV\nWj5KXwRYtSYiIq0wUBPROZXCZ2leaFVVAZgjQJ9Lba91qWpts9lgt9tN+7iIiKh5GKiJqKy0sEqp\nAl0sFsu3mS1El9pPVlJZtVZVFfl8nlVrIiJaNwZqog2uskpbKBRw7NgxBINBuN1uUwXoRrBqTURE\njWCgJtpglqtCV55MmMlkyisVbkSsWhMR0XoxUBNtAKWqa6kXeqUp7RgYT1uuan3gwAFs3bqVVWsi\nIqrCQE1kQZVV6Hw+v2R5741QfV5LD/ValcJ1IpHAyMhIVdW6NP0eERFtXAzURBaxnio01W+5ea3Z\na01EtLExUBOZVKkKXQrQG7EK3UyVvdZCCFatiYg2MAZqIhMpLaVdWYUunUDI6mhzlJ7zUrhm1ZqI\naONhoCZqYZXLexcKBSwsLGBqagpDQ0O6VqFL7SK0PqxaExFtTAzURC2mdDJhKUSXVicshbFsNgtZ\nlnXbv1WqqVqelLherFoTEW0sDNRETVZbha7thbbbz/6algIamQer1kRE1sdATdQEyy2sspZeaFY1\nm6fRLzLLVa0LhQLm5ubQ09PDqjURkYkxUBMZoLIKnc/noapq1eqErFJuLKWqdbFYxNjYGLq6ugAA\ndrsdsixXLSpDREStj4GaSCelKe1K/bOcF9pYWvdQ69WTXXo/1PZal1pC+D4hImp9DNREGjGqCs0e\namuq7bUuTY3IqjURUetjoCaqU23wKf35fuvWrbpVoY0IVAxtxlmu6r3SDCGsWhMRtSYGaqJ1KFWh\nK1cnLFUObTYb0um0rlPaGYVV8KWaMQ0fq9ZERObAQE20gtLy3pUzcpSUKoZGBpqNPG2eFYPjWkM6\nq9ZERK2NgZqoRuWUZsVisbywCk8mNBc9Ksqt8Nqzak1E1HoYqGnDW64KXXsyIQMK6fGXgUZCP6vW\nREStg4GaNqTKKnShUOCUdtQ0WrzXaqvW+/btw/nnnw+Xy8WqNRGRARioaUOorELn8/kly3ubZWGV\njdxD3Qq0DqVav5al8WWzWdhstnLVWpKkqpYQIiLSFgM1WZaqquUZOVKpFGZmZtDb28sq9AahdVg1\n0xeZypal0rjZa01EpB8GarKMUhW6ckq7EkVRMD8/j/7+/iaOUBt6BzsrVcFbPTDqNRVf5XbP1WvN\nqjURkXYYqMnUKqvQpV5oIcSSkwmtEhIZfJpHz6XH9bDcdit7rYGzVWtZlmG321m1JiKqEwM1mUrl\n8t61VeiVeqGtEqjJWpr1nqz9oqkoSnmRIlatiYjWj4GaWt5yU9otV4Umc2jGioOtrNnPRWVVunJe\na1atiYjWjoGaWk69VeiVGFWhtso+rEDr4K7HF4FWey0rW0JYtSYiWjsGamoJy1WhAW3nhW618FIP\nBhoywnJV68XFReTzeXR3d7NqTURUg4GamqKyCn3ixAl0dnaWD9J6zAtt1MHfKiHDCl8+tKZXhbrV\n3zOl38tcLofXXnsNu3btgiRJVS0hREQbHQM1GaLU91yqQBcKhfJtExMT2L59O1wul277t9JJiUZM\nm0fGMdPzXfqyWzn9XmmZc57PQEQbGQM16aZUhS6d5KSqKoClbRxGHIStcqC3yuOg08z0Ja92buvl\neq1ZtSaijYqBmjRTubx3qRJdslIvtJVOGKTWonWwM9M81Fpbrj2ltte6VLW22Wyw2+2sWhPRhsFA\nTQ2pPIiWZuSo7IVey8HUiEBtpZYPWhszLD1upfdkZdVaVVXk83lWrYlow2CgpnVZqQpts9nqnlrL\nSsFCT/xiYD1mCZprPYGSVWsi2ogYqGlVpYNi5fLegHZT2hnVQ80gSo3YCPNQr6Sex8+qNRFtFAzU\ntETlwa/yZEKg/oVVVsKWD9KLGQKbGcYINPaFglVrIrI6BmoCsHwVemxsDOFwGD6fT9eDHcPu+vAE\nzrUxw2MwwxhLtKrQ11at5+fnMT8/j76+vvL0e0REZsNAvUGVDmalAL3c8t6lqpHelSNWqNeOUww2\nz0Zd2KVE67GWPlsKhQISiQR6enpYtSYi02Kg3kBUVa2aF7q02EpleK5kZAhl1ZWoten1+1MK6qUF\nY4QQVb3WrFoTkRkwUFvYWqrQKzEqULPqSmag1++Cmd6beoy1dsGY0n/Za01EZsJAbTGlKe1K/dCl\nEwrPVYVeiZGBmi0fa8Mw0Vyc5UPfQF2psteaVWsianUM1CZXWvq3cmGVklJVp15WCtS08ZihP9kM\nYywxOlCXsGpNRGbAQG1CtQurrNYLXS8rBWoecKlRZgq/emhWoK7EqjURtSoGahOorELn83kcOXIE\nAwMD5RN59DqIWO2kRKNYIXi10ushhEAmk0EymYTX60UoFLJMcLLCe6VR9S4YU/ovq9ZE1AoYqFtU\n6WTC0oGicnXCZDKJzZs36z4GK1Woae1aIYioqorZ2VkkEgnMzs6ivb0dgUAAMzMzOHz4MHp7exGJ\nROByuZo91A2jFSrUy1muag0AdrsdsiwbMvUnEREDdYuorUKrqlo1nVRlRa508LDC/NCl/ViFUa+N\nFeXzeSSTSSQSCSwuLqKrqwuBQAAjIyPliqPD4YCiKHjjjTewf/9+uN1uxGIxdHV1LXnOtX4dzDIP\ntd7T27XqdperWr/66qsYHR0tt4Tw95KI9MJA3SSlakppSrtisVi+rRSiz/Xhb8VAzQr1xiOEwMLC\nAhKJBJLJJCRJQiAQwNDQEDo6Os75/pZlGdFoFJFIBLOzsxgfH8eBAwcQjUYRDochy7LBj6S1tHrw\nNWK7pap0Mpms+pxl1ZqI9MJAbaBSFbpyXujSB/t6ev6sFnStFKit9Fj0oCgKFhYWsLi4iImJCbjd\nbgSDQezatQsOh2Nd25IkCd3d3eju7kYul8Px48fx5JNPIhAIIBqN6jJ+M1SoAf3nizbDdksqW0Iq\ne61ZtSYiLTFQ66i0sErljBwlpTPT6/kwt2LQZQi1rlwuV27lyGazsNvt6OzsxPDwsGYnF7pcLmze\nvBlDQ0M4deoUXnnlFczPzyORSCAcDmsSmszyHt2oLR+rqe21ZtWaiLTEQK2xUhWkFKDrrUKvxGqB\n2koHMVaoT/8OpFIpJJNJJJNJyLJc7oV2u92YmJgoz8SgNZvNht7eXvT29mLPnj2Ynp7G66+/jr6+\nPvT398PpdGq+z0aYpS+7tF09GH3OwUozhLBqTUT1YqBuUKkKncvlUCgUytWPUoDW48PZyKBbWmlR\n7/1s9BBqdoqiYHp6GslkEnNzc/B4PAgGg4hEIutu5dCKLMsYHR2FJEl444038Mwzz8Dr9SIWi8Hn\n8zVlTMsxS8uHXttt5km8rFoTkVYYqOtQWYUuhejJyUnIsoy+vj7dP4BtNpvlKtRWCdRWeSxreQzZ\nbLZ8QmE+n0d3dzd6e3uxdevWlpon2m63IxaLIRqNYnp6GkeOHEEul0M0GkVvb++aT2I0y4wcelaS\n9XhdW2FWHFatiahRDNRrUNkLnc/nlyzvXfrQBYxpX7Ba5dgqIdQqzvUeFkKU+5Knp6fhcDgQCASw\ndetWtLe3GzzK9SvNIhIIBJDNZjExMYE9e/YgFAohGo3C7XY3e4iaMFuvcysE6kqsWhNRPRioz0FV\n1aoZOSoXVlmuF9qokFval5WCLgN16yoWi5ienkYikUAqlUJnZycCgQAGBgZgt5v346OtrQ1btmzB\n5s2bcfLkSbz00kvlSnYgEFg2MJmp39lMwVfPyncjzlW1liSpKlwTEQEM1GWqqmJxcRGyLJentCtZ\ny/LeRoZCKwZdqwRqK3w5KBQKSCQSmJiYgKIo8Pv96O/vR2dnp6kCxFoCoM1mQzgcRjgcRiqVwrFj\nxzA2NlY+idGI/m+zhHSzbRfQ7rmtrFoDQCqVQiKRwODgIKvWRASAgbrs6NGj+NM//VPce++95QC9\nng9Im83GCnUD+7EKMz4WVVXLrRwzMzMoFovw+/3Yvn072tramj08w3i9XuzYsQOFQgGTk5N4+umn\n0dnZiVgshs7OTl32abYeajMFar0WjAFOf+mcm5tj1ZqIyhioz3A6neU+uXqwQt3Yfoz6MmIEM1So\nC4VCuZUjnU7D5/MhGAxiaGgIx44dQ2dn54YK05UcDgcGBwcxMDCAZDKJw4cPo1AowO/367I/s7R8\n6EWvQK2qqm7PQ6lNpfIE8VJ7oCzLsNvtrFoTbTAM1Gc4HA4UCoW6f56BuvX3YxX1PleZTAaJRAKJ\nRAKqqiIQCCAWi8Hj8fDAvwxJkhAMBhEMBrG4uIixsTEkEgk4HA5Eo1FNvnDoVaE2S8XXjNut3XZt\nr7WiKOX1B1i1Jto4GKjPcLlcDQVqI1s+rDZtHmCOqu5atNKXA1VVMTs7i2QyiZmZGbS1tSEYDOL8\n88+Hy+Va8Wdb5TG0ivb2dkSjUTgcDrjdbjz//PNwOp2IxWLw+/0tFZjY8qHvdoFzV78rq9KVM4Sw\nak1kfQzUZzidTuTz+bp/3ugKtdWmzaO1W+n5yufz5RUKM5lMuZVjeHh4zfMtW+X10DpQlf7M39/f\nj/7+fszNzWF8fBwHDx5EJBJBX1/fulvGOMuH+bZb2vZaTlRn1Zpo42CgPoMtH8uzWiVcb0Y/FiEE\nFhYWygusAEAgEMDg4CA6Ojp40NaRz+fDzp07kc/nMTk5ib1796K7u7vcRrNWZlgsprRdMwVfvabj\nK217rWNm1ZpoY2CgPkOW5Yaqvlac5cOKrSVWIIQoV6FnZ2fhdrsRCASwc+dOOJ3OZg/P0pYLPk6n\nE0NDQxgcHEQ8HsfBgwehqiqi0Sh6enpWDHXsoTb3SYnrda6qdWW4JiJzYqA+o9EPMitWqI36cDe6\n4q7n49LrseTz+XIVOpPJIJlMIhgMYmRkpKWW+bay1V5XSZLQ09ODnp4eZDIZjI+P47XXXkNvby8i\nkciyfetmavnQi9mCOtB4WK+tWpem3ystc77eaVuJqPkYqDVi1UBtpV5tMxFCIJ1Ol5f5Ls04MTw8\njEwmg61btzZ7iC2vmUtau91ubNu2DYqiYGpqCvv374fb7UYsFkNXV5eu42LLh77b1XrbtVXrXC6H\n6enpck8+gzWROTBQV2jkQGTFlg+r9mq3aoVaURTMzMwgkUhgbm4OHo8HgUAAu3btqlqxjwfY5qjn\nvSPLMiKRSPkkxmPHjuHAgQOIRCIIh8MAuFKi2bZb2rbWfxkqBetisYg33ngDPT09rFoTmQgDdY16\nP4SNDJ9Ghne2lugrl8uV54bO5/Po7u7Gpk2bsHXr1nMesK1wULXCY1gPSZLQ1dWFrq4u5HI5HD9+\nHHv37oXD4UAgENBlf1ozW/Bt5ZaPldQuGsNeayJzYKA+o9Ezra3a8mGEVgy69VrtsQghkEqlyq0c\nsiwjGAxiy5YtcLvdBo50ZVZ5PVqRy+XC5s2bMTQ0hJdffhlTU1OYmZlBLBZDKBRq+PeOLR/6blfv\nbauqWv4yfa5ea5vNBrvdzqo1UQthoNYIWz64n3MpFovlVo75+Xl4vV4Eg0HEYrG6l7rXk94HaLOG\nda1DlM1mg9frhd/vh8/nw/j4OA4dOoRwOIxIJFL3jC3N7B2vh1mnzTN6Sr7KXmtVVZHP51m1Jmoh\nrXc0NymrVqittB+jCCGwuLiIZDKJRCKBQqEAv9+Pvr4+bNu2jQc+g5ghWJbG6PF4cN5555X7Z595\n5hl4PJ7ySYzrZaaKr9m2C5yuIq91oaT1Wm3cK1WtnU5ny7/niayKgVojRgdqI6rhVpuHWs/9CCEw\nPz+PVCqFl19+ubzM9+joKNrb23XZJ1mP3W5HLBZDNBrFzMwMjh49imw2i2g0it7e3jWFOLZ8nKZ3\nn7MRLR+rqZ0hRM+gT0QrY6CuYLPZoChKXX+Gt2LLB2DeP88vR+vnrVgsYnp6GolEAqlUCp2dneVF\nPuqpKlJrM3LOaEmS4Pf74ff7kc1mMTExgT179iAUCiEaja7Yb2+24Gu27QLrC731bHu94270HCAi\nahwDdYXS8uP1BGorVqitUDnWWmlRlUQiAUVR4Pf7EYlE4PV6IUkSDhw4wIVWaM3W8r5va2vDli1b\nsHnzZpw8eRIvvfQSZFlGLBZDMBhcEqTMFlDNtl0jts3PECLzYaCu4HQ6kc/n6/oTvdHT5lkp6Lby\nflRVxdzcHBKJBGZmZtDW1oZAIIDzzjtv2ZXvWCVqLVq/Hs2cM9pmsyEcDiMcDiOVSmF8fBxjY2Po\n7+9Hf3+/7nOVmy34MlATkZEYqCuUKtT1MDJItXIAtcJ+CoVCuQq9sLCArq4uBAIBDA8PN7WH1UhW\neAxaa6XnxOv14vzzz0ehUMDk5CSefvppdHZ2IhaLtdQ418KMs3zo2Z+t57aJSD8M1BUcDgfy+Xyz\nh7GqVgugWmhmCBBCIJPJIAyVCAQAACAASURBVJFIIJlMQggBv9+PgYEBeDyeDXdw22iPt5kaDZMO\nhwODg4MYGBhAMpnE4cOHkclk4Ha7Ne/zNVsl2axVZDPMTkNESzFQV3A6nXVXqI1ktUDdjAVkVFXF\n7OwsEokEZmdn0d7ejkAggB07dtQ9/2/tPsh6WjXoSJKEYDCIYDCIyclJTExM4IknnsCmTZsQjUbR\n1tbW8D7MFnw3wiwftVr1/Um0ETBQV2ik5cNIVgzURuxHCIFTp05hfn4ei4uL5VaOkZER9izSqvR4\nj+oRzErLmW/evBknTpzA888/D6fTiVgsBr/fX/f+zBaozdpDzZYPInNioK7ACvXS/RhBr8cjhMDC\nwkK5lSOTyaC9vR1DQ0Po6OjQbQo0Vqip2SRJgs1mQ19fH/r6+jA3N4fx8XEcPHiwfBLjemczMlvw\nbdUq8mp4UiKROTFQV7Db7abooTZyzmsjaBlCFUUpt3LMzc3B7XYjGAxi165dGBsbQ19fHzo6OjTZ\nF20segQ0o7bp8/mwc+dO5PN5TE5OYu/eveju7kY0GoXX623aWM24XTNvm4j0w0BdgRXq5mj08eRy\nufKsHNlsFt3d3ejp6cGWLVuWVHr0ft6s8tpY4TFsVCu9dqWFhwYHB5FIJDA2NgZFURCLxdDT07Ni\nZdRswdesJw6qqlo1BSIRmQMDdQUGanMQQiCVSiGZTCKZTEKW5XIv9EoryLHqszZ8noxj5OqLtbeH\nQiGEQiFkMhmMj4/j8OHD6O3tRSQS0eQkxrXS86REvZbh1rvlg7+DRObDQF2B0+Y1x1oej6IomJ6e\nRjKZxNzcHDweD4LBICKRyJqrOUY8b1Z7begsswSd9Y7T7XZj27ZtUBQFU1NTePbZZ9He3o6BgQF0\ndXWVt6Xn4zdT5VvvbesZ1olIPwzUFbSoUBtx0LVaaDvX48lms+UTCvP5PLq7u9Hb24vR0VFTBBui\n1ejVQ10PWZYRiUTQ399fPonxwIEDiEQiCIfDpvlCUWLWQN3Its30+hBZDQN1hUYr1KVgyEC9PqXH\nI4TA/Pw8EokEpqeny9N/bd26ta7l4M+1H70ZtQ8ePI1lpt+5Rt4bkiShq6sLXV1dyOfzOH78OPbu\n3YtcLodMJgOPx6PhSPVj1ioyK9RE5sRAXcHpdKJYLNb980ZOZ2fULB96P55isYh4PI6FhQU89dRT\n6OzsRCAQwMDAwLqn9VqNUS0fZF1mmeVDK06nE8PDwxgaGsJjjz2GV199FQDKJzG28vu9VavIzdw2\nEemHgbpCoxXq0nR2ep0IU7kfM1XLai0uLiKRSCCRSEBRFHR1dcHpdOItb3kLDyS04ZghpEuSBIfD\ngYsvvhjpdBoTExM4fPgwwuEwIpFIQ6uL6sWsoZcVaiJzYqCu4HQ6NWn50JuRLR9aHDRUVS23cszM\nzMDpdCIYDGL79u1oa2srLwNuhVYZI9tK+OXDWK1eTa6k53vD4/Fg+/btKBaLmJqawr59+9DR0YFY\nLAafz9cy70uzhl7+bhOZEwN1BTO1fLR6hbpQKGB6ehqJRALpdBo+nw/BYBBDQ0NLKvh83tbHiIOt\nFZ4nszBLSK9lt9sRjUYRiUQwMzODo0ePIpvNlk9i1Psvdasx8zzUrFATmQ8DdQWtWj701qrBMJPJ\nlFs5VFVFIBBALBaDx+NZ8eBjpWpMq74262Gl16PV6fFeMbrCKUkS/H4//H4/stksjh8/jj179iAY\nDCIWi604N7yeVFU1ZctHPds2+2cOkRUwUFdwOp3IZDJ1//xGq7SWWjWSySRmZmbQ1taGYDCI888/\nHy6Xq9nDW6JVnjctWOVxmEmzFmFZLz0rs6tpa2vDyMgIhoeHcerUKbz00kuQZRmxWAzBYNDQoK/3\nF4tWrFDzyzBR8zBQVzBTD7VRs3wA1QemfD5fXqEwk8mUWzmGh4eb/ifetbBCDzUPmtZh1S9GNpsN\nvb296O3tRSqVwvj4OMbGxtDX14f+/n5DTmI0ay+yWcdNtNExUFdotIfaqi0f6XS6HKIBIBAIYHBw\nEB0dHab64DfTWGnjMMMsH43wer04//zzUSwWMTk5iWeeeQZer7d8EqNeWu15WKt6K9RmfKxEVsJA\nXcHhcDS0UqKRFWo9PzxVVcXMzAySySQWFhZw9OhRBINB7Ny5syWnx1orK83yQcbTo5XCCj3Ua2W3\n2zEwMIBYLIbp6WkcOXIE+XwehUJBlxPxmtn60ohWff2IaGUM1BXM0vKhh3w+X17me3FxEd3d3QgG\ng0ilUti+fbvmi6xQY8z6PqNqZunL1pIkSQgEAggEAlhcXMSePXvwxBNPoKenB9FoVJNVUQHzBlPO\n8kFkTkxJFZxOZ0MVaqNaPrQghEA6nS4v8y1JUrkX2u12lw9Ex44ds0x4s0qFmtPmNYdZnhOzjBMA\n2tvb0dbWhksvvRQnTpzACy+8AIfDgYGBAfj9/obe63rO8qEns34RINroGKgrmKXlo16KomBmZgaJ\nRAJzc3PweDwIBALYtWsXHA7Hsj/T6o9pvaz0WPTSqgfzVhiXGarJZgpkpd9Hm82Gvr4+9PX1YX5+\nHuPj4zh48CD6+/vR19d3zs+n1bZtluehEivURObEQF2h0Qp1K4bPXC5Xnhs6n8+ju7sbmzZtwtat\nW9f0od2Kj6leRhxcjVwpkczPjCslamm50NvZ2YkdO3agUChgcnISTz31FLq6uhCLxeD1ehvathmY\nddxm9Dtv7xDJaaXZw6AK+17I/UwIcU2zx1EPBuoKZlnYZSVCCKRSqXIrhyzLCAaD2LJlS10LLFgt\nUFvhsfBg2xx6LT1u1pUStbDS43c4HBgcHMTAwAASiQTGxsagKAqi0Sg2bdq0akHArMG03nGb8bE2\nW3JawVM/izV7GFRBDh8KNnsM9WKgrmCWpcdrFYvFcivH/Pw8vF5veZWyRk8mtEoIBVg9po3BTEFy\nLWOVJAmhUAihUAiZTAYTExM4cuQINm3ahEgkgra2trq33arMOm6zEQBUmOO8J2p9DNQVzDTLh6qq\nOH78OBKJBAqFAvx+P/r6+rBt2zZNP4ytFKiNwAMhrcdGnOWj0nofv9vtxujoKEZGRnDixAk899xz\naGtrQywWQ3d3d9W29Jo2j5+HViKgCAZq0gYDdYVGT0rUs+VDCIH5+flyK0c2mwUAjI6OajbN1HKs\nFKit9Fis8jjMxCwVTzO9N+p9TmVZRn9/P/r7+zE7O7vkJEa73a7bLB9meR/Q6k5XqM3z+0KtjYG6\ngsvlaqmTEovFIqanp5FIJJBKpdDZ2YlgMIiBgQE8++yziEQimu3rXKwUQgFjlh7Xu4+eB3Nr2ch9\n2VqMtaurC11dXcjn8zh+/Dj27t0Lv9+PYrG4oQJ1K47JDNjyQVphoK7Q6EmJWoTPTCaDZDKJRCIB\nRVHg9/sRiUTg9XqXfGAa8cFupUDNA87aWeU115pZgqpZ3utafoY5nU4MDw9jaGgI8Xgck5OT2L9/\nP2KxGEKhkGbtH5zWzjoEBBR+1pFGGKgrNHpSos1mW/fPq6qKubk5JJNJTE9Po62tDYFAAOeddx5c\nLteKP8tAvT5WWthFz32YJYwZzSzLhJtlnHptV5Ik9PT0wO12Y/v27ZiYmMDhw4fR29uLSCSy6ufq\nalq1Qk1EzcVAXcGokxILhQKSySSSySQWFhbg8/kQCAQwNDQEWZbXtC+bzWZI0DUyUPNARdQ4s0zv\np+d2SzweD7Zv345isYipqSns378fbrcbsVgMXV1dde27FT+nWnFMZsEeatIKA3UFvRZ2EUIgk8kg\nkUggmUxCCAG/349YLAaPx1P3nKNGBWqj6H1QMKq/2SoVfVrKLEHVLOM0Kgja7XZEo1FEIpHySYwH\nDhxANBpFOBxecyEDYMuHlQgACgM1aYSBuoKWs3yoqorZ2VkkEgnMzs6ivb0dgUAAO3bsgNPpbHis\nRgZqIxarMSq4M+y2BjNW08zy3tnoLR8rkSQJ3d3d6O7uRi6Xw8TEBJ588kkEAgHEYrE1LX6l55jN\n8h6zElaoSSsM1BVkWW4oPCqKglQqhRdffBGLi4vo6upCMBjEyMiI5hUNIwO1VfZjlaXHWQW3DrO0\nZ1glUFdyuVwYGRnB8PAwTp06hZdffhk2mw3RaBShUOic49I7UJvxy6ZZCYAnJZJmGKgrrPeDTAiB\nhYWFcitHsViEw+HA6Ogo3G637u0LVgm6Ru2HQZQaYaawY5ZxAs0fq81mQ29vL3p7e5FOpzE+Po5D\nhw6hr68P/f39S/6iqGfLh5neY1bBSfNIKwzU66QoSrmVY25uDm63G8FgELt27UI6nUYikUBHR4fu\n4zCqFQMw5s+QVgm7VlneXM/t17ttRVEgy7KlAsdGn+VDr8VX6uXxeHDeeeehWCxicnISzzzzDLxe\nL2KxGHw+HwBWqK1EQLCHmjTDQL0GuVyuPDd0NptFd3c3enp6sGXLlqpKhZGh0KonJerJSqFd7+23\nyvOUy+UQj8cRj8dRLBZhs9kQi8UQDoctc2KYGdoz9Ax6rRgg7XY7BgYGEIvFMD09jSNHjiCXyyEa\njer610ee8EhkXgzUNYQQUBQFL7/8MrxeL5LJJGRZRiAQwMjIyIonrRgZRKw2bR77m6kkk8kgHo8j\nkUjAZrMhGAxi+/btcLvdKBaLGB8fxxNPPIFwOIxoNKrJSb5rYZZqMmCOkA60XoW6liRJCAQCCAQC\nyGaz5TmtHQ4HFhcX0d7erun+GgnUrfw8tiwBKPy4Jo0wUJ+RyWTwn//5n1hYWMCFF16IXbt24etf\n/zoikQgcDseatlE5y4ferNTbbOR+GHZbjxACqVQK8Xgc09PTcLlcCAaD2Llz55Kw3NbWhq1bt2Lz\n5s3lP8n7fD4MDg4a0mplBmZq+QDMEwTb2tqwZcsWdHd34+jRo3jhhRfgcDgQi8UQCAQ0eRxs+TCW\nAHuoSTumCNQTExO47rrrcPLkSUiShD/6oz/CZz7zGUxPT+PDH/4wjh49isHBQdx3333o7u6GEAKf\n+cxn8OCDD8LtduOee+7BhRdeCADYvXs3br/9dgDAl770JQDAfffdh1OnTuGqq66C0+nE448/XlfV\ny6otH0ZNm8dZPlpnH3oTQmBmZgbxeByzs7Po6OhAKBTCwMAA7PbVP5ZkWUYsFkM0GkU8Hscrr7wC\nm82GwcFB+P1+04QSs7Rn6FmhNhtJkuDxeLBt2zbMz89jfHwcY2Nj5ZMY11qAWY4QghVqQ0lQwOeN\ntGGKQG232/GNb3wDF154IVKpFC666CJcffXVuOeee3DVVVfhlltuwZ133ok777wTX/va1/DQQw/h\n0KFDOHToEPbu3YtPfepT2Lt3L6anp/FXf/VXeOaZZyBJEi666CLccccd+Na3voXh4WEAwE9/+tO6\nPxCtGqiNwCBqfYqiYGZmBqdOnUI+n0cwGGx4WsnSMtM9PT2Yn5/H0aNHMTY2hlgspvlrbZZFWPTY\npp6/N2brGa5sU+ns7MSOHTtQKBQwOTmJp59+Gj6fD7FYDF6vt6Ftk/4EAJWHBNKIKQJ1OBxGOBwG\nAHi9Xmzfvh2Tk5P4yU9+gkceeQQAcP311+PKK6/E1772NfzkJz/BddddB0mScOmll2J2dhZTU1N4\n5JFHcPXVV8Pv9wMArr76aqiqWg7TjWLLR2MYdq2nWCwikUggHo9jcXERfr8fnZ2d8Pl86O3t1XRf\nnZ2d2LVrV7nXdWFhAa+99pqhfdbrpVd7hh5YoT5tuSqyw+HA4OAgBgYGkEwmMTY2BkVREI1GsWnT\npjV/aWDLh/FYoSatmCJQVzp69CieffZZXHLJJTh58mQ5aPf29uLkyZMAgMnJSUSj0fLPRCIRTE5O\nnvP6SjabDYqirOnPzrWMrlBbpRWjtB8j9mGVKngrf/nI5XLlEF0sFhEIBDA0NISOjg5IkoRjx47p\n+nqXel1PnToFp9NZ7rMeGBiAx+NpaNtmqSabYZslelSo9Z728VzPhSRJ5b+8ZDIZTExM4LXXXsOm\nTZsQjUbR1ta24rY5y4exTi89zkBN2jBVoE6n0/jQhz6Eb37zm+js7Ky6TZIkTT7wnU4nCoVCywdq\nK87yYZWwqzcjvnys93mqnJlDkiSEQiGMjo5qPgvCekiShGg0ikgkgkQigVdffbWhPuuNXE3Wc6VE\nPbTCXNFutxujo6MYGRnBiRMn8Nxzz8HlcmFgYADd3d3LboOBmsi8TBOoC4UCPvShD+FjH/sYrr32\nWgDApk2bMDU1hXA4jKmpKfT09AAA+vv7MTExUf7Z48ePo7+/H/39/eUWkdL1V155ZdV+HA4H8vl8\nXUHAqi0fVqqE680Kj2MtYUEIgXQ6jXg8jmQyCafTiVAotOzMHM1WCvihUAipVKqqz7oV5rM2Q7+z\nnoFarwq1Xq/rekOvLMvl48/c3BzGx8dx4MABRCIR9PX1VRVv2PJhPFXw+SZtmCJQCyHwiU98Atu3\nb8dnP/vZ8vXvf//7sXv3btxyyy3YvXs3PvCBD5Svv+uuu/CRj3wEe/fuhc/nQzgcxu/8zu/gi1/8\nImZmZgAAP//5z3HHHXdU7asUqOth1ZMSrbIfK4TdZhJClFcJnZmZgdvtRigUQiwWq+svOs3g9Xqx\nc+dO5HK5dc9nbZawY6aWDytXqJfj8/mwc+dO5PN5HD9+HHv37kV3dzdisRg8Ho9p3mNWwZYP0pIp\njoK//vWvce+992Lnzp1405veBAD4m7/5G9xyyy34/d//fdx9990YGBjAfffdBwB497vfjQcffLC8\nEMu//uu/AgD8fj++/OUv4+KLLwYAfOUrXymfoFhSavmoBwN1Y6wQdq32xaA0M0c8Hsf8/Dx8Ph9C\noRA2b97c9MpuI1wuF7Zs2YLh4WG88cYbmvZZtwIz9HoD+lWS9ZwtQ4vQ63Q6MTw8jKGhIcTjcRw4\ncABCCPh8vrq3zSC+fgISFJj3c4xaiykC9W/91m+dM0A8/PDDS66TJAn/8A//sOz9b7zxRtx4443n\n3FcjFWqrtnzwpMSNRVEUpFIpvPTSS8hkMuju7kY4HMa2bdssd9CWZVnTPutWYKZebzNWqLXsc66c\n9nFhYQEHDx7E7Ows7HY7IpEIXC6XJvuhc2PLB2nFFIHaSE6nE8Visa6fNfLga7XeZqtUds0a2vP5\nfPmkwoWFBbjdbmzevBkej8eUoXK9ztVnHY1G0dfXVz4J2AzPhdlaPsy03dK29aiqd3R0oK+vD16v\nF06nE/v374fb7UYsFkNXV5cp3ntmw5YP0hIDdY1GKtRG4iwfG5sWz9Xi4mI5RANAMBjE1q1bMTs7\ni2KxWNfCFFZwrj5rRVGaPbQ1M1Og1uukxFZu+Vhp23a7vfxXk9nZ2SUnMcqyrMu+iagxDNQ1Gumh\nNpLVgq5VqsetvIT6cjNzBINB7Nixo+qEvNnZWX65wdI+62PHjqFQKMDhcLR0n7WZKtR6/ZXNLC0f\ny227NG5JktDd3Y3u7m7kcjkcP34cTz75JPx+P2KxGDo6OnQZw8YiQRHsoSZtMFDXsNvtDNQW3c9G\nrIILITA3N4d4PL7mmTn4p+VqpT7rubk5eDyecp/1wMAAAoFAyz1fZuqhBvRb2MWsFerltu1yubB5\n82YMDQ3h1KlTeOWVVyBJEmKxGEKhkC5j2QgEAJUnJZJGGKhrOJ1OU7R8WK2H2iqMClcrvSaqqpZn\n5pibm0NnZydCoRCGh4f55+IGSJKErq4uDA4OlvusDx06VNVn3SrMMsuHXtVePeehbmb122azobe3\nF729vUin0xgfH8ehQ4cQi8UwPDysy5isjj3UpBUG6hps+bDufqyyLPhyB/NisYhkMol4PF6emWPT\npk0YHR1tuQqqWVUGqeX6rHt7exGLxZq+sI2ZWj4A81Wo9W75WOuc7h6PB+eddx6KxSLS6TR/z+sg\nBFs+SDsM1DXMclKilYKuUfuxyj5K8vk8EokE4vE48vk8AoFAeR5lHlyNsdx81p2dnRgcHGxan7XZ\nVkrUQ6vPQ73Sttcb1u12Ozo7O3UZz0agskJNGmGgrmGmCrWVWj7YWrI2i4uLSKfTOHjwIGw2G4LB\nILZs2QK3293soW1otfNZHzhwAAAwODjYlD5rs1SoOcuHcdumpU5Pm8cKNWmDgbqGw+EwRaC22rR5\ngDGtEmZr+RBCYGFhoTwzh91uh81mQywWQzAY1Gw/tDarhZ3a+ayPHTtW7rMOh8OG9LCzQm3ulo9W\n6sUnorVjoK5hpgq1lQK1VaoyWjwOIQTm5+cRj8cxPT2N9vZ2hEIhXHDBBXA4HDh48CAcDocGo6X1\nWO/vgdfrxY4dO5DL5TAxMYE9e/YY1mfNCrU5q8isUBuNPdRmI0lSFMB3AGzC6T8y/IsQ4n9JkuQH\n8AMAgwCOAvh9IcSMdPoX6n8BeDeADIAbhBD7z2zregBfOrPp24UQuxsZGwN1DS16qI34ULRioLZK\nhboepZk5EokEZmdn4fV6EQqFMDQ01JSZOVr1eWq2en6vXS4XRkZGMDQ0hKmpqao+641Ozwq1FWf5\nIG1x2jxTKgL4nBBivyRJXgD7JEn6BYAbADwshLhTkqRbANwC4C8AvAvAljP/LgHwTwAuORPAbwPw\nGzj9VtgnSdL/EULM1DswBuoajVaobTYbVFXVPQRZKegatZ9W20exWMT09DTi8TgWFhbQ1dWFnp4e\nbNmyZcWDqt6PgxWy5TX6nMuyjEgkgv7+fiSTSRw4cAALCwtIJBItOZ91JbMtEa7nSYl6hl5WqI2n\nCD7fZiKEmAIwdeb/U5IkvQqgH8AHAFx55m67ATyC04H6AwC+I05/gD8pSVKXJEnhM/f9hRBiGgDO\nhPJrAHy/3rExUNdodB5qKwVQK+6n2UozcyQSCeRyOfj9fkSjUXi9Xh5INwhJkhAMBhEMBvH444/j\nxIkTGBsbQywWM6zPer3MFqjN2pZRT1gvfW7y82P9BCSelNh6gpIkPVNx+V+EEP+y3B0lSRoE8GYA\newFsOhO2AeAETreEAKfD9kTFjx0/c925rq8bA3UNh8OBdDpd989bLYBaaT/N2kc2m0U8HkcikYCq\nqggGgxgZGeHMHARZlpfts45Go3C5XM0eXpnZgq9ZAzUr1MZT2UPdahJCiN9Y7U6SJHkA3A/gz4QQ\n85W/N0IIIUmS4RU6BuoaLper4ZYPIwIoZ/lYPyNn+SjNzJFIJCDLMkKhEM477zzNQtJGqOa3Gj3D\nTm2f9b59+9DZ2YmBgQF4vV5d9rkeZgu+Zg299baTMITXh9PmmZMkSQ6cDtPfE0L86MzVJyVJCgsh\nps60dJw6c/0kgGjFj0fOXDeJsy0ipesfaWRcDNQ1Gp02z8j5oa02D7WZlWbmmJqawszMDI4cOYJg\nMFiemUNLZn+uAGs8Bj3U9lkfPHgQADAwMIBgMNi0581ss3G0YuhdC1aoiVZ2ZtaOuwG8KoT4nxU3\n/R8A1wO488x/f1Jx/Z9IkvRvOH1S4tyZ0P0zAH8jSVL3mfu9E8AXGhkbA3UNh8OBYrFY989bqUXC\n6P3o/QVB68eiqipmZ2cRj8fLM3P4fD7k83ns3LlTs/00AyvgSxn5nFT2WafTaRw9ehSHDh1qWp+1\n2eaL5iwftBYCEk9KNJ/LAHwcwIuSJD135rov4nSQvk+SpE8AOAbg98/c9iBOT5l3GKenzfsDABBC\nTEuS9FUAT5+53/9bOkGxXgzUNZxOJ3K5XN0/X5rlQ29WDNRmaPlQFKU8M0cqlUJXVxdCoVB5Zo7F\nxUUkk0mNRnxunOVjZXo9P814bjweD3bs2IF8Po/x8XHs2bMHmzZtQiwWM7TP2kyVZDMvPW6F3z8z\n4bR55iKE+C/gnOvFX7XM/QWA/3GObf1vAP9bq7ExUNdodNo8KwVQI/cDtG5VtFAoIJFIIB6PI5vN\nIhAIIBKJLDszhxEHQx5wNyan01nVZ71//354PB4MDg7q3mdtttYMs1aRWaE2lhDgwi6kGQbqGk6n\nky0fTdqPEftY62PJZrPlEK0oCoLBIDZv3oyOjo5V90Era9UvTqtplerhan3WejBb8DVrFblV3mMb\nhwT1nMVOovVhoK7R6EqJnOWjtfezkuVm5ti+fTva2trWtZ1mPw4t2Qv3Q7VFocpvafZQqMa5+qzz\n+TwURdG0z9pswVfvHmpWqK1BgBVq0g4DdQ0tWj44y0dr7qd2H0IIpFIpxONxTE9Pw+VyIRQKNTQz\nh1HVJaNCu6w8Bmf+aeRcfwvF/luG7FMLG63SV9ln/etf//qcfdZCCOTUOBaLk8gpcSwqJ5FXkyio\ns4CQkFVPQRV5CKHAIfcip8xAllzI2gXcygDm5n1olzfBLYfhsQ+izR5oaNxmC+qlbeul3nFvpPc6\nUatioK6hxbR5VgmgRjIqUKuqiunpaSQSCczMzMDj8SAUCmFwcFCzip4Rj8MQogBZ2Q8JObhyn0MO\nX4Vif6cx+25RrR5cnE4nXC4XLr30Uky8cQDPvPI9ODyn0OabQxbHsaAcgSqykCUPCmoWAqe/lNul\nThRFCqdrdoAstSOfH4OKM+1vNglpMYY35ufK++p0bMNCcQo+x1b4nech0HYR/M7z4LCtfcEiMwZq\nQL/3ASvUxuM81KQVBuoajVaorTjLhxH0fDyVM3NkMhnE43GEQiGMjIzoNreu2QkhYFNfhIQMAEBC\nEa7crcirMyg6P9zk0TVHK7+uQghkikcwm9+HYvA/8fz03Ziz7Qc2AQUA2UwMBefx8v077MOYyb90\n9rJjEHP5Fypu34xs/tXyZYcIIyudKF+WpXbM51+HigISuX1I5PahY3Ev5grHEHDtQF/7ZYi4r0CH\nfRNWYsaWDz1ttL+sNJuABJXT5pFGGKhrcJaP5tHy8RQKBSSTScTjcSwuLsLv96O/vx/pdBqjo6Oa\n7aeWFVo+So9BVvZWXw8V9uIDUMUEVOdnAcl8gaVRWr6+jb6Gi8UJTOeexGzuKRTUeczmnzp9gwcA\nLqq6r8cTwkz+bKDOqIKdhQAAIABJREFU5QrVE08tGUr1oUEWnQDOBmqvfQjT+QNn7y15MFt4HQIq\n4rnnEM89h2OZRwE4sNlzDQbcV8JuW3ouglkr1Hoy67jNihVq0goDdQ2n09nQSYkM1PXR4iCSy+XK\nJxUWi0UEAgEMDQ2ho6OjvH0rHKyMegyy8uSS61TJBVvhO4B6DGrbnYC08qwnVqLH79t6XktF5DCb\nexrTuf9CTokjkf1l+Taf88Ka+y5UXV5UTlRcsiGLyYrLMtKF1ytHhVThOCoVkKoZd/U5Bl7HIDK5\nsxVtGxyYyR9FUWQRz72I/TP/hG3ej2LYcxU67KHy/cw4D3Ur2kiPVUsCgMqTEkkjDNQ1WKFujnof\nT6mFI5FIQJIkhEIhjI6Oor29XYdRrs4qr4tNWoBNfXXJ9aoaP3278iikxf8Ope3vAdugwaNbm1YP\nGWt5n+SVaSSzjyJdOIipxZ9AFVkAgNexo+p+i8WpsxdUF9KFw+WLLjmMjHL29g77EOYrArQtvwmK\n842K2wcxWxg/+/M2PzKiYvuQkMpPVO2/NpR0OoYQzx85+zjUNMbSP8czs9/FiOe38aauj8Jr38QK\nNTWZBIXT5pFGGKhrNHpSopE91Fay1iBaOzOH0+lEKBTCzp074XQ6DRjpxuBxvggJStV1Al0Q4lj5\n8COpr0HO/DcUXLfD5niH8YNcgZlXSswWJzGdfQKnsg9iPv88ABXt9q3lMC3BjoWKQNwm9yOrnK04\nS4UwhOto+bJL7kNGOVm+bLd1Ve2vs2MTZgtnA7VQPFW3u+0xZNTZ8mWvfRBzhWNn9we56jIAyFL1\niYntcgAzxdP7GEv/FIfTD+MC38dQQJiBukFW+ALfLKxQk5YYqGu4XC5TVKitZqXnTVVVzM3NIR6P\nV83MMTAwALu9td7CZllCfTUe5/NLrlNsMUhKvObaIorZP4NNuRay6xZI0vrm7DYTrZ/zytCXKRxD\nIvsLJLIPI114FW1yFFnldBVYljzIFM9Wezvsm5EuHixfdsm9VYEaonq2mqKaqbqcLSaqL6snqy5n\nCgmgYhOKqG6Bc9i6AJwN0F7HEBL516vuM1+YqrrcYe/HTHG+fFlFAa+kfoGF7hS8CwvY4XuX5v3p\nGyVQA9YrsBCZUWulkRagxcIuRlSorab2gKAoCmZmZhCPxzE/Pw+fz6frzBxUzeN8dsl16jKBUtiG\nAeV5qIUfQFWegr3tTtjkXUYM0fQyxdeh+B7EvlP/E3llGgVxOug6baFymAYAt30Yc4UXy5dlW3UF\nuaimKy5JEPazAVmWOpAuVrR/2HqQqdh2mxxGVnmj4vYQ0vKps5tTHZjNv1Z1AuOikqzavyxVL3vu\nsUcwUzhRdV1erf5M9cg9SBZOATbg8el/wuHMo7gy+KfodvZDC2ad5YOMx5YP0goDdQ2Hw9Hw0uMM\n1PVRFAUnTpyompmjr68P27ZtM00Fxgp/oXBIE3DKiSXXqxXtHiUKKirS6usoZv4bbM7/Adl5AySp\nOX3sgD4VSi22mSkcQSL7ME5lfoGMMgb4AFXEymEaANrsUeTzlX8JqA6GOaVy+joPFioCs1seRAZn\nq8Vu+2bMFs5Oj9cmR5BRzu6rXQ4jW9Ff3WaPIK1Mly/7XFswXTg7m4dLCmKhWH3CYrpYXeF22UKo\nnBHELrUjma9uCemw9yJZmClfnsq+gp+d+iZGvVfizb73oFEbrUJN9RFCYssHaYaBuoYsyw0FYisE\nKiPlcjkkEglMTU1hcXERbW1tS2bmoKX0fI+1yfuWXKdKUUjqkSXXKzXtAoCCYvFxZPP/H9raboXd\ncZVOozSPhfxrSOR+gfjiL5ApvoYO+9bTYfoMpxzConL2JEBR1WJhw0LxaPlSbXtHh30Y84Wz80c7\nZD+gvF7185WKZ/qwSwpqquZyrupy7WweItsFOM8Gbrfch9maQL2ozFVd9jkGkc4drrlP9Tictg6c\nyB3BG7nDOJp5Ftf0/Cna5U7Ua6PN8kH149LjpBUG6hqNfggzUK8uk8kgkUggHo9DkiQEg0EMDg4i\nHo9jaGio2cNriFE91Hpy2saWXKdIQQDVgVrAD1UcXXLfonoUQiSxuPj/QM5fBlfbn0OWt+k02taU\nyr+KRPZhJLIPwy51IFVRJbbbqlskihWhVoKzaoYOt30I6Yr+6Ta5v6pCjZq/GeSUyr8syEhVnLwo\nSx1IFQ6VLzskH9LF16puny9UBl8b5mtONnR12JCtPMWk6ANwNlC7bH7MFcerfkZFdSh32jxLKtbd\njhjmldNjez2zD989/jm8d9NfINw2gnroOXsIWYcAoLLlgzTCQK0x9lAvJYRAOp1GPB5HMplcdmaO\ndDrNg1ULECKLNH4FKT8Ej/NsGFNFesl9VVsUUGoq1FIMQj1avqgov8Zi5lNQ5Qvhdv0J7LJ5vzCt\nFNKEUDCXfxbJ7K+QLb6BZO5X5ds6nW+uum9V6FXbsVARajscI0gXXilfrp2RQ1Er55eWsVA8+xqd\n7r0+G1Q77COYL54OqXapEx2O85BXFwG4oMIGGV4IkYIqBAQEZFsXbMocbLDBJklw2jqgiAzaUURm\nMQm7Q8F8ofpLVU5NVxXBPY4o0srL5csSbJiumWLP54ghVTxUdV1tH2uqmMADJ76Ft/qvxc7OK7Be\nZlyBkZ9/zSCxQk2aYaDWGCvUpwkhqmbmcLvdCIVCiMVi55yZg89b8ynFvZCkFFK2V+GULoJTvAyB\nNgj10NL+6eVeL6kHwNHq62xh5AoPIFf4v3A5roFNfjeAN+nzAAxUVOcxk9uDVP5lnMj8BEVxutWh\ndo7obPFsi4bDFqgKvaenuDsbUm01fed59Wx7xekTDM8G0Q77MBYqLrfbo1AKiyhm/XB7eqHAhwJc\nmFdmkFMzCMCOU7mz/c8B53acyp8N8yHndpzMnQ3om1w78Ubu7O1BdRTJooSAI4hOexsckoq5/LGq\nVRbn07NVRxWfYwgn8tUVa6XmbWODHady1aG7096DeH4K/3HyH5DMT+KKwEfXFZDNuGAM+76JzI2B\n+hzq/XCzaoV6Lc+HqqqYnp4uz8zR2dmJUCiEzZs3r1rVscqBxIjHoeeXtqLy+Jl9FDFdfAbd9kth\nlwqQlOpp9AQkFMUyPdUis8x1pZN8VeQKD6K980EUi1chk38X2h2/A0lyaf449CCgYqF4AOnc80hk\nf4lU/gUIFNFuHyqH6dNzRFe2aESrZuxol2MoqJWzZFT/XmQrTvhz2oLIVPRPd9g3V/VL222daJOj\nsNl6kVNtSBbsmMq7ANsCkHkNbjmEzJlpDm2wY7qizUKWnEhWTHVng31JG8ZcsXqmDgUCeZHDVH4S\nU3kg7Dof43kJQccoQg4vJMxjWtTOR109I4kNdiRqwrPfOYDjueqf89h7EM+fPmlxz8y/Y76YxHs2\nfQqytLZDlhkXjFFVte7qt1U+P412eh5qPnekDQbqGuyhXp9isYhkMol4PI5MJoPu7m6Ew+F1z8yx\n0Z63VlUsPlZxScFM8ddw269GbeQV0iCg1vZaO1FUD9VcJ6NQczKjEG4I2yOYzfwSc9JX0e64Bu3O\n98EpXwRJkqEFLYKPEAKZ4muYze3HXP4p5MJ78MJMFjLaoeB0C4zD1o3FYvWsGgtVc0T3VAVqFZUz\nCNkg7BUzbMgRZJWzgbrNHkM2Xxm+JbjkMGRbBIsqMJFbxFwxA+AIHJIbxYqTGb32fqQqKuNdziHE\nK6rN3Y5hnMyfff38ziGcqjhx0Gfvx3TF6os24UCyUF1pzp2ZCi9RiCNRiCPs2oaUCvS3dSNXPIas\nmsCphYmqo0y3c+j/Z+9NYyQ58zO/3xtn3ldVZt1XHzya93A4HEqWMIAwnl3ZkAxYMKyFLoyhBQQD\ngteCgcFC0mIMA5ZgrO39IHmtXQlLGbLsxe5CA9mWTGmk0cjSsoc3OWR3s7uu7rqvzMo74/SHrKqI\nNyJJTndXF7tL+QAJdLwVZ0Z25vM+8fyfPxvdFWk/UVUeoO10pOUPG3+N75v8+NgvoCuf3cDpQVkz\nHqTl434I9RD3Dpfhez7E6WBIqE8Z55EYHl/TMUGxLOuk3bdlWYyMjDA3N0cmk7lnEnMe37cHiQfx\nXnnuMr63GhuvOh+SVp8m499E0E+B8EQpvgPlErjfl4aEcgHflYm3686C2iedvl+nbf1rLHeFrneL\npPYjJPX/gIT2ZTSlckpX9oPB9g5p2jdoWO9Rt96nbr2PqqToHcfKqZBSL9F2A+KZVOewvSD+TYtl\nRIcLDnXadnjbeTqhQk9THZMItev1UDBJaJdxyLJuVak7PWCRjDZBPaQg5/V59qzAe51SRyVCrcYa\n7shf/UpkypTURiBEqJPuODU1yKs2lDS7EUXb9aHm1Kg1awjgcuqH8NQDak4oScSLP404sGUffkLJ\nsBPxXWfUEm8efpd9e4+fmf4VDOXTn2o8KGvGw2r5GCrU9wYfMVSohzg1DAn1KUNRlDMlhmfhuxNC\n0G63OTg4YG+vX1A1OjrK5cuXSaVSn7H1D36M80KoH9WUD8f5qwHHmsTxNjh0NrDUy5REG+Hv4fq1\n2Loe8c+CTyE+5uuxMdvbxfNrtOw/pmX/MZoyi+MLEtqzmOoVTPVxTO0Sqjp539dvuft03TW6zgqW\nt0/depu2c5Oeu0lWf4GaFdhb0urFgFDTt1mEO7L7yPe654abqmQiBYcXaYYynTWRj7wHh0fHKGKo\nl2g4sOUUce0NivpF6k7QcCWlViRCHUUnlCUNgpoVak2OyoHUOlyhFiGwTUdu3uJHCrdK+ix3QhMl\nVeiSD9oH2p7KcmefCfMJSprPgf0xO53bUhdG0x7hUKsSRlGf4dCRY/by+jg71i2W2x/xv935H/jZ\nmf/mU0n1o2j5GHqoPx94Q4V6iFPCkFCfMs6ysUtUOT5N+L5Pq9Vid3eXZrPJzZs3qVQqPPXUU5jm\n6XtezxOhflQxiFD7yhR4fWWy495kWxQZ1Z7Bdd+PrRvPpAZnAPH2xbZU4KiIEboR760ixrDdt7Ct\nOzT4vwGBzwiu38FQJ9DVMRLaFTy6KCKNIhKoIovr98D3cNwuFG6zVPtTHL+K7R1gu3sgMrScayfH\nyejP0Ax1IYx2g3QjuczhIkFQaYf80oZSkRTmlHaBRsjzrAp5whH2UpvqDB4j9ESGtd4aJcNk3wrO\nU1fS0rbdUNazgkYt5IfW3Bx1AnJb0OfYDxUGFo0Fdq3gvIv6vNQ6PKONcRi2e6DJ3RMBx5e/40aN\nedY6kfbjTv/eb/a22OzBxdTL+OoetTCZd1OgybnVzoDvgY4bZPWtdK7zv6/9T/zM9K+gKfHJGTzY\nosSh5eP8wPfBHSrUQ5wShoR6AFRVxXXdT0yj+DScJTE8Ju+n9SU8KJljdHSUbDbL008/ja4P/vEa\nQsajqDL5fhPXfSM27kSKDB2/yp5rk1ReQPfe5kSuFWW8mF0ki+PJSqMiJhHqpjSmKnPgyiql68se\nWl2ZO2mZ3XOX6bnLWG6VTkglTesvUbdCTWkS4+x0AiKoijS2H9gWBBptO0wCFSmGTmBIXQhxM3RD\nCSYpbYF26O8JbRrLChNP+f9lxwlbJsp4voPTfQorIej6I+x2vx/aUt62GSK4CaVIzQne66Jxgf2Q\nH9pwR3DU+smyrsgNUtSIZzlK1jNahUMn6NRYMhbY7AUEXBNmzO4hIk8dclqZ/Uj78Z6nsNSucTn9\nHLa7Qtc7pKu0pHVUobMdKVo0RJLNntydcbl9jX+98Xv851O/iCLi33+PokI9bEbz+WBo+RjitDCc\nDg+ArutYlvXZKw7AWaZ8nIa9xPM89vf3uX79Ot/73vfY3NykWCzy4osv8vTTTzM+Pn4mNpahQv2D\n40G8V47zN4AdGU3Sc+NNXjyhs2u/wSEXQUwcndRM/DyVC4D8f0FRJuP7i26HSc9dlMYUUY4sp+lE\n1nEjXQB9V7abJLQL+CG/RlJbwCPI105pF3D9wO+b1i7iEyjUwh6T9qcrsmXD88LHV6RixYQ6jeVt\nYapTJPQvY4nnWbR6bKpb7NubeH5QrChQOAypuFlt+iStAyCrT0vHVYRcpOcq8mSkHiK2AoWaHSan\ngsOQHQSg7dSlZSWSwjJizOP4wWdFQWXHkglvTov73/etPXzg49YKW1aCcfNFurp8rIw3ju3L370j\nxgyu70pjZXOatw+v8m83fj92HHg0CfWDLHgcYoghHjyGCvUAGIaBbUfJxQ+Gs1ao7+VYjuOcxNs1\nm02KxSJjY2M89thjA7/Qz6r735BQf35wnL+MjQnlMgywdvSOcpRb7sd0SDKqfxFBfALqD/h6cf3o\neuJkf8fQlItY7nVpzPVlJdNUL2I7gVVDoNNxZILtR4glyMRTixBiVcgEXFVki4Yfof7hBi2KSEhq\ndl+9Xjw610k09QnaboE73U3gJiX9sdBxDcmykdcXqNnBtSTVERqhOD07RNwFCvWQncMUeXpqQKBz\n2gxVO5T2oc+zZ6+Elmc5CG2fVkepOoFCLFDZ60U6H0b81KPGPOtd+R42HbmleUmfYLMXTAo6XpcD\nR8fvzJHK1E7alSuKKXnUATziyS+G6KvqV2vfJa+X+A8rPyH9/UGR06Hl43yhX5Q4fM+HOB0MCfUA\naJp2zwr1w0qoLcs6afd9nMwxOzv7AyVzDAn13eFRuw7f93AH+KddEY8nU5UFqTGJR4cd+1105Qo5\nMQ+hVuRWqGNiHzq2K1tAVOUClid7b4WQLQiCJN2IGi0i55bQLksFfwpJPF1WXsP+5v757UeWZdtJ\n1w0ruyq+HtguDGVUeh9S2kWadtAhUFfGSOhlDuwmd7qbFPQaNbu/vSaSVEPe67y+wIF1I7Rv+fo7\nbnCeukhTC9lUCvoC1RD5zqpT9PzAk5xQS2CHG8vI+zYjdpCsPkE9VNA4Ysyz2Vs5WdaEEbN7KJEE\nkYxaYteW3/u0WgR2pbGG02RbqZHppVhIVdizFqn5e9I6wldY78j3DWDXCs7xtd0/YtSo8IXCl0/G\nHlWFepjycfaIdukcYoh7xZBQD4BhGPdl+XhYCHWn0zkh0b7v33Myx3kj1Oehmv403yvXfQ/fP4iN\n99yV+MqiDMiESlcucehc4xCFiv4ypn8dIQp4EUKtKpex3WvSmBAjgEyoLVcugDPUi1iOvF3XlQmb\nEmkgYmoXcZwgRs5Up2mHttGUIt2QJUMTRdqhZVOdoBdaP6VdpEVgf0los1hWWKE2MNUphDLDgd2k\n2mvSPIqtM5UcNUkVXpAi7lQh+48bduC1TqkVSZ3O6/PshLbVIyq6HbG9NOzweymohfYNcGjJfva2\nG7V7yH7rEWOBtW4wKVJQ2Y34mwv6BFVHLjQ8sOXJSkYtsNXrH7vptvl+o83zuZdZ7bwlrTeiz3C7\nJ59jSR9jvSt/Xv/NxqsUjTEWUv3W9g/qu+RhJdRD3BuGjV2GOE0MCfUA3K/l46xTPo4RTubY399H\n0zRGR0fvO5njPKnHZ4GziDE8TVSt72IoX0Tx3jwZc5xpPDWuDDreoNSOY+uEx479LqpIM6I/DuwA\noaLGCOkFcHyZwKmiTNeTi9J8ZAXUUKfouDIx7EVIuIjYO3RlHEIEOanO0wgp0kltnl4oLi+hTspx\neSIr7c87Sv9IqAv4Ypwtq82+3QVuSh0KAXL6LLu9cD536P75QrJs5LQZ6iHLRUYbpx26Nk/yQwjq\nIT+0oWQ5dFdQvRRpYwxDKWH7kFOmcHwPVaQ4sA9w/CKO75JVR9h19lDIoCkaObVA23XIaSNoikDB\nwfYcdJHEPioS9YnaPeZY78qWkJbblJYL+hjbPVmdLhnj7IcyuX1g3/ZJKU9i+8tYR8fTVVlRB1Cs\nJCAT9BGjwj9f+ef848v/mLze/zw+ajnU92r5GJLw+8HQ8jHE6WFIqAdA1/VHxkPted5JMsfBwQHJ\nZJJyucxzzz13aqkc50mhfpBRg48qGvZfYHlLjOtfQvW+B4DtFSFCqIXI0/UWY9tHyazrt9h3trG9\nHBX9ORTv+/g0cFw5Vk+QpRfZn6rMQtSK4cppEZoyCSFCrStlum6ki19EwXYiHuyoHzoWlxdJN+kd\nRQIKNJLaY/T8HDXvEg27Sk4rUA+pyBltQiLU4YLDaMSd6Y7TE+FuiSWJUPe8YMKhiSQHobi7gj6H\n49sUtRlcXwcybFmLtL02OIfMJqe43QnU7OnEFbZDKSQ5bZJ6yOucSlZY6qycLE+Y86z3NhCYpL0i\nU9kxXB+yWpnGUQpIVMFOq8VYgWJWHWUb+Z62XFlJFwi2urscOnXGzQny2iEN94DtnvzZAuiI+NND\nXUlz6GzzL1b/Bf/o4j+K/f208KA7Jd7L99JQ7Lg/eEPLxxCnhCGhHoD7UajPIuXD8zyq1SqNRoP3\n33+ffD5PuVxmYWEBVT2d1s1hnCdCDefjB+i0rsFyV7GOWoNv2e9S0V9G967iimrsZ0ZVLoL3rjwm\nKrQj3mSFDB13CXDZsN5HJcmo/gWEL1s7NPUivUjRY5h8Qp88d1z5kX80Us9QZ+m6cqZzJ0SoFZGU\n4u36cXmL0nLLWZLWb4bU04Q6j6KM0mhkaRsNMqIgeZ4TapG6ExB62wvIuCpMqmESbCxwYAXt2TVS\nhJOuw2p0QilyKFlFLmD5NogcDcei5eZY7X7E8VOAsnmhT6aPcGgHlhSBYE+yTgj2LXmi0ogUEupH\njVN8oKm0aTkKy0dZ06PGPBNmAStCjIv6BLVISkjNkZ9qpNUsm135M1MxJlnp9En6Vu+Ajpvm8czT\nfNy6Ia2XUQvsWbLPGmCz07//t9q3+Heb/44ppmLrnAaGKR/nC8Mc6iFOE0NCPQD3E5v3oIih67rs\n7+9LyRzJZJILFy6Qy+U+ewf3gbMi1GeBszjOo/ReNWw53WPHfoccX0Kob8XWdQdcl6LMxjKkDfUi\nXSewOLh0aPgeB3adovYchu1hakt4sa8fjZ67JI2oYhIIlG1Bgo5zU1onSsJ1ZVwi1EntEnX7+6Hl\nC7Sdj0PLF2nYwT7T2mVc38chzYHToOdX2Gm/Dzrg91M5wgh3JdRFWio4LOgL7FtBsWS0BXhPCchh\nRpuQ8qZz+gyGm0dRRqg7PXbtFOu9W8AeIEirgbUioWTY7QXe9pI+wYEd7KtszLIZyncuGzNS3nNe\nG2XHCjdzUdnqyip/WMnbs6qYSp6Vzg6jxixTZoG6s0LLlZ8EFLQK25b8ZGLEmOLAlotTE2qOcNHi\nodPiwJqlYsyyE7LElIxxqSkNQFEb5U4v8Gx/e+/bfEX9Cj/ED3HaGHqohxhiiE/CkFAPgK7rOI7z\n2SsOwGmST9u2T4oKe70epVKJmZkZstksQgiuX7/+2Ts5BZwnD/V5upbTQNP6dmys5fs49mOUzHV8\njtVGjW4koQPAicXggT8g5sw5Ir1VZwUECCdJQSRIql8CbwXP30FXLmFHcq+j2dIJ7TLNEFkXaCfx\ndMGxZA9vNBFEE/IEVFNGSOlpHBLUnSY9p8COFSR2FPWw91vQCPmWk+oojZBFI6/PsxfaVpHeC3nb\njDJFk1Dho1qm5zbI6PP0PIOdnsemXQNq6MLECSlpo8Y0e6F24aPGNLe7gZqbUYsSoY4mhyQixYw5\nvcJeqHBwPDHHWnflZFn1dTa6srf9eGKxZ9XYs2qU9BE0LUtRd6keHTurldm25ALCtiPfU4Cd3n5s\nbKO7R8NtcyW7wHZv+Wjb+JPDvD7KnZ6sir+pv8mPNr7CZHY8tv79YBibd/4w9FAPcVoYEuoB0HWd\nXq/32SsOwP0qDN1ul93d3ZNkjpGRES5evEg6HS/OOWvf8RA/GB4Vlcnx9ugMyJl2fJuOeocDb4wR\ntYDn30ZTHqMbyYYWJGJkFgSdSK60wKDpyKqixjg7zkdwNG9Nq49TYAFNzYG/i+OtI9AGxOXJxbX9\nuLyASCoiTceRiX/bvn10HjqGOo5LAkN7hY5nU7X3Oeg2aJ14sgWaCCwlukhJMXV5fTbSdGWSTiiP\nOuzNjjZoyetzkoXDVAo0vXWS6igJdYZDV2XNMvCsNZJKjo4XWDBGjTkpXSOpyEWSvUiL9KoTVvUV\ndnvr0vJeJDnjMJLCoQj5pyHrjLCrhrtOaqx1ZAW7oI9yrdk/x8fSV1BElWpkv2k1y0YkFaRsTHK7\nI9s4KsYYq50+Ef+wXuep3AKH9g7rEdUcoGq3YmOml+J/vv67/AP9P2JhYYF8Ph9b517wsCrUj8p3\nzsOGfg718L0b4nQwJNQDcD8e6ruF7/u02212d3fZ29tDVVXK5TJXrlwhkUh86rZDQn33OC/XchrX\n0LT/klgnQ1I0j9prd7xtNr0EE8YXBjbX0NTH8D05zs5QLtCMxO0l1Esxm4agAASFhS13G8szaXsb\nR38vMao9ja+00NFQhY+CjeurmOplfGx830ERoxhqE9AQ6GjqBLbXwvM0Gq0umWyFllej5RVpOgck\nvCStUHRfSq2EyDTktDmqdmAx6CvOofg9pUA4NlD2SxvUpKLBC1RD1oZw5nNancDyknSsBTZFlZzW\noO4EpLJkTLPeDY4r3yXBvhStl2MnlA2d8UZphPZVMefYCDVeGTPn2AipzyV9XCpW1ITBZkSNdiJn\nMGHOstyRJ051O3gy8HFrjbJRJq9nyKgWTbfvox5k90ipefo2lgAZrQD0CbXtO3xUr/NS8XGq9vel\n9bJqjo2ebCkBsBBsKrvcyN3GX/KxbZu5uTkqlcp9kc8H3Xp8qFCfPYZFiUOcFoaEegAeNKH2fZ96\nvX6SzJFIJO4pmWNIqO8e5+FaTusaGgPsHrp6GUIk2aXLmvUxJf2LCEypFbdHvPGLopQgQqj9SBIE\ngIP8iN5QZGLr49DDp2qFVFl1Sir+AzDVQ9qhwriSMc3ucWc/DTyvwm6oMUlam6QVKmBMaxNSIaCp\nFsAOH0P+sW2H1GhdZAb4pQO1XFfk63Z8m4LxBXatJnuOQs25dbL7nDYmEWorRNR1kWA75I8uGzPs\nhn3F+jTN0CSnlm5zAAAgAElEQVTBIE2YoGoRVT+6nNFKbFuBf3nCnGW1G1xXUklTU2RLhojE5xX1\nEbZ6cpFjVivxYWMRUzF4KvsUm93r0r06xk4vnoG+05MLGS3fYbMjKBuT7FrB56RkTLBpycWuhjDY\npa/u/0ntr/jyE/81ZYqsrKxw69YtpqenmZqaQtPu/ufvQZLeoYf67DHMoR7iNDEk1ANwP0WJnwTP\n86jVauzu7lKr1chms/edzHFWmdfngYSeJR6F98r16rScq/FxP/5ZNJU5Nqx3SavzjKgWjrcMCDoR\ncgtyO+5jdBzZXiD8LD3kx/4JZYqWG/XaylnTvpUDJVAjk+o4TSkBROHQkpXVnisTs3Db7v6ybBdo\nOQFxFKiSRUN18pLnOa/PRfzS4clwPyM6rU6gq5N0PI0PQ4kV04mnqDkBAW27QVFdSs1L3QhHzTnW\nOoHCn4h2UvQCZVggaIkwmdbZCuVEq5FlEOxakdhD5M9vxZymHnrCYAiTO5GUjqJWZjdCgo+Jcs+z\nePvwDheSj2FFihazXpGdSFFr2ahwuyN/FkzF5GZrnaSqM5kcoWb371PbjQsfE4kpDo4KLB3f5X9d\n+QP+2yd/hStXrmDbNmtra7z++uuUy2Xm5uY+80lgGA9aoX4QKU1DfDqGHuohTgvDT9IAGIZxz0WJ\nYbiuy+7uLh999BFvvPEGu7u7lMtlXnrpJa5cuUK5XL6vL9Cz6sp4ngj1ebmW+72Gpv1XnBiYjyDQ\naUZSNgBUpQxAy93kjlVDKK+gK4/j+DIR0kSFnieTbEOZpefLTT1Udyoq/GJHPMBJZYZepA21K2Qy\nnNTkgrOsNocVaruteBnqzkro/JIchvzQ/TbeISVWLdNwAsJc0C9gh/KrdbcoHc8PNVkJk++UOsao\n+WWaXoVb3Q7XWos4vqxdNEITj5w2ykGoWLGkT0GI1Lqe7MveC+U8Z9QSu6FJREmdpieCc64Y81ih\nws4xc+6kaUr/7zPUneA+JpS0ZA8BaLtyTOFEYhbbl4nsgS0T4DFzgv2YLzvF9VaLmcQVxNEHQPfi\nzX6yWjE2NpWYxPYd6k6HqpUipaZJKilWO3FPte/LT/ludzb41uZr/ePpOgsLC/zQD/0QuVyOd999\nl/fee4/Dw8PYfgbhYfVQDzHEEJ8/hgr1ANyPQm3bNrZt8/7779PtdimVSkxNTZHL5U79y3Jo+bh7\nnMUP1qPQKbFh/1lszFAfo2XfjI13Q8qxj8u69SEF7cvoiortBakcmjoTa8qiKhWI5Eh7IurbTtB0\n5cf23ZZBuEGiJrJ0hEyeao09wq4TQ5ELzwynTNcI1NucfoE961poeZ79kMKcVidphhRqLWLZcEPF\niv186eCci8Zj+CTp2m0Wu1tMJwS7dqCm151ABS7o49TsQJ3OR+we3ZDibCopdqyVk+WKOc92L5gE\nFPVx6iGFV4/YOcLvtEABX9CfzfT/P0fTP8bMGZY7wT3NacVYZrTlyROxijHBRldWudORGDyAutPG\n9T3eOrzDhdRFfH+HGnL2NcBuL05uHS/4zG/3DrmgTlAxVXZt+XOjoHC7vRvdnA/rt/hiYZO51ER/\nPUVhYmKC8fFxarUaS0tLWJbF/Pz8p/qsPc87tYZZg/Y99FCfMfxhUeIQp4choR6Au/VQ93q9k2QO\n13XxPO8TkzlOE0NCfW84T9dyL3C8Nl0vPmH0iHuddVGh4cWtHTVni5a3w4T+JXSWcf1dXC/uj7U8\n2SstMLAUmaCZYp6eLxeqmWkPJ9RlO63O0wl5uzWRxjLkYrR2xG7iCxcZUbIifw6siP0jHHFnKnl6\nenC8gn6BjnuAqU6xb7epuQXWu8H5hQlzUZ+kGioizKgj0t+bIYU4o5bYC/mjR405bncCq4gmZDJX\nd6pk1BIptYAmknRtMJ2LCEPD8wWLrSYdbxTbs0goKbZ7+7hkUYVCWk1xp2ORVC+SVA1MoSAwGTNm\nqTm79LwOJX2MfSsguGk1y1qEYPfJc0CoBSJGsIt6kbVucM1L7W3mzAl0moTb0/ftHvKkzBAGqx3Z\nn73U3qGoP0EUk4kprjfihLrrevz20r/hv3/qv0QRwedACEGxWKRYLNJut1ldXf1Un/VQoT5f8BkW\nJQ5xehgS6gH4QVqPt1otdnd32d/fR1EURkdHefLJJ0kkErzxxhsPnEzDkFDfC87Ttdwr9qy/5Xbv\nQ6aNV/C8f380qtJyVmPr6uoMePLjfEOZoHrki960P0bBYMr4YXqe3NVOFUVaEeU5qV7EimRNd7uu\npDTrIk8rEr3nRW5ZVl+Q0jc0r0jTD3VHxKCnBcp435KxGvq7zmFI+dVFVorHy2mzUgFkTp9l1/uA\njDaFpozT9kyWupvAEgJBQglI4Yg+zX6IjKfVgkSoj9t2A6T8ItWQV7ygj9MMPRHouYEVRhMmPbfH\nhHkF21fxfJ3Fzm16ng3sMpe8cNLJkA5cSF3mMOTTnkhMcqvdjyF0fY+iXmapHbwHRb3I7lGes0Cj\nYs7QdZPMJB5ju30HS+lQNif7xZQn76tgK0KeJxPTLLXlpxKjepntSFa0QpKb1h4vFh5j5UgV79s9\nZKvIVHKKa43IJEwxuHqwwgvFx1kOTTh0IedrAxhCZ7m9Rc9z+H+3/z1/f/yHY+sApFIpnnzyyROf\n9dWrVxkdHWV2dpZksj/ZfNhSPv6uf5edBoYK9RCnhSGhHgDDMGI51L7v02g0TpI5TNOkXC7z7LPP\nPrBHgJ+FIaG+NzzoazmL9+p+jrHb63dHXLOuMWl8Gbw3MNTLtO24fzqq2gLoyiTHkWYAHhaHnqDu\nJJkwHsf3ruP6NUx1npYnx5z1ekS+dRR880ASi1PqHF3vg5NlgUY9QrD9iKqUT8xKyRCmO0lHXTlZ\nzukLUiJHXl+gan8cWp5juxcQ9IRaoO7cRqCQ1Rdw/RyH3Wk21SYqqyghpXjUmJWKCJNqDkLz8cOQ\n3aOoT5w0PQFI+HnaIiCQrVARZVot4PmCcfNZ6k4PlRTXWreAvoK7kHqcXuhJQ3TSEW2gEvVCRz9C\no3r5hFD79K0479SPcsB9hZnkAnhp8lqRwyNVfTIxw2pbtuLoIl7kt2fJNg6BYKN3gAe8UdvgC/kn\nWeteZztS2Ni/rjjJnE5M8oG1zhsHmzxXnGH9KOZvvRNPDJlKTvJhvT9p+YO1P+XLpWcoGp/cXfbY\nZz03N8f29jbvvfceyWSS+fn5hzblY6hs3xuGKR9DnCaGhHoATNOk2WxiWRY7Ozu0222q1SqZTOak\nMvyzIpfO4vHdMOXj7nEefnju5xocr82+9frJ8oZ1nbL+AvqA+mRVFGi60cYt0HXjvlffF9h+h9u9\nGygYTJgv4wwgQo4qq5kpdYHDiDLuRlqJZ7QLHITIsECV1GUA25PJohqxRuiKXPymKrLX2PUDe4ih\nZPH9BCn9BTa72+y7XSzvOr7aX2fUnGe7F86Xlp9Ghe0cJX2KAzsgnGm1JBHqjggIZF4bw0cwZj7L\noW0DWT5q3eA4Am8muRB6DwTbofzllJrmTii9o6iX2Ag1c+kvh7OrU9yOZE1vR7oVZrQMHB9DCLqe\nz+u1RQSwkLpEXhcokc+iJnRWO7I6XTEqrHVlO85MYoqPW8H5v314hy/kn2GpLT+9MITBSkTtBk4+\nWx4+y80eI4ksaTXDrWY1tq4I/cy13S6v3v6/+K8u/YPYelEM8lkfHh4yOTl533nWg3CvZP08fKd9\nnhgS6iFOC8MKiAg6nQ4ffPABf/zHf8wXv/hFXnvtNUZGRnjppZd46qmnqFQqn0mmz4qADlM+7h5n\ncS0P8w/cnvU3eMj+6V17iX1bRRMladxUF4j6jHVRiqnFAl0a87DZ6K5wo73CYfcSqvcsqsiSUOdx\nhKxAqkIuJFQwaUS6KgqibbIv4BBK3xBpDiV1XaGnyP7qA6kJidwCXBdpXF+QN17EF09y6E3xfutj\nFtvLtL02I8aMlOihhroICgT7VkBcR/QZybLRb1oS4DBcjKiMY9GiYjxGSX8W35/jerPJe/VVVjob\n1J1wlF6a9dA1TCZmaYSi9sbNKbzQpKCkl6XjloxRaXnCnJImEVOJKQ7s4N6oQmUtQoyLej99wweW\n2lt81NjnVrPDXPJJEkcFnFOJGboRL31Oi3cp1JW4it1yFAraPEaoVfxUcurI0hLAUHSWWsG51ewO\nil8hpcSPo6CwGilS/O7+O3xYjz+N+SQc+6xfeOEFyuUyzWaTv/3bv2VlZeVU0qCOMfRQnz2OOyUO\nXw/P61HGI0Wov/71r1OpVHj66adPxg4ODvjqV7/K5cuX+epXv0q12lcofN/nl3/5l7l06RLPPvss\nb7/99sk2r776KpcvX+by5cu8+uqrNBoN/uAP/oCf+qmf4od/+IdZXl7mmWee4Z133uHrX/86IyMj\nd6UcnDcrxnki1OcF93o/dnp/ERtLqxfYc26x72YxlQsn49EoOwBDnYuNZbQLOH5bGksyi6+4tLR9\n7nh3WLMNLP8yKfVFFC8g7h03kg6hXcBDPm4zkketClkRzuoLeCHCm9fnsUONY7LaLI4SkM+sMk9C\nHSOnvwjKU9jiGT5qb3G9tciWtUlGHZH274Yi4hRU9nuBsjtqzNLxgn0n1XBLcCGp1SPGDA13n4SS\nZcx8CsWbZMvK8n5jm4+aq+yEmquM6GV2rWDbcXMKL5TZES1ObDpNaXm3FyjCAsFuTyaVjcj6ZsR7\nPJucoRVqLiN8wXpH3sdMcppdq86btTvsWUnmkk/G7Bn9AkV5O02oLLe3Y+utdfa53twirU5hKH1S\n7XrxH9iZxBS9SNLIzeYOthsvqp1OTtBwOrHxP9l6Hde/+6d7qqoyNzfHl770JXzf5+rVq9y4cYNO\nJ36Mu8Uw5WOIIR5tPFL/e3/hF36BP/3TP5XGfuM3foMf+7Ef4+bNm/zYj/0Yv/EbvwHAn/zJn3Dz\n5k1u3rzJ7/zO7/BLv/RLQJ+Af/Ob3+Tq1at873vf45vf/CbXrl1jeXmZb37zm7z11lv87M/+LMVi\n8b4arpwnonueCPVZXcuDPMa9qli212DfijdzUUSfBHa8GnesQzSeAy9N070VW9caQLKbzbhKp+oy\nufHx2HO2uNVdYs31ObQvYCo/gqKMk1CmEUetzQUyUUyps/R82RcbJdhehBjpyhGp9QVJtUxSnaVg\nvIipvkDTnWerleNae4vr7UU2eutEaVUrlLphKCmp02LZnKcXyqY2lDARFVLx4agRqNUpNU9anSSh\nPMntjsr79XVWrW3co4nAuDlNzQmuM6/LTwuabkCADcXkTsiuMaKX2eoFiu2oqFALXcNUYpqaE6jP\nZaPCZqirYT9FQ/ZBRz++Ja/IoSNbfbqhpiod1+JG84Ab9TYLycdQjn5aphNT1CLbzSRnYh0Tp5Pj\n7Nv99W62dkgrU2S1LMsD7B7uACvRhDnK3+zfZjoxKY0bSpxkA3zU2OBPt94c+LdPw7GKfOyzfuWV\nV8jlcrz33nu8++671GpxD/jd7nuIs4WHGL4eotejjEfKQ/2jP/qjrKysSGPf+ta3+M53vgPAz//8\nz/OVr3yF3/zN3+Rb3/oWP/dzP4cQgi9/+cvUajU2Nzf5zne+w1e/+lVKpf4P1le/+lUWFxf51V/9\n1ZN9mqZ5X50SFUU5V97ms/JqnwXO0+TgbrHb+y4+0fQahboTkDMPhzVnhbz9DGriQ3wC5U0TOQ4d\nObUDX+AnqpIzRKBRi3RRTCoV6qE86hZVGt4MG0fFfAolCtooOAmS6kuowgUsNAqkVA3ft/FxMNUR\n2m6VpDqOInQUTDxfo2A8h4+G6wuajkLPv0zNruI5Dlltn5oTKKJZU+VY0Ba+yk6okUlOK0upG6PG\nDBvdIEUi7M0WKByE7B7lSHFiSi0yZuap2jar7W22e2u0jojxVGKW9ZDnOammQvsV7FlhH3aZnZD/\nedKcZbETTHbyeoldK9QdMdISXo/4xXNaga2QYj2dnOHj5srJckbNsNKR75/wVakZT1HPs9yWJzZT\niXHeP1zhjWqL2eQ0ecNGG1CgOKjIMKHICvnN1g5fzF+kasm56Iais9iKk+yCnsfjkI2OS0I16R5N\n/Nba8SLFUaPAaqvKq7f/nK+UnyWt3XunxKjPenl5GcuymJubY2xs7K4I8lCh/hzgDz3UQ5weHilC\nPQjb29tMTPTD+sfHx9ne7v9wrq+vMzMzc7Le9PQ06+vrnzgexg8Sm/dpOG/K8VmS0POi0jzo67iX\n+7Hd+/PYWEa9yF6ovfYx6vRQvGnKukf3qDDRblfwTbmQLaNdpOrI22e1C+xEGm6k1HHqrlz01g5l\nVHs4eCS5Y8mqeFIV1EMK50SizFpvh36MRpeKMc5WLyicLOiT1I5VYgE5rUI1RKaL+hTVUJHgqDHP\ndqhBS04rUw/F2oV9ycJX2esFRLNszLET2tZQUiSVHHl9lrrj8v36Du0j28RUYo71EHHXQz5hVWhs\nhbKdJxIzbITIdkEvcWAH5xT2KCsobHUDgmlgsOMFNpqEkmC1HRxXFSobXZkIdxz5u24iMcGNVnAf\nkkqS3Yj3vWKU2e7JtpH9XqDc3+7sk+wZPJEpoQsN+6jQNKkkWWpFLTwqKy3Z+gOwa9mU9Tm2reUT\nu8tMYooP6vHuiJvd/mdpp9fg+dw0a9Yik4kxbjUHEeoRVlttDu0W/8faX/FfzH8tts4n4ZNI76A8\n68XFRaamppienv7Muhs4P999jxKGKR9DnCbO1XRYCHEqX0h329glivOoUJ8loX6QOA9Fifey/567\nR9V+O/4HEc9LV0nTVDapu/ssdmrY3acQvoGeNuPrinjraAY0iOl4MvkyyFNz5GzhaIZwWi1Td+SG\nHg1HJuVKxEucVmWrRFarRP5ekJY1RVZz9xohcqqk2AnZPdJOGSvkFT8urDOVNOPmU9QswZ0uvN9Y\nxfa1EzLdvzZd+vdGyLIxlZilE1o3XJSnoLAbsmcU9BIbvTVp22YodaWiTeCEWspPJWZObCUAM4lZ\nmm5AfEt6ibWuTFCrkZbh08kpXBFufy7Y7MlEddwssx7xSs+mJrlau4PijzFujvXPJzmJ7csNd+aS\nkzQikX4ZNclic4sP6pvMJC+ejDsDPNVj5ggb3YDwv1vfpOKPHjWciaNmBbalP9r4Wylu8bPwg5De\n4zzrsM/6+vXrn+mzHirUnw8+7yK84Ut+Pcp45P/3jo2Nsbl51GRic5NKpf8DOjU1xZ07wY/W2toa\nU1NTnzgexv0S6vNmxTjL6zkPx3gYsWO9jtyIOt7s5Bh+pwzHBEr47KibtMUTOH5UZRM0In5mUDh0\nZIJmKsVYNF6C8dhx645cqJZWx6TljFqRGpVECwQBmo4cz9Z05fzjsPqsorEbUpxzWpmuHupa6Jbx\nQuSUkFXBVFL4vk5Ge5KNrsaBrbDcvYN35H1RQ15wQ5iS4jyZmMPyA1Lnh/wyppKQrCDRNI+iXkYX\nJhVjgpnEJRJKiWnzSUb1x8goC9QsjZ5doGlnqVop1joue70U1V6Gtl2kZaVIK7OU9UvMJp5gwphn\nNjl/kuAxmZhgx5InLYeWnEU+nZyI5UrntTh57bj99269W+NGvcPF1GUa9gArXexzBTPJcZwjb/xb\n1XUupR4joZgD7R5FvRAbW7NcDqx4hnpWS7EcUsMtz+H3V+NPbj4Jd6Mih33W+Xye999//1N91veq\nUP9d/U47DQxTPh6+16OMR55Q/8RP/ASvvvoq0E/v+Mmf/MmT8d///d/H931ef/118vk8ExMTfO1r\nX+O1116jWq1SrVZ57bXX+NrX5Ed+j4rl47zF5p2HgkE4m+u42/1fa71GUv2iNJbWLmP7zdi6SmJQ\no6I8i70tNOULGEo/gi2tLsQKBrPaAj1fJlsZdTq2NyuS5JHTpul4MpHruPK5ZbRoFNycVCCY08Yk\nwm14OQ5C8XgFfYJ6qMnKqDmP5XdC28tqtq+EUzUMumqNMfNJstoVBJd5t7HMUnsNF0+K0jOEedJo\nBPrNTyw/IJLh1JAEyUgc3gx2aF1DSTCVWGA2cYWy8Th32hZbXZ1rjQaLrSavVxd5r36HG80Nup7P\nqr1N27ewfZdxs8zaURdDD5+EmuBaa5U7nX1uNDf5oL7Ou4cbvHe4zXKri+MWSCtjXEw9zoQ5jkAw\nblbY6Ml2DCPii+5bNuTJUFHPSdF2tu+y1GyDn8EIqfUGOrcGFB7WI8T76sEal9KPYfnRdvKw1Y3n\nouvo6MRj9CYTY7Ei1G/vvBs7/0+C53l3TWCPfdYvv/wyc3NzLC8vc/XqVba2tqT/x0OF+vOB74vh\n6yF6Pcp4pP73/vRP/zSvvPIKN27cYHp6mt/93d/lG9/4Bn/2Z3/G5cuX+fM//3O+8Y1vAPDjP/7j\nXLhwgUuXLvGLv/iL/PZv/zYApVKJX/u1X+Oll17ipZde4td//ddPChSP8Sgp1MPjPHzHeNC42x/0\nunOHqn2L270bmOqLHP+3bzTiaqEu8tT9O7Fx68gDu2YtsW4JUtoX0UQxtt5xYkgYvUjTFc1P0/Bl\nFTshZJUxqRQ5iFhC2q7culoXsrUkq8lZy0lP/n+didhBlEiiSCuUspFQMtT8dUwlTUlcRm0tsOlo\nfNBYY7F9B0Tw1WkIk41QEd9EYlYixXaIQGfVHGvdgEAXRVmKw/N9wUzyMSbMJ0mrF3mrtsF79R3e\nrq/ScRU2ensnevZkYpxwwklRlwlkLqIaj5tlKVV8ITXNYSg+z/Xh7doKb1Tv8GG9juuNUFSnmE1M\nI45+6JJKgsVIZ8SF5HTMsjGeKMeIa8Us8W5tnaQYo6D1Pydj6ihWJAJvRM+zFCG4PrDecphKyJOe\ncXOUjW68mUtWpHnjYJO5pPz0sePEn+h5+Pzbte/FxgfB9/37Ir3HedbPPPMM1WpVyrMeeqiHGOLR\nxiNVlPiHf/iHA8e//e1vx8aEEPzWb/3WwPW//vWv8/Wvf/0Tj6Pr+jDl4xwf5+8aaV9pB9nTa72P\nyTkXSZlbdM14IVhKm6fmXpfGDJHlIGQNcbFZ6i6SEFNUjBex3JvYfh0QHNobkW1z1CJFi6Y3QVuR\nx5qRPOqsNkU9dB4ppUQ1RLCjCRsAbUcmVj0hZ2NLdg+hsxOye+S1MapOXynNqCOUjIvs9erc7m7i\nscVMZgG/27+nmq+zEVKVJxIzrIZSN+xQI5KslpeKEcvmBI12MDHo+V2mExfxfIO26/PmYTCZeTx9\nCZdAcRch/aOfLR1MAHShcSeUumEoupTCoaCwEcmRdiO9yudSk3y/EZxr27V5o3qbttcjS44nimOY\nisK7dTl5w4581gWCzU41NrbW7o+ttPcpGSnKeomOF1ecK+Yo6x3ZrpHVUnzU2GTESJPVUzSc/r0t\n6AXgMLaPfaf/BGS7450URSYVk1vNuBJd0rP80frb/L3xF3gqH3+aEsZpkd5jn7XjOKytrXH16lUs\ny6LX62EYxmfvYIhTw6Me1TbEw4NHSqE+KxiGcV8dsM4bAX3YCOL94O+SAtRut1leWebmoZzdXte2\nEMrzqGJA8aAbL5zKanNS4xSAvDbLobvNzc4Sa3aChPoiBf05ur5MpDLarOQRBnAi0X1ZdZKmK5O9\nriuT4awme65HjDk6Xrh5ixx3l1ZKtNRgn0V9UrJ7lI157CO7h0ChoE9TMZ5F4QJLHYv1bpOV7joe\nHgklJfmax81p6RqcEIHOqHlp3bIhn3fV3qeojzKbfJKK8gS3rDbv1rd4v3EbVZiRdQOvbU7LsNwO\nyPZMcpI9K3iv51MztEJPAuaTM3RCmeELqWmqobSUkp5nuS0/AajZMom9kJqifbSPBhZvVO+w2Ogy\nk7jIZKLvby/oORab8sRmLjXBTsRjPZ+aYM8K7teB1aZuGbgDHvFud+uxsdnkGK7vs9NrkhLlk5zr\njU7cj1zRC+wcfX7WO3UWUv2W7TPJCewBzVzGE6P4wL9c+svY36I4bRVZ0zTm5+d55ZVXUFWVDz/8\n8K7zrP8ufaedNnx/WJT4sL0eZTxSCvVZYZhDfX6Pc16O8Un7b7fb7OzssLe3h67rGJUDnAEKXsPr\n0fJyVLQ87aO24aYyyoETL1LsDmjmoosc0Cewrm+z1F2iYjyFEFfIqypN9xaO34k1gtFFhqaQVeyk\nWuLQCXy0CSXPgSPbTqIpIXoknSSnVWiEFOiMWqHuBYQzrRalpis6/WSOjgtr3R1utQ+o2v2CxqxW\nYDNU7DiemGal/fHJcthbnfBTfQX66HegbExIMX9Vu+8LrxiTZLUytzt7bFtVYJU5bSYoYhQq66H4\nu+nEBGuh5QlzgpodxAPqkXSTbqRRSt2RJyRe5PMyZo5KBHcmOcZypEV3w5b3OZOssNTc4/YRb38q\nt8CImWCn+7G0ni7iaTDh5JJjZJUMN9q7PFuc6dtogKlEhcUBUXeHoWSOa41dvjxykZZ7yM1m3O5R\nVHOsElz/WwfbLGQL2AMSQgCadl88eaO6xHu12zxXmB24Hjw4n7OiKGiaxssvv0ytVmNlZYVer8fc\n3ByVSmXorX6AeNR9u0M8PBgS6gG4X8vHMOXj4T7Oo46oIhUl0ZVKheeeew5d17la+6cQEZ0NkWPH\nXsHHo+PqXEg8S8N5n4Q6Dc41aV1TKcRItkDhIGLtEPS7BLa9OluAKlLMGE/h+w6GyGH5ffKW0+Zo\neTekbaPJHDltmoYbrNO3ewQEd5DdoxWxe4QzrgUKjmczZj5Nz1PYt5q8U187UZkrxgQ7VkBey8YY\njVBnwW5Ite8r0KEiwvQMS+3gXHc7Oyfvx2zyEq6vU7VVrrdqXE6NHJHpPsHcCCnmc8lplkJ50Uk1\neHogEGz3goLNrJZmKaRWj5tl7oTId1ktnRQjAozoBZZCarQmVO50ZOtDMtJYZTIxymo70hZeTQPB\neVyrb5PVciykLlJ1dqjZDVJqgput6ITJ5ONmvPBwy2pi+x7vVQ94vjjHrfYqWTULyIR61Miz2JLJ\n/tX9dc/apgkAACAASURBVH6kPA/ECfV2T55MWJ6LSZmbA84hrSa42Qiu8/eWv8M/e+HnYusd40H7\nnKN51rdv3/7UPOvh9+X94tFXRYd4eDCc9g7Ao2L5OKuUDzibL+7zoh6fxTFs22ZlZYU333yTmzdv\nYpomzz33HM899xwTExP9pBqvzZ3u/xfbNqvN4x+VjLnY3OyuklC/QMuJpyVk1JmYZSOvyXYLgKI2\nJ5FY13fo+DofddZY6ak4PE5WfQHIovtBsVzf7iGTu27EdjLY7hGo7jmtQu3I7qGgMWpcRBM5UvYl\nEsoTaOIK7za2ea9+h+vNVVJqUbJsZCLFe/WQ1SKvFdkKqdUVUz6Xw1Bmc0WfRMUgZ01hOSUatsn7\njRUO7AamYrLaCfYzm5ymJyV/BBPjpJJkpRXYRuaSMxyEzmnSnJDWz+tyIWgyYuUpmyPSHbyQmqbu\nBPaOtJrkZku2f0QLGk00Pm7IhPRiZpI9q8k7tQ22O4LHMxeZS03GigwXkgPGUuPsHZ2D43u8W93j\ncnpOirQ7xnjk/I+xdNgmr8lPKiYSI2xaccuI7WnMJONRjbOpMZzQ/9W3qsu8X7sdW+8YZ1k4mEql\neOKJJ3j55ZcBTvKs2215wjC0fNwfPu9Ui+Hr/KR8DBXqATAM45FRqM+KuJ8FzgvZfVA4VqK3trbw\nPI+FhYUTJXoQ7nT/GteP2zUabpw4HzgdLN+kqE7TdANy1fLisXrqgGYwWqQpC0AnZEPYsXaoKxm6\nXgcPSDDGiFHCVEYo6RXAwvN7gE/TaaCLFJ5v4+PR9VpowkQVBpowSSgjjBoaijABDU1ksP0yh06L\nql3D0EZYPlaNuzCffEI6Lzfc/RDBdi8giiN6hT07IPgjRoXDkPotEWhjkh1rg7IxiakU6Xkai9Yi\nCNB9nZV2YAWZTU5zsxVYNtqh96aoFyJke5IboXXDPb8FQmobnlBMVkJkOCFMbtsBKdWFxu1ILF3H\nlb/bZlOTfFAPOj72i/fkJwBjFFn0ZOXYD+Vyd1ybq/sbPJudY8IcYTOkqNdsmQACmKocvef4HvWu\nxqhZiuWYbwyIxVtIj3HtcJ+n8xXqTvtk0lfS8ywRX9/zFXZaNppQcUL334rXRPKvVr7L//j8z8T/\nwOcTbXfss56dnWVnZ4cPPvgA0zSZn58nlxvcvGaIIYY4ewwJ9QAMOyV+PseB8/EI8zTfr06nw87O\nDru7u+i6TrlcZmFhgWazycTExKduu9R+LTaWUafYtqPNWMBQR9jq3qDmqCzoz9D0PiSllWPRdQoa\n+7bsbxao7NnyekmlwG5kvZI+xVqv77ft0mHdWqdq2xyGWpJPm4+zah3S/2rSyKkl1ttVwDw6vstG\nb5OOFyisea0iteY+tAPiJxDshAhzUkmzEbZsJGYlC0deL7IfIqTHHmiAjFtgn/7fRvQxctoEu5bg\nWvMQXXRQUU/WnU/PcLO1dLJ80ArOqWyMSv7oMXNUKkA8sAP1vaDnWTmya+S1HJOJCbqew6gxhutB\nQk2y16tjeS6O75HzUmy5h2R1HVUoTCSK1J0OY6aCKgS6UDiwD0koBl3P6idydGWivJCa5P26bPOp\nebKfesTIciOiWM+nKrxVW8NQFL5Qusj15hKTiRFWWrKlJ6EYXK/H0zZ8VD6qHvBYfozVI0vKTLLC\nzUbc1pFU+ir89w93eGV0gY+a/fd6ox0n04aicaO+S8e1+eHKHB81lk7GbzZ2Y+u/cbDItcNNnszH\n/399ntF2iqIwPj7O+Pj4ic+62+3y4osvfuKkeohPx7D1+BCniSGhHoBHpbHLefRqn8UxHnbSPohE\nh5Xo/f39z9gDHNjruMSLw3RlBJAJjkBh78hD7OGyaK+S82YYNcc5cGSyVdAX2Ay14wYo6fNsWfJY\nXpuk6sjxalaElJW0SbYtmVi1PTlpIq+VqYUU4nFzlrVeQPZG9HF2QvsYNcbYCy1PmLOsSQkdUyx3\ngiI6PVQs14+iC7YdM6fY7gVqacLNUkxPstVrstiuY4jbtI+SNeaSM9xqBwS67QS2lTGjzLYVELes\nkmX7yIusorLWCYjpbHKaze42U4lJkkoaQ6Tw3CrbvUNWLQsVh1tHHmWBoGwU2er13x8FQVZYVL0W\nxw0eHU/hTie431ey83y/XkegMp4Y41K6TNfrogiVnd7B0QREtkzMJca5FfEwTyRG2erK1ojUke/b\n8jxe39vg6fwsOU0n6nO+kJ7gnZqsQme1JNfr29i+x2qzx1iqyHavSlbLxLbXhMLNRnBNbx/sMJct\noisaN+vxAtwL6XHeOejHD35wsE8ukaDldplPTfDOQZzYz6bK/MvFv+WffuE/jf0NHg6LRaFQ4Pnn\nn6fdbg9j9u4Hfj/pY4hHB0KI3wP+Y2DH9/2nj8ZKwP8JzAMrwH/m+35V9P+z/jPgx4E28Au+7799\ntM3PA796tNv/zvf9V+/33IYe6gG4X2/yUKF+uI/zoHEvP7idTofV1VXefPNNbty4ga7rJ57oycnJ\nu1agPmz+BTfay+S1F4LzQmPPXo+tW9IvSP5ngLpSZbFTJac9hyEyJ+P+gDbRgvgPetOViXFKybFr\nywQsqcqNSLJqkd2Iet5w5fgwNZJukdUKkWW52YyuyJOKdui8dGEMaPMdHC+lpiloI8wkrpBSL7Dk\nN3mnfpvN3gFzyZkTMg3QC6WZVIwy6yFVPB9quKILndVQgeDEUXv1heQCF5KPIbwcez2DDw5rvFPb\n5r3DdVY6e3Q8mzGzxGKo4O9CevKETANcykz1yfQRFlLjEpnOakmuNfr33wc2u3W2uh2+d7DBrXqb\nBKM8m71CQk0gQjYTLdIARxMqyxHVOaMmuFaXFetbjSqrzQ7TSbnDZW2AnW4+NXYSaXdo96j3NIp6\nllsDFORLmUkaTjA563kuvpcmrw62P4StKXXHYua42Ys3WE/Kaxn+cvtjlpufPXH9vJFIJB4Kgv8o\nw0MMXw/R6wfAvwL+XmTsG8C3fd+/DHz7aBng7wOXj17/EPhf4ISA/xPgZeBLwD8RYkCnsrvEkFAP\nwP1+QZ1HAnperudhah7zSST6+eef/1QS/VnX4PoO11p/DcDHnSUy6vP0s5Yv0R3gifaIHyftVjh0\n97nVWWbXSVHSn8UUWXZt2QqgCoO9yFhGHWUvQoyL+mSksEyw15PVwYI+Jm+jVTgI2S80obPZCzd3\nkRVlgWC/FzRCUX2VjZA3uaCV2A6lg0wmZrFDHnPtiKz3c6KfYrNtc6vd4536bXSRxhLBU6tw85ZR\no8SdbrDfQohAm4rB7VAix3xqFhTBtDHNqDNOtemy1vF453CL5XaN9xqruEf39lJmmkYoj3tEz0vv\noYg8qrYjk3hTkSc686lx7JB/eCJRlJIvdnpNtjo93juoofsjPJG+xHxqgpstmShfzkzFfNEL6XGs\nSJOWy9kJVts1FuttHs/0o+gmEyOxeD6A3a68v61uk7I2RceNPykME+Rj3Grs47jxz7F5ZPcI4639\nLSpmgY+b8fMAWG838YFXl14f+Pchzg98hkWJD9vrM++Z73+XaBQQ/CRwrDC/CvwnofHf9/t4HSgI\nISaArwF/5vv+ge/7VeDPiJP0u8aQUD8ADK0Y936c806oO50Ot2/f5q233rorEn03WGx/j64XeEkX\nu8voylM4nhpb1xAptqx49rTiB0WGPa/L9fYKPk9S0B5HDRHwkr4gkVKAjCoTY4B2pBCyICZoevLj\n+bojL2dVWTAYM2ax/ECZHDOnqYcU5XFzRlou+GP0QuuXDFkpDbcELxtTeH4CXcxys9Xl0FZYC9k0\nHD9IqSjpBW53A2I/ogctzXWhc6cT/G02OUPX71HQC1xMXaZtaxxaJt9v7nMoBOtq8GRgROSkvOhG\nqNFKSk1wM1QoOGYWudkKlqcSoyyGiO+okeN6Q47KW2nLqvKokZMI+phZ4Fq9PxHa7bW4ur8Obp4p\nc4oxEUwSmo5McvudEePJGjWr/973PJc397e5kr1AUY+ryLPJMqvtePZ0w3a5mJqRxtKqOdB/fSE9\nxvf2tqmY+cj4eIyUW57HiDpOy4kr5eOJArdb/c/h/7PxITsDCiKHOE84m2Ylw9cP/gJGhRBvhl7/\n8Ae4kWO+7x9/AW4Bxz9CU0C4mGftaOyTxu8LQ0L9AHDeYvPOmxJ+FqQ9jCiJ1jSNZ5555lRJdBgf\nNP88NrZv19m2fVJKSRov6Au4vhxppqJTEzL5Amh5Fh+1b1P3RhnRn8VUsrgDJnRVWyZHOXWUfUdW\nrDXkaLeiNsaBIxOlcKEhEItOMyLZyaYiJ0d4yOd2ECLIOa0Avspk4gqeP4Hjj/JOfYXNo3beYQJd\n0PNSCkfZGA2uQ6hSgWG/Q2GfSI6ZYyh+krQyzVLTYrvr8kHjDtaRSpxVgvdAFxprVmAxmEuOs9YN\nznchNUkvNAGIqtU5PUMY/ai5YI3HMlNUQwS971mW70nZKOCHHrmaisat5g4fNna51esyZU7zbO4C\nS5Fou0uZCTa78mRoNjUq2UJ8BO8c7OA4Ruyhbk6Lp8bk9STXDrd4c3+Tp7PzwfswQAkHSCkJuq5D\nAjlC0B2gZgPULZ+pZCk2XjECC5Htu/zh6psDt3+YMLR83B98f/h6mF7Anu/7Xwy9fufu7qfvE/+5\nOBMMCfWn4F6J19BDfe/HOQ/HAOj1ep9Kou+3kOiT7seBvc5671psPK9NsmvvsGfrFLSFk/FGxOsM\nUFRncYSsOqfVAltWn1Q23RYftVeoOgXabpKSvsBxtFtBm+bQlcl4VpOVYeEr7EeypzMRNbqsT1N3\nA39wQkmx0Qv8zprQ2OyEFVidzW5AepNKmgMC4jduTqMKnZnEkxS1xzDF/8/emzy5kffpfZ9ckYnE\nWtgKhdqLZHFp9v6+M7Ily5ZCkk+OmItl62DFhE8K/wVvOHTw+OKLbnOYmIOs8HjGEQqNxlrHM7Y0\n77yzvN1kkyzuZHGrvQr7vmUCmT4ABDIB8J1+m+zmIjwdiGYlErkj8fyefL7Pd4M79Rx3ageUrDot\nV/b1ZIxdyqVsS4icdMa2kjV9labrGIqCwoa+jcwiTcvg5+XnHLYHJN0vjf3cAUn3xNudM5ZpuZR+\nszVW1iVB5LjtShuRdXYbbotJgMf18fZqgsrThpcsly1vtveGP4XpGjQYksbD+plnnu3gEjWXV/lR\nPU/NlNjQV1n0jc+X4Ew/+QjJ0zGK24E0f1k44oJ/HXF4vaiCzKP6dPb0uj85yoe+Xjhj0z8QnGoz\n/NeyIPK4Nrjm7lXybKmDeXVJ5VF1Ws2WBZHdWgl9gnwDFLrewtnfP9ihNUPJftP4EGpH5pjjLSI7\ntHIw/P/Lm8ox4H7MtTyc9qrpr4U5oZ6BuYfaiw9JCf8+19HpdDg4OKBSqfDs2TMkSXqjJPolftH1\nebc+rU4LCBSG6mzLbvG8XSKmfExIWqI4I0Jv0osLA0I+edQi8iLPuoc8ahXp2EssKFfRpbSnoA2g\n2vMSpjBLmJ72jQIFyzuPb0J9TqjL2IyVyUXfGh1n7Ltd0lbpOuNlxqVFDMKsaBdJqpfo2TEeN5vc\nqh3ypHVCzqUGJ9QYx53xcUi6FGgR0ZP7vOZfod4f+9BN2yTtW2RD3yalbvPz0iE3KofkujUPgQ7L\nAZ40Dl3LSdNz7U/JGi8zroY5E8bWlYwYo2SNLRXretpDhpf1BD1Xo5c1X4K2PSaBW0aaQxchVwSJ\n/Qkf86axSMdljRCAfNfrt48ofu5VT7hbOWOv3uJKcIOMFhvZRF4iIGs8rHnJOUB1SIZvlE7Z9K8i\nIrCuJWZaL7Lt8br7jsNJ02TDn+LJDN/z+cAiNWs8GHnebOEXVTb8Kboz1OxzgRQ1q8vNUpZV//hc\nL6gBnta8hYj1Xof/++j21DLeNF4njm+uUL8e3rZneP765TzUr8C/Bv7h8N//EPhXrun/gzDArwLV\noTXkj4C/KwhCdFiM+HeH014L89i87wEfmkINH05R4ptGp9MZRdyJokgymSQcDnPu3Dn8/mmV7vuE\nZXd42PzZ1PS4ssGhq9ufjc3j1gvO6Z+giV2P39ovRshPZE8DlKwZHleXL7rWr9NoNZEwgBhLvgSq\nCBIOR+au53OTRWVJZYVTV461hEyu6xUL2hPdE23XZSIgIKOS8W0hCBqNnsVx1+LM6rFnHaEKqofk\nL2tLHLkI9IISJT8k2AMCPSb3q/oye+2xMv6yQ2FKTRJVEjxrlsh2a0CNS4H10XyTBHpFT3JvmH8s\nCSLHLjvHpj8zisIDSPkWKJhjC0VX6ONzZAxRI+gL4DgilwIbCIKAiAiOwJXg5uA4tVsISGwZS7T6\nHcpmg0ndZDu4zN2qW+0XOWh6o+kuBNM8mCDF6/4E3wyfAvQch68Lx/zqwiZyQONpYzzvlpHiRtmb\nQb7qj/G0Nn5ysVM646I/ScOa7ki74U+wW/Neb4Vui+1gGoHi1MDOmVDIqz2TTX+cbn/2vUR2pdJI\nrlqBjBbjsD7dnvzfHt/jv1v7EvF7JK5vo2HMHC9tBvMByfsEQRD+L+C/ZOC1PmKQ1vG/Af9cEIT/\nEdgH/tvh7P+eQWTeUwaxeb8O4DhOSRCE/xW4PpzvNxzHmf6R+yUxJ9TfAz4ki8TL9XwohPpNrGMW\nib569epIga5UKt/7fsxa/uPmX2I6013p7BmP5CVB4Wl7D1Hws+JbJG8NMqPDcoZyz0uAY8oKx10v\nuYrKKfKW93H6orrGfmdQ4Ph0SEJXtfNUewuk1AUCkg9FgFq7QVCMYQptunYLZcL7nPKtctR5Mfo7\nJMeo9IqE5RiaaKCKBn1bJqVeot7r0Or3uF45GnmGU74kZ9aYvK36l3nqarKiubr0SYLEccebA+0m\n0O5vWLgfRkJHFzI8rJe5HEiQ7Q6Ib0DSeeoi0Mt6kvtDAq0IMvut8fE7Z6zwuOEuBB2sRURgUYth\nO3DROEfXtlFReVA/odmXKGKxYQncc3Wy/CS8xi1Xq+xzaoKdpntAEGev0WLFlyGoqAiCTa/vHexv\nB5fZKXsHMH3be33JiDyte608uqRwq3RKq9/lx/F1dptH9Ow+R+3pLOhBi3BvBGLF7LHgMxAoe0hy\nQPb6618eofvlAlfD69yp7bnm9fGgMm3reNaskzJmdfQUeexSoW+XclyNJdhv5amZ0+QeBo1ofnr2\njL+VPjfz/TeBt9kw5j91zBu7vF9wHOe/f8Vbf3vGvA7wP71iOf8U+KdvcNPmhPoX4bve5N5HpfUX\nYU6oByQ6n8+Ty+VmkugfEq+6Jv+y+ucklC3y1rhttSFFOZmR4pFU1nk+JL+PWi229I/o2PsUreli\nRHlGq/GAFCU/Ma8zoYRKgsxx54SuY3Iw9B2va+d4OuoKKOET45h2E0FYQhZkRAQ6vSACK/SdPl27\nR1jKcNx5BnSBLueNBR43xvt4wThHwRwrrCE5xKnLptHtj+0Amqh5Y+z0FZ619kZ/u49sRA5Ttqps\n+S+Q67ax2vBNZUBmddHHM1fL7zV/ekSgZUHisO0m0Ms8bIzX0Rw2fTEEjUUljiTopNVljtoVNGJ8\nXRyfrwuBNM1hq3ARgaZs89IpIiGw58ppFhEo9bxKfkjR2W+VKJuD6ZdDGe5WzoipEdYDEUSxT93y\nWi5W9BiPG16Suq4s8Giio+J2MM03xWNA4OvCCWvGAmuhAF+X9jzzBWQf92d4mUOCxu1qgV9JrHO3\nPviMJio8qk57qi8EF7lTKlDsttheiLM/TCzZNFJca03blpZ90Zltxc8HFrlV9NpGREcnrPin4vVe\nota1+J1nN+eE+gPFB/RTPcdbxpxQvwKSJNHv97/TY7g5of4w8F1J9Ns4Xi/aDzk1D8gict6/Tc58\nDDD0Se9Ozd+yvVFiz9r7ZJQ1DFmg0S+P1F5F8HmynwFEJLKml8ToouFpkgKQVld50fGS+WbPW/S1\nqGZ44VKj/aLBWXeP/jChQ0AgZ3qJe9Xyenvdbbtlwdt5MKZ4M6JX9Qy7zTEZ77lymcNyiL32IUE5\nSFJdRLD9XK8+4XnzCFVUEITxOd0wlnhQH2y3JIicdMbbeN5Y8RDoijWwxvgljS3/Ct2+Q0gUOWpX\nCCKxOywoVEWZF66OhCt6jF1XTvSl0DL3quNzsR1Y4l59fB4uBpe4W3NbR8Lcr3mV5+aQPBfNFsVS\ni8uhJXZrRS6FVpAkhyeNE4KKH3fMqwCULO95ExE4anmj8vabFQKinyvBZe67Ivu2jEW+KU60ppcU\nnnUGn/86f8JfS65zu7bHhWCaG8Xp2qCXGeE9x6HWEfCJMl27R7U7u2Cw2evxtFnlR6ll7tfG6xZn\n/OTdLuX4W+kVThrTA8+QovG4WqDvwJPqbML9JjC3fLw9zC0fc7wpzL/Br4Cqqt+5/fgP5aH+ofCf\nkkLd7XY5PDzkxo0bPHz4EFEUuXr1Kp999hmZTOadbfP7VXVQjDjwRx+RUq8gInNmTqt3ETk5c7qN\nwv3GEZK9SqC/CEBcWcecyJlOqWtTLcITSoY+XkmwN3Gco3KMU9PrUXVnQQMs+tIjMg2w5MtQceVT\np3xJzlzNXJa0NHkX4V7VV2narmYoqjcardYbk/EFJTpK8wjKQVa0dRbkNQ6bfW5VznjUPB5ZEbb8\nGbrCwBIgIFDojkn8OWOZsqtosDpch4DApcAGYTlKQlkm1xIodPp8Uz7iqF0hLOo87YzV2O1Ahmpv\nvO0hl/VBACrm+D0RgYLpPQfZutdSsaiFPV7zC4FFnk90OOz0+pi2ze3KGTeLWVJKCtGWiShjb/E5\nPUmu77USXQotcdb2ZjSv+qPcqZxxPZ/j49A6wnC7j1vTGdXbwUU6rsHMV7ljroSWKU+kbMBQ4S6P\nj9Nhs8YFY5mULzxK93BjQdJ51hwci8NaG1UcWJ5UUeZRdXp+AMuaHV254U/w0or9ey92vjcVeU6o\n3w4c3n4R3vz1RooS3wnMv8GvgKIomDMimr4NPjRF90Mi1LPwkkTfvHmTBw8eIAjCa5Ho73s/Jpdf\nsrI8ad3xzPOotUdK/YKu3Z78OLoYmzEtMCpczPaK7PcbBMVt+s400Zg1VKxNNG4JSCGOu97CtIjs\nXW9ICnM8oX5XLS/5UgXvsQ9NtCs3JG/hp+VKvxAROXVF3KV9KQ8ZT/tSbPnPE5PXOGs53K6e8qSZ\nwwa2jGVqLnJb7Y3J65aRIeeymLRdlpJN/xKaqHHev4VMhFLX4VrpiGeNAmktymNXnF1KDmEPKbsk\niJx2XE1qtAgPXCrvdjDDUXusGl8OLXPWHQ80LgaXyLn881FJ5151whc9cU2eD6R4OpGaYUh+fp4/\nodC0+Si4TlwN0ulPeydavWm/cVQZW4O+yp2wbaxyOZSZ2fQl3/YSdAeBYqMHM3KjzwWm0zq+yp2w\nqiWn5gVIyYFRnvZZu8Gl4Mpof5u9aZEkrGj82ekhGT0y9V63N77a/83hA88g4E1ibvmYY473H3NC\n/QooijJXqIf4kAj1y3W4SfT9+/cRBIErV67w2Wefsby8/M4q0bPwVfX/8zTxeImjbhW/uIlPHBMd\nRfBx3J1+pJ5QMvQnyEKtb7JTPyIsXSCprAFgiCFPHjRATFkkb2YnpqVHZBGG5Lbr9cbG1aRnq5Nq\nkpyrmYtP1Dhw2TVkQeawPSakqqhy0BqTzogS4cCVTZ0i7om4C8oBFn0ptvQLRKRVblfy3Cgf8ayZ\nY8NY9pDmdn+slK7raU5cqRy2K6JuVV/krFvivLHKpr5Ju+fjdiXPzcoRhuTniSv9IqKOm68EZZ09\nl7J+KbhMrjsmnpNdDN1ZyCIChYlIu8lugCk55InS2zKS7E7kPU/GG0ZVP3crgycIpm1zLX+CZofQ\n0Qm42phvGUmeTBQoDj7rLVy9WTxDsQ0M2eeZfi6QZK/pVdMBQqrBaaNLTPV69vPt6UEhCJw2uvjE\naQtHrut9onKvWCQoa9j27J+7TSOOZTssyN4ujrqk8KgyLmBs9S1+3vl+bB/z2Ly3B2f+eqde7zPm\nhPoVmCvUY/yQN+zv87h1u13K5TKHh4ceEv3555+zvLyMz+f7qxfyLfFDnf9Wv8FO/S+mpieUDGfm\nGfvdEzr9MFE5DUBS3fC04x5AIG9OJwYFxEHzjhftYx41C6iskVTPowje4+QXp9tJFydi9pZ8KzQm\nVOyC5c38DUwsJ+PLeCwhK9oKLZedY01foeuyoyTVhOeG3MdBFzXW9Q229Es8qdd4VKtxo3KIT/TT\ncNkYuv3xd31ZS3LQHg8QVHGs0qd9MZ63TlBFhfPGGkEpQtP0cbOcpdDtsOtSoIMuy0ZCDfGwNlbs\nN40U5tAiIyJ4WlwnfWEeuObdDiyNivBg4KU+canZ28G0x8oRlf087XoJr9nx3ss2jQSPal6Cve6P\nT3UhlEWZm9U8LVPi0/AakiCgiNNPLTb88an88hV/hD/LHhAWQ4SV8bHwCdODVb+kcr+cpdRto2GM\nbBrrRoznjfLU/NuhFPfLBS4Hvd2CN4wYZ5ZX/a5bJlt6mgeV2WS4Oaxe3MlnifvGg55zgeSUMv4n\nrelYvTeB72r5mJPp14Qzz6F+117vM+ZFia+AqqpzQv0D4/v4ceh2u6PCQgBN01hcXGRzc/ONr+sl\nvu8fOff1db32J1jO9HUqulp7l3pVan2Zi/6LlK361LyL6ir7ba9qLTkyh12vzzprFmn0bZp9H5v+\nNSTBpGydTdk2FtVlDrte4jGVPS0tcuZqNS4LsicbGqDe83qErYlCymbP7SkWOe6coQoqKV8KxdY5\nbVXI9kVO22dcDm5QdhUzum0aaS3OC1cqR9DV5S+mhnnSPBweE5G0L4kuhtlt5Dh2OuS6ZyMSH1EN\njjuDQULKF+GBqyBwUYuSNwcKtCH5eFL3FhverR4hIpDwhVj3p0j6IgiI9GwH0RFZ8S3RtXv0HJtK\np09IjA7IrSAh9jXO6cv4JIlup01UD1DoN8l2qjT7XTaNJE/qXjKpCF5SHFb0KYV5zVjgXnUwrWX3\nvv8LsQAAIABJREFU+Cp/wmfRVeqml7BqoszuDG9yTA2yR43n9QqrgTBRRUAUBO5Vppu+XAyluJYf\nHK+ntTI/TmS4Wz8YtiWfjuFThz9d13OnnFuIsdccHPfwK+ZvWwJhRSc3oeyHFY3HlcG2W47DshYb\nqf+zFO3jXotvCkd8GV+eeu918F0V6vnvzBvA/BDO8YYwJ9SvgKqq9Gb4BL8N5oT6u+FNHbdJEp1M\nJrly5Qo+n49sNkunM1349CbxQ6lGpm3OVKeDUoT9icSNntOjaIEkRNHFFm1XUeFkYwyAqJPk2PEq\nmBnfCi86A/L8aEgyt3xbaFKfuGJT6+Wp9yvIgjdX2pACHHW8pFvGS+iWfSs8a++N/k6qSU+DlQUl\n6knrSPmSnHRPiSoRwvICfjHIcafCabdIrlNgW1/l1KWIl8yxnSKjJTlwEeiwHOSYASELyQa7jfGx\nW/TFCMkBJMfHfrXIXxT26A1d5OeMMNlhceKkAp1Qw5x1BsQuqgR46EqaOBdI86RxyrK8gCHr2H2F\nuJzgtF2jLcr8aXZvZJe5HFrivivZ4+PwMrcr4+NwOZTmemn8d1TSeNCsjgpC0/oCUSnEJ2GdfLfG\nSadCWgxMdTLcNBJcn0jiCCne8whg2wLPKnW+TK5yp3pE37G5FFqaSvGIqjp3y+N1HDSqrBhh1owg\nZ62DycVy1vIOnq7lT/nPUmvcqUxH6AVlH/fLgwFC3wG7N4hbFAWBJ9XZvRlaZp+0Gp0i1JtGgmuu\nJJU7hQKGptJzbB5WZhcw/vHx7hsn1POixLeH910VnePdwZxQvwKvY/n40DzUPxReh1D/IhL9ptbx\ny+CHWMe16ldYdgBNbNFxWSHCcoqs+XxqfgeFJ61DQpLBqp7i1HxOSIpy2JkmOC3HZMJiO5UzDVCz\nuxy77BFL6jqtnsyqbxvLadPoV4krKaqubGwfPk76XjW6Y3u/awExCAwIjYBAQkmiiQFUUcd2RCRU\nDnsWz7pd4IxNv8iLYTttRZA5cqVnbPiXeNFyWzHGCnRA0j0dDVf1FPfqz1nRFwmIIR7X8pSHFoIN\nYYHS0C4TVgweuYoG3Qp0TA16CgpX/DGOWkUWtQUkFI4bdYpthzwNLvoNHroIc9IX4mwYJycADVdL\nbVkQybqSNQSgPnGPSkh+Sr3xZ0Kyzs9y4/Ob0qKshRKo7TJ77UHXwaDk495Ec5Rlf4Q75RPcF0FK\nC3K7dEbfcfgqe8L5UJye0OVwhh9604hzbeKpR67dxBA0grKPumsbt4NJ7penyWvXEllQ/LR6XsX5\nfDDJdZeX/km1zK8urmA6PXYK0wQ8quo8GhLwlYUwJ67GMw3T+9Sj1bP4JJDGdCxu5mdbRK7nTqh0\nO0R80wOO7wrbtuf2jbeEufY1x5vCnFC/Aq8TmzdXqL8bftnjNkmiE4nETBL9IaLv9PmPpf9AuVci\nqcQISAqNfhWfoLPfmS46jMgL7A0j4mr9JvcaTS74LxCQFPLDzOqXiEkpTmyvvzkohTjoeFM7EkqC\n466XiPnlMI9cXQkFBBqWiUKagKThE2UkU6An9VEVGYSB3cO0+6xrF7AdEBCpW30i0ir1XptGv8u9\nWpH60POsiSqOI9K2B6QsoUZ57iLMW8Yyj1w50LIwvs0FZb+no+Gqf2nUEnxJS2DbEjpxHlTLfBwO\nj8i0Lqqc2GOVe11PcHvYsS8yQa6XtAWalsmqkUQTNfbrVY47JofNMz6PrLLfHhBQEYGSNVZmM3qU\nuy5y/VE4w53KiefvW2Xv+zvlE9fnw+y2vH7jyejCsKLzJ2eD7U5pYVaNIL1ulzum93xHVYODppfI\nLmkRThrj7X1SK/HlQgZL7pHtjJVfTZJ5XPUuD+BKeJHruRMuhBfoOeVRIaX7/LiRb7VxkFFFyePt\nLrSnu4HeL5a4EI3OXM6mESc/zOuOSSFOhpaQmOrn0Qwi/7xaZSUYnLmsiKjysJTnX+0/5B9e+Gzm\nPN8FjuPMFeo55njPMf8GvwKyLL83KR8fCnn/NoTaNE2Ojo5G6RyO44wKC1dWVv5KMv0uZF2/ieU/\nYZdyb/B4O2cVafR8ROUkSXWVrt2d+kxIjk9ZBV+0szxuVljxbSO5xtaq6GcScTXlSe0ACExE2AGU\nTK9auawtkTOL5Mwqz9tZHjaPObRqPOicsVM/Yqd2RM0S2akN/n2nfkS7L/K4dcJeO0/RarCipUdk\nGmDdnxmRaYCEz0uk6i5v9YIS5mnTrUAv0hsWA8qCRKvX5WJgi5CYRCXK1+UDcmYdRZA4bI0VynNG\nmi4DC5ghaTxxFR+u6gksp0/SF+aT0BbVrk21K3KzlKPVg+Oh9SMoazyuuzooqjGy5piIRhX/6AhL\ngki+Myavmqiw3xzbGQZqtde+EFUNzxm6Ek5PpXG4H29nO02e1qs8aDS5HFgiowxI5KIa4G7Z+wQh\nKmvslLy+eAE4bbXYyeX4PLI60rIvh9JUJxrBCMBZc7A/u9USq1oCCYGEanCvPO2pPheM86JeYa9e\n5SNX4eFmIMaL+rQiLgkiQm92lnTBlRJyK3fGin8Qj7dmxGdGQJa7Xez+tA0KICUbOAj8i+f3Zr7/\nXTGPzXs7cJgXJb5rr/cZc0L9CrwvRYkfmho+a19ekuhbt25x7969X5pEu/EhHC/bsdkRbnimVXp1\ncmafbn/6K62JOi9aR1PTV7Q1yr06txuHOCRY9m3hFwMcTRQjSkicTijRquBjb6KIcNm3RGEi3WOy\nM92KtkSZsW1BERSPnxmgNlGM2JmIhHMXF/pEhb3meDtW9BTHLrtHWouNIgUHLcGzLPribAfOcU7f\n5na1wPXSEaedGjlXrvN2MEN5qB4rgsRh20WuA4u0hhaVNT2J44jE5CR79TYtS+BBLYfl2MTVgMf/\nfC6QHLURV0WJrGs/No0491xFjFfDGU474+25HE5TchUDDt4fK+abgfgo8g4G6nfV9JLaK+FFdifa\na28YcVr9HjulHC+abc7706SkwBTRTMtBehMiwdVImsNmFQeBr7InXAku45eUKWV7sP2LHLqm3y3m\nWJciZPToqHGKGwFx/J2+lj3mUigFQFieHuwBbAXiXDs7YTPgzTpf8Ud4Vh2r9jYQFgdJHqXW7FqK\n7VCCWmv2vb89zKXerRa5U5weCHxXvI6Hek7EXwMO4Ajz17v0eo8xJ9SvwOvkUM8J9XeD+4fBNE2O\nj4+5desWd+/exXEcLl269J1I9A+N7/uc3G3fpipMk5aEssTdxgmrvm3P9JS6gjnRkVBAoGiOl1Gw\nqtxpnBKRzpNUlhFcN7ZlbdWT5zyYtkx3wvcsTzVhCbLX8tpPJtMl1vUMLVfzmYwvxYkr8m1RjXHg\nas6ypqc5dbX53vQv07LHxMgvjX2tCjIvmicICKzoi3wUvEjPDvC43uBa6YgjT/RcZlRgOMh5HpPV\ni8FlKkPVW5dU2n2TK8FNgkIMTQjxdfGIw1aFuBrwNFNZ9kexhlnQC6rBg+qY+F8JZai4tlsSxrdi\nXVLYa4wtE2FF51F1PKAxJJUnda+lQpq4lX8czXDQGu+fiDDlt05qAW5NqM6tXo/r5SIfBTLEh+Q1\nLKo8bE4X+022/b5ZOOOjwAqtGc1TrN709+FZqwm96Z+giKpzpzQeFDkInNU6JHyGp2OiG9lma9DM\npecdwCV909aNnVyWj0JpntRmFzBKjsRupczWBDkPyioH7fFg702q1HOF+u3Bceavd+n1PmNOqF+B\nuUL9w6Pf71Mul0ck2rZtLl26xBdffMHKygqa9vpFQO/78bIdm582/mRquohItlvBxuFu44CUeh6f\n4EMWZI5nNKNY9q2Qt7x+WwmJZ60s95t5HCvGmnYeVVBHaqwbJctLsENSkL22t7gx5UvSd5kQglKA\n522vUt7oef2wuuQ9xyHZS4hU0Uva3S2/I0qQJ8OEDp+gsCamSWsZBCfKvWqFp83ySPW9EFjiuDMm\nVE1XkdzF4DJnQ3ItCyKnnTLLWpxV4pzzb7BTKnC9eETX7ntI8pK+MCLQi1qYO5Xxvq76F+gOuzgG\nZB9P6jl8gsSyL8KvLGxiSDpXQ2tcMJb5KLCOYOtoBHB6Ghl1kVLbxjQlnJ7KOf8yiuNjTUtyOZjh\nr8fPY0g6F0MpgqKCJsrsN73n9pNoZmrakhaeUp39kg8HuFXMUmz3+TyyyqIUnPJifxRZ5MVEPrQA\n7NfqhAgQU8dK8mYgxsMZGdAbSpBr2TM+Ci96pp8LTGda5zpNzvnTtGckL20FY+zXB+f1cbnEljKw\nIokIPKtM20NswBACU9Nh8OTgcXkwWAmIuue9Df8C7lTqf3e4S+c7JkFNbdM85ePtwZm/3qnXe4x5\nUeIr8L4UJb7vBNE0zVFhYafTwTAMLl269EbI89vC93lObtRuUOxNF1Ktaus8dHmFd5tHxJUF1rUY\nd5uPp+a37OntW9NXeNQYkMAyLcq1FivqChIKKRWy5kDNzPiWPbnNMCDPld64GFFC4qjtJVFpX5Jq\n68Xo7yVfypPGEZQMnrsUbb+oef6OKMFRJjTApj8zel9AYF3P0Pb1qFkmzxtFLJqUh4OJC4ElT9OV\nvquL4DkjzdPmWKmtDwsR074oy3qKJ7UCu50aPiTU6nhwsW7E2akMCPyiFuaOy94R9wVGsXlpLcxe\no8DFYBpNVNFQeVQrUOz2aJot2j2Z42HyRNxn8Ngs0bEHRG3FH2FnWIjoIBBVDW4VTzCHXS0VUSKm\nBDhxtff+lYUMXWxW9RhnnSols8VBw0ss14wot4pedfpCKM698lgJN+0++7U6kgWrvhAHLtW+1pn2\n6V+NptnJDz6fMYIkNZFcp4EhTj9NEhHImyY28LRUIxMMc9yqIgsiz6vTJBjgoFzjcjjFg6rXfhSW\ndGD8mXy7h6KInAsmuJufHX23X6qS1oOctr257BfDCXbOBtfMnXyOaFCnbA6eoHQtL8lvWCZ/fPSU\n/2b94sx1/DKYK9RvC++/b3eOdwfzIfEr8LqWjx8K72NE36Sdo9/vc+nSJdbX14lEIt8rmX6fByA9\np8+/zv6MRXnJM11EJG82puYvWTWeNOtsaBc8baZTaoqD7nTHt5o17SlVJB9360c8blRRWWTNt40u\nhDzLkwWJ446X5KzpK9T748fjkiBxMtF6XBe95zmjpei52p+v6mlMZ6wApn0J7OG5kwSRgGywHdhi\nVdtAJs6N8hnXSkc8qudY0xKUnbH6bbvO+bo/ybPmbP/r5eAKYSVEQk6x32jzsJLnZOhVXpHC1HuD\nYzTpj46pwdE6Now4p60KV0PLXA2usSBFOGv22CkUeFGr8xf5A846DRwErgRSIzINkNEjIzINEJB8\nuMc+KS04ItMAH0fSHjIdFlV2SlluFc64lj3loNri0+Aaa3qMNWNcvKmLvimftDPjNpLWQhx2muzV\nWnwRXUUWRC4FEuzN8EnXXBaQ42Yd25S4FErN9BpfiaYoDJ8KNCwTx5LQJYUr4UXynekUj/OhQTFi\nvt5Gl8a2IV1SuF/ykuaiZfJRKI3yCr1oM7jAXr1G2heZek9wNXPp2TZbRhwAQ1Z5Upvu2Pgv9+7P\nXMcvi7lC/RbxthXZ+WuuUH/oeB2F+ofE+0IQ3Uq0bdskEokpJfqHGIi8zykfPyt9zXE3iyyIrEkp\nCuKAxK5o66NGK26s6as8bByTs8qsaSuIYpOiVUQVDMDrwV32ZXje8pLikBzkmcuikTNr9ByRfLdG\nQAqzrMfwSaAKMo+aTz2fbfW9NpF1fZknroYehqh77B+SIHHsUrRFRM66A0uGLEjElSi2I7JtnKNi\ndTH7Nn9eOBjdfz8OrXNnGGMH0HbZVFb1hEeB1lyts9f9SXLdKh8F16l0TfKtHvvDXO1Pwivcrg6O\na0DycdR3E98oheEgZs0f50k9y8XgEj5BoW31OWlWOGmecSGY5LGrEDClBckO24wbosIzlzf5fDDB\n7fIxL7Ofr0bS3C2Pt/tiKMlt199RVefBhKc4KevsuooV4z4/3+ROaA9J+kYwzkYoPNXE5eNImtsl\nL/FdNSLcKgzWZwNfn52wHUnMJH4XjRgPql7CedpqshWIseBrUuh6SXLH8rb0PqjX+Dy5SOMVNruA\nNFC5z1pNfpxe4kZ5cF4uhZNcP5sm7IfVJiaz7RgLih+ospPNshDyUxpumybJPCp5vxd75RqSIHA+\nGOdGc9q//XXuiNNmjbQRmrmub4u5Qj3HHO8/5oT6FXidxi4/JN5lQv1tSLQb7/K+vG10bZN/k/sP\nAPQcm+e9Gh+HznPQeTYidm4ICKNH1QD7nTyyIPFx4ApP29NNX2bdChbVBCVrzzMtrkTJdWvU+x0e\nNo6H8yWpW36WtAghWcOQVFr9Lsu+JTp2m7bdoTNBsFNSnKf9IyRBQhNVVrQlalaLmLqAJMhogkbB\nbGMIGlmzzqKywLXymJBfCa7htAfkR0Tk1OWH3jIWPQq0IY0tBxktxqPGMYbkY82/iODIPG5XOWud\ncCm0xP7QFqIIEieuosUtI8ntYSfEQV70ITE1QEZbwLFFXpgNbndyfBROj9p1iwh0+2PiuB1KenKl\nV9QgD4fbLSJg2TbOkEz7RJlca3xeZUGk0fMewzVjgZvF8fIuhOI8rngJ4Yo/ws32mIQfNmpYfYee\nKfFlbJG9VomK2Z6pCockDdupeab5JZXn5QqXw0keVMcEc5YFJKkZfJU9YskfJKzYoyi988HYyKfs\nRrVjEp3RLCWiatxxNWy5cXbCRmyBF40S5fb0egGW9BCSKFLqegeakiDwrDwg/pZts+mPjQj1xVCS\nm2feQWW23eTTdIr+K6zSIgL/z94zfv3K62VS27aNosyO/XsV5vfKNwCHueVjjjeGd+YZ0x/8wR/w\n6aefel6iKPKHf/iHb2V7Xqf1+A+JH5KEfpv1WJbFyckJOzs7IzvHxYsX+eKLL1hdXf2Fdo73WT3+\nvtfxR/mfUe2N/Z4OcLt2xKb2MSVr+vH7mrbKmelNMeg5fWo9B5woa9raaHpCifNiMo0Dmb0Jn7Qu\n+njW8kblrWqLHHULWE6f/XaRu/Vjit0+N6tn3KuXeNpsIzoJ7tYqNEw/HSuIZYZ42mxSN3WKHYXj\nlsNh0+R+rcKtSo5vyicctBs8aJxx0q3hOJB3RdqFZT+P6uPtvRjMjLoUgjcxI61FeTj0heuSSkZL\nsKWvUu0KFDsW10uH9J0BjXUXJl4JZ8h3B8d7QTV4VB+Q0iUtwooWY1FNcVTv0jDhWvGYrt1HFkRP\ntN0n0Qx7QwVaEkTarvSLDWOBR65BwKfRZV40xn9fjaTJduueZblj5y6EEtwqjo+BJAh0e17V93wo\nzq2i93x9urDEYaNGq2fxdfaEUtPkbyS26Ewkc2yHEp6kDRiQ+lyrRdXs8KBQ5MvY8nBbFznqThPy\nFSNMz3Y4aNSIK0E0aTBo800Ulr5EUNK4k82zanjzzc8HE57iyb4D9EQ2Ags8rU7bMADKnS53cnmi\nqrew8GI4SbE7tjY9KBQx5AGR7c1IIgHo9wQezhgAAFwIx/jnu69v+3gdhXqubL8m3rbFYf6aWz7e\nNH7t136NX/u1Xxv9/du//dv87u/+Ln/v7/29t7I9iqLQ7c5WP94l/FCE+uV6Zt28LcsaKdH9fp9E\nIsH29ja6rs9Y0l+9ju8T76MKXrXq/GHhp1PTZUHiUSNPXFmlYWdH8XMCAtXe9LUbloPsNo/oOTYF\ns8a6voIu91EEDQdvIViSGPu2t6hwVctw39WBEECaiMGLyEF2m15yrg2L0nqOTc+x2ZCSPOuNl72u\np3jRGpO3VT3Bnsv+cd5Y4rFrmWv+FDvV8Xa8LCIEWNHjnuLDpBomqgTp9qHWtfjT3PPRPdvnsn5c\nDmW4P8yB1iWVvebYl3s+sEjLtNivVpBsgz852wcGBLMyQaBvlIYWEdnHs7qbMI/fW1D9JLUQsgWa\nqqErKu1en4tGGtPuEZQ1TmtNltQFJEEg6tOpd3p8HMogSyKiMDj3q0afk3YNy+7z2UKG63kvwbb6\n/ZHiDQOl92UL7pfwyyrXTo+xHJsfxVe4UznBtPuYvWlD9aexNN/kBsfWduDa6Sk/XlyZ2bkwIvu4\nnR8r408qJT6OJ6n329wtnjHZ1z6pGdzJZ+k7DljSqDuiLIg8r0yT5qeVMn8zs8ZTpgeTKVkbpXtc\nNdJ8Y45VagVvw5a6afIriUUe1/M8LM0uYJT6MhFVn2qkA+AXVR5Uz7hbyHI1npr5+W+DuYf6bWI+\nIJnjzeCd/Abv7u7yG7/xG/zO7/zOW7vJ+Hy+ueXjF6zHrUTfuXOHXq/H9vb2SIn+Zcn0rHW8z3iT\n+/EH2T+aynwG2NDXKFo1nrbO6NkBUurgB31NW+W0O62oJZUEPVfl2V47T7bTo9KFFW3cjU5EpOh4\nycOg8NBLOOJKhKcTynbaF/dE5cWUEE8mCHbN9hY/KhOtp7UJBbPj2nddVHnaGCvnFwJLHHbG+xqQ\nNaJKgAtahk1xiW+Kp3xTPONu5YyQqo+2bMtIjlRnSRCouFqAXwym8YkKn4TWuWSs87PTA64VT8n1\n2liuFtifRDOjgsIF1e/Jij4fTNLum2wF4vxoYQ3bHrQrVxyNZS3Bn58e8aBR42YpR8Psc6Nwyr1y\njifVEg3LYr9Z5aBR5UW9QrfncL+c52bhjGvZE/o9kT87PuJ5uUbPFPgouITdE/hsYYnwcJDw2UJm\nqqPgZjBGfcI2cj4Uo2aZtHs9vj47ISwa/BfJTZ5NFOD5RInnM9Rg03IIiBo+0UtUz4fjTAq+dwo5\nNvwxD8l/iTUjOiDTwF6tyseRQeHtR9EUhRl2FENWeJQtEVKmE0TCrjz0nVyWuGYMP6NyvzhNmvfL\nNS4EE1NRfS/h9GBNn1HACOyVBuf/3zzfnfnZb4vvqlDP1ek3gLetyM5fH4xC/c4Rasuy+Af/4B/w\nT/7JP2F1dfWtbcf7ZPn4IVI+BEHANM0Rib59+zaWZb02iZ7Eh6BQv8kfub3WKUcTCRowtGS4WmMX\nzDovmnW29EHR3iRCcoDd5nS3xLgS42k7y/16gbCUZkvfYENboUHbM9+GvkKl5yXZC0rEc//TRZ+n\n+A8gqS54Wpaf8y+Rt8dWhpQa8RDupBpm19X5cENPse9WqwNLNPpjQm7ZfUQEVvUkn4fOU2pbnDS7\n7NTydG2whud6WY9yz5XKIbpI3ZXQMsftCguKwefhDXLNDnu1Fl/lj+n2+qM0jC0lwovmgLxHJ5qt\nrBpRREHgo3Cav7awSbHVxbREHpXLNM0+1/InPKmV8EsKj12ZzJeCcU9L789jGR5Xx+9/urDkibLL\n+EPsFMbz92wHxxa4njvlRjZLuWtzJbCI5EisBcYk8EIozs28d2CzEYxyI++1hFS6Xe7mCnwWXfKQ\n1UuBGKWu95qQBZF8o8ntfJYNIzZK34j7/NyekewRlVR+unfAZxFv7nRAUblX9Crn35yesB1K0OzO\nLgy/FEmSbTXZDsY901VR4sjVatzs26z5F4BBJJ7b0/4SZ60Wkj271bhfVnhYKPCsWPFcMwDnQrFR\nW/N/93yX/mvch+cK9VvE2yaQ89ecUH9f+Mf/+B9z5coV/v7f//tvdTvel6JEURS/V4L4UoluNBrc\nu3dvRKK//PJL1tbW3giJfokPJeXjTeJ/P/q33KufsaVveKYn7Dj1vpfg9BybhiUhEiAoeRtXpJQk\nluMlE2E54LFSHHZK7NROybZtUvYiGd8iwvC/ounN6w3JBrsT6vS6vuRJ1zAkjadNL2GbbCSyoIZw\nK5YxNeyJc5NdfmhFkNhvDRTGhBri89A5FEFDcoI8qlaomH1etMo4CCSVAE/NsRoZVsbq9HZwkSfN\nAUkNyhqqoLChLXHaMGlb8HToZb4USnG/NiCGfkkh62pCsxZYoGv32A6m+M9jm5TaXSrtHneKeQ6b\nDZ7WS1i2zdXIoieZY0kPj4oLdUEi2xkr4wnN4JErtSOiajx3KcUCgwJL03UMP11Ic6fkHXA5tsDP\nT4/YK9dY0xf4UWwZEdFznAVARprqTPbxwiL5doubuTMUW+FyJEFYVnk0o6vgJ7FFjpqD6+JhscCy\nFsaQFdYDUcz+NLncjCSwgdvZPKuqMZp+KZykNZGoZDug9GUO6zVmIdcYHLcbp6cez/WVSJKm7b3O\nd84GKnW1M/t+ntD8lGqz7X3b4Thm36bYanPe8KrUEXl87yt0Wnx1Nj1g/baYp3y8JTjw1lttz1/e\n13uMd4pQ//SnP+X3f//3+c3f/M23vSkoivLeKNRvmiC+JNG3b98eKdGGYfDJJ5+8cRLtxvtGdl+F\nN7Uff166zcPmPjYOt+vHnPNvARCSAhw40wRHFiTOujV2m6fULZEtfR0Ye6cnkVITUyT7nH+ZA7PA\nk16Zh/UyCgtc8V/GL/k91owlX9KTGS0LEodt7+P0NX2Rrqvl+YqW4Hl7TP4icoDHDXfjFsPz97IW\n40nrFBGBJd8Cn4TOkVQTBIUY+40O2U6XnfIpVatDRo9yv+bKhVaMEYFe98e5XxsQe4FBU5croWXO\nGyus+jL8WfaQB9U8S/7IMLZuUETYcCn924Ekdcckouj8eGEN03IQbJXHlTJPaxWe1cvYDKwWz4fe\naUNWOeuMByKfRpe4U3a1UVeDFF1JLElfgGZ/fLxWjegoGQPgi9gyj6uuQYKqjToEvsQ5X5B7LlK+\nV6vg9AWelSp8sZAh4x/Eu30eW+JJ1WsLSvuD3HL5ngudFg8KRS5qUQ+Jh0HE3IuJLoS75RLnjSRP\nZhTwJXWD27nBvttAzXQICTKKIPKkOLvgT3KkqS6KAJciCQ5qA6JtOxB05Zm3zWkF2rJtzvnj7JZn\ntxrfCCywWyxxLrQw9Z67VlOwvD/2R1XvIPPfvobtY65QzzHH+493piixXC7z67/+6/ze7/0ewWDw\nr/7A94zXaT3+Ej+E6vCmyNvLwsJ8Po9lWSQSCS5cuDAiz5VK5YOxY7wPpL3V7/B/HHsTbnaWBnyW\nAAAgAElEQVRqh1wNbuL0bXJME+Qt/yp364NouUa/w+3aCeeNVcKyj3zXG5UXlgNTxYMw3dylYDZQ\nqXLYKaIKKqv+NFFloJJG5CCVYfLIln+Z+/Vx8ZdPVNhveVMitImOeRktRrl+4Po7TsfOsqSEMCQd\nTdSwbZXDVpU9q02pUxhFBJ4LJHnSGJPzqOLnuD1Qc5f1KI9cmdo+SUYWRM4FFolIAb4qHNHuW4QV\nzaOYhxSNo2FxpruIcDMQB0cgLQQ57XQ4EhrsNwfzfRlb4ZviYL60HuSuK8v5YijBjdLgGEdVnRf1\nwfYposSVcJKzepXzgQVUWSGm+qmYHT6OprEdh7CqcdyskdAMyt02KT0wLOYbYyMQZcc1LaJqnE3Y\nMjJGiJ38GaZt8032FEGAX11cmbJvAMRUPyd1r61nIxjlWj7P+XCUrD1I+AC4Gl3k2tn09SPaAmlf\nmE6/SNelFK/6I+RqY7Je6XZZ9mmci4a4kZu2NKV0g7u5HDYOF5Ixdl3kX5342bqfz3NlMUnV6ryy\nsLBvCcR8OsUZ+/1S7Q5OtBoPKioP82Mrym6lSjjko9rrshGI8iLvVc//eP8Z/8tf+69Qpdn2kV+E\nuUL99vAe/BzM8Z7gnSHUv/Vbv0Uul+Mf/aN/5Jn+k5/85K3YP163sctLb7P0HW6uv+x6vitBtCyL\nQqFALpfDsizi8Tjnz5/H7/e/0fV8W7wvZPevwpvYj3+2/4dTnmWAB/kSvR7ImoSguNS4vsi98vHU\nN3qvWqFDn4ycpi4WsBhc0yk1Qd488Mx7zr/Mo4bXorHlX2J3WARoOn2eNnNcCa5xe5iIEZBCJH1B\nen2Vi/5NEBxsp48h6xTNGhEniIODLvpo9y029TSWaaFJPnAkLhobWLZN33Z4XKtSthzy7SoZTeC4\nMyaLV0PL3KmOCZzbz7qiL3CvNn4vpOgctctICFwNr9LrA30/90slIkqH9lAF3gokuDlsEHIlnOZ+\ndUD4oopOqdvi8+gq+XYboS9xbWjbcBPoFX+EndLL1ucDW8nJMDv6SjhFyWzxaTSDLIgojsRpq4Ft\niTi2w4tKjVK3A60OGX+Ip8UK7WHYcVIzeGFVRwWEsigQEfwEDJ2AOvApq5LEtdyE5SYQYacwPmYD\ni4iK6fKsOw50TJtnhQpfLmZ4Wi8OiPzCIrfzXmIrALIj4SCwW62QNgxCho9Wz+JeYZoErwTC7OTO\nsB24mkzysJal59gkdYOd3LSn+rTbYY3E1HQYNJV5ScA7bRtFFLFse0C089PrbrYt0oEQh0x/ZyRB\n4HmhzFY8RrHrHYhuBCPs5Qcq/92zLAthfTTYuBBKcKM23m7bgTUtxJ1GnrjP4AVeQt2wTP70aI+/\ns7Y1c59+EeYK9VvE+/+TM8c7gneGUP/kJz/hJz/5ydvejBFep/U4fP/e5pf4ZcnbL0OiX2c93wUf\nkof626yj3u5y6/CUWwdnHBarFJpNqm2Tjq9K4PNDJg+H40DD7CP4+3S6MpopoRgD0tWuakiRaR9o\nvS4ghmwO+kVoi8hdP4pucbd3gDDx+12fUcw4WcSliSrPm2PVrtHvsiImuVEZExVZkAhIOmVXcsbl\nQIaH9bF6eFk3uOXKkv44tErZGquHEcXP8bCxiiJInLjac18IpNh1qdMBeax8bxoJ+rbDBd8SzxsV\nTpudURb0FwsrI9V51R9lZ0imVVGi1G2Q9AVZ9kfBFvi6cARU+Hwhw80haY5LGndKgwGHJAj4JGmU\nmvIr8TW6/T6fR5Zp9SxOak0K3TZQ44v4El/nx+r9xwuL3Bkq2bIgokkK7X59tNwFn86j9vjYfRbL\ncN1FnpO6Qcu0kB2JC+E4hqqiiCJ/eeYdIH2ZyHAt6x0gXV1IjcjtN6enhFSVH8eX2Z9IBAH4PL7E\nzbOxqnzabBIwFT5bTPOzk/2p+aOKzpEz2I+7uRxfpNPcKB2zMqFOj86VL8BfHB7yUTrJPVfmtSHJ\n3M2OiexBrcaPl5e4Vjhi1YiSrU6rzKeNBnGfMTUd4HI0yf2TPO0zi5DfR811nSfUAHtDYtyzHbYC\nMUpD0t3pTlv+8o2BQn9SnSbuAP/uxe53ItTzlI+3iPfctzvHu4N3hlC/a3hdy8cPRdyKZpf9Qo5m\npUil08Gybbr9PoIoYMgKEc1HWFbRTQup0cTu9b41iXbjXSKir4O3NTDIVhv8bHePncMsJ5Ua5VaH\npmWB4+AgYPV7gICqiMjnS1hNBTXgHdB1yxpCaPAjL/gcOrZDt6jj85uIwQ6Teaq9poIQ7I6nqw49\ntUe7pCHLDmqogyANjkWvqnEcnGhHriY9CRsAW0Z61DEQBkpxsdv0zHMxsMRdl5855QvzoD4mdn5B\n4ZnLbx2UNR65ovAyWoT7rvkvBZe47UrocEf/bRoJ9lpFLgcz4Eg0zB7364Nt3tZiPH5FKocuK9hA\nRNH5KLzEcavOk2qBoBjgUW1A7qKqzpPaYDsFwC/KFIYJI78SX6Xbt7ka8tGy+tw4O6UztDh8spAe\nkmlYNkI8cJHFLxMZvnGlbXwcTXHTZdv4Ir7kUZ4vRRKe+UVBIKrqZJuDY36/mCelG7S6Fqt6BL9t\nU5FsZFGcUpwDispZw+v7rZkmtiUQFnVkQ+KoOSCXQUXlRXk6Ji/lD/DVwRGfptLsFMckeTsS527e\na/G5cXrGX19Z4+cn0/YkURAod01A4LjUYME3VoavLCxy/cQ7ENg5zbIejfC4MNvScWUhyVG5PlKy\n3ZD6g+u/ZfX4UTg9HCwNuyYWvb7qF8UKsiASUn08nLGu02aLH68tc+1weoAAg9bo3wVzhfrtQZgr\n1HO8IcwJ9SvwurF53xdxe1Yu8+dHh+zXKvyHgz3K3Q6yIPBRIsnO8Af0SjzBs0qZdr/HiqZTtLq0\n7D6fxZO07T7bZp1ftU2uxJNshKbzVX/I/fmh1/FD4fFZmX9+d48HJ3lOa3XqHRNBFEaqswAgiNg4\n9O3BAAhHgOUScsTE6gE1H2pooKbZpoit9zxVxIIoQKhPo+BHi3aQJC+R6PUkRG1iWkvCCVn0RAGz\nqyK1RHyGRV/qM2lO2itWEFyin09QeN70kowLgcyo4A+GedVtr9oZU4KcdsaPx5flCI/NMVHf8CfZ\ncZH0kOzneOhl9okyB60x6bkUXOJh/YSUL8SiFqXfE2h0atxoDdp+Px6SaZ8ok3Up5OuBGLfKAyL1\nSSQDCFwIpCl3OvzF2SGm08cnyh4P+aoR5XZ5sG+fR5aoNJt8FlnG6jn8/OSEnmMjCyJrgciITH8R\ny/BN4WS4DRKyII2sHBvBKHdcJPScFuJm8ZSXA55LkYSnOUvUp5NtNz0ezy/iS1zLehu4RFWdXLNF\noz4YgCmiyGeJJaKKn3vlHPZwAduhODdzXiJ4PhzjRvYExwGfJPGjxUGDmO1wghtnXlIrAJItYvUd\n7pxm+WJpiRuFEwTAfkWXwVarz8exFLcKXsvHJ7FFbp0OplW6Ha6EEpS6bXySxLPSdPGg2beJWgp7\n5uzUj1rLJNto8sVq2nMMY5rO/dz4WnuSK+NTJLr9PpciCe6feq/nQqvNJ8tJVEHmemU2afb1X90i\n/G+vbLzyvV+EuYf6LeEDiGqb493BnFC/Aq8bmyeK4hvLhy612/yr3V0eFPL88f6L0fSPk0kaponl\n2OzksnyRWuRG7oz7hTyLqg+fKHLYaZMJBAjjcKuQ46NYgv/34Dl/tP+MrcgCxU6b/3ptix+llvjV\nxcwrC2o+FEL9fa3jtFrjX37zgDtHeY5KZTq9PoIo4gCiAKbdxzId/D6Ztt3D7oMsCKiqRMvugwCK\nYRJYHhAGUYae2KdX9uGPdmnXfUjhaQuSWVcQFnq0TQWlBb6h7aNTVRED0/PbloKgDaaLioMT7tOs\najg4SB0bX9hEkBzMiooU8g4oWyUJJzJ+3P7t1ekxwQlIGnvWmDCFZZ2H9TFxWdVjPHT5uC8Gltip\nHhKQfKz4Y2iixoIUZb9eJyiGuVsZWyfcbb+3/XHuDFXvTSPG/copH4WXkJF5US1TGM57OZzipD04\n5h9H01wvDkl3NM1Rq8IXC8vIyHyTO8K0HXztQYHgS5X8s/gS1/ODz6waEe65IuyuRhe5UTgm5tOJ\n+HQSPoOwoiGJIooo0qg1+DyaRpKkQTihAJcjSVo9i4rZYVEP8LDssslEEx7rB8AXiSWuTxDfT+Np\nrp0M5ssEQ6SCBn3HniLTqijRsXojwt7t9/nm+JS/sbzGnfy05/mzRJqbQxLsOHDz+JQvlzP0HZud\ns2lf83oowk72DEUU2YpFeTZsDCMJwqgQ8CXu5/N8mcmAADdOpomsKAhkW102fQbPJ665c+EFnuUG\ny36RL6MKIubw/GwFF/jGRYwrnQ5fJBe5XjhGcWbf66yuTXOi+ZAbuUprphIOfCe7B8wV6jnm+BAw\nJ9SvwJsoSnxd4nZSr/MvHj3k/7x3b+Rl/TSV5H6xgGXb3MnlWDUMSlaXes/iRvaMi6EIz5t1zswu\nMU3jXHjwQxZUVS5GY9wr5lkLhWn3LB6W8nyWWOSfPbzNnUKW//nn/5G/s7rJ313Z5MeLGUSXYvI+\nk93vYx1Wr8e/v/uEnz3a57BSo9Lq0O31kCQR27ExbRtNGpTO1XoWjgC6T8LqD9ucyGDbDu12DwTw\n6yL6pbLH1yyIAgRsmlkDcWHa3+zYYAsgAYLq0FPBLOvomokjTe+jVVcQgtbUMvqyjag59IGmqSK1\nJeiBYNqI6oA0OD0B2zA9phK75uMsMPY2K4I0Stp4iYUJdXrTSHC7Olaj1/xxdlwEXHvZHEQNkFL/\nf/beLDayLD/z+527x75HMEhmMvetMiszK6uqW8uMpAdrG4/saXsG8psNyA+2DAiGXyRDDwMvgAAZ\ngmF7HkaAYD/YGrk1FkYwPC1PQ1t3Vy+V+165J5NJBiMY+3r344cbGWSQLHV1dU5v5gckkMF774kb\nN5b7ne98/++fIQgFVb3E6qjDsqnzrVbkE1aFMpdUsbPtd9lK8cmogQBOpyskFIsNOeZms877heUZ\nmb6cX+Tm1BN9LJnnRmudipXkSKJAazJma2jTHtVZSWRxw+h6XsgvcK0ZkdXzucqMTKd0k3IsSclK\nIqQgruo87rZQQo3WyKFqZvlWbdraXNMoWylW+33o9zEUlZVkhqe97YnGB+Ul7rfrHE/kyZgWpqYy\n9FxUoczI/Dv5Mtd2eaRXjDhXa+u8Ub3XBwNszydvxrhcXOBWc3MmyF0sLnC1Nn+8riistfskhEkh\nHedFP1opSGo6L9q7fdaCe5sNrlQW2Q9J1UDKSF0eDD1ypkXHsblYXODGxl7C/nirxXI6ve9Y5wtl\n7m00qKaSe8hsWt320LcnNqcyCT5xBwjgdWevol3rDMkYJve3tvZsA+iOnei7tw8OJVI8aba5cKjE\n7db8JOJUtsCRz7jitxsHHuofFn78s48P8KODA0L9KXhbKR+fBwPH5Z9fv87/ef8BhqpwNJflk2lW\n6616g5O5HJvjIQPP49VoRF43uJAvYmg6UkrOaSaO9Fnr9Xk96XGltMCNxiav3C4/U1mmbo/JxyxO\nZQsMPJefXljm4/o6p3IFvrL6lLvNBm4Y8EuHj/OlE6dZiKd+YjzU3w/awzH/17UHfPx8ndpgSM92\nUBWBpirYYYAUksAPCJAECgw9DxFC3NQZux62H6CoUYbv2PUJNGDKBdQjbbTEXotR6AscS6L2YuhJ\nG0Xbvj5Oz0TNzB+jJAP6bQtVlVimMyPoUkKI2BM87/UNlNR24aFQwQkVlLSPhwZ9gfAF0hdoCR9F\nDRDKGyIezBFsfRyjbW2rh0tWjoeDnTnTcT7ZUZxWNJI8HjZYsnJktDhJ1aLpTLBkirWBTSlrcGNa\n7GgpGmvjbbJ+MbvE9fbr6bgxHk390QI4mSzTVUa8GPUwsPj2lPQeSxa4MVWgc0aMZ9O86LKVZMHK\nIAOVZ/02Bc3jUa8NCC4XthXoE2aaa811BHA0lSepGbyXW2LLHpPTY1ytRa/teDrHrcHmLLv5w/LS\nzBctiLoW3t6RknGhUJ5Tjy+Xqlyd2jqedTuYqspyIsOzboeYpnEmmyVlmWyN5u0gBStOy3bZ6aUX\nwEIsyf2pH/hkvkCohmhC5douZRvgcrE68y9btsqlckTCT6Ry3NqHgF4sLPCtV2u8t1Tlxo4M63P5\nEvfr2/tvjcecKRYY+x6b/f0L+k5lC4xdH8HeVXh3WiBYGwx5/1CVj6e2jpSqc2eXOr4+tInFNY6l\n8jys7fVBbwyG/L0jh/laf29hJcDytFHM+i6/OUDRiLHOCBHsJWH/zsqxfcf7LDhQqH+I+NG95Rzg\nxwwHhPpT8P0S6s+b8vHVp8/5V48e8dHr6CbuhSFPm20uVyrcnOa1Pul0KFsWJ0s5JrbL2mDAk0aH\nc5USN+vRPmnD4Eg2x/3mFjfqdS6VKzzqtPjWxjoXSiWedrpMPJdLlSrfXovIdFI1uJivsDbqI4E/\ne/YJX9tY5Ugqy4dmkqqsfu7r8Vnwo5jy8WKrw59evcfd11tsDob4YYCmKoAgQOL4IUkhCEKJEBAz\ndeKagqIoqLpKz3axPY9T1QJSREVP48DHjKucLhVQFUHX7NCOB0jJnmQPb2CipH2k6WPbOoYaosV8\nQltFSe5DwF0FJRGCBpORiR6ClnZwdxFniMg61vzfZAjsjOOzJKELoQWBqiJdBeEpKBMVqUrUiY4k\nRCjQDz2UQEcRYOka2VgKI26iKSoqCik1xjBwGY4nuETdFl8P12nbQwRDVuKFWWvvkpnkXm8HQUsv\nzMh1Wrd43N8ma8eSBfqeQ0qLgVT4m9pLADKqyeNeVCinCYVAhrMujCdSRUIJPdshrVl8vRYp3+8X\nl2YK9LlseUamVxIZzEDwbnaRjWEfAmWmOH9QWp5ZMQpWnJ7rzMj05WJ1rsjwg9LynAf6SnFhjkyf\nzOS5vyuS7lyuzM1pMsfE93nW6bIYT/K81+V4Nk8+EeN5v03RjPFoNJ+A8UFliY93FPg9aUerVRdK\nJeKqzmhH55Jj6Rw3atvnYvsBtzfqXCkUub7VYHfR60Iiye36JiC4s1HnwkKFu606gv0TMj5ptvj5\nlRX+eu3lnm2qENT7YzYGA64cWuRaY/ucT2bzPG5sq/cP601ysUjtPlsoc3VXgeAoCHg/W8X19zZ5\neYPA/nSxY6M7YOL5+9o6Nvvj2TmkUyZ9d3vl6BdXTnzqmN8Nn0eh/lEWH36scHAZD/CWcECoPwXf\nr4f6eyVuA8flv//bb/D/Pn0OSK4sVbk+jawKQsmtWp138lkarsNKOsPTZpuHm02OZTOMpjeOW7U6\nlxYqPG636Lsu9xtbXKkucHdri1uNBovJJNWEyt2tLcrxOIvJJNfrNd4pFFkfDtiaKJTicToDmwvl\nMoGQ9Fyb++0tPrJf8Vf9Jr96/BS/eOg42r8FNeVHJZrvyWaTP732gNtrm3TGkZdSKOAFAbYXkI5p\nhEhKyTi6riKEIG0a+EieNtv07RBTVTiVLZKMmWyNxmiagqYoLKaT5BIxuhObO5sNFDMg+W4bRZNo\ndorAGs7Kzt2BDjt8zIol8QLwuyYooO5DqP2xjpKaJoFYEh9w+xb4oMtgjrB7Ax01PU86/L6Osss7\nHU40mO4nFIHUJJ4VIEyYHd3TCVPbx41Hkma4vay/YKbZdLZmBXKLRopn3fXZvex8epE7vY25/bec\nSMnM63Hudbe3HU+UuN3d4HSqQtFIcq9dp+lOMBWNvLHdnKOix3lsR6r25fwi93sNLueWSCgW36i/\nJJBwJlPiWisiuCvJ7KwxS9GME1d03i8sszUeI/2Qe6M+DKMYvOvTwsML+coshcNSNTK6ybNpu/DT\n2QJPey0KVhxTVVlJZqkNh6ykMgShJCXhYXt7YrAQT9KcjOe6En5YXuLjHUqyAM7kirPou2fdDs+6\nHT4oLxJIyaJhsTFtvnImV+Raba8KfSKb51tr65QTCVbyWR60t9AVhTCQBLu+f7qistGfcDm/wO0d\nBY4Q5WXX+9GKRCAlTxotThbypHVzX0uHqao8qG1F9o3WfCLIu8UFbm9EE4lH9RbFeJzmJCKvcWHM\n7TtyPa6Uqtzyajzb2ptEArDR7NEN9v/9PpLJ8u3VdY4t5Hjemz/+VLbAs83obxcOledyvZetOBvd\n6Jy8IORCpsy1rej6rqQynMkX932+z4LPq1AfWD7eAg4I9QHeEg4I9afgB+2h/qd//TX+6vnLN0dz\nY32Tk6kEzydjAinJWRaWblGWGi9aXfpOdLN42OpwLp/lxXDIxPe5vVlnIZlkKWXghyFhKHmvVEZT\nVbZGYxzP56cWltkcDfG9kJ+uLONInzPZAiFRu+FzxRJXN2tcLFV40e7x/kKVtFRYHfb53z+5yz+/\nd53/+Mwl/sGRk5+rK9jbumafF/s9x9N6iy9fvcf1lzUGrksYSrwgiBTomIHvB+TTcRRFsNbto6sK\nh9MZpIAnjTar3YB83OL9w4uMJhPGns/TZpux50fEW1VpTyasdnu4MqSSSnBEpBitrONNbRwj3Sbs\nG8STHgKBYigEzBNeoQqENHC9AOEGKMb2a/EH2oxM74TvqIhMgD8yUH0wUh6hp0wV7u0bcugJRGwX\nmbYVZNJH7NxvqCF2EHHpCcKYN7fP7ku81bIJE9t/jCv67D5mKOqcz/p4osjdHckhOanTZkxSNTis\nZ2h1+qihwcNOi8OJkOa0ffeF3ALXppaOs8kiD4dNdCVqX+16EteFV/0BE79NICGtm7ScERKIqTqm\nonEuW0GGMHJ9rtajCe3lwgI3p9F2H5SWZikSx1I51gd9jqXyZA2TuKYzcDxOpwpYqs5qt8vQ8wGf\nC8UyV19vzAjruXyJR+0tAhl1clxJZ4hrOmpMQckIhr5LSjf4eBch/qCyuOdvV8qLXNuhLJ8tFrEM\njVfdHuGu9+FKpTpToRujEY3RkA+XlhACPl7fxwJSrnJ1fYO6bXOpusCdVtSs5d1ihbv1eVLsBAHD\nkYti7U/y3i1WuLZewwskeStG247eN1UImsPtgtKR63E8n6M5GXMolZ5mUs+Peau2yRcOL/PR6t5I\nPoCiYZFyBY+8vd+HkhHnFT1yqrVnW0bf/pvvzqvTGcVgg+1ixdF4+/7wi5+zGPENDlI+fkiQHHio\nD/DWcECoPwWmaX7flo/P6qH2fZ///J3T1Ntt7ne3icXTwZjTxTyZmMn9jS1uTZtZ5GIWpwsFHk19\n1Q/bXaqpBEezWSxVw/EDXra7nCkXuVtv4AYBqoBL1Sqr3R6rvT6HM2l0TeVb6+ssJVMkTJ3H7TaX\nKhWeNjscT2exVJUr5QVe9nokhKDr2CwnM8Q0nf/5znf4y9cv+EJliX984hyW9v1/lH7QRYmvtrr8\nydV73Fyt0RpP8MIANwixdA2PEKnAiWoeRRU8abSpDYacXijwbqKC7fvomooXhpws5wDBk2abb76c\n+notg9OVIm4QYGgqm/0htf6QuK5RSMSwPZ+t/Dq6OZ8moCRCPNfEnUi0zF4yoPgatumBCl5goA9A\nSTnTAkWBsktuCWwFUhFxFqYkNMF2NZS+ATEPNbFNjP2RtifZI/RUhLmD1HsCEvNEXI7UOYIthhrh\njnEZq3iJ7e9SzDZ4yvYS/jvpKjemkXYCGE2VSQXBuVQFXdE54pq8HHYZagpPp3F4J7U0T4bROEeS\nOW5OleaMbqFIwVmryIZjszW2WR12URDkknEadqQKrySzrI16XCksoUmFa1sb+KHk/dISj3sRgf6w\nvMzHjejcTsbS9F2bD4rL6ELh9aBPe2zTHjtcKS3y9VpUFLkQT9IObXpeNOk9myvyqNWckemT2Twv\nuh2C6VulKSp+ILm1Q7U9Xyxxs77JSjJDKZmIYv1UdQ+ZPpMvcqc+rwY/a3c4ms5RsVJkzNhMhV1J\nZ7i/iwSDYGi7BH5IKR5na7xNbI9msnMWkFu1OhcWyrwYdKgP9s9bPpzMsjkYktQNht62Qpw2TB5t\nRb9XXcfmbLpIx54ggYulBW6tz9tc7mw2uLBYxhAq6+z1MgehRPH2V3RVIdgYThCwx7ZhqursPO5v\nbpFLRdYRpvs+aWxnsX/SaFLJJ6iPRyjTMXfi0VaTUiHO1mTMLx85ue+5fFYcEOofHg5yqA/wtnBA\nqD8F32+nxO9GDn3fp9lssrW1hW3bFItF/tk//BX+2Y07/On9hwAcSqdxnYDn/Q5LmTRPpk0IOhM7\nin9arHK7UedQIkHStHhUb3GhWuFZq4MTBNzY2GQxlSRpGTxqtbi+UaOaTJKLWzzYahLXNH5qcYnX\nwwFD2+WLi0s87XSQMmpZfHW9xrvlMoPxhIV0mkwmR304JmXolIwEPdfhr9Zf8idP7vOfnL3IPzx6\nClP9/B+pHwSh3uz2+fLdl/wPHz9jazgikBBKiaYoqJpKPm6yUsgy9jyCUGJqKoam8IWjS9T6Qx5s\nNlEEnCwXCGTI81aHkeuRj8c4Xy2hCoXueMTjVo+b6xHRMVSFU+UCpWQcTVF41enTTbRI5PeP5rLH\ngtCSiKGOuiv6zp4IiEfXKFRDHBXi4yR4EiW5d7zAURHGvModTDT8TESK5VBH9QSKCKcxe9s39WCo\nIZK7LCETdc6LHU4UZGpbwZYhhFo4G0XKXdpiCBO5TdoTwuD+NNZMRXAuVkLRdDJhhrVRn+bEY23a\nBOa9/BLXp6S5YiVZm6Z1qAh812MlkSNnJPBDyY1mNOYHxWWuTht5vF9c4uPma9K6yaV8leZ4Qm/i\nIhIK3576nHc2XrlcqDJwIgKtBJIbWzU8CTlzQlzTWR8NAMEH5aVZEWEplkAgaE6m7atzBV72ujMb\nx/FMjs3hcJZNHdM0lhIpHu/IXj6dL/Cs1cYPJa/6fV71+1wolbnfaHCxUEFRBA/aW5TjCTZ6A/xd\nMvS7pcos3g4kVxar1MZD/CDACeffz6xpsTUc0xpPyFkWp/MFHrVbGKoaWUB2jX13s2qqyEgAACAA\nSURBVMEvrKzwtdfzXRkBlpIpbm3U8EPJuUqJB91ti8/pXIFr69vk/OFWk1OZFM/sEfVP6Tro2SEv\nhvtbOs4Winz0Yo0TlTxPu/O51UetBM+7EeF/7/AC13Z41I9YCZ60I4LuBSEXMwW+M33v38mXuft6\ne8IhJawkstTHI05lCzyu7c7HFhxN5jBVjfPF8r7n+b3ggFAf4AA/3jgg1J+Ct0GodyvUvu/TarVo\nNBrYtk2hUODo0aMkk8nZPv/1z/0MJwt5/s3T59xbr+MG0RgRgV7g5madUEqkBNv1OZ3M0HVc7k3z\nam+83qSaSpCJWzxsttgYDNFGCj+7fAgvDLFdj+7I5nyuRN9z+c7qBgld53S5wK31TVQhOFcu0RiN\nOJMtEFN1LpQW2Br0CDyPEIFpxYipOrXxgIVkkiOpDH94/wb/z+oTfvnwCb50/Ay68vasIN8vWoMR\n/8e37/Lx89c0RxMcz0XTNPwgJJeMkYqZJCwDQ1NpjcY82WpRTCWIGzrPW136toMQcKJU4NLyAmPP\nI2bo9G0HRcC7S2VcP+DWep1AShQBx7IpCukUgQx5UGtyr7btlU2WQ7TDE3Q3iacPETsuVTDWkIkQ\nIcBXQ/yugZFxEQLcng7JvaseQ98n0AISwzgyNoFpZJ7X0xGpvUWHoSpnJDdSrSXeUANbQfEEipRo\nRkioMJcKEo4VxC6biPQEwtxBBAbzdhAx0Ah3nIM60ghSPoQgHYXROETTNNLxOOiCp+MxfT+aGFzJ\nLXG9E5GdvBHnUXf7GhbMBHV7yEoix+FYjvutBqujHmcTKg+nrcaPxzIzMn0mU8ILQ85nFggDyTfW\n1wiQnMuVuTH1wb6TK1MfD/igtISl6Hxce40ThKyksrQnIzwZKa1pw5q16v6wssSNeo1yLEHeivKm\nXT9gOZHGVDWCICRbjGwEuqLgh5KEZjDxPTqjEYV4kkc7yPTJXJ7X3R72jpbvZwtFHjebuGE4s1kc\nTmdYjKUQQZ/BjlqP0/HkDjINILhdq3OpVAE1SrjY3hJ1cnwTH9exbQauw5VqFUWIOQL8Bidyef72\n+SrvVivcbtXnPNU5I0YtjMZ/UN/i/UNRE5rFZIpbtb2e6pf9MT91eJmPXu1v20hrJufzlbkizjdQ\nw+iTaci9KrXrbV+7WneIIsTsPINdy/svt6LOiL4M921O87rdRxBFAO6H9mDCL534/MWIB/gRwIFC\nfYC3hANC/Sn4vCkdu4//LCR6N/7x+bOcLuT57a/8FfVpA4QwjMjyyWIeVRMQwsPNiEQrAq4sLnBv\nawvHD6gNRjRGY3720DJBKLlXa/Ct568xFIXz1TLdicNab4AQcGmhTH005sb6JrmYxdFchrv1BgnD\noBSLc+31BqcKBUZOQNo0KSQTICOVPKUZyEDihpKkMDAUlf/7xWP+Zv0lv3z4BP/ukZOo30OhzdtU\nqJv9IV++9oBvP3nF1miCH4ZMAg9T1bAMDTSVI/k8jh/wZKuNlJKT5TyWoeNLyVq3z1ImyblqEaSg\nNhjweLpUHNM0TpTzGJo6fZ9BUxUMVeFwLoOCZLUz4Hl3gCoEp8oFFEBVFfrqiFp5DSFgqNkoExMr\n5hOqAUqg4ogdSR8iyqFmEkNXwY3vU2QVAlIgVIWx6iIdlXioI0wXaQXs1rzCnj5HeAHCgYZITPOm\n9SiP2uvpyHiA6OmIMDoVGYASKghNIlVJOFEQOwm+JyDuR57EQIAvAIEYalFgdgiuDJFDFalLcFVk\nSuISMJYTzI6GM40OrJhJ7vW2SVg1lubetInLF4qHCUKoGlkINL5ee0WApGIleTVt0pJWddqezYVc\nhYRq8qjdou1GTVmcwCdAspxI83rQ40S6QDmW5Hm3w+vhEFVqNEdNnCBkOZlm4EY572lN5518CS8I\nKVtxDEXjaadN6Es0qdIZOnwyTaM4Xyxzr92YEeMz+SKvel3G0+6racMkLVRWO12OJNPkrDgp06A7\nsed8z6fzBVY73blCxYxpIkP49ut1QHKhXMYJAxK6zq3NvX7jK5Uq16b+6PPlMjV7QGsyiboi7vJN\n+6HEdnwS+l4Caagqrhs1grm9Uee95eosjeNSqcKdjXk7ybW1DS4uVSBkRrR3Yzzy5wjvG5Tice5s\nbKIIQSWTmLVahzfWlWgS8EmjxbnFIg9a0W/h0XSG1a1t21ytP+TdQxVubW1yKJXmeXM+l7o5nnCm\nmqNmj3lY3xsLWB+OeGe5zJOtvd0bAZ63u/z+kVP7bjvAAQ7w/y8cEOpPwfez/Ob7PqPRiHY7Impv\nSHQikfjM475brfDH/9E/4p9+9W/5+svIm6kqgrRp8qTe5Hg5P8trDSXcWN+knIxTLSZRhcJqp8s3\nn79GUwTvVis873To2g431jdJ6DrvL0ZtlxUUFuMJlpJJJLDW7pNTLVYyGWr9ESUzRlo3CXUXU9Vx\n/QBL0/C8kLwZBykYujblWJKR7WIoCn4Q8qdP7/PHj+/yn114n59bXPlMr/v7JdS1bp9/efUh115u\n0BgOcYIAxw9IWiauDMkl41SzKRq9HrWRzWTL58xCkXOLJSDqxjZ0HJYyKQwjKv582oqUyLiu8eHK\nIiAZOh73Nxsz4mN7HgnTIGmaGJrGxLaZ+P7M6iGBJ1stzCQEx9tzzVtCK2DiqGgCEAbC2EuaHdXD\ndyw0xcKPzds6tEkM29qO7hI6TPAIezqpuI6jjGeKdWgrhLsKDKUPcodFA6ZFhvEAoQpkTCIBMVQJ\nkyERRRfRcRJw1Fn7XjlWICG3i3zGyg5FXcJQgTfzyFDMyd/KWMGJb1tB3EmIo0Rk9N1slYnv8V52\nmaHnc7vRYBR4WKpGwYriCzWhkDYsGvaQU+kiphPydNzngdPiaCpL241sGjFNo2WPOZ8rE1MMhpM2\nvYnL1miLlj3hUDJD17YZ+R4nM3lKsQS251PQLAYTm2+traMKweXyAh9tRN/L45kcHduZFdm9V6ly\nt76JP/0sXyovcH+rMfPyluJxYqrGWj8id696fVK6ybW1DewgQFMEZ/NFSokE64P+zB4CERHPmzFe\ndN801BHca2xxrljCcwOqpkXN2f48vFdZmJFpgAeNLTKmyd9bOsxHa9sNdt4ga1nU+yPa4yZXlqvc\nbGzOyO7FUoVrr7fHuvG6xoeHFrnf3mK9u9fnHL2RsOWM9910PJ6MYvlWqnu6Pa4kM9zojgFJ1UrN\nEeqCEecV28TYd7d/M7K6xSrzpHk0jr5TC7Hkvn7sycilrGr05N7mSQAZYfLA2T8xZDmd5lyxtO+2\nA/x44MBDfYC3hQNC/ZYQBAHNZnOmRKuqSrlc5tChQ5+bnGdjFv/jr/0SX77zgD++eQ9DUbgxzVy9\n9brO8WKOieeyPhhhaRqH0mke1VssZlJkzRitkR35Sdc3sTSVD5aq+FLi+wGf1JoEMiRTKVEfjdno\nRzeak4U8lqFxe6OBAlyolmkNx/QmLouqTm/sMlZ8kqrOxPFJmyYWOmogSCnGjNzYYUDRtPj9G9/i\nX798yr9/7DQ/XT30d77ez0OoH282+bPrD7j7ujFT86UEqUCgSI4s5EhZBo3BGE0R6LpCylA5XF6i\nPhhxa71O3NQ5ms/ihSFrvQGeH3A4n+FUOU8oJRPX40mzw8evopu+AN5ZKBE3dGzfn1PmOpMJR7Np\nThezJGIWq50ezdEEzICwOEZT9lo2pBEy7mqYhgR972v0hzr+tKgvZSfwdZtADQhGKp5pzxFkAMOx\nGCc9ekSKteVrYLgEvkDsGl+M9rGF2MpMsYZImQ6NXaR7pM7ZT8RYQaYkM3V0IiC+47WOxdz+ykgl\nePM4JCL900PVoUrXmqBPNNJGjBedHh3PQUFwKlNgFETX4p1sZeap/mL5MI7vU9JTpNUYV0fTboap\nAvf6LVQEVwqLjDyPsRowtgPu9jcoxeIAtOwJx9M5KrEEYz2GawbURyOetDpUE0lkKNl0bCxN41Q2\nz7V6DVUILhQrjFyPYixONZGkYMXpOzbnimVCGZIzY6z1e2RMi65tcyidZug4rI22Sd97lSp36vWZ\nF9oPJbqi8vHqa9ww5Eg2SymZoD4eoqLwojvfsfBUPs+LVht7Gp95eXGBV4Me5XhiT9MTgIRhcGdt\nk/cri9yo12bFkgJYjqe434iU2huva1xarHB7q86xbI7r+6SAXFur8fNHV/ibl3ubpGiKQn/sEFf1\nPcWBKcNgbZrpfG+9QTWTpDaMVOxSPM7d2vZ539moc7oaebv3e01Pm23eWSxRGw15UN/byOVZq8P5\n5TKPdhQc7sRqf8jpYgHYv9DSswPius54Hwvgrxz/4do9DnzXbwEHKR8HeEs4INTfB4IgoNVqUa/X\nmUwmFIvFmRK9traGYRhv5Qfvn7x7jp86vMR/89Wvz/39WbODEPBeKU/LC7jxOloSf9KMliffWSgy\n9ny8IKAUT3B/fQs/DDlXLVFKxnnZ2S6cu7xUQVdVwlDStx1KhkUllaQ/dnjW6pC3DAIvJPRDhoHH\nci5NEIbYbrQ87AZRwxNFgBpCXGjIEHJaFI/1h/dv8C+e3OM3zr3HxWJl39f5WQj1xHX56v3nfO3x\nKk8abWzfQyIIkUyCKKKumI7jS4mqKFiaRiBDDuXSrHX6fPwqmpAcUXRycYuVfDSuqihMbIdC3KKc\nStK3Ha6v1ZBA2jI5Xy1FlfgIXrS73NvcXh6uJOMcLeYIQsmD+hZPOtvtuAVw8WiRR6lVPCXE72l7\n0jtiTgIvaWPLELWno6W9me3DtON4iW3lbKA6SFcQ802kESJ3ySvSEzNlF0BoAkcLiDtJvNCFnoSE\nj9Ak4VjdE4nHSEUm5km/HKvz1g5bQDxgxoBDCHc6e6aK9UyBDon6o+84PthxvDpWCeIByjhqGuOJ\nkDAQeLrEG9v4sei5L2Yr3JzaPi7lq6yP+3xQWEYXGl9fj4rkLheqs1i7C8k8riJ4P7+E47h87fUa\nhlA4lsnxSbdF0YpzIp3HD0MqZpJXvR7PW11O5wrUhgP6nsvJbB5dqKhARTMwrBg9x6FsJjiaznJt\ncwMpIakbHM1m+cZqdB5xXedkLs83VrdV4MuVCpv9AaV4giPpHIPhgGImy3c2NuYKC68sVLlVq81W\nQFa7PYaOS1ozSMXMWeEgRJ7mje5gRqYBbm1scrpYIKOZe+ILU4aBGgqGrsf1tQ3Olousjfr0XZcP\nqotcXZsnzbc26pzOJOnb3p6xAE4XCnzz2RpnyoVZN9c3uFRZ4Pr0+3blcJWrO9qkn8rmuTlNLXL8\ngLwWo0ZEqLfV6W34TuT7P5zKsNXdq3h7bsCJTJ5rvb2kHyD7d6jMJ/MF0treCD2Irtf99S3OHi5z\no77XU/4rJw/80z/WePNbdYADvAUcEOrvgt1xRm9IdKPRYDwez5Honfu97cSKQ9kMf/gf/gP+1b1H\n/C8fXaVnO6RMg0PJJLdqbZKGzntLCzysN5lMfZr9iUPWtPCkguP72L6PBG5PI6ouL1WI6Tqt0Zhb\na9HfYprGiVIeK6HxpNkmY5m8V13Adx00RaMUMxm5LqEXEtM1bD9g7HvEDZ3AC9FVgSIFCWEQBiEF\nw8IOA1Qh8IOQ/+7q11hJZ/mNs5c4k//uS6WDic3fPHrJt59vsNrq0JpMCEKJHwR4YYiCoJCKo+kK\nKTNLzNDxw4C4plLrD7lTi9Tj5WyKYjJBJm4yGY9IWAYvW10c3+doIYeUko7tMHJdcokYMV0jH7dY\nyqQJkTxqtJh4PrmYxbFijuZgRDpmoigKz1sdvr0ataQ+UyniOg4jz6Oay7I6aXE3/hyhRJ8FmZCE\nfQMl5YKAcKDTn9o4hBCEcUkwMjBjAcJXGSh7FWihge+qhJ6CFqr4O2wiga3OK8OAdAQDdYLQp+ME\nCmKggD9tRW5Nzy2AcLeCPlYQiR3kGQh32TUYKZDc8VnvK5DeqU7vsH5IkGHksVYnCoEncVWJdBVQ\nBcIDOc0x1scK3vS1qI7Czc4mFhrnCxW6jk1tMEIJVXpOZLU4ns7zoNPgSDJLWYvxpNuh7bl8WFni\nTreFoaicSmawJzYXkwW2XJdvr69zOldgfdBn6HlcqVQRUpDOmcRVg+9srOEEIaeyOWrDIYNOl7Rh\nciSd4eo0wu54LsfY9bk7VXaPZDL4geT2tGuprihcrCzMFN7N0ZiUYVBUNb758jWWpnI6XyJu6piq\nykev5q0YS6kUoS952e3B1OpxqpCnkIxzd7POaJdyupxO0+iNeWy3OVHMMw5c1gcDNEVhOZnmk61t\nFfdho8liOsnZxRJX1/YW/0FkCyrH49RHozmvs6VpjMYufiDZbI9YSCbZnKrMhViMT3a0/b7+aoN3\nlkrcb25RTSa5u8tv/bDe5L3DC2wMh9zepynMi3aHD48szX67dmOt0yf+KYWDAI3OiKVUivXBXstH\nWjN5Wm9HHvFgfrVmQdV5HnjYk71k/Gg2y9kfst3jQKF+Czgg1Ad4Szgg1J+CnT9UruvS7XZnJLpQ\nKHDkyJG/0xO9X8rH2zinf3ThDL9w4gj/69Vb/OXD5zycFkENXY+brzbJWCbnl6Mf+RuvaqzL7RvI\nQjrJYiaFG/h4QcjtKYlWFcG5chFDU2kMx6hCEAQhulRIagaEkoHjURv2iRs6xws5tGlnNUtRmbg+\nXWdC0jRACoIwRJ92BiQEU1OYSIlC1NBj6Dj8Vx99lb+/tMJ/cPwsJzJ5pJS8bHb4aK3BX259g5et\nLs3RmOHEJSDE8QNURZnmP2sommAlm6OQjOEGAbqq0BiMubPZIG2ZVDNJ8vEYCUPH0DS8MOBZq00Q\nhhRMnbSikI1bBFJiaCpbwzHN0ZhjhSy6qtKzbca+jxTg+QETzycbMzmcy+AGAfXRGMPQiCsK9rR5\nxEo+g6VpbA2GKEBfHdGrthDarmzoeIDpxHBcHz8W7CHMgRkyHqvgg5La+/kKBxr21G/sAqKvE4uB\nHuoM4rt8oBJMYWArOwiBIgikApmQAAUmoHgC6RE1ilFC0KNEEKnMfxeUgUa4M0rPFsh4yIxwewIS\nu9RsNYSBgiIVAlcSxiQSQaBJCAXSjHbVxgr+lEALR+BZ0/97AuGA6qvYesDN9U18XZLQIv/K0PdY\nTqQpmwk8T2Kic6O5hSdDPiwv8bjT4oPSEjKU3GpsUk2k6E5GtByHs6ksCdXgdLaEqah8a/01hqry\nbqnM1zZW0YTCFxeX2ej3qJgx3illUAEvDHl/YYmYqjJ0XFIxk2o8SVI3ogmtgEoigZQSBcHdHTaF\nk/k8fdvhxdSiZPsBG/0BS8kU1xs1DmcyVNJJ1vpdspbFRm/AYJe6aigqt9c2OZTNIBXJk2lSSMEw\nsB2frh1N0p4221iaypVqlTCU3NqHrCIF61s9jufyPG3PF9+9t1Dl1utN6I1479AC1za3VdoLxTLX\npxa0vuOQjVtYmobt+xxKZrjd30l+BY3OiLRpUjYT1MO99orVRo9jxRyNzv4FjIYfraDth/Ol8swr\nvRsn8nle1DpcXqnuIdQJXeeT2ha2F/DukQo3d2V6K5oFjHm82SKdUunvINy/euL7y54+wAEO8JOF\nA0L9KRiPxyiKwpe+9CXa7TZ/9Ed/xMrKCslk8jOpAt9LY5fvFdmYxX/597/Iv/fOaf6nv/42H61u\nK0vL2TTPNzs4ns/F6gKbw6ihCETpAN3BhNV2l5OVApcWK7zs9KJkgVASeCHN7hAtFBRTcQ7nMmwN\nRxiqiiVUEigYKExsD1PXkETqvaVo+F5ArTMgZZlkLBPHDwhk5AXVBASuy2tvSDuw8UTUNOVf9h/w\nZ/cfIiTEhzqGVHBdD0Xdwg18DEUjBMIgRNMUDF0jnbKQAvIxC0vX6U5sdE0lkBGJL6fj5OMxYrpO\nYzBCFYKspqIqCpmYhampCM9lvT9gaziKCAmQjhmsqBkyMYvVdpf2JCIkQ8clG7M4Vc6TMA1etLp0\np9teNDucKOW5tFRBVRQ+abR42Y4URJl3qaccEoGJpzqEu6wZQycq+rNCA0edVxilDwKFIBZi2TF8\nw5kpx+FYJYzNK8YyJhk7gtDziMV0PH17PMM2sc15oiEnCuxUnXUIXZBJSSgEoIItYaQgVAGOREiB\nDCW+kMihgopCIENkIBCeiOwAIeBJ0BRQIw87gQAzGhKXqChRmVo9Jgr+NFNbcQS+te2pVgOB8BU8\nEY3hxSVIiWarkQVEgj8IcFyfc5kyPcfhmxvrHM/kWBv0IlKcKDB2PKQnGToun7SbnMkXiak6ejzF\nGaHwzfXXJNUhFSvO68mYM4UipViciefzxYVlmuMx31lbJ6nrHIrF+c5UxT2RyxOEIS+nfuaj2SwK\nYmah0hSFywsL3K7Vo5UUESnXhzMZJp5PGEgaRF0azxQLtIcTHjQiRXet12et1+dKtcrEczmSzXK/\nsZ3pfLm6wJ1agyCUM3vXpcUFnNBno9Wj7883ILH9ACVQkEFATNNmK1gQWRqUULDeH2JNbM6VSjyY\nxugdzmT4ZIe16cbaJh8cXuRqbYOzxSLX1zbmPoevOj0uLlfwZDBrI74TrfGEn15Z5pufEpOXMk2U\nYN9NZEyTW682ubS8MFsZeAMBNLojNroDTlZzPOnMZ1enp8r1JxtbJGMGwx0xg2cKRW69jN4zezJv\nxaomkzxtvJlgCBZ0i36wPRH41ZNvh1D/ILrDHuDTcVCUeIC3hZ9YQv0Xf/EX/NZv/RZBEPAbv/Eb\n/PZv//Z3PWY8HvOVr3yFL3/5yzx+/Jhut8vv/d7v8YUvfAHle4h/gx9Mk5JjhRz/7S/9LF+//wl/\nXe/Rn9jcfLWtsNxam/qjlxdImDo3XtWYTNXUR5uR3/GdhSLLySSmpjFyPXRV5XW3jyIgH48zHDpM\nxh75uMFCMkEqEUdVBEPHpT2aMPF80pZJIR5jLF1e1tqU0kmq6RSEIW17jKWpJEyDw1qWZQIeTTq0\nxJhQnaqfCoyTE3RPwZQKppQoihIlcyQsSqk4Epj4AVKGZCwrIkjrmwgBxUScQ7kMuqqSiZkMbJf6\ncER9MCQbt8iJGAPbZew6pGMpXC+alCRNnbRp8bTZnt1k/SDkcD7DEZElCOUeYpCPW/zUkWWQkju1\nBo93xGkZqsKl5TIvjDrdqe95pLkwVtDMEKZKteWaDE0XhGAU+Oi2hpzGxckQ9MDA0f3Z8bqvIl0B\nRkig7u2oJgMIpYA4jAkxJgZxVSUQISPDmVfAA9B1FXfnXSQAqbEjrw+EpxAkd3ZliQi2nBLgAIk6\n0gh3FR7K9PZDdaQSxLetHqqEYPo1EhMx9UYLCKLmOsKJrCAiBC8eHaSMIxsMgDKJSLc+UcAD25I4\nnk237uDpksOJNAUzRkIxUP2QG60mxVicpWQaS9X4+cUVrm1soKsaS6kUm6MhHywsokiF+qDPUT3G\n8602q0qPC5Uyj5pN0qbJFxaX8DyPie3wxaUldKHg+AEIWEgk0BWVkePiBAFHshmShklvYs+la5zI\nF7A9n6+/2LZzpDSNS0uLDF2X1/62chrXdU4V8tzYkQO9lE5RTifQFIWP1/b6hPsTB9fxWTBNBlNr\n1xt8sLjI9WlB7aFcGlcE1AbDbQvItFjP9gKe1ltcWCjzvNNB+nLOmw1w/VWNL64s8aLVZXc8H8CT\nept3F/ZvcqIKwUarz8VKZWaH2YmMbnDzVY0j5exsovIGp/IFrr+s8XyzQ0LX52wu58tlHryKiL8W\nzJ9TPhbj/tT2NfF83luaTxTpDbdTcx7XmyyWUmwMo/fiUDJNY2ubQA/tbcK9Eo/TffGCrhBks9l9\nX+9nxUGXxB8yDgj1Ad4SfiIJdRAE/OZv/iZf/epXWV5e5oMPPuDXfu3XOHfu3N953O/+7u8Si8X4\nnd/5HS5evMjly5c/F5mGHwyhfvM8K6k4v//FD3jZ6vIn1+/xlftPZ8T54lKFJ7UmYzeKcTtfKaFq\nylQlC3mwMV8Vf7yYJaZpKGpUiHW0mIsKonSVjd6Ih5uR+pO2TE6UctR6A1brXTbUPmcWimgZlaeN\nNsOxy/FSDkVC4Et8JUQGklDCST2H3AzRCxpNdYwrQxQFXDUkyIQIoZAOTfJqjHwizsT1mHg+mqqQ\nsSx6tkNzMsE0NQ5l02hC5U6tztjzSZkGK7kMh7IpFtMpvDBg4LpsDkeYmoqpaWw6Lu3+iLiuoWYV\nTlXyCASO73O3tsV6f5vcVNNJDmXShBJa4zEv212+NW0vfqKYQ1dVNntDDuczDKTNLV4hE7vSACwJ\ngYbuQ+AwI9MAqAJPDYlPLHzTwfQthtq8bcNTQhRDIeHHGQubkG2SIyXonoFj7Iic0wNcP0B6gqQa\nI1CCSLUWYPomE2O3Yr3Ldx1O7zE7b/I7yDQAjiCwtlVu4QlCY3u7GAuCWDj/ODHd7oNUQdhKZGtB\nwTdDpCLQ/W3ftJhAGJMQgjKeBnR7EHoCPxbZRVQvivEzR4JXbp+13oDzuTLPBj3ezeRB0Xne6XCm\nUORarcbpfAldUehMbI4kc1xfr3GmUGQ5ncULAq4kUqy2OzzcqHMsn6frOHz8ap28ZbFgmtxaq+GG\nITnL4kQ+z+3N+ox0Hs/nSKgGDza2SJsmp3MFisk4qlB40emy1ttO9jhbKrLV7fGNKcE2VIVLlQqG\nprHe6+2ZyPVth7wVY3M05NLCArc3N2c84GypyOtWb0Yyz5SLtJwJjdFojkxD5DVOmQZnikViqran\n5bcfSB5vtvjC4SW+8XJvrB6AOwkoxxNsDfcWB54rFrm5WuNoMcuLzjwpvlxd4ObLGoOJS9o06O+w\nsZwuFri/EZFiS87fljKmycPptu7E5srRRT6uba/KuZPt78PjRofFXIyNaafKE9kc17vbE5ONaaMW\nCRzL5nixufMcBcvJiFAL4PWuzOrG2OXwQoZX/R7/5OIljh87xosXL3Bdl6NHj1IsFj8XMT4g1D9k\nHBDqA7wl/EQS6o8//pgTJ05w7NgxAH7913+dP//zP/+uhPoP/uAP5h5rmkYQnsQs+AAAIABJREFU\nBJ+LUP/btHzsfp43xP1IIctv/+LP8l/83If8m4fPuLve4F/feTLb1w1CnjbanFso8azW4lA2zeXl\nBfwwZOi4JA2De+vbxUKmpnJuscRaf8Ir20VTBMfyWQqJGO2hzXDiUrBiHM3naPbHDMcOhqbx3vIC\nd9c2uTN0Ob9cYrM7xI8FZGMWgR8ydn2OFXLcX29wabmMllV45ncZhB5hGBBq0JE2A8XFdgOkLYnr\nBtmYydCJSMNCKkHaNOnaNp3JhJihc6yQI5RR0sYbq+XhbJpiIo4fD0haUSV/ytAoZdPoqjqXJw1w\nrJglH7OQIQxcl9V2j1p/iKVpnKlEBKk1HHO0kCNlmrTHE+KmxqbRZcNqgwJioEYtu3fcI30lwBsI\n0MS+N8+x7hJ2NFzLneucCIAEbwJdywYpSToxJoqN0CVJL0bf2Oublo4CMcmQ6Hppno7hqYylF40/\nfY64ZzLa1TBGjveSZ2nu8EmH039T6wYSpCchFj0UAcgdMXhiIpCmRIwESqjgh2FUeKgLFI+p7SPy\nSb/xTSsOKAjkWCBDCMzo6bWJgh+TqK5A9aPJiBYKXD3yKhsThcd2E0tReGh3OZTJcKVSpe86nM0W\n+aTZ4p1SmYIZQxEKF/JlHjVbJCtGVDiL4EixhOM4DIdjSqZJqVRhaDuMXZ/3F5fwgxA3CAgDuFCp\noAqBrqg8bbVnrbJjukbKMLn6cn2W4FGIWZypFNEUhevrNUbu9sRLVRR0VK6/XKecTPL+0iIPGluM\nPY8ThTzDicu9qdK62R9yopgnVCRZy+LO+uZci/BHjSZJw+AXVlb422d74+wGjssZYeB9ih/50sIC\nHz9/zfmFEvca881OrixWublaI65rHM5keNXbTrQ5XSxwY5rq4dv+XNRcPhbjyXTy3p3YnM8Vue1E\njwUQuNu/lY8bLS4e3lax36jTs9e3sUXKMhg4LqcLBZ6uz/u+U4oOTNAVheeNefvHZn/EO4fK3Ntq\nkDMsdl+dl41u1IypUODx2t6YvYVYgteDPr968iSZZJJLly4xGo148eIFT58+5ciRI1Qqle/pnnFA\nqH94EPLA8nGAt4efSEK9vr7OoUPbmcfLy8t85zvf+Z7H0XUd13XR9X3Cgb8LfpAK9e7nSZoGX7p0\nli9dOst/+jPv8VePXvC1x6v0Jw6O53Nragt51e7zujPg4nKFenNAU1E4XsiRtAziho4fhgxsl2Iy\nTkxTWUjG2OzbNPtjBHCslGNku6y3+li6RiWVxPdCpJR84eghGr0BzzbbFJMJxmM3Kgw6UuXd4xVO\nLRa5fGSBfDLKAQ7DkP/tzm3+xd2bOFJFColE8tRvYSk6ZT2B7gtUVSWu66gojD0PS9dIWVExpDtd\n6j5fLRPTNPqOy6tuj1e9PoaqcDYeozWesDqcwHBCLmZxoVohNi1a3ByMeNHq8pypAl/IYenRtkoq\nAUJQTMapppO0RhOerXcIzAAW3DmFV8YljFRELIiIawCWb0XEVUrSboyRPtkmnBLEWCdIBgQSMju3\ny2nmc0y+ecMZqi4iFKQncfrKvF8WIO3H6O1qAON7Elf1IhIcKFiehueEDPGj9A9DRskdw11kOiRq\nwrIjQEGd7LByAMpQmcuUFiMFoYC0o8eBMQ0GNwXhRCDjEdlQbAinJBwv2kUZRx0VA10SaJECHRgR\nOdcn0eRRmUTjeqZEcxQkEt2P2kd7ukR3BXYQIEJYDbr4k4ClTBpDVTmSzOC6PindIAwkGcNkJZHB\ncXzysRiT0AMJMd0ikbUYTmy80RhLUYhrOp2RzdB1UYWgnEjwqtX7/9h7sxjH0vzK7/d9d+POCDLI\nIGNfMjNyqVyqsqq7utWtHmmm1erWSCPNSDPdsABjZMNjyAtgww+G/eAneQTDgD2ABA9s+cEwIAuG\nBwJkjGF75mGslrq6a8l9X2IPBiOCEYzgenmX7/PDZcaSEZ291F6KAxAZ5L28JJPk5bnnnv85bPaH\nCwXwWqmIYxhRVXwQkrBsGr1eZNlIJXl3cY1QaSxDMp1IkE6nMKRktb7X9yTDRrMV2ZXiMb40NcqN\n1cqxocTl+i5XhosQgmOYdNQBOZdCMDeU5y+fLPHmeJlb1Q2CQwf3b46O8H5ftX5zcuSINeVaucQH\nS9H1ZxvbzBXyPK5FxHJqcID7fUW74wdkvJC0ExHbhGXRaB0c2FX2WlybKPFBNdrXTKaz3DnUfHmv\nUmM6n2Kh1Vfcl48OA27Wo9mNlG1zf+1oIkir53N9pMy76xUs9fLRJzzfaVLKpxhJpbi9dNxaIoKD\nYcSXsd3ucmGigM3JhHhtu8lbIyOUDjXdJpNJXnvtNVzXZWlpifn5ecbHxxkdHcUwjj+/l6GU+rlE\nm1N8RDjNoT7FR4QvJKH+qGBZFv4JYf4/DT6OlI8f9zivIu4jA2l+98tX+N0vX6Hp9rixtM7N5Sp3\nVjfYaXXJODa3ll78mIVsNzvETZMfLh0MDp0dziECuLcSKUGlbIpUzObOQvRjdWY4R6vt8byyQ9w2\nOVvK8/7yGhNDWX71yllKAynmykOcHx0ibp98cCKl5Peuvc6lnscHhuAv5p/S8HukpINvhOwEXZb0\nLmUjxYCOYYcGSdvGV4rV7aiauZhKkLRs1uoNbMsgZhpcHRmm40UkSUhBOmYzmYozmMlwq7JBvT9g\naBuSi8MF/CDEDxWlbPSDWcqkmHUGWd7Zi2LL+tCWIjtjsmN2cbRBGIIyDpHquEb3ItuMNCVtw3vx\nhtEQPURbImMapEa4Fr4T7i/fEz3oSgwBOhBHCe6L7XuSuukCgmTPQRkhnukjOgZ7saNkmhBMaeDJ\ng8dwZYhlGnhmX3kONHFl46oA0SDykhgCHQISjFb0g698jZL91kMi/3bYv65l5IMOUgfKNR5gR9dl\nm30/NAEoKyI3sicItUbbAmWI6PfNEAiv79XuResHcY0IQarI/mG0NYGlMUKBRuNg0PMUSmhkGL0E\nsyfYcFts1zukbYtSJs2gE0MpjYHERDKSSuOHIaGviAkTIQRBGKXKpOwYTS3Y63QwQw/HdlB+SKXZ\nptXpMZxKMTeUR2nNbsfl/qE4OEMIzheHsHMGUgjWm619JdkPFVpp2h2PPbe3n2P+4vN4diiHFwT8\n5dNFMjGH66Nlbq9HxLiUTpG0rP3c+UIqweRgloebNWwpOF8o7BdAfbCyztlins12m13X5a1DZBrg\nxlKFtyZHeG+twtxQngeHrCZeoKjUGgzHHNpK47kBXnDwGa82WlwoD/HQ246G+1aO5jTfWq5yZXyY\nUCvurB5PF2l3PDKOw9rO3rFlG80216fKaA03do/nPz9c2+LScIGHK8dJsdaR/3m7dfxgE+BhdYsv\nz4zxw+cnD0faSvKoerwgBmCj0eI/+cbbJy6LxWLMzc0xMzPD8vIy77zzDiMjI4yPj79SlPkwhPpU\n2T7FKT47+EIS6tHRUVYO1equrq4yOjr6M2/nhUL98+CwFePjxM+ihKdjDt+Ym+Ibc1NANIC3WNtl\nsVZnebtBrdVmt+2yvL3HUCqB6wecHc7tT8EDXJ0osbhZxwtCJoeyXBor4vkBQ5kkpWyKqcIApYE0\nI4NpTOPns8r8/ptv8XtXX+e/f+9dvl9Zot5zQUASi2rYoiE8fEKyvRg7dZe8FWc6N8DjzW3avk/G\ncZjIZHleq7PQ/7GeGsyScuz9Qpa1rsvF0hBx0yLUCoGg4/n4SjE2mGG32+XhodY1QwreHC+zE3bY\ntdps2U12RKTI9USIEUYDdbzwEWtICAeXAM8L4aXeCB0DK7QQrqQbO+EzZoPjxdCmxvU9sA69x55A\nGXrfcvGCrKe6segUu8VBkYoGO7BwraMJBqIj8Q55nNGCrh/sR9iBQLYEqu97VuhIRY4BRp8g+yIi\n12bfR92T++sD2O7BYwgPVIzID+2CDAWBBGUKlACcSJmW/ZIYsyNQQhOaoLVAx0H0wNICX2sMQBsC\n0+/3xijwtIqKJkU06Ch9SJomRiBIWQ4xX9Lb8mi1NKXBNMqI1G3bMFFS0vV8pCkxhURrhdcLcCwT\nRxj0fMV6p8dYxiJvSAq5LOlUikqzxV89X95/zcVUgrliAdDMb9e5Xz1K+OYKeYbSkW0oau6LSN/O\nchfbkHx1cgyl4UeHDmgbbo8bK+uMZtNM5Qe4tVJlwz+Ilttqddhqdfjq9BhLG7VjGc9PN7cpppN8\nbXKcv54/7ov+YKnC12cmuL1aJQiP7kvavo+ByfnSAUk/jIfrNb5xZpL/79lxawnA1m6LtH1yPvR2\n1+MboxP8m0P/f4dRa3Rodk+uA+94AUUzwaMTl4Lb8dk5weMN/WNF/8cTUVNJbMOIBk9fgmMa/OLU\n5I+9L0S/G7Ozs0xNTbG6usq7777L0NAQU1NTOI5zbP1Ty8enjFPLxyk+InwhCfVbb73F06dPWVhY\nYHR0lD/7sz/jT//0T3/m7di2/aEU6s8aoX4ZpiE5M5zjzHDulesFoWJza5N2u83Z2dmf67F+VsQs\ni//8q7/Af+Be5w9/+APeWV/FQxBTGmkIbAw2aRMfNNkVXZ54IYM5h/NWDomBr0Jm8oNYRhTp1vF8\n3CBkJjeAGQbMN9v7NcW5RJzJgQwL23U8pah3XXLxGF+dGsMPQ/Z8l5Vwj3f0IrpvvbB7JoEd7Bec\nhIZGaknMN3C1j/IlzRdxdQLSvkPbOkQOeoIuCm0p7K5FYPtHSLDpWrReDA+qyFYhYgpTGGh5QgGL\nL2gqD2ICEQrMnoFSCq3BTR4l06nAoRk/SuItz8SzDxEIvz8Q+AIhBxF4/eeklN63ggj/hW+6T667\nIiLTYUSgdRC1NipTE2pBGBOgD2wfMgS68OIMfmAAUuB4AkU0oBgYEIRga0kQaqQBqv8WmEKSCCXB\nbshsOsvuRoup4QGaXUXPDxgvDUbeZxVgC5PQFfgqIOZERUDChKS08PyI1VsYeGFATwUkTIusadPD\nI23HiNkWW40mT5bWGYjZvDVawjJNDCm5s1rlr/rk0pKSy6UiQgjcICBt2zzd3ObpxjZxy+RsOkkT\nQbXZopBKMDGQ5YOFCgi4PjrCk1pt3+pRSqcYcGL84OkK18ZKPNvZOWIDuVAc4uFqjbjUFFKJIwOD\nUgjG0xnuLG1EFo6to97gcibNo9UtzheHeH/1eIJIKeawvdcmYVvR2Z5DKKQS3FpY5+JwgQcbx9Xi\niUwW7wRiCpCPOdx4vk45k9qP9jyMnB2nGEuw0z1O5CcHs9xaWN+3nLwMGQrODw3x3gl16ecLQzxa\n3cIyJH54/CzibrPLuXyeDyrHH/cbM1OkTyDFJ8EwDCYnJxkfH6darXLjxg0ymQzT09MkEon99U4J\n9aeLUw/1KT4qfCEJtWma/NEf/RHf+ta3CMOQ3/u93+PSpUs/83Y+jEL9eSDUPy1MQ2KbJu6nsNNP\nx2L8wd/6ZTZbLf7bd9/h/c0q7cBDCIhjocyogKYuu/REyIK/h60lJTPJXtvD7QSIEC4PF9lqtWm4\nHoaAM/kcSduiEwQ4hgFCcL40RNK2uV/bZCtss9looWIKHddYoTxS8+1ZIQll4xMQvsiIVppONyRu\n2XScQ8RDCJrCx3FtlB0QdokSMfpk3LNDLG0ieyJK4+gYePFDJEQKVAwM38Dr6chPfUj8l6HAwMAz\no/toIfAtRTKwaQkfq2cQFyauCghCRTPW4/DEZCpwaB5K/jD6nsJQHkrt6IkDvzMgXLF/cIGKVGRk\nRHzNUEQDbypK8whFFOmHBsOVhLHob9ntF8d0+iJRTCB7Eak2fUEYaHwHTE8QKo0Z9gl3P4Ew3BOM\nOnGaC12ujhZ4vLTFa2dKND2fdD7L/YVtrp8bRZqSpWqdkVyGmGmyudOmnE+D0LQ8l3jMptsLiNkm\nhpC4PQ/HNnGESb3dxUmZZCwb33ZI2w5KKRodj4zlUEol2dzeY7XVRQNJ2+L6WJleGGIZBlorFmt7\nSAHZgoPd99R2/YBnewFzxTyzuQGWdvb2B/oAbixXSDs2b46VEQjurFbZ2I1I563VKrlknIvDBZ5s\nbXNtpMSNpagCfQ/IxmP7xNkxDc7lD4YFF7fqvFYqcq8aqdildIrQC9npdNlZ7PLm1MgRUv36aGnf\nEnZppMCDrdp+HrYpJQN2jGe7O8idJrlEnJ3Ogc3iXCHPjcVoW1cnhrm9ftTPPGjZzDebTDoD+7Xj\nLzA1OMDdlSqmlBSyiWOJIoN2jFVvjzdGR46R5nIyzsPKFkOpOKaUR/zjAA4Gux2X16aPP6epwQEW\n13eZ/TH7ut+4NHfi7a+ClJKRkRHK5TJbW1vcvXuXWCzG9PQ0mUzm1EP9aeOUUJ/iI8IXklADfOc7\n3+E73/nOh9rGh1GoP6mUj8+KV/vjRjGV4r/55W+y2tjjD/76+zzarROi6Pg+0pBkRIym6mEh8YVi\nMdhD2lGGsRFK3g3WEHFBLhun4/a4522CBwnTxDEN6j0XrXVkpRiKHtPyZDQQB1GahDaQIfhGRFw7\nwkd4UW6w72l8I0THoE2A7ZqETnik0KUnA2hAImHTkUcP1HyhQEDKS9A1PV7ey8tAIIVBkAhBR7Xc\ntiPpiQB8gWcdVQFtz4ysIELgC4WPB2Hfn9yTxISFJQQmkq4KEEqgJSA0ljbxjAChBUKD7oByAD/y\nPFv9whWjLUETFbzYgI4ypD2LyI6iIquH7hNo4UaEWLhE2deOiBJBBCAjjzUySgkJReRBDl2iAxkF\nyodBaeGt+RS6BjNjRUQo0RMD3Hm2ztVzI9x+UuHymTL1RourUwVuPl3j0nQJv+tjSokfhDQaLqP5\nDFrBXtPFMgwCL8TTkbVHBZqgXxQkFbiujy0NspZNdOwkuDhcQCBQaJwBm3wqhee6uEpzb7mKrzRj\ngxkKmSSu79MLQj5YqmAbkq9NTxBqxeO1DZ6sR2qxIQXXx8s8q+2w5/aImSbninnmq3VyyTilTJrl\n+oHXeKfdJWXbvD06wo/6ZPoF9rourV6Pt6dG2Wq0jyT3eIHiUWWLq6PDbLbbhJ46QlY/WKzw+mSZ\nm2vrXCgOcXflgHDer2xx/RDhvjYyvJ++sdt1OT8wRL0THVjELZNW++CMzPLWHtmYw54b3XZ+KMeT\n9Wgm48HaFpfGC9w/pHAnpYnWkdd8Ip098hwnB7P7z+vZeqT2v4gJBRgwbTbpUmt1uTw9zK1DpLmQ\nTPBgNbruu8eV86FYnBV2eb5ZZ6SYpnIoQjNtmvzC9MSx+/y0EEJQLBYpFovU63WePo0SmIaHh3/u\nbZ7iQ+I05eMUHyFOD4tfgc+D5eOz6NX+ODGWyfI/fPvv8j9989tczhWIYxIqjVIaGQpsZWAEAluY\nKEOTwiY0FDHLxLAFNdEhtDUiDWFa0Yn5tIVHGFeohCauzf0drG8rksqOTLpAIBSeDkmEkc/BCg2S\nIkY3UAhkREj78KyQsAfCi5SueGBhKBMVl7R0AG0ZDdf1ITyBGRo0ZY9AKFK+gwz6y/sK7eGhQt/W\ntIOQoCkIPQGHXB1OYNKTAfpwUUsAlmFE/mdD4MqAlu9T1z1cQ6EsgTYETmjTFSGhEqhQoDoS5Ugi\npishkPRioBxB4ERDiTou94cIVX9VFEgvKowRrohUaClAi+h1OdH6uGAFAtEFbQukiiwr0ou2YXgg\ndmCukaJ4B+xbPl/KDtNth7SaLo8fr/PkyTpvXxin3fG4cqbM3WfrpOM2955u8eVz4wgN5XyW5ys1\nmg2X82MFHixs0GlHQ3G1ehtCjfI1rY6HDjVaadyujyNMAi9EhmCLqCV0vrqD54Us13Z57/kqbi+g\n6yse1pos1luMpxOUU3FW6w2Wtna5UCzwtelx3hgrkzBsfvBkmQ+er5F3bAbikbk+VJobS+sMOjF+\ncWaSmDS4sbjObsdlfqvOer3Bm+MjSCFIWBZvjo2wvt3gnWerTA9GUZaHcbaQ5+nqNrl4gpcRKs1u\ny2UilTkxS/ruSpWvTI6xvLV7JI4PIsJ9uVzkSnn4SJQdwKP1Gm+MlQG4WChQ3TtQnfe6LjODg9F3\nwTLZbhx93GbTxeyrtJeGCzxaP5hfuLO8zmgmvX99wDqwXDTcHpeKhf3r+XiM57WDA4/OS3XkU9ns\nfkzm4/Ua5fRBWkfMNHlyKJd/NJU+ct8vFQb3n+OHxeDgINevX+fcuXNUq1W2t7fZ3Nz8TOxj/8ZB\nn14+U5fPMU4J9SvwYS0fXyTl+LNCqF/gzNAQf/yt7/Anv/IdXhsYwsEgLR062scSJkEQklUxpJYk\nQ4uuCvCVIo5Jz1AEvkIEEApNVwdRSx/QlQFOaPCiO6UtfRxtYmsDNMSwCHyNaBl4aJrCIxTgGiGi\nI4/uEKyotISGpK3DSIXuQzlRQUkycEiHMbSMVHAgsohIjxDNQJDAkeb+4N8LiBBiykTHRLQtLdAd\nCU1Jz1dHSllMLRFK4okDRc5WfXItD5HursA1Dph5Utvow2Utvb5S/WK7XUGY7F8JDp6XcPs2DiEQ\nWiI9AbZEEuVOS6KhQy0AM0oSMUWUQ42K5jrTPcncbpJfD8b4RlgkURdcOReRtcW1HQq5FEuVOhdm\nS/i+ZmFpm1q1wfZmk+vnx1hY32V2ZID37q2gfc3uTpup0iCtTo+FtW3GBjI4poEOwev62EhMIdjd\n62AhMbWkttvGElFcXtv18X3FVr1N1oqSPvA110ZLJC0LG8m18jBfnR5HSBsdCqaSCWylubNU5QdP\nVljcqDNbGMSQkkBpntfbBH7IlyZHeX2szIXiECu1Pf7q0RLFZJLRgQNCF4SaW8tVfmFyjHIyxY3F\nyj7Zfb65AyHMDg0iBbw5PsLTSo3djsuNhQpvjJaQhz4P5wp5dhtdbixUuDxyvNWwlE6xtF6neIhs\nHkavF9DsnDwseHdlg69MjHFz6bj/+PZylfPFIS4VC2y3jybRrO02uVYexpSSVuvotpWGYv/AYCY3\nyN3Vo0OXK7W9faI7mkhy2Bb9fKPOTC4i8o5p8LRy1D8+lj6o9rxYGKLdOxBQ1l4qdvlKcfDE1/xh\nkE6nmZ2dJZ/PU6vVeOedd1hbW/tEfjtO0cenTSBPL6eE+m8CLMsiCIKfvOIJ+CSV408CnzVC/QJz\nxSJ/8mu/wR//7W9xcTBPSls4SLJGjHbo4/shnTAkEVoklAU+xH2DtOkQkyYJZSGRaFuTUjboKLXD\nUQaJ0EK4As9VeO0Q2zNxdUjPCFGORnThEEdGxcAMzMgaEQpSYQxfa1RMQE8ggqPvlQJanYBG14cT\nUgdivs2OcumqkFjPxPT6+c2BwAwlXXnolLWI1F9lR8kZMjSweyYp38HxLcJD5zUtLVGAPhSR+6J8\nZf+6B2110OgYU2a/nry/3I1qxM22wGgIcIl81EIiAgkxud9sqC0w2qB7kYKtQkEIGF6UxqFDjepB\nqiXIPFYMfV/xpb08zXtNPrixjPAVW2t7LD7d4Pr5Uc6NFxgvDWAakjuPK1yYHaZWbzNSzLJRa7K0\nWCNjWdiGZGx4gGerNWK2xfOFGsVUkulSjvXtBr2uz9LaNqP5LFu7bdY2GhTTKXSoaXV6ONLAFpKY\nYbK6uQcK4qbJcCaFKQ2mC4NsNzrcnK8QM0yWaru882QFWxo4lsXSboeNpsvsQIqMY7Hbcbm5uM5c\nMc9bkyOcHUhSSqf54Pkau40uPT/ct24829ihttvm+ngZxzR4Y6zMcDzBDx6vsNPocL40dOSzUm93\n0YHmYibDjYWjFpBbS1Uul4oYUnJttMTSZp1Wz0NpeLy2xcXSgcJbzqTpuQEbe206nd4x5XsgHqPZ\n7KF9jWMez1jOxmK0Gi7Gj1FyYxjce4kQv8Dz9R2uj5RZrTeOLbu7usFYNkNCmscKz2vNDpdLRQbi\nMZ5u1I/d94Wi/VqxSNM9KpAsbtYx+p/xZvsokd9otDibjwa2zxeGGE8eV/s/CmitsW2bixcvcv36\nddrtNu+88w5LS0uE4ckDnS9wOsx4ilN8dvCF9VB/FLAsi17vZCXmJ+GzSkB/XnzWX8/F4WH++bf/\nLk+3t/ln773Lg50atpKEWpMybXxCNBpTRG2BuhfSk1GbofABS9LCJyVjNLWHKzT4AUlp0TZ9QOLp\nkLR2aPbj8vQLX7Eg8hATnU7Hl2iIkjRe/ODZoJVGdKJhPsOTCFMQ9JsBtY6GA118lKGwPZOudVDt\n3TWj9TJ+HD8I6RpHrUi2b+DbB22GodCEQkdqtRWZlI0wKkrxwgAhJAKBlIKkaRFYCqEEgVJ4fWKX\nkBaGiuLkXBVgmya+G0TWjmREmEIJGCCMiByjov8LwwXtR1nTUglCS0c+cBe0iCwoKE1WG+ilgHRF\nMTqUYWevg0fI2lqdgUyc3UaXteoe2UycvUaX2maTaq1BEChevzxGL1AIQzI0mOTxwiZXz49w+1GF\nyZEsTxa2KeRSXJocphsE2KbBVr2Nv9Ugl45hmwZTpUFuPFzl6pkRhCHY3Gvj2CbtrsfIcIbV7Qap\nmE3WsXGkZCCTZKkW1VUnHZvqdpO3ZkbYabuMDWS4PBqn6wekbIvRbDqy6gQhprSZSAU8327xqJ+d\nPD2YoNZuozUsbe9G0YyTI9xcqRIqRTGTQirBhfwQ8xs7NPoRco1uj1alx/WpMh8srxOzTC6Vitxe\nWidUmuvT0e2H8WB1k6+fmeAHz1eODOkFoWaxusNMfhA3CAh6ATv9/OZas8tMcZC9jkugIwI9FIvv\ntw9emypzY+3gcQwhGHLiPKzUeGNmhPdXjg4LWoZkr9nlSnn42DKIvipGcDJBjLKl07y7sHbi8nqz\nw9lcjhu7x7f7cG2TbMphq348SWSn1eX8ZIGO5zO/fpyMZ+2IjP/GpXMI/+Rc6w+LwykfjuNw7tw5\nZmZmWFlZ4Yc//CHDw8NMTExg/5j4wVN8OJx6qD9fEEL8KvDPiHKx/kRr/Yef8lPax6lC/QrYtv1z\nK9SfdQL6s+Lz8nrO5vP80a9+m//lO7/OL5QnyJgOphboUJMSNmEQIj3dGyvMAAAgAElEQVToSYUR\nykghtSAlbASClvYwQ4GDAVLQJog8wDqyMDS0B67Yt4RgRT/2MdfE8U2UBO0ItCOi9Q5/fKSIdgEt\ngSVNgsPythC0hE/oa1RT4urjp3yFK2iEPbpGNMkXDyzSoUPct/CM8KjbREtsbfbJdIQw0HhaoW2J\nsiKyqwLYCz3aKqSlApSK4u2wBB0d0PF8AqHBEngiRGLsk2nZP9aUGmQnKlERIRiuIBQCFRMYvSgS\nz3QFKI0ONE4P4quK4R8qBv/a5woDGAqqmw3OzUYWhFbbo5hP9f/uURyK/l5b3+XS2cj6ceveGt22\nx/17aww6MS7PlOj1AqZGB1mq7DE3kWdzu0XP9Xn2bJPRfIZMwiGXTVDZauJ1A2pbbb50fpw7zyv4\nXsjOTot8KkEuk+Dx4hbFZBLHMChmkjyp7NJt++zW28wODZKJ2XzpzDi3Fqt0XI9eL+QHj5ZptF2q\n9RY/erLKfHWHMFQ83djhQbXBcCZNIRmRtIV6B1NILo70FWIN9VaXL0+Ocm1kmMpWgxvzFe4ubxAT\nBtNDB5YDpeH2YpVvnJlkwHK4sXBgAbmxsM71iZH9dXPJOGeG8nz/4RIXS4V9RfYF3CAkJk1ShkWt\neZQ0zm/WmUrFo/bFfP5IlfetxXUulw8sI2+MlnhajSwVd5bWGR/IHNnW1XKJlVqDBysb5OIvBbMD\ns4M57iyuM/RjlODdeofRl7a5v6zl4nVPnnfxAsXVwjBr9eaJy00lyDnxE5ctbNSJmSbfnjvzsSVx\nnJTyYZom09PTvP322ziOw/vvv8+jR49wXffHbOUUp/jiQwhhAH8MfBu4CHxPCHHx031WBzgl1K/A\nhy12+SL54D4vhPoFxgcG+O+++Sv8+d//Hf7O5CxDVoIgVEglMIXECQziwiJrxMjg4OkQSxjRkKOh\n8VRISkftZtoGS5k42sBAELctMjpGKnCQvkRLQdcI6fnhUQLdF5Rsz8RRJsnQQQnQMUGXALr9wTwA\nDenQRkuBjologK8r9sl8OnTQL9IzAISgS4jnazqE4ElER+xbW4Lg0BAjkQpvCBHZNvqQvcgi8kJF\nt0MDT6sXM5g4yiA0dDSPCKSwkaYgFhiIdkTqoiQPgTIFgUWUJBJqLD+yjSCjdkUnFCTWNMV3Q4b/\nMuDL4SC2B1qB1wuwrMg+cP/hOpNj0Wn2p8+3uHiuFP09v8XFuYhI3324xtR4Dq017XaPmGMyv1zD\nFIKnjzfw2z6XpofY2m4zOz7Eo4VNLp8r8+BplYzjYGnBm+fHeLy0RSmX5t3by1yfGUUC0+Uc95+t\n0266TBcH2Wu5hL7i8dIOs/kMtiF5fWaUHz5cQQdw88kao5k0hVSCjGPz9plx4pZF0rZ4a2aUlutx\nf2WTqxMlErbF8vYeXgBvTAxTStrkbANbC746NU7Gsllcr/OjxyvMr+9wafSArG41O1Rqe1wdL2EZ\nkmvjJUqpFN+/v8RgPH6sgfTGQoXr42Uujw4Teoon/SG/u8sbXBkdPmKbODecp7Kxh9vxSTnHVdD5\nnQ7fmJo80aqxsrlHPhnncrnIjfkDtToINTFh7Hu3Z4cGudWP0HO9kFLiKGk+U8hxa3Gdnh8ykT1O\nmq+MDPNso07hhCFLgLnCEOoV2ofXCY5ZRV5gtbbHWu14WyPAbsfldy5fJBtzPjZ7xatyqA3DYHx8\nnK985SsMDAxw8+ZN7t69S6t1XG0/xc+JT9szfHr5WTzUXwKeaa3ntdYe8GfA3/uJ9/qEcEqoXwHb\ntj/zOdSfFD6vr2cgHue/+vrX+Ze/813+8aWrjCczOFpgCwM3DFChpuH72MrE80K6vYC4bxILzWhA\nqRPZKVDQ80J0B7pBQEN7NJWH6qdRQKR0IyAVWggdnUq0lYkpJL2eot07ZAEhIurKEGQCB8ezaOAf\nSeaI+LzA8kxQUarI/g4nBHrsDxFqg8g/HULbC6LKcBcSgUU2dLCVgYNJTJmIAGzPQNoyypwO+wOH\nKJLSJIVFwjfo9UKEKzB7kkRo0Qp8/FBFXl8nSgsxAoFSGqsb5UojNdKH0NfYLjhVTe5mSOnf+LzV\nHiTWD3fY3GiSSkVKbX2nw+ULI0xP5jk3UyCfjXPxbInzZ4oIBbOTQwzlkqxWIhuI1tBzIxK+ud3k\n7HREPB88WWesPEB1s0nohezudHGEZG6qyP1n60yP5rjzpIJjmfzo5iJfuThBt+dx9ewI7z9YRfua\nrc0mc+MFGu0eO7ttAjfAEpLLEwUWNpv0egG3Hle4NFLAlpIrkyVa3R7zlR38QPGjRyv4vYCdvS4f\nPFljrpBn0HZ4vLzFoO0wnRug2epx6/kGDgZbTY87S5v88MkKGdummImmPNs9nwerm1yfGtn/yORS\nCSwteWO0zO2FKpW+4vq4UqOcTpKJHUyMDiZihL7Cwdi3irzArcUqb/QV7GtjJRbXd2j1PCr1JuPZ\nzDEF+2w2yY8eLzOZHzj2/Wq4PWYHBlk6wS7xfLPOtdESccuk143OfrzAo/UdJrPR0KUhJYEb7n+2\n7y5tMJI9GMg0pYySWIB7y1WGM0eHJdOOzZPVLR6vblFOHyfc0/lBbjyvcH546NgygNl8jomB7InL\nAL42NfGxlq/8NDnUQghKpRJvv/025XKZhw8fsri4+LE8n79R6O+nTy+fnQswJIR4/9Dl3zv0jo0C\nh+teV/u3fSZwSqhfgQ9r+ThVqH8+fByPYxoG/+7rb/Avfvsf8u+PTXFhIE9G2phaMmg49PwAtCBj\nxugSooC4aSGsftawMBBSoi1BXJs4GNEPrB3ZK2Q/Hk9rCJTG7hnojqAnFG0CtAnaEjiBQSyM1Fjh\ngeFJGsqnJ0KEG6nGL3YsaWWjhKYnFA3t46HQPjg9g2RoIu1DP/A6soR0dYCQ/fQOU9DtBeyFHj2p\n6KiAQCti2sIXmjDQqKB/wCAFoYKOH9LuBHRQYAoc00AYgrYOsJBkDJukbZPSJoYLSmiMAJTWmBpE\nG6wdRe5OwJVbFpOPBOl6FEPXafVwHJNiIcloKcP56QLFdJyw7XHv/SXCts+zh1Vuf7CMqeDJ/SqP\n7lawQ0G90qSz3WWiMMD5qQLFXJo3Lo2RTjncfbTG7OTQfm22aUieLuwwPTrA46cb2KFgOJ1iKJsg\nGbd5vlKjNJTm/bvLhG5Iq9Hl0swwj5c2SSdiPJ3fpJROMjqUwQtC6nsdni1vU0zGSFgW58cLLFTr\nbO92eL6yjRkKrkyUsKXky2fHeFLZRmiYGc5xf2UT2zQpD6ZZ321R2W5wbSpS2ld2uyQsi8mhiKiu\n7DRptV1mCgP772ltr83Xz0wyV8yzsdPixnyF956tcW2ihHEooWVhc5eMbZN1LK5PlAl7irtLG9yc\nr3B98sD+8QK3F9b5pbNT3Fk4Wjf+uFLj2nh5//r1iTLPa228QBH0QuLW0bGbTNyhstng3I8hq0/X\nalwuDe+T/8PQgUIA10ZKLB9SiEOljyjRV0eGqfZLbZSC0fTROLu5whBtN7J7DNrHWwwzZqS62yf8\n3Algo9Zkr3GyP7qcSfH2zPjHWr7ys5B1IQRDQ0O89dZbjI+PfyzP528cfhrV9PTySSrUNa31m4cu\n/+Or3r7PEk4J9SvwYS0fn0dF98fh806oD+NCNsv//Ou/wf/x93+bb03PMGA52BikhAUaMjgkhIkK\nNU5oILWgEwbgASG4OiRUGun2s5c9TVLaJD0LJzRxtaInNViCeGBweH6wJxQmJo5rIEKBOtRGiNW3\nZHQFdKDl+0cUbYkgpk1coWiLkDDQmL5kQMXIqhgxy0C8OLGtItVZ2/DiJhlC6GncvgHcRBDD2I/r\nszGICQNt9ZUCD1SoiQuTRGjh+4qW7yM19MKAmGUiXAEe2FuK7K0e31weYOT9kOy6ZmerzZmZyB88\nMZ6jmE9ycaZAbbXB0/sb3Hx3kYFsHHT0OEKD7JPER48qlEvRqf8nTzc4e6aIVpr799cQCu7dXuHG\nu4vknBjjuQzZZIyzUwWqmw0u9a0h2zsdUkmHB8+q5LNJbtxc4Uwpx/nJIulEDCkljZZLbadNZW2P\n82MFMgkHx7HY3m3zfHEbB0k5l6Y4kGB7t8vuXoeF5RqzxUFSMZt0wkFruPNsnZ4b8P6DVV4fL1PO\npBiMx/jymTEGk3GU0lyZLOGHitsL67w+VUYK2Gy02dptcW2yxFRhgKnCIFaoeK2QJWPbrGzu8VcP\nlggDRTp+QBZvL1a5UC5gGdEu3JCCXDJOzrRY3IhSPF7gZVKdT8U5M5Tj+3cXj9hKDq9/bazE9fEy\nN58f2DjW603OFw+Is2VIRhIpNnZbPF3donCCOjxbyOG7J4sSq/U2b0+O8WB549iyu8sbTAxmycQc\nnq4djbq7v7xBLhF5njMxh8crB1aU+Y1d0s6B/aWcSfGgXwLzYGWLwcRR7/bFUoFqvcXixi7jg8et\nJn/v2gVkf9/3aSrUL0NrjWEcT1k5xSm+4FgDDh9JjvVv+0zglFC/Ap+HYpdPCp9k3vUnAa01hWSS\n//JrX+cv/uF3+aff+CWu5kskhImBoO37CCUAQRhqcEEQNQFavozUXQMMEWU8t0KfDiGeUsQCuT+0\n6AqFEoKBMEbStzCVpK18PEOjTYGljP38ZeEBPaJBQluCFFiBxHAFwgXtaXoy3OfYQkTDk3t+j4by\ncJUCFdk8EsrCkSaiF903qgQ3yFoxMsImrW0MX+J5IUltkcUh8EJcL8QIBDEVKdOB1tGgooSEsEhg\nIZRgyE7w5nCZX7FGGP9XPUbf9cmuajbW9kinI9JimhLtK66cL7P6bIuHt9e4e2uV4nBy/33Y3eng\nOJHqubZa58L5iAyHocaxzf3XWqu1iPXX29pqEotZUZmPFFSrDW7fWCZpmsS0IOgFnJkcpOsGTI5E\nfuyl1W0GswnuPVondEMqyztcnxsh1JrR4Sx7rS6drs+DJ1UK6Ti5bJLBdIzt3Q6NPZetzTZnihla\nnR4jQ1mertTotnv4XZ+JoSyTxQGWqnVemxzmzvw6KtQ8WtrivYerZGybteoe955XuT45Qsa0WazU\nmUjGGUok6PUC7sxXGYoneLRS4+lGgweVPUZSB+RvfqNO1nHIpw5I6/2VTS6UC1yfGqGYSHJ/aZPl\neoeUbZOJH1Vqb85XuDbR91T3FE8r22gNC5UdJvJH7Q6GFFihoLZ7vPTl9mJ134N9cbjA037TY8cL\nKCSSR9YtZVPMr+1wd3GDc8P5Y9sSQNANOWH+FjQMODHO5HO0Xoq68wPFTC5S8c/l83R6B4TdDzXT\nh+wbI6n0vtVEKc1sLnf0OQQH+7RS8ujzN4Tgt65diJ7Ox0ioP8y2T2PzPgJ82ors6eVlhfpVeA84\nK4SYFkLYwHeBv/iJ9/qEcEqoXwHLsj4Uof4i4YteIPNL09P881/7Dv/yu9/j33ntGpeyBTKmTVwY\nxDBxLIO4NElJm0BoDC1ICxsFhKbGRhBXEkEUJRdDkiNGMoz8z3uqR4cAS0us4KAAxteKpOXgaIOk\n6eAY5pGdiiUMLBmVsAghiCsL05dID5LKigYS+6quRGAHJh0V0NEBLiG2aZAwbbQp8YRmz/fodAOa\noY8nFEhBECoagQdSMGDFiAsTQwuywiYmTKQSONpkJJHmG6MT/NNf+mX+39/9Xf7o177Nf/2Pv83s\n9IFq2Wq4jJazXLxQIhu3eXx7ja21vf2hQ6009IkwwPZ2izNnDlTS+acbDAxE6uPS0jYX5qKhxHq9\nw5kzw/t/n+2ngSyv7HCpT8LvP6gwOJDk4YN1ek2POAITeO1cmVbH208KWa7UiTkW791YZiSTwjEM\nXr8wysLqNq+dKfF0oUbciGrm3zw/xvPVbcaKaR4u1imnUzjS4PrZUZY3dskkYjxa3GSn3mYkm0Jq\neOvsKBv1FqWBFOm4w41nFa7NlJEIbj6rMFvO0+z0WK53SdkWg8lIpb8xX+H16fL+QcSTjQZXxov7\nw3RrOw0sISkPpDg/MsS18RLzK9u4HY96+8CysLrdIJ+Mkzg0qDiQiCG8EOUpGodKWbp+QM8NyPYJ\neNwyOT9c4ObCOoT6mMUDYKla58uTo9xbPKosP1rd4upY9H45ZvS96XjR/rPn+se82ReHc9yaX+fy\nCSo5RO2J9b3jpB7g8WqNsYEM909Qt9d3WhhCkE/Gjy1f327s/3+ODWR4tHrQjLi8sXdkcPFrZyb3\n/dofp+Xj49z2KV4NwafvGT69HL28ClrrAPgPgf8HeAj871rr+x/7B+WnxOm3+BX4MAr1Fw1fJEL9\nqsewDYN/+/Wr/K+/9Zv839/9Hr9/7ToXBoZISRsLiQ7BUpH1wvdC7AAcX+J7mm6gMFVUuuIqzU7Q\no60CUsIm3o98d3WIlpq0tsmGDvjQCj16SkX/6hChosSPAe0QKEWv33CoAV8pdAAKQTsMkaFAeoKU\nskhpG1MIksIiiYUTGvS8kI4fYClJVtqkhU3cMkkLizQWGWljYRBTZqSeez4GEq00CcPifDbH9y5c\n4n/7rd/kz//R7/CH3/zbfH1yYv//y7IM/uP/9JuYZrQrmZrK06q1UN2Aei0aJNusNpibG96/z9ZG\nmzNnDspEHj2oUCpFqqLrBpSKB6feV1fqJBKRB/bhwwrl/noPHlQYKUcq5fOFTbKZyFZhWwZCwNp6\nk5FShnt319hYqXOmPIhjGLw2V6bV7lEqRD7cre0WCws1Htxf48sXx1nb2OPcVIG7T9ZJxmx+dHOR\nty+MEwSauYkc9+Y3cAyDd28vc226TCpmc2Ykz17LpeP6VGsNbjxcYzKXJfBC5spDXJspU9vrcHlq\nGEMKbs+vc2m8iCEEy1t72NJgOBsRt5vz61w+5I++u7TJ1ckSY7k05woZEmjMAHb3utxZqNL1Ax6t\n1jhbzB+pxV7c3GU8lyVumbwxWUZ5irtLm6xs7jL+kiK9udemnE5TzCQppVI87Fso1nYazJWOe6Pn\nhodoN0+2wi1v7JKJOVwYLrC8tbt/+0qtwdXx0v71oWSMhWq0/Hllh6RzNKVECIgJkwHneLweREOb\nM5kBPP948clOy+VCqcD04CB+cFT+rtZbnCtGavlwInnk4HW70eHcIUvLP3jjII3rs6hQf9FEm08N\nH1ZRPb18kgo1Wuv/S2t9Tms9q7X+g598j08Op8Uur4Bt2zQax1u7/ibii0Sof1pYpsn3rlzme1cu\nE4Qhf37/Af/q2TMWGw3aYYBtGIBBO/SRhiBhWHSDAFeG0VChadMOfdqhDxoSpoUpBU3fo9U3Vgsp\nsHXUxueFIUGo8FG0pL+fHmJoQdKwEELQ0wGe1LwwRltKogW0w/5pbw0iBGkKQjRCCpLSwg9Dmr6H\ngKisJohixOKGhYlEoMiYDvlYggtDec5oxb/1y7/0U/1oT88U+Eff+xI331vi0e1V0JAd9EgkbDqd\niHg9urfO8HCGjY3o+7S8UGNgIMHubocw1MRiB7uixw+rzJwtsL3dJuZYjI4OsL7RIFSafC7JVq1J\nECjifQtIp+Nz8UKBvUaXxaVtLl0c4d7DCquVqBBmp95hdGSAu3fWyKQdrl8cY2Vjl0vnStx/UuXS\nuTL3n6xTrTbo7rokClmKuRRPl2uUCxk+uLdCuZCm7ftcOzfCnWfrvDZb4tajClfnRni6tM21M2Xq\nHZeO65FJONxf2ODS9DA3Hq8xNpSh5fbY2GpweXoYP1SYQnJuKEUinSbUGsuUjOUzKBWRq7dnx2m6\nHo2Oy5PFLc6ODXF/eRPV/25kYxaDyRj1foX3g5VNLk0Uub+2iQakEMRMkysjRd6fP2hO7Hg+SS8g\nm3DYO1wfrmF6YID35o/aEe8sVpnOJ1jo2z+uT45w81kUf3dtpsytlwpk9jouv3h+ir98uHjsc/K8\nskPKsel6PilpUvej597s9rg2O8IHywelLFfHStx9XkUIGC1mWHupPXF0MMPC6jaGlIQnDH/LAB6s\nHlevARKGRSbm8HD5eAxgyow+U+VMiq+dmTz47/mYPdSWZf3kFU/x0eOnUEVPcYqfFqeE+hX4PCnU\nH+cOHz5bRPfD4md5Lb7vs7W1xcbGBrNa89Uvf4lCoUDNdfk/nzzl/co6y80GncBDhWAgkAocIfGC\nqHHQEQYxy6QT+nTDyGbhYGALg47v4WmFJz2IbNOkpI1E4KsQP1QoNE0OPocGgpiCAI0fKqQQpE0L\nU0QNjcqAXhAglMIxTAwl0BjoAKQhUCEkhUnMtCinkpzL5fiF8XH+1tQkhmEQBAF37tz5mT5Pv/nb\n1/nrf/14X2HYq3e4cHWUB/cjwhUGimT8IOO41wuZmsmwu9thYCBBzDL50vUJapst6tsdvJ0unc02\nLaXZXqkzPJJlo7JHbWmHuQtl1tbqqG7A269P0el5dFyf6ck8C0vbLK/sEI+ZdN2A6amIaN97UGF8\ndJCVtTp+12en2qSQTTA9luP+k3XmZoo8nt/kyoUR7txbY262SDmXxleKWr1Nu+vR80IWFrY4V85j\nSclkeZDbTypcnBnmgwdrXDs3QrPRY25siOpui4eLG1yYKPBweYuJ4gBKae48q/La1DD35quESnNh\nMs7TtRpBqBhMx3Esk2o/EeO1qWHWtvYIlebewgZXZkrcWaqiNey5PkOWJGkbtL1Ipb2/vMlcKUM8\nkWRzp8W951UAXj8zwo2FA7K6tdfm7MgQLdcHNNcmytyer6A0XJwo8GBt68h7u7HbpZBOMpHLcuvZ\nwXaer9XIp+Jstw7sJhdGCvz1/UVmSzmeb+4c2U6z2+P12REE7JPyF3i8vEk27rDX7ZGJOfsxfFpD\nMZE4RqhzToyH1U0uzQxz5wTiHBMGuWSC9d3j6SKPV7e4PFXig/rxWaZnaztYpuQfvHFpP0MbPl5b\nxse97z7FT8AX42ftFJ8BnBLqV+DzQqhfEMQvAqH+tC0fAGEYsr29TbVaxfM8CoUCFy5cIBY7OP08\nYtv8kzev80/612vtNv96foH319dZ3Wuw1W5hIXB0RHhF3yZiaYVtGIRa0QkDlBBIAXHDRCmNGwT4\nUiGkiOwfQmAJiYnE9QK0Bmn2BxINk7iMBiPbgY9LiCUjoi41CBEV0djCIGNKctkkY+k0lwoFfnl6\nitETCjR+Xpimwe//Z9/kv/iP/gzVb+x7dLfC+HSelaWIWC0822LutTKPH1UZKiSxpODqhTL3bq7Q\nrDYYzCVpdXw8L2APuHhllAf3KmgF8dgBGd+utei5ASuL27SbLs1WD88LGBsfZLyQYTCfQsuQh89q\nPHi0vk+0pRQIEZXHzM4UePSwyqXzZc6M5IjZJom4zd1HFSZHczx+vsnluTLPn2/wxuVxnqxuMZxL\nsFDZY7Dns7C6TTYd4/q5MZY36kyUBrj1pMKVM2Xev7fK3GSB4VSKhGlyZbrE49UtxgpZgrDBvcUN\nLs+UuLtQ5eHSJpemhnm0skm92WUok6CQTbK11+be4lESfWe+yrXZcuRvBmrNHhOFLGGjRS5uk43H\nWKzucWEyxfrOAZG8+azClekSd5ar+7c9rdR4+9w4m7vtI+R2dbNBPp1gu3ngXe6FmjeLeX7wePnI\ne97u+UwOD+4T6sn8ACvrdbQCFUSfe/XS96zT6dHsHM3FhsjLfW2iyAfLFWbzg9xZOHiu95Y2GM4l\n2WhEFqJzw3keLm32t3fcepKJ2Txe3mJuongiodYKdO/kSNO26/HamdL+MOL+fT5jKR+n+AhxSqhP\n8RHhlFC/AqZpfq4I9ef9MT7Jx3kZSinq9TobGxu0Wi3y+TwzMzOkUqmffGdgKJnku5df47uXX6Pd\nbrO4uMjIzCw/XFnlUa3Gyl6DrU77/2fvvZ4b2fMsvw+8IwACBEBYek8Wyapb93b3dM9O96yZmdVo\nZrVOWqNd7YxCaxT7V+hd/4ge9LahF8XEzmq6py/rVhW9AQnCe+996iGTMEVeW7ccGyfiF0Ek0iHB\nTJw8eb7nS63Todbt0u71UMjk9AUBmRzoQasvoJLJpfQOOVq5Rvwhl0upF0olCpkclVxG9847KpMh\nyMAoV6NRKDCo1Fh1Ouw6PXPTZj5zOfnM6x5T294VVjec/PGf7/Ff/u/XgFiA2G/3kctlg0QOjULB\nnMtILFCgEC7h8lmQyWUIfYFCvsbWno/TY1E5DN/mBraR2+sMqxuz+K9SZDMVdnZ9nBxHyedq7Ox6\nOT6OEo0U2NrxcPo6gkwGsy4jxukppsxaUukKoUienU3RDlKrtlAq5JxeJFhZtHNyGGVv10uj26Nc\na6JSyrkOZbCYDLx4FWbRO41CLufphodXFzF211wcXSWYNuqpFht4bCZkThmngSQr3hkuQxn2Vl28\nvohj1GtwGg3I+/B00UWp2SKeLbNoNxDI1Di9I863SbLlOk7LFNMGLcVaUyLRbl5JCvPrmwTPVtzE\n82XRdy2ARavlNJwmmROJ7eFNnK15B2cjcXKX4TQLDgvBdAG1UsGOd5bXlzFWffax77DSaLFqnaFQ\nbdAXBFQKOV6Djl+fhNlfcfEqOG7xOAun2VmYJVWqUqu1qLdF61EoXWRv2cWr0HB+o05DsdDAOSNm\ncr+J83CKfZ+To5vk2PR+X8BrNpEq15DLZPRaQ9/0bbLAsndcDV+0THNSTHMTzaFWKGj3xn3W2x4H\nlep9Uj/4P7Zax9JU4OP0UE8wwQQfFyaE+hug0WgmhPo9buN9beduG4IgUC6XSaVSFAoFLBYLHo8H\nk8n0Vj9wd+u36LT8ydoKf7K2cm8eQRAIF0uESxUy9Sr5epNis0G906MrdMVmGzLJKy3IUMoEFAol\nJrUam0FPLh7j2eYmNoOeBYsF/Y/swfyh38G//Iuf87d/7SefE9XEeCTP1r6PXq9PPl7k9G9vWdoc\nFn4lIgU29jycn4iE8foizrRFT7FQp1ppsr3r4VR6r1JsolDI6fX6BK5TGI1aKpUm11dJzNN6SsU6\n8WgBrVZFs9lBrVTgPxcJ3ZMnXtqS11avV5NMl9nd8XB0GqNSa7nLYbEAACAASURBVKJUyjk8irIw\nN4OsI/Bsy8fBcRiPU0smX6VQbtBq9ej2i3yx4yOUKrK5NMt5IMX+hpvX53FW5+0s2CyY9Vrs0wYO\n/Qn2Vl0c+hMYdCrK1SaBSI7dVReFXI2GSs7vrfuottookfPzzXmqzRa9vsCUVkWt1RH/D/sCv785\nT7nWotZsc3ObFbs+Xg+J596yi9eSci0IcBPJ4Jo2kCiK30O716deb/N0wUUiU+G1Xzymt/E8zump\nQeMUAH8sx9MVNzfpPA69npu4SFbPQ+l78wLUai2MSjXB/Hi3xNtEnimtmmqzjUwGc2YTF+EM2Uod\n94yBeKk2Nr8cGXoezlY+C6cx6zUs2SwcX48T7qmR/32jRoU/Kkb5VRottlecHEWG88tlMrK5Kolc\nBdes8UEF+0/31+9Nm6R8PF5MPNQT/FiYEOpvwNs0dnmfmBDq74der0cwGKRQKDA1NcXs7CwrKyvv\n9UdNJpMxb5lm3nK/nfN3wUGnxeeLCz/qPt3hbW4mdHo1/8t/+gP+z//jvwCwsGSjUaiSTVWpVsQi\ntJA/j2VGTyEn2griwTxanYpmo0O71WNp1USxIL53eZZgxjZFLlsllSyxvefl5DhKvd5mZ9fLyXGM\nZrPL0sospWKdYrHOk10fx8dRwuEiq2uz+P0pQqEc3W6Per3N7lMfXWSkM1Us03pS6Qq72yK57nS6\npNMVMukyWysOBJWcJxtuji/irMxbuA4VSKfKlLM1Zs0GvLPTHF7EWZ2z4Q9l2F/38Pokypx7Gs+y\ni0azw6rPhj+SZcU7Q73V4cifYH/NzWt/nN+ehtlenOXwWlTld1ddA8K4PmfnOpYTi+5ksLPoJBAT\nye3ZbYo1j42rmBj7dniT4Mmig2PJCtHuCbRbHXQqBa1uj02vg1qtTavWITtCZOutDo5pA0qFnG5v\naIOoVJv4TEbOwkM/davTw6TRkpJVB0WORp0GOgJWs54g44S6XBeLDV+G4jybcw9IPAJoZffPtU2X\nneOb5ECdH0W702N31slNNHdvufNwGqtJR77WwGPQ4y8Nuy62G+OCyLbHzvm1eIzc5vuEesNtZ2/e\nxZuYKNSPGBNCPcGPhMlt8TfgbVqPv088poJB+OHq6Deh2WwSCoU4ODig0WhgMBj47LPP2NraYmZm\n5kcl0+/j+/iYv++f/3Kd5z9bYnPTSfgsTugyhW9h2FCj1+0zPT18pF4uNVgeyaK+PEvg8og3Gt1u\nH5t9aLuJBHNodaIieX4aw+4wDv52usQ4uKvLBEajmKtcrTSRy2WUyw2Wpezq06Mo2USJbLTIksfK\n0oKNC3+SGauBWKLE1oaLbq9Ps9nh8jROLllmbcHKTbjA2qKDSLzI5vIsp+cJDHIFW/MONColRoOG\nw8sYq/N2wvEi9ASuAxlK+RpfbHiRyWTsLInRcUf+OL4ZPQjgD2dZcFoAOLlOsi7ZMC7DGXYWpbhB\nAS5DaZZc4nHs9QUS2TJOy7AN92kozdzMsDlJty/j6YIbm1bLeSBNOFXkMpJlf3GcMAZTRXbnhpF2\nzxZcRGIFatX2oBPjHfyxLHtz4vJGrZoZrY5IusTRTeJeHB/ASTDBT5Y8Y8WMAMFMhSX7cP51l43D\n6wStdo9lu/XN1QBickejff+JYa8nsDhjwW7UE0iWxt7zx3O4pofHqD4S9xdPl3mTx/5PP3vy4LY/\nRg/1hIT/CPjQEXGTcX98wpgQ6m/Aj6FQvw/i8z7anL+vi/ePuZ12u00sFuPly5ecn5+jUqnY39/H\nZDIxMzMzad37DvGv//LnXB9FB68vj6O4vJbB69vLNHMjDWH8ZwmmrSLJFvoCeok0K5VyCtkqW9tu\n1jedeL0W9nd9bG97WF93sTA/w9zcDNPTeswmsSFMq9VldlYk4YlEic1Nse32+XmcmZkpej2BabMO\noS/w+qswNHo4zUZWFuwoFHKub9JMm/XchnJsrbtIpcoIrT6OKR1TejU6jYrjywQ+t4XrYBa1XMH5\nWYKlWSsbi7NkC1XMRi3HVwl2VpzkinVyuRqRcI6bmzS/tzXHkyUXrU4P14yJtuTbthh19AWBWLqI\na0YkgYfXCfZXRALb6fUplGrMmMTjVG20Uchk6KUMZ6EPjWaXZ8tutj0OmrU2vz2O4HuDoL6+jrPi\nGu9ceHgTZ3/BxabTxuFVgm5PIJIuseOb5U0EYjl8NjNWrY5wSsyS7vcFdMr7Dzxd0ya6jd6DP5SC\npFVMadUU8/XBPJfBNMaRIlQA34yZ1xdxttwPN4EJpwp4TSZ6b9YaCuCWmrNsuGyEUsNs7HSxyopj\neBysBh3/YHf1wfVPUj4eLz50I5PJGB+fMiaWj2/A26Z8vI/0jbvt9B/IYv0U8bbqbrfbJZvNkkql\n6HQ6OBwOtre30WiGrZjfx/fxWG5wfih8izb+6B8/5b/8X18BIPQEtJrxGxhhpFis0+7hck2jVChw\nOIz0uz2ebDo5O4ySrbQwaVUE/OKjeq1OhVKtpFpuggw8czOU4mXquTr7Tzx0+n063TZzc9NEoyXi\nsTxqtZJ2u4tj1kQuV+XqMsnSkp3ArWiZiEXyxCJ5tnc8CCoZyKBYqhOOFpgyaAgE88z7pjl8GWZ/\nz0ej26NSb6FQyLkMpHDYjJycx9lZd6ER5CwszHB8neQ6nMU5YyQYz7O35ubwKs7LkwhOu4lctonb\noWFv0YlcIUerVhLNlciV6sgE0GtV1Jsdjq6TrHpt+KNZitUmC04L5XoLlVKOSiHn2ZKbWqtNNl8h\nlqlgVNeJ5St0pbbah/44a76hPUQQIJ0tYdAoqbW6yGUydhec5HO1sQg8gONAAodZS7oytGDoNCq8\nBiO/9UfH5r2O5niyNMtxRIyxs0zpaNe7HMWTLHmtBFLjMXqhdInNeTsqmZzTwDD6rtHusr/g5qug\nqGrLZKBHTMFJ56rIZPDm6aVXqxE6D59zoWRRbJTTvv++UT0k7v/ki23Uyodvsj9GhXqCHwmfOImb\n4OPB5Cz+BvxYhPpd4zFZPn7IZ+n3+2SzWU5PT3n58iX1ep2VlRWeP3/O3NzcGJm+w2M5Xh8z/vlf\n/gKjWTd4HbxKsTzSMTESyLG66cRqm2L7iYdSooiq2+fiRYir11HK+RpCT/yeAhcpFpZFK0Sz0WFh\nSUqnEEAn5Vt3Wl1qpQYXryPcnKRQ9wV0AjgsU+zv+ZiZmeLiPI7HIyrl3U4PmUxqcS61Ly8V65y/\njhL2Z3i+N0ev12dxXlQxy+UmapWCw6MIjVITodnjs20fnU6fKb0amQwCoSxCX+DgRYh1j401rw2X\n3YxSIefwKs7m0iydbp9Wu4tGJSeeLiF0BY7O43x5GMamN9CsdqgWm6zOzrBkt7Aya0XZh/0FF0t2\nK51GlyceB81Km0i0wG9eB5H3IJYR/cChZIHt+aGSKwiQzdcwG4axj5VmF5fZgNusxWXQc3SZIJou\ns+oe74zY74O8z6Bz46LDQq/Z5+A8em9egHS+ilqpQKdWYVFpyEpFkQrhYTJq0WjGyPQdbqI5dGpR\n79mbc3ITE73TyVyFTbf93vxmlZpO837XRIBCpcFPF31cx+77r29iOVQKOWqlgn/6050Hl4eJh/ox\n40MrspPxeBTqCaH+Bryt5WNCqL8/vutnEQSBYrHIxcUFBwcHFAoFfD4fn3/+OUtLSxgMhq9d9l0f\nr8f0fbwNDEYt//wvfzE2rVZqDHyrC8t21EA5VeLs4JZkpIBpekj6ooEsKxtDb6/QHx7Ty9MY0xbR\n+nB9kWB+SSR3AX+apVWRTN5eZ5mxTXF9luDiZZh2sYnXMY3bacZmmyISybOxLhLpTLaKUiknGi2w\nuemmWmmRi5dRdgTkAszapyiUmmysOREE6AsCqVSJo9chNudt6DRqdtbd1JsdpiXryYU/STZT5egw\nwv6ym71VN6VqA6tZTzpXZXZanO/0JsneqrgfR1dxdpad1JodTvxJLFM6biI5roJZqtUm0VSRRLbC\n4VWc3eXhsTm6TrAwOyxwPfTH2V4Y3rwUqg3cI37rZZcVNSpsBhOJfG1sPRveccKaLjXZW3DyZG6W\nVLpMsSKq2M16G8UbymqmWOOJb5aFaTOh5NBecRPLsfnGet2WKY4u7m8PoFJvsem2YzFouQ2PK9u8\nUday7rJxcZvBH8kyY7h/8wyg/JpSmGqjzZrTxh/trt6LyhtFv9//6BTqCQmfYIKPCxNC/Q3QaDRv\nVZQol8vfixXjsRG4r/ssgiBQqVS4vr7m4OCARCKBw+Hgiy++YHV19a3j7ib48fH3/3wf99zQw5uK\nFVjbtuPzmAifxjg/CLK6OSyS85/E8c4Pfa31SnNAwEPXGZbXRJLYaffwjKxXOUJIeh3pnBPAIBGs\nWrXF0oqdWCjHV39zg0mtYsk7g16jRKtVkc1W2JBU6kSiiFqtJBzJM+ezcvIqig4Z64szhKN5bDNT\nRGMFtjdcdDp9Ou0+FycxMvEi+xtuQrECT9ZdtNo99Do1cpmM18cRaqUm6VgZr9XI3qqLfLnFE4lI\nn90k8UmEOBDJMit5qI/8CZY84vG4jRcGRY0Al7cZPHaxOU+/L1CuNtFrhi6+cDyPzTwkiTfRHL/Y\nmmfFYSUYynEVyhCKFQae7Duks+WBOgxi1JyiJyOdqdBqD1XgWLbM7sK4x1ohl0OrTyp/P2e6Ue8M\nvkuNUg4tgVa7R7f1sLIcS5WZM5upNcZFjctwBo/VNNi3Vm14jba+4b0GWHFaeXEawaT7GrKNjH/1\ni70H37uDIAgTD/VjhTAZH9X4hDEh1N+AiUL9/vHQD0uj0SAYDPLixQtCoRBms5nnz5+zubmJ1Wr9\n3j9G70Ohftf4VFJEFEo5//o//RKAaauBtQ0nycsM6cgwYi0VzqEaIXBq7dDHmojkxwh3d4TQXZ7G\nsEipFgH/0BISCmTxLYi2jqvzBD6JoF9fJpkyigq4DBnB6zSv//aWjXkbTzZcNOoddDoVhUKddcma\nkk6VUasVRCIleo0uvUqHJZ8VvV5NIJjFZNRyc5tha91FJlOlXe+KbeDlcmam9dyGc+ysuxAQuwSq\nlQpOL5LIu9AsdagVmnyx5WPOZQFBQKNS0mh10akUqJRy+n2BUrXBlF4kiodXcTYkO0e720PWB41K\nPHaFShPnCIGuNtvMTOlZ89rYX3RhkCl5dRShMdJdsNZsM2saf5pTqLVwGcXtOcwGXAYNr89jOE33\nmxzdhHOY9SJRVchlbHvsHF0lWHJY7s0bThXZloocvUYDKUkZD8TyrD1gH3Gap5A/zLVxGMV93p1z\nEhkpNEzk6veSSVR9Od2uwPLsw+khRpWaldmZB9+7w8fmoX4s1/sPjg9NHidjQqh/V/BjeKjfh0L9\nPlI+3hfuyG673SYSifDVV19xeXmJRqPh6dOn7OzsYLfb30ot+l2Ptfs2/NjE4fPfX+WXf7xNu1jD\n/ypMpdBgYW34mL+YrbG6NSTNgfMkc0tDglUu1oYq9U2G5XVRpe12+rhHkkMUI/s9Srw1WpFwNhsd\nFqX13gYyLEvWkGg4j/8kTvBULCpcX5vl9jbL1JSGXL7G+pq4vVJZbHH+1d8GWXRMszJvZ2lBXF88\nWUSnVXHpT+K0GTl6HcE1bWBv3U0mX8U+M0UqV2V9Sdzm+XUSi0lNOJonn64Svs2RTZbZW3Kyv+LG\nqNPybN2LWqUgV6wzNzv8nPFMCYtRtIvEMmU25ofHMl2s89PNOZ4uu9nyOkjEihgVKo4v41TqLVqd\nHga1eqxz5kUoze7iUPkGCGXr7M/ZKBdqJPOixePsNsXGG50Vq802iw4rSoWcbbedUylD++Qmwazl\nPgEvlRp8tuAmmBjPf5a9cZk0G7TEYsWv7WjoD2WwmfSEo+PZ141Wj/URcr7mmsEfyg62/RD+9a+e\nPTh9FO/S8vFDyfpE1X57yCbjoxufMiaE+hugUqneilC/L6L7WFI+ut0u9Xqdq6srjo+PAXjy5An7\n+/u4XC6UD8RyfYyYpHzcx9/97/do1EYygANZtPrh4/nodWZAfAEUiuHnS0WLYyp1pzV8xH91Gh94\nqQP+1KBYMREtD7Kvry+SA5Xaf57AaBJV6m5XPGcK+Rrr0vrPDyMkb3NMKRVsb7hQq5UEbjPodCry\n+frAFlKptDg7jHJzmuCz3TlarS4rUs51rlBDrVZyfpmiU++QiZbwWI2sLtg5voyz6Juh0+2jUsqR\ny2QEo3merLtot3t8dRimVW9zfp7g5csQCxYzM1otzUqL39ue48nCLEuzVtbdM+wtuXiyMEun3uGL\nVQ9GhZJmucPJaYxkqsxlIE292eHsOjmwhoAYe7e7PJ5FHYrnB0WLPruZZZuVcqlzL4auXG6gfEMB\nvo5keOpzcnozLC7s9QQcpvt1DNN6Ld3GfRudP5xlceSmwWc2Uq41CScKrLrvq8eNVpcNu41StXnv\nvc6ohWQk2SOUKOKdMY3Nu+Vz8HzFc28db+JdWj4mKR8fGB9akZ2MiUL9uwCNRjOxfLxj9Pt9MpkM\nJycnvHr1in6/j8/n47PPPsPn86FW3/dEvi0+5eP1qWJj38ez3x9m/NbKLZZGEj8qxTrLG0OSd3uZ\nwiepyaZpHXqtkp09Lxsbs9Bos73hRCcI9CtNfLMmFO0uBhnoFDLmvdMsLkxjNqjZ2HIz6zKjk3Kt\nW60uC1L+deg2O/BkR8I51BoljXqHhSUbmWSZoy9vcZp1LC/YmZ8X/c3BYA6dTkUsVmBjw0W93qGU\nqaLqgkIAp8NENldlY1Vcby5fRa1ScHwcQyvIcZmnsJkNmI1a0vkmO9JnPrtK4pkVG51kchUMejWC\nAOVqk1arSyha4OgkRiZT5eQ8zovDCPK+uNxVIMNtKDdQd5rtLkadZqDqd3p9VHIFcvmIKh1IjSnI\nlXqLFZeV/UUXyUSJQDRHOFlke35ckU7mKqzMDhuymA1aXCbj2M3SHU5vkvhGmrfMO6YJhbKUys0H\nlSiDUjzX9xacnAfSg+nqB8imz2YmFi3emw5ifN+seYotr51AdLygcdY4rpr/z796+uA63sQk5ePx\n4kOnWkzG+PiUMSHU34C37ZQ4IdQPQxAE8vk85+fnHBwcUCqVmJ+f5/nz55jN5ndCoh/ah095/Z8i\n/sX//quxznTB8wS6kVSG6HV6oFJ7F2Zw2KZw2gxU4kWO/vqKTqXJ1csw0es0zUqTVqOD0Be4Po1h\nMGio19pcvo4gdHqEzlOcfRmiXaqTuckQu0jwdM/HzhMP9WqTKamTYq8jqpmlYoM1KVHEf57EZNbR\nbveYnjZw+lWI0EWGrXU7MmBlRSTLd8WLt7dZvB4Lxy8jWLQa9jY9hCN57DNTZPM11qX5o/EC1XKT\nly+CLM1a8Nn0CL0+jpkput0+KqUCuUxGodRg0Suq69l8jdU58Qag0epiNmgHx/AqkMZhFQliodzA\naxtRoSNZdleGNyihRGFMlW51epj1oiJtMxt4uuzm4jJJs96mP5KmchstYNCOPxmKJEvo1QpmzTp0\nyAlG81wGM6x63/BBC2DSSF7saQPVQpNmq0c8XWLBft8Och5Mse1zcH2bHpt+cZvBMT2cXyYDDQpi\n6dKD6jUCeC0m6uX7JD+SKA6O37x9ml/uLN1f/gF8bB7qCSaY4OPD5Cz+BrxtUeIk5WMIQRAol8v4\n/X6+/PJL0uk0TqeTL774gpWVFYxG4yfZjfFDrP9TxfzaLD/9e1uD1/Vqi8W1YV5yt9Nn99k8Doue\n2Gmcl//v+Zi9oFkbPt6/vUgyJxUhtppd5kdal+tHSLpCWr5Ra9OsNDn77S3Boxir8zZ2Nl0olXKW\nVu681DnUagWtVpc5ySJycR5nxjZFu9ml1+jSrzaRCwIzVoNUvCiS8GKhhlIp5+oqRbPcolftsOCx\nYpzScnaZwGE3Uq40B57rs4sE9WqHs5MEFq2WnSUnBq2a3Q2xq+PJZYK1RfHzHV8mWJ0Xl7sOZ3my\nKs7Tancx6YdK9FUox6JrqAhfBlI4RlTo80AKp1VMD5HLZMiR8YuteUr5OkfncdrtHrVae+yY15od\nXObxFJBGu8fTZQ+VYovMSOTeqG99sM3bNFtzDlQdKFWGHuZG/b6VTqlQMK1U03wj9UMQBDwjkX97\nCy5uo2KmtPZrbGCyrkA8Xb43PVeqs+IUv9t/+4fPxlT7b8KkU+IjxtvYEyZjYvkYwYRQfwPe9gI6\nUaihXq8TCAQ4ODggEolgsVj4/PPP2djYwGKx3PsheV/+44/1eH1XfKr7/8/+/d8Z+85vz+LMzBrZ\n2vMg1Bpc/faGYmZYsHbXtAUgcpNhaSSXWjMSERe8TKCV5vWfxrA6RCJ5c57AI5Hjq5MYDolw3pzF\nCJ4nuD2MIm912NlyYTbrWZUsGFcXSUwmHb1un1mXFGd3nWXKqOPkRQivw8julpt0uozBoCGVHsbu\n1Rttms0OL78M4rUa2Vp24pZsEifncXweC91ufxBxd32bQSYIXJ4l8J8n2F1xsb/uQatSoteKVpVS\nuYlGSkLxB9PMTIv+5JtwbkCwAfKFBgbpOLQ6PaanhrneMmQsOKfZX3Zh0Wq4vk5zfpUctC4HSGbK\nPFkaL1C8SZSZl/zNKqWC/SUXL16FmHnDIx2KF9h6wyIypVNjlilJ5cZj9DLFJutvKNo7Pgevz2Nj\n+zzYh1AWrVrJ9JSWQDA7mH4VTGHSj8fhqZUKEtEiq56HkzumVGrcVhN/9GztwfcfwrsmvRNC/QHx\noQnkZEwI9QTfjvdVLPg+CeJ32U6r1SIcDvPixQv8fj96vZ5nz56xvb2NzWb7xhuVx1DQNyHsXw/v\nkp3dn88BYqTewuosTruBs19f06y1KOdrrGwPCeL1SZTZkSSP0Quu/ySOU3qvVmmxvCkSQaHPoFAR\nGETlCYKAzWEazL8kqcu3lylqhTrRswSVZIknu17UagVzktf68iyGeVpHvy/gcIrLX5zESYTyVFJl\nttedGKe0hMN5tFoV8Xhx0HmxXm9zfhzj9FWUn+zN43VbBgpwPFUbeK3jiRJ6nZpWS8xlPj6Ocnoc\nY8NrY8FuxmWd4rNND+uLDqxmA+6RIsObYAarpCKX621WvDNYTXqWPDNoVUp+8WSBlVkrtHq8+CqM\n0OlTlBIvSpUmy28Qz8tAGutoNrUAKrmcudlpXEYDx+dx+j2Baf194ptOlwaK+ZROjUOv56vTGAuu\n+zF63fbQTvdkwcnxRZxOp8+i8368XbXZZsNjxzdtGsul7nYFlt+Yf2dullyxjkb+cBvxm0iOf/f3\nnt0rrvwmfIwq8se2P58khA/vGZ6MiYd6gu+A36WUj06nQzwe59WrV5yenqJQKNjd3WVvbw+n0/md\nEzreFxn91Anvp4w//Kc7eBat2Cxazn99RfAkOpb4kQplB1YNBDG/+g6B8zjeQdtxYZBDDRAP5VAq\nxeWCVxmMZpHwXZ3GsM2apL+jg/XFglmUKpF03andsWAOGh26xQa0u3h9Fno9AZtDXObiNI7NbqTb\n7eNym2k1uxx/FcKgkLPgs7AhKehxyV8djYrFi/1en3g4T/I2j6IHT3e8yGWQSVdQq5UUyw2WJYvH\n1XWKDcl3fXQWQ+gLnJ7FOTi4pVVpkowWODuJsbswi1mtRi9X4LOasGjUGJBzehJnRqslFMhydhrn\n7DxOJlulKzW8icZLAxUbREvJnHPYZbHZ7uIZ8WOrlHJMWg1mhYpYsjSYfhFI3SPj+UqbNbcVvVqB\nSaEkHBcLB3UqFW8iGCuw7LYy55jmZsQ3HYzkUavuk2FlX8bZ9f025ens8ImGQaPgRipovAllxtT3\nOxh1Gv7hZ+v3pn8TJj7nR4y3VVQnY6JQS5hcId4h3hc5fJ/EfXQ7vV6PdDrN0dERr1+/ptPpsLm5\nybNnz/B4PD+4uPBTt3x86ir7u1a+HB4zLreRVEj0wdbKTRZHYvHyqTIrT4Yqtf8oitU+9NDqp4b/\nV1eHUSw20d5RzFZZldTtfk/A6RNVUaEv4JBsG91Of9CJsZivsSblX/vPEjg94vzZdJlep8f5ixBW\nvYbluRl6nR4ms3ZcpT6T/NWtLrOzJk6/ChM4jvF010u73WVdShBJJkuo1QriiRKbmy5ubzJEbrJM\n61R4ndPsSO3PTy/iuJ2iNSSbr6FRKxEEUCrkyGQgCGInwruvJ54s0e/1KRQbnJ4nsE3rRf9xH9qt\n7uCmpFxpsuQdqrilSoOVEbuFIAhjnSYBTq+TLLqtbMzZMMoUHJ/EKBTq91RdWe+B//O+DLt+inSu\nPph0GUgzN9Ia/Q4GlYp2tU17xH9drjbZ9DnG5jMZtISC2XsEHiCZrQyKE516DfWG6M9utXsPFi3+\nm3/wDKXiYfX66/AxKtQT/Dj40IrsZEwU6t8p/FBy9Ng81HdKeC6X4+zsjK+++opKpcLS0hKff/45\n8/PzaLX3HwN/321M8Pjxx//mJ2PfdfwmjUo9JDmldHlAHPu9/pjtw38UwyaR2l6vP9bavFQYFslF\nb3JopLi867PYwPoRuEqilabnMpXBdu7U7nSixOqWSMyD/jTxYI7waRqPY4qtLTfXl0lmbFP0esLA\nX315nmDaYqBWa9NvdZE3uihkYDJpyedrrEukORotoNWK3RgtJg0nhxHODiPsr7vZWJ7FOCX6gXO5\n6iAdJBjJsyUtH4rk2Zb+LpTqrIx4lovFBipJoY8lS+ysDr3QJ5cJ5t3DY3h8Fcc7En93G8mxsyzO\nL5PB5rwDq1rD9VWGckW0WKSyVbbf8FcHormxxjJeh5lSpo5VajwzCqUw/hRNpVTQqojdI99EsVgf\nez1vNVGqNNF/zZMuvUrFvGOacKI2Nr35RvGje8bEn/5s48F1fBM+RkL9se3PJ4u3VVQnY6JQS5gQ\n6m/A216wHkvKhyAIlEolGo0GL168IJfL4fF4+Pzzz1leXmZq6n4E1g/FYyhKfAwe6ncNz5KNz/5w\nSGxKuSrLT7yD18lwnqWtoUodOI2hl8im1T7F4uosO099cyQbVAAAIABJREFUrG05qWZKuO0GppSQ\nD6ZZX7VhUAho5X2e7HhYW5tldcPJ1q6XuWU7vW5/kHmdihVZuStEPIsPSHVdShSpVZqsSjaO24s0\n0asUJo2K5WU7KpWCy/M41pkpOp0eHkkR918kUaoUHB+EWPJY2d32kEqV0OvVlEoNViXfdCxWxWTS\n0Wn36LW7XB7HiN1k+en+POvLDgK3GWySPSUSLaCXbBrhSJ4pqRDv+CKOR1K1C6UmS76hCuwPpLGY\nRGIrCIKoAEmXNKF/34ZRKNbZW3XjMRm5ukhydBpjbX5c4Q1H8+jesFE06p0BCS+lq+SLdTLp6r0E\njWCijFV6uiAD1t02bsN5bMbxFBGAaKo0KCrcXXRy7hetHle3qUEDmlFch9LoUdz7Qb6JZLGbh7ag\nf/cnz7+3Og0Ty8cEE0zw7ZhcId4hPnWFularcXNzw8HBAbFYDLVazbNnz1hbW8NsNr8TheQxEOr3\ngU99/wH+8X/41djrTDSHbISEdVuiuqhQyvEs2tje92E1qsjdJDj6qxMChyGuDgKETmNM26aoFuu0\nam363R71SpNiqkLoMs7NYYSzX99w9eKWxHmCTqlOPVdhZ8/L2pZrsM1etz9IBInc5li8KxiM5FEo\n5LRbPRZWHORTFQ7/5ganxcDmhguvRKSvJJW61eoytyB1ZrxIEPanqGWqPNl0YTLp8PtTGI1aOp0+\nc5IV4+w8gc9npdHoELrJELxMIdQ7LDgtPNlwo9OoWF4QleBKtcXSnLh+QRAG6R8AgVAB+4x4g9to\ndgfNYgBCsTzbK0OF+TqUZWfFycaCg91FJ6VUFUVHIJEa+qSLxQaKke+kVGmy/kaSRzRZ4Ofb81xf\npWk0xULDdK7C9uLs2HwI4HWIn3fOquXcL7YpvwykMD+Q7KFRKJm1THF7mxn+T3QFllz3ixbXvHb0\nyvt+aQSxCQzA/Ow0f/zFd0/2GFvNR6hQT/Dj4ENbHCZjYvmY4DvgU0z5aDabhEIhDg4OuLm5wWg0\n8tlnn7G1tfVeGq48BrL7GD7D+8DKEy9PfrY8eJ2Ll1h5MmwDXSvWefqzRXTyPoGDa/wvbihlxGzh\nVr095rvORPIDRfT6OIZ1ViSV2XiJ5W1xnaVcjZUdD0KvT/A8QafWwv8iSOBliP19L9t7XnKZysAO\nopDsE4VslbllkcQF/Wk0WhWddg+LxcDZl0EiF0n29nzIZAzJ9UUS87SOZqPD/KKdZqPDyVchNL0+\nq4t2lqUukGdncWal5JG7Qrx0RozgazW7vP4qRL3QIBstEQ9k+Wzbx96Gm3ary4JP3KdAKMumZO/o\n9gRs00NF9vQqycKof7rcYH3BLlpMvDaqmTpBf4az8wStVhf/dQqzcUhuM/kaS54hKQcx5s8oKeTT\nRh0bbhvRYJ435eFcrob8DRJ6EUjx+bqXaGKYSd3p9Jl3jG8D4CacxabVDUj6HVIjSSIgponEbgvU\nyvfbkANks2Jk3//2pz9B8QNV5gmhfqT4PlaEyZhYPr4FE0L9HfBDydGHKhb8vmi328RiMV6+fMn5\n+TkqlYr9/X12d3dxOBwopEekj0U9nhDeb8b7JA5//r/+nbHXjXIDp8/K6raLbDBJLVuiKvmii+ky\nq3tzg3kTtxnkUpFcJl5gSSLOCALTI+kf3c6QkFVLQ29uuykq4L1uj3a9zdmvr0leJtl+4mFr10s8\nnGPWLVoo7shatdJkRbKABK6S6AxqSvk6QrOLQaFALkPsstjq4psbqtQmk45ms4vbY+HsVZjzl2GW\n50x4PRYsFilTOpBh9c43Hcyiv0s+kToXFosNGuUWJ6+jXJ8l0fbk6AQZnmkjslaPNZ+FNZ8FjVzO\nT3fn2V11sbPkZEanZcE+jVmpJhksMKVQcnIU5fomTSxRZGttqFo3W13m3eMKcDJTHVPB640Oy94Z\nthZnkTf7+G8yxJMlNpdm31iuzObieHHhzoKTfvN+A5hAKDOmhANs+RzoHvBMp7JVVjzDosqVWSvl\napNgJI9l6v5Nfzxd4pd7S/zq6fK9974rJpaPR4wPTSAnY0Kof1egVCrp9e7/AHwXvO9iwe+DbrdL\nMpnk8PCQo6Mjer0e29vbPH36FLfbjeqBmKvHFGn3qRPqT10tu9v/3Z+vsiApzSarAYNehVre4+rg\nBqEv4H8dxuIYRrjVRorV8skSqyO+6353eJ5G/ZlBFN/teRyXVLgYvckwL1k5gpdJPFLnwqvjKCaL\nAQSByEWCyy8DdCtNvN5p5pftZBIV5pZEgpyMFZErZNRrbZYlMnpzmaTT7HLym1uWfFa2dzzc3qSZ\nMmpFC8ii1FzmIoF5Wke300fo9In507RKDXa23CgUcur1NjIZVKstlpdEMhoK59iUMrMvr5KDbovX\nN2nmvTMkkyUuL5MoBBk3/hwnRzGS0QLnp3HOT+McHkYx6jXUai0ALq6SWEa6H96GsmMxeueXCRwz\nw1SVaq3Dxggxtpr1CM0eyWiRcmWoClcrTd78t6xWWoO/91dcnBzHuLlJo1aN//TUmz1WR5T0jTkb\nJycxIpH8g3nRWqmQccUzw+lZYjDdonvA9gH8j3+w++D074p3pVB/6tehTx0yPrzFYTImlo/fGajV\n6h/cfvxji83r9/tks1lOT095+fIl9XqdlZUVnj9/ztzcHBqN5huX/9Tj4B7bNh4L/uwvf5+NZ3O0\nCxUufn2FaiT1od/r4xwpjIv4k8ytjyiq9SFhC5zGcEo2iHazi29lqGJaRmL3RjOvTVIDmF63j09q\nZZ5JlFjectNpdjj+zQ35UBa7VYvZrEGtUZLLVFjdFAsmoyExy7pRb7MkxeRdn8YJnsbRy+RsbrpQ\nKORcXyaZMmppt3v47nzaoSI2u5FwIEu30sasUjIzrWdLWvflVQLLtLh/+Vx1EIPX7Q1vnuu11sDq\nEg7nMUifLRorsjmiPGcylUFGd7vdwzuSO12ttlheGB6rXk/APj3eBTEQzGAx6dhfc9MqNTk7T7Do\nGVeyo/Ei6wvjinQkXmBtzs7+qpuT45i4z40OHuv9FJBmQ7whmrUaCN2I3RCLpQbr84578/pv01iM\nOprF1piqlc+37pH639tbYG/NzdvgXRLqH7reyTXmR8KPqa5OxkShnuDroVQqfzCh/hhSPgRBoFgs\ncnl5ycHBAYVCAZ/Px+eff87S0hIGg+HB5b7vdn4sPJZtTPDd8bM/fkL6OkGjIvpqr1+HsLmHhC94\nFkU9ojzqRghx6DyOe3FIBq2zQzU7nywPSMfNaXSQEnJ9HMUsWUKuT6JMmUVyFw2kB6SzJ6ndnVaX\n+TUn2WiJ0/8vgNduYGfXiyCd18V8nVVJYY8EMyhVioFynUtXOH8Rwj1jYGnZwaLUkObqIonRpKXf\nZ5Bp7b9MYjbqOH0RIh8psL5gZ2XJgU+6QUhnKgOVOhzOs7F+10CmxKYUo9ds9fC4hjcOyWRp4MvO\nZqsDnzXA6WUc10jB4pU/icU8JLnn/uSAdKtVcpZ9NlZmLRwfR2m2RAvNpT+FyTheTNhqjMfUyWRg\nN2g5OYqOTS8UWvdSQMLxApsLDpQt0Vd9h3KhwpvodPpsu+2k0uPvVWqdsYxthULOf/wnv3dv+e+L\nd2X5mFhJPjxkgjAZH9H4lDE5k78FarWaTqfz7TM+gA+V8iEIApVKhevra7788ksSiQR2u50vvviC\n1dVVTCbTD1I3JmT3u+NdfwZBEB7FcQJQKBX8w7/4g+GEvoDdM8xMrpebQ380cH0YxmwbRjWaRzsp\nnkbRGaQs50SZJYnsthodFqV4vF63j0/qSthp9wYWkFK+zvKOuJ3AeWLQ1jwWzCJXiOeL3qDl7DfX\nhI4iPP9iAdusiWJe9HiXCo1Bo5hIMINKraBebWGxTHFxECIVzLG946HX7eOVLCiXZ2LnRQC11K0x\nnaqgVii4fBXl+jjKZ098bKw5yWTKqCUvc75QHyjWycSQON/c5rBLxyZfqLMxolIHQ7lB9J7QZyxZ\no9Xu4XWNNF4RwG7Ws7VoQ9OTcXoU4+oqNVDAxWW691TqUDTP6rxIaDVqJdvzDg6+DDLnHm89Xql2\n2HhDzVYo5FjVGlKZcZIcT1WxGMe90UseK6lokYcw6rv+R3+wzfwDbc+/L96VQj0h1BNM8HgwOZO/\nBSqV6q0sH+9ToW40GgSDQV68eEEwGMRsNvP8+XM2NzexWq1v/YPwWDzUj4G0P7bHvX/3X/4M3dTQ\ncnR7GEJrGL5OhoetqXvdPt7lIRm7OYqgl5TSTqvL2p4Xm9uEe3EGs0XP/NosnkUbzUYLtVYkW9FA\nZpDikQznBmppszY8162Sd7uYreJdFm0aN2dx9EYtnVaXWr5GIZRl2qhhXerQmM9WkclEcn2nXEdD\nWVRqBdlECUWnz4xBg1wQ0OmUYnMYSaW+vkoN4vbSyRIKhZxWo0e71sF/GKOcqPB028OTLTdKuWyg\nWOcLNdYl4tzrCQNCDXA7UtxYqTRZGVHzL/0p5kd8yxeXCRZ9MzxZd7HinuH0dYxqoUmjISrS9UZn\nrJEMgP8mNcjEvoOsDzPTejzmKS4uxGg8o+6+nexNNXtn3sHrV6GxlBEABJh3DvdbpZTTyDeJRAtj\n1pXBZ77NolYpME9p+Ys/++Le+z8EH6PlY4IfAR/a3jAZE8vH7xLeRqF+Hykf7XabbDZLMpnk8vIS\njUbD06dPefLkCXa7fZDQ8WPgMXmoP3VC/dhgMOn45T/7yeB1s9bGuTgkS4VEhYWRRi+hizi6KQ1L\n2x5Wdzxs7XmYManplaukLmNkrhLEjsO8/H9eU4pkiB4Fuf7NJR7nFFNqMOoUPP3JItvP5pgyalmW\n1h3yp3Av3JHn2MBe0pFaY7eaHRYlIus/iWKxGrh8EUSoNdlYn0Uul7F8R3SlLoxv2kJK+RrnB2E8\nswZ2djzcBjJYJJVdIzVNyWYqrEvLnJ/FmHWa6LR7XB7FuD1PkLrNkY3k2VxysLvlRi4I2G0GFAoZ\n5xdJ3C7RzlGttlhZHJLgq6sURkmZVirlWE16tldd7K65cZqNmJRKzg5j3AYyCH0BjWr8+hEIZMYK\nGBvNLstz481fZH2w67WEI/nBtMvrJDOWcXtZMJRjTiLET1fdnJ3E6XYFFt33c6bDodygOHHdZR1E\n4U3r76d61JsdVr02/vLPf4LxgSYwPwTvSkmeEOoPjw9dhDcZk6LE3xmoVKqPzvLR7XZJJBK8fv2a\n4+NjZDIZVquV/f19XC4Xyq9pz/u2mFg+vjvex4/kYzhOo/jVv/xirKCskq6NHUeVSoFGr2b96TzT\n02rMZhnXf3vJ8V+dEDoKkY3lEXp9EoE0LimRQ+gLeJYcY+uoFmpELuLkozlO//qc0OtbhHqdhXkL\n2099uLwWZDKZaBORSG0iWMAh5TEno2Lmdb8n4JIKDK9P4xSTJZKXSfQaBS6vhWS8NOjIeEeuS4XG\noK15Iljk5iiGqtNnZcXB1JQG/2VyYAe5U6kFAaxSs5ZqpcmKZFHJpKuo5XJOvwpz+iKMTadGXu9h\n02pwmg2sL9jYWp5FaPd4uuVhe2WWBZeFzQUbDoMW6l2OX4RoVVqcHkVJxIucnydwjBRwBoMFnI6h\n4l2rt1lZGFepA6EsWo0SlVLO/pqb26s0avn4NajfE8Zand9hWq9lb9XFyeHQYx1PFO/lV5cqTdbm\n7WwuOLi8GD6tCIWy97zYAFa9lj/7O9v3pv9QTCwfjxg/tsI6GROFeoKH8bGkfPT7fTKZDCcnJ7x6\n9Ypms8na2hqfffYZs7Oz7+Wi/FgI9WMg7e+asL+v49PtdonH47x8+ZJiM8vWz0cavcSKLEreabvH\ngoI+Jq2C8/96Svgwilo+tBGkwjkWd4YRehrdkNBF/clBXvX1YRiTRE4Dp7GBV/vmKEI5U+b0r885\n+a9nOCwatvY8KGSywbE2W8XEjVyyzJLklQ75U6gk77PNZQZB4OTXN8jqTTY2ZtEbRAU1GS8NWpxn\nU2VkchmNepeVTSeVYoOTvw2gA3a23NhsIqHNZiqsbYpq98VZHIdUcBm8zqCTijRj0TxqtagiR8MF\ntBolhXyNo5dhmrUOl6dxzo9i0O5xeRLn+iLJyasI3W4fQcq3Hr1y9PvCoNPiHXRvqNTBUHYsl7pa\nbbG77sFlmuL4MIrQF7i4TGJ7Yz2BQAatZpxoKwWISIked8jlaqy+QdoBlH0ZiWBhbFq90WXZO65o\ny2Twr/70+YNE+23wrgj1RKH+sPjQiuxkTBTq3xm8reXjbTzUgiCQz+c5Pz/n4OCAUqnE/Pw8z58/\nZ3FxEb1e/IH/1FucP8ZtfOqE/V1CEATK5TKnp6e8evWKdrvN1tYWT58+5R/9h78/Nq9Wp2J1x03m\nIszpX51gH03/OI4wOz/01jZbw+57kfMUBim1opipsPzEB4jpHb4Vx92O4JAKDwUBXJK/uFVvM+M0\ncfY3Vxz/1Qnr63aW1meoFBvDhBHp662WGqxIinPgPDF432o3cfVViNP/dsWz5/M4XOZBnn06UWJp\nTdyHRLQgeqWbXVweK2cvQhz/+ob9XR+ra7MUcjXkchmCADa7pFJXW6xIiR2FQp01KeWj0ejimxse\nH712mIxyeZnELB2Pdrs3aHkOItFdGonNu7hIjPmwg+EinpGCxUqlxfqyqJIb9Gr21tyEL1Mkk+XB\nPEJfwG0fJq6AqG6vjRQi7qy4ODuMs+gdt4wAyN84fRQKOa1i854FBUD9hq3tJ9sOXDPfHAH6sUAQ\nhB8shkyI+I+E76ugTsZEof4aTAj1t0CpVL5Xy8cd2fD7/Xz55Zek02mcTidffPEFKysrGI3GexfS\nCaGe4FNAtVrl+vqaRCJBuVzG5/Px/PlzFhYW0GpFr+veH2zgWnKgm9Kw+Xyes786JBNI0pfU1MhF\ndFBMCGAfSY9I3eTQm8X19Do93MtDlVMYubFNhrODcyh8lUQpkbTYdXqgZBcz1eGO9/sEXoRInkXZ\n2vWwvusleJXEJhUTVksikW+OtEO/PothMGoR+gKtSpPcbQatUsGc1HK8LUXP5TNVViW1O3gttjUX\n+gKdepub11G6lSaffTaP1Wrg4izBjER0gzcZtBJhjkbzqKTPEAkVBkWI/svkIHav3e4xN+J1vrpI\nDAg2wKiY2+8LzI7YPhDA/IYXOZ0qs7fhQdUSOD2MksvV2FgZ75R47U8PUkXukM2KCR7zTgOXJ3GE\nvkAqXr5n8fDfpLFOD5vP7CzNErzN4XPeT+y4CaQHvm6jXsV//rd/SDAY5ODggHw+f2/+jwkTD/UE\nEzweTAj1t+BtLR/fVaGu1+vc3t5ycHBAJBLBYrHw+eefs7GxgcVi+caL7mMi1PDu1d3HQto/hc/Q\nbreJRCK8ePGCQCCA2WzG6XTi9XofjG+UyWT82b//JUqhy8lfndBr93COFNUV02WW9+YHr4Mn0YHl\notfpsbg1tH2kw0Mrwc1RZNBxMRstDAocK/kaS5JVpJitsCx1XowH0vgkr/LNcWSQQJK4TnL5mysM\nShmLqw6M03oigQxeKWM6lxJV2nazy4JUnHh9GsMwpeHi4BajUs72tptquYndJSnOD7Q1vzqNYbFN\nkU9VSAVzlBJFluasLC870OnVY17qYqHOmrRco9FheWWoAo+p1BcJTCat9L2Mq9Q3NxkWRgj35UUS\n60gR4cVVEofdiF6nZnfDTa/ShmaXanXYWKdcHj4hAGg0O6yMPEEASKbK/OzJPNFAZWA5yWQrY4WT\nICrcd+R5e8XJ6aHYFCaVLPEmOp0+S5LK/T/8ahG308bTp0/Z2NggHA5zcHBALpe7t9zHgImH+gPj\na2wHkzGxfPwQTM7kb8HbFCV+W8pHq9UiHA7z4sUL/H4/Op2OZ8+esb29jc1m+84X2sdEqN+XWvOp\nf46Pef39fp90Os3R0RFHR0cA7O7usru7i91u/9Z1/+y/e0qjPGwxHjmPoRh51N8bOR+rxRrLu0OC\nnQkPiVMpVWF2QbJ0vFGcqB7x8vZGWpaPPnKckhTSTruHc1Ekn/HbDL7VWUrZChe/vaZTrLC168Eu\nqdWpaIFFidymYgVkMpnYHEYiv/6TGNGrJNVEEYtZjdU2RTSUY1F6PxUX25r3egJuSV2OBnMsrcwS\nOE9w+Dd+DDJYW7KjkskG6SCpRGngGb4NDNXrq6skHskn3m73mB8huP7L5CDxAxh4sUHsxuh1DYsI\n5z0WVjxWZPUOpy8jFPN1irkao4hFC/eIcSJRGqjPcpmMvTUXlWyNN/8D3rR4ACTjRebcFm4vU4Np\n6XSFRd99i0iz1uJn+/Psrw+3bzQa2d/fZ3Nzk2g0ypdffkkul/uobkQnCvVHgK+zHkzGxPLxPTEh\n1N+CH7uxS6fTIR6P8+rVK05PT5HL5ezu7rK3t4fT6fxBCR3vO+/6MWxjgh8XgiBQKpUGHTnL5TJL\nS0s8f/4cn8+HWn0/3uzrYJjW84t/MozQK2crY6r0zesgMyNe6tZI+/FUOMvC1rAJjNU+nC90FRt2\nTjwKYzCJlofAcXTQYfH6ODJoGnN7GkUjWQnK2SF5vOusWCnUmV9zcvYbPyf/7ZytXQ+eBRsqqWAv\nmyixLNk5EuE8coWMbqfH3IqDXqdH4FUCRavN9o4bo2RVyaYrg4i9m4sEeimL++6c6HR6uH1Wrk9j\nHP3mBu/MFF6bEZfDxPq6DZNJO6ZeIzDWzfDan8IgrbPV6rIw0tbdf5XCK1lotBol3XaXjaUZZnRq\nIldpXv4mgEY9VLzj8RKrK+PNWZRvFAJms1XWlhzodWrWvDZOX0fx+1MYp1Rj8/n94xYPEG90THIl\n7VZvbPqU7v7/UjZb4T/+i58+eG5PTU2xt7fH1tYWsViML7/8kmw2+1EQ64lC/WEh48MrspMxUah/\nZ/C2jV0EQaDX6w0Uu9evX9PpdNjY2ODZs2d4vd7vRTa+aTvvGo+JUD+GosSPgRA0m82BXzUajQ46\ncq6srDA1NfXtK/ga/NFf/HLsdac5PAeFvoBzJAXi9jiC3Te0L2gNw/MpcBQeNIipZOvMLoqEsdPq\nMi+lbgiCgEtSVoW+gFfyAjdr7UGHxlyijEfyZAdOht0Y77zQnWYXel1ip2H6jSbzqxLRlPhdPl0e\nZF3HbrMoFHL6fQGn18r5bwOc/c21WLzoNNGsi5+12eiwtCbuS+AyhUeK0wv4U4Pix2yyTCpa4OxF\niFy4RD1dxarT0Km32N3xsrPtod/tsbLiwGabQqlUsLLiQKdTYTRqKRZqLC7YWF+b5cmWB8+siTm7\niV6lzdWhmA5SzItPC7rdPnO+8UQNoTt+I3/lTzHrMI5N0ygVTKtUXF8mB8fYOj1eNCj0BXwjHQ11\nWhVmlRqFcJ8gBwPZgWf8Dv/5L36FxaT7xpvlqakpdnd32dnZIR6P8+WXX5LJZD7oeTRJ+fgIIAiT\n8TGNTxjvJrD4EUGj0fwghbrf71MqlSj9/+y9eXCj+X3e+XlBXAQJHgBxAyRxdfNq9t0aSbYUKSNr\nIjkjje3IimwnXiebRPFRrmRTXkfZjavWTqSqXW8lsSuRa52K11XObOy1V96N40NZR15FfU53T0+T\n3c0D4IWLBAiQBECCBPDuH+D7EmSTTRAE2CTn/VSxqhskX7w4iPd5v+/ze56VFd577z3MZjM+n+9Y\nIuMgTqJABs6P2D0PvM6DcLFYZGlpiXg8jiiK2O12rl271tD888A1L/4rfUw/ngUg/GSOnt4ekguV\nRWaRiWglC7pc+RC2ecwszS+j1rQglkVu/dURPEEH3oFezI4u9G16tDo1qhYVyaVlpidClLbKvPG5\nS6wsZllN50gvrhILJ1la2FnIll/b8QUbjNuT3fwmQ7d8jD+YITweocfZRTKaIb1YWXA39XiO4Y/4\n8QV62CoUMds6SCVWKZUq4jOTyuIfdjA9FmNuahGNtoWtzRKbuQ1SM0mCVzwEBuxMPY8TmV+mpUVF\nqVTG2GEAlslnCwxf6WXs8RyL8RUujrh4MRYltZTDG7QQnkqyspxj8LKH8SeVfOehy27C85XIudmN\nImwWyRfWyS9mGb7i4enjys8JKgGT1Uh5e1+jCxk0mha2tipT4vDUInq9ho2Nymfi9NQSrt5uItHt\nGnARrGYjie3n4tKAk6knEUyW3SI7uZhHrVZRrBLk0YU0KkFApRLo7elkeiKBRqPCYNCSz++cUOXy\nmwwMORifqgj0v/TRIJ/6+AXW1tZqmva2tbUxOjpKPp9nenqa6elpfD5fTXakRnOclA+FxnDWp6IK\npwdFUB/CUTzUUkJHIpEgnU7T0dGBTqfj+vXrTf2gPm8T6majiPajI4oi6XSaeDxONpvFYrEwMDBA\na2vr4b9cJ2/+5CeZ/vn/Xb5/q8csC+p0PEPwZoCpR7NYe3sY/EiAL/3DzzP4kQC6Vi0vXrzAZDJh\nsbycZ+z0Wbl06yLLy8tMTU3hu2XB7/fT2trKenaDyffnmXg8y6O/eM6LhzNY3SYWF5aZfZFA16ql\nsL7JWmbHAmLzmElGM8RmkvQGbcxNJojPLpFeXKNcFrn26SHa2nWExmNYnJ0sRVfYLFQ+U9YyeQau\n9vL80RzhZzH0OjUT781y8bIHv9eMoNVgs3fy/GmEybEI3eY20qkcsYUdoZ3P7VheNjeL8r9TiVUE\noTL0mRiP0tVtIJPOs7a6zvBlD2PbYjsyl0KtaaG4VapM/20dJJcqgjif2yI4YGViYgmAXK7AyKiH\nD8Yi8v10dRh2BDUQmlrEYeukU6/l2aN5AHpM7cSqFhSu54tcHHLybCK+s7+pHIEBG1oEnj+NApUF\nh0N9PXzwLLrrNSxvC3GLuZ2f/28/Lb9HjvL5YTAYuHTpEvl8nlAoJAtrq9V6oms5jnpfymdXAxE5\n875dhdODIqgPoRZBncvliMfjpFIp2tvbsdlsBAIBisUiY2NjJ7KA7LwIamj+AeO8nBicBNXv7Y6O\nDlwu177pHI2kXC5TLBb56Beu8Vtf+z/Y2BaMCy9X/JWnAAAgAElEQVSiqFpUlEtlNDo1Ix8L8rf/\n2ZcZ+mhw3+0cloxjNpsxmUwsLS3x+PFjurq68Pl8jH48yOjHg/zIT7/JenaDp3em+aN//xc8vztH\n/4CTZw/CzE8kcHgtxGZTRKYT8n61de6Uv/hHXEw/jTD9/hzZlTyBSx46LBVBPT+VxGRrZzmRJbc9\nBV/PbTJ0vY/x92aZehrB2N1GJpXFN+xgeNTN9GQCl8dMOpVjOZllYMTF86cR5sNJ+gNWZqaXiMym\n6fVZmAsnWYyvEBxyMvEsRnGrjLvXTCZdsW9IixjLZZHMcp7BUTfjTysiefJ5nHZjxYsNsJzMycIc\nKg2O8tUBKhF8HUY9q2sbqFQCAa8FlSjywZMd0T09mdg12YaK7Wb3awI9bXru3Q3vul2KJaxmOrRI\nZ2crv/gzn6W9ymdez/vSYDAwMjLC+vo6oVCIUCiE1+vFZrM1/e/4OB7q8/IZo6BwXlAE9SEctChx\nY2ODRCLB4uIiOp0Om81Gf38/LVUlA+fJinFS96NMj2ujmc/T1tYWm5ubvPfee6jVahwOx0vv7UZT\nLpfl4hOAlpYWOkwdfOKvvcGf/rvvALCytMrw9w9y8Zafv/rVN+mydsp/Y/WKC0EQsFqtWCwW4vG4\nbM/yer1otVpa2/XcfHOYdpcKs6mHhWdJvv0f7nH/22OYbJ3EZlNkklkCox6mnswTGo+gN2jZyG/S\noq48XyupLBeu9DLxaJb2LgMDww6WM3kMHVqWE1nmp5Zwe3tYCCfl2L1SqYzbayaTyhIai+HxW1Ct\nb0GxhLvXzMJcilzVZLo6tURqUQTYrBKwoYkE+lYNG+tbJBdXuTjs4sV4ZfKbSe3kbm8WilwYdPDB\nB5UJdiqZIzjoYGLbA724uMqFQQcvJirpG8Vimf5eMxsbW6yn13n2YA6bo3OXCF9f32J41M3T8R2R\nHQotYrV3srhdyz4SdPDoThhjh561bTEPMDebwubqIrG4UxxTKor82BdvMFq1APW4fuTW1laGh4dZ\nX18nHA4TDofxer1YrdbDf7lO6n3vKmK6cQjNX8+v8CFBEdSHoNFoWF+vTEg2NzdZWloikUggCAI2\nm40rV66g0Wj2/d3zJHRP6n7Oy32ctZOCcrlMKpUiHo9TKFSE2sjICDpd8xrnyuUyoijKCTUqlWrX\nF8BnfvKT/Om/+w6qFhU/8JOf5K9/7Yfo2s6Tln5XmvKpVKpjCWuHw4HNZiMajXL//n35JFnyhqs1\nLVz7S4Nc+0uDrGVyfO+PnrCWyTE3kZAj6wr5TQZveHn2IMz02ALGbgNr6TylbYtCNpNHLBZZnIzR\nO+yoCMVIBmO3AcI7sXvh53HmppZkn3GbUc/89BLjd0IMXetFsHbQadSjDloJTy4yOR6jy9RKZnmd\niWcxeqxGkotrzIaW5Il1PrfJ8FU3Y+9XhPJ6fke0xiIZ/BftTE9WRPL8TAq1uoXidqRgcXP3NLm4\ntXPyEwxYKWULzL5YlH3iidgK/gE7U9OL8s9l0rtj9hDBbjGSTGUZ9tt49rhiD+nvNe+ylADYe9p3\nCeprl3v54ueu7N7cMU6sqmltbWVoaIiNjQ3C4TChUIitra2Gbb8aJeXjFHC2PqoVTjHKX3INjI2N\n8dZbb/HNb36TUqnE8PAwV69exel0Hiim4WSFrhKbd7ru4ywgef4nJia4f/8+mUyG/v5+bty4gVar\nbZqYFkWRYrFIqVSiXC7T0tKCVqtFq9WiVqt3CYwLN/x86isf53/+zj/lq//iJ2UxDZXXURLRkk2k\nVCod67VVqVS43W4++tGPotVquXv3LuFw+KW/L2NXG5/9ykf5l3/8j/jlf/9VLC5TRRSzs5CxtFWm\nd7siPDS2gGl73zc3tkCEuacxTB1aBkccZJJZDNvlMVLs3mo6h387ZWTyaYSO7e0vL2WJhJYY/940\n+rKIv9/M0CUXFlslk1osi9iqqsKl5kSARGQnr3ounKLPt5NLXb04ayWT58LFnebD8PQSLndVK2V8\nhetXenGZ2gg/iTDxQZTghd1NiXsj9CLzaXp7d6eExKIZBr1Wnm2LfIB0dUvlNtGFDJKWtVqM/OI/\neEt+HBKNFrx6vZ7BwUGuXLlCuVzm9u3bRKPRhn52KDnUr5/XHROnfO3+OsucC0H9u7/7uwwPD6NS\nqXjw4MGu7/3zf/7PCQQCXLx4kT/5kz+Rb//jP/5jLl68SCAQ4Otf/7p8ezgc5tatWzidTvr6+vj6\n179OIpHgG9/4Bj/7sz9Lb29vzULjJAX1SXBePNTnhXqfp0KhwOzsLA8ePGBubg6TycTNmzcJBoMY\njcbDN1AH5XJZtpIYjUZmZmZIpVLodDo0Gs0rp3Q//xt/B/+V/gO/f5CwPg4qlYre3l7eeOMNAOLx\nOIuLi/ueuI58xM8/+lc/zv/yhz/P2z/1CRYjaazbLYSp7YV4oggOb0W8hsejmB0VcZ1b3eDZ3WkS\nk1GGLrvpsXcwNRah01wRxxvbGdulYhmPv2I9iM8vy+Uxk08jZBbXeHYnxPzTOL1OIyOXXJSKRTq2\n87Inx6OYtrO1k4trBLYbHAH0up2BwPRkHEdVvvdqeqdcB6DH1MbQoJMBn5ViZoOttQKJhZ3FiIWN\n3da4qRcJuqvaFgGMVRXmxnY9nVoN4ubu1yq6kMbt2l0xvpzK4u3rQadV809/4Qfp7Hh5MWyzxKlW\nq8VgMHD9+nVWV1e5ffs2kUikIUMMZUL9mhF5/TFxytfurzPMubB8jIyM8Pu///v83b/7d3fdPj4+\nzrvvvsvY2BjRaJQ333yTiYkJAH76p3+aP/uzP8PtdnPz5k3efvtthoaG+Pt//+8Ti8X40R/9UWZn\nZ+nq6sLlcnH58uUj79dJCt2Tup/zsJjvPEyoj/o8lUolOequXC4faldqBPtZOlpaWnA4HFgsFmZm\nZrh37x5er7chkWVSQ2MsFqNUKtHb20upVDqWFaSlpQWv10sul6NYLHL79m36+vpwOp0vCSGry8RP\n/ZO3+dLPfYb/8vsP+N1f/zbxuRSeoI35yQTx2aT83utxdJGKrTI3EcfR30NsJklkIsbywjIXb/jR\ntet4fDvE7EQCR5+Z2NwykZkkqhaBckmUc5jLJRFnn5l0MsvmRom2Vh3jd0IADF/vI6VpoctipL3b\nQMrcxtrKBuXSznt/4nkMU087y8ksiGAytxGPZejoNKBRtzAw0INYhFx6g4kHs2gNOrkqvVI8oyWf\nq0TazUwt4vCYiG0nfpRLZTyuLtJVVo/QZIJWvQaDoQX1lsDs5BLB7fKbaro7W1mIpHfd1qbX8A9+\n5k2C/v09zc2KoJNEr06nY2BggM3NTcLh8CvfC7WiTKhfP2d9KqpwejgXgnpwcHDf27/1rW/x5S9/\nGZ1Oh9frJRAIcO/ePQACgQA+nw+AL3/5y3zrW99icHCQ+/fvE4lE0Ol03L59m69+9avYbLZ9t/9h\n47zYMc7LicFhiKJIJpMhHo+ztrZGT08PFy5cwGAwHP7LdbJXRAuCQEtLCy0tLbtEh1ar5cKFC2xs\nbBAKhZidncXv92MymQ7a9L5IDY3RaJSVlRU5zs9gMNBIj7VKpcLhcHDhwgVmZma4c+cOXq8Xu93+\n0jbbO1r5wZ/8fj7z5Tf4039/hyffm2R+MkEqvop3yEl4PEp0JiknZXRbO4jNJCuxexfsPLszSbet\ng8FLTpbT63T3GInNLZNJZglecjH5QYSp8SjdPe2kk1nmJhfl2LvU4pq8GHApmmEpsUp8NkV7h57C\nZonNQpElwDdgZ20lj0anxu7uwqASKG6VWZxapLOlhbVIhmwkgydgYi68I2wvDLt5+n7F61zYKDI8\n6JDj9wDM5jZZUANE55d3JYJsbBS5cbOPD+7NsrU9mZ5+kaDTZGAlszMRnwsl5VhAiWuXPHzq+y8e\n+Bo1S5zu3a5Wq+XixYt4vV5mZma4ffs2vb29uFyuIwtrZUJ9ClAEtUKDONd/yZFIBI/HI//f7XYT\niUQOvD2VStHV1SVbOtxuN+l0uu6mxPPGeRG754FXPU9Sru79+/eJx+PY7XZu3ryJz+drmpiWLB3F\nYlEWCZIP+1WWDr1ez9DQEMPDw0QiER4+fMjKysq+P1uNtGDs7t27LCwsYLfbeeONNwgEAvJj3GsF\nKZVKdXusJVElnQhcv36dTCbDnTt3WFxc3HebOr2Gv/rffD//6Nd+gr/zS+9gdnSi01f8zGvLeZyB\nSu333IuY7JuW6tDTiVW2chskJqIU8+t4fJU8bSl/uVwScfVXfn8tkyew3cKYjK/i226AXIyt4Nuu\nMc+ubhAY3JkEt7ZqSSVWic8tM/VkgWRshcVImuWlLL2+nezuhXCazu6d90x8PrXLu7wU31koCBCe\nSKCrShxZTuYIbE+U9XoNly7aWQqlZDFdeSxlej27LR5rqxv4q/bjzb88xI995aMvPcfVNKt18CCh\nLr0Xbt68ycbGBrdv32Zubu5IVhBlQq2gcH44MxPqN998k3g8/tLtv/Irv8IXvvCFpt2vIAh1NSWe\nR86LoD6PKR9bW1ssLi6SSCRQqVTY7XauX79ed9RdLfsvTX+lnxUEAY1GIwvZoyCVbKytrTE1NYVK\npcLv9+9qFi2VSrKlo1wu43A4uHHjxqENjYIgyK+5tL/VYrsedDodg4ODrK+vMz09TTgcxu/3Yzab\nX9qmVqfhc3/j43zmRz/Cf/69eyRjGZKxDKrtn8uurHPxWh8vHs4SGqvUmq/nCpXnUBSZeBBm8KaX\nfq8JlUqgx95JMr7CfChJi1pFqVhmvSpCT9Wy89xX78nK8o71Ymo8ImdNZ1c3GLray/j2wsBEJC1P\nucWSiMPVycq2nzq1tEZg2MXk8+0IvdgKvos2QlOVNI98frPS0Ph0J6VDEEW83h7Wl7I8e28OALOj\nnVRyJ186mVh76TmW3rk3b3j5+Z/7zKGvSbPE6WFTZK1WSzAYpL+/n9nZWW7fvo3H48Htdh/6d1Dv\nhFoR4Y1BQLF8KDSOMyOov/3tbx/5d1wuF/Pz8/L/FxYWcLkqq+b3u91sNpPJZCgWi6jVahYWFrBY\nLIqg3ua8iN3zgiiKJJNJ4vE46+vrWK1WhoeHTzTq7iBLR70YjUauXr1KOp3m+fPn6PV6LBYLqVTq\nJUvHUdlPWEuiuhaBst/PtLa2MjIyQj6fZ2pqilAoRDAYpLu7+6Wf1ejUvPVjH+PTP3KT//Obf8Z/\n+u07GLsMrGXybG3H0hXWt+TYvamn83Sa21lJZclm8sxvi9bR77+AzdFBeHIR/6CTiQ8WmJ1IYHYY\nSSWyTI1Xqr6Xl9aYHo/J1efR2RR9QRuzU4tsFUpcuORm7GGl2r1abCcTqwSGnEw9iwEQnUnvrgnf\nM4GV/NwS1UUsxg49WhGSCxlZlAN0dOh2Cep4JIPH18P8/E7te2hykevX+vjaL/4gLS2Hv7dOyvJx\nEBqNhkAgQF9fH3Nzc3zve9+ThfVBJ7bKhPo1cw4WwimcHs615ePtt9/m3XffpVAoEA6HmZyc5Nat\nW9y8eZPJyUnC4TCbm5u8++67vP322wiCwKc+9Sl+7/d+D4Df+q3f4hOf+IQiqLc5L2L3rJ8YZLNZ\ncrkcjx8/Znl5mb6+Pm7cuEFfX1/TxLRk6dgbdVdLSkc9tLa2YjKZyGQyPHv2jM3NTa5du7bL0lEv\n1QK62gbyqtfrsNfSYDAwOjrK4OAgMzMzvPfeewdaV7Q6DX/5yzf4hX/7ZX705z6DsctAeCxCt7WS\nsJJbrQjNcknEHajYJeYnEzj6KykhM2MLvLg7RWktR1urWraDtHduNwaWwbEdTyeKInb3TnJHa3WE\n3kJajqKLzKZ2WT2qRcbayjr+izt2kekXcXosO2kwU89icqIIwPxMkt5+M5dGXIhrBZ69N4enz7zr\nOViMrKJW737P7E3u8Put/OP//vO7LCSv4nULagmNRoPf7+eNN96QF7LOzMzsmzyjeKhfP687Jk75\n2v11ljkXf8l/8Ad/gNvt5vbt23z+85/ns5/9LADDw8N86UtfYmhoiLfeeotf//Vfp6WlBbVaza/9\n2q/x2c9+lsHBQb70pS8xPDwMwDe+8Q1+9Vd/lUAgQCqV4otf/KIiqLc560L0JO+j0WxubjI3N8eD\nBw8Ih8NoNBpGR0e5cOECRqOxaZe6i8Uim5ubclqGRqNBq9U2RUSXSiVisRgPHz7k6dOn6HQ63njj\nDT75yU9it9t59OgRU1NTDfl7lES19F5oRIY17EzYA4EAU1NTPHr0iGz25VxlAK1eww/+5Pfzze/8\nY770s5+h70JFtM5NxLF5KoJ4qSrpwrQtuFeX8/iGXRTymzz683HWkyvYLQZaKNNtqVhkFsJL8lRX\nWrQIMD0ewdhVEa7J+Cr+gR2hbGjbEdvTz+OYq0TzVmHnORfLInZnp/z/Ukmkd1vs61s1jFxy0WPQ\nMnY3TD5bsaIsRnYWKgKsZ7fwBXandcyFk/I+Dw45+Z/+2Q9jMNR+gtislI96hbparZaFtZRjHQ6H\nKRZ3SnKUCfUpQFS+TtXXGebMWD5exTvvvMM777yz7/e+9rWv8bWvfe2l2z/3uc/xuc997qXbfT6f\nnAQC8OjRI2VR4jaK2K0d6XEc52BZKpVIpVLEYjGKxSI2m43Lly+j0Wh48uRJ0yLCRFGkVCpRKBTQ\naDSo1eqGWTr28qqUjmrsdjtWq5VoNMqDBw9wOBx4PJ5j16FXi2pJWB+UCHKU17Kzs5Pr16+TTqcZ\nHx9Hr9fvmq5XvzcMRj1//ec/y2omx//1zf/CH/32f6XH2UVifpnFhTR9F+3Mvogz+7yyeHFrsyg3\nLwLYPSae3gvBDFy42otRr8ZoNiIKAuOP5lhbWefiZQ8vnixQ3CrT57fy9L3Zlx7T9LOo7KsWRRGH\nu5vUUsXbHJ5IYHV1sRirTN0lwS6lcGxtFBkZdjIzFmX8Tog2ow6NtkVefLgYW6H/oo2Z6aWd57O8\n++98bWWdwLCDtjYd/8MvfRF969EiHV+Xh/ow1Go1Pp+P3t5e5ufnuXPnDk6nk97eXsVDfQo461NR\nhdPDuZhQNxOtVqtMqLc5L4L6NIt2SWA+f/6cBw8esLa2RiAQ4Pr167jd7l250Y18DOVyWZ5El8tl\nent7+eCDD0gkEk0R07WkdOxFajG8desWAPfu3WNhYaEhBRuHtS7W+1x3d3dz8+ZNnE4nT5484enT\np2xsbMj3WU1HVxt/4xc+z7/5819k+KYPrb7yWhuMlYlydmUd33AlzSM0tiBbRBZCi/JCxPzaBnPP\noox99wWF9BrWbj1Doy4MbVo6uirPayKyLFs9pPg9gK3NEn1VU+P58NJOoocIVtvOVHptZZ1LVzxc\nuuTC1dPO5P0w65k8+e3Fkbm1Av6qAhmoJItUE5pI0G7cPYEeHHDwS7/8Q0cW03B6LB8HoVar8Xq9\nfPSjH0WlUnHnzh1WVlZOpOVWQUGh+ZyLCXUzaYSgPi+X9c6L2D2p1+Ioj2N9fZ14PM7S0hLt7e3Y\n7XYuXrx44L424jHsTemQFhcKgkBvby9Op5O5uTnu3r1Lf3//vpnLR6HelI69tLS00N/fj8vlYnZ2\nlnv37tHf34/NZjv287J34aI0QTzO37AgCPT09GA2m1laWuLRo0dotdpdCSbVdFmMfOUfvMVbP/4x\nfv/f/L/8xR8+RNeqobC+RXGrMvEVRXB6LaQX18gkswRGPUw9mWdharFSFDObIjQWwWTrZPx7kwBY\n3Sa0Ri2mDj19PgvZtQK5bAGTzchKOke5JJKM7/i+V9J53L5uMqkNOrsNqMQyly572FjbIBZaIp9Y\nZerFTvKSTrdbBG/taU4Mv4ij06spbFQsD6WtEv39PTz9oJII8qUfe4Of+FvfV/fzLHn7G02jP7+l\n96/H4+HevXs8ffoUl8tFb29vTUVLp3UYcCYRgbLyfJ4XBEH4a8AvAYPALVEUH1R97xeBvwWUgJ8T\nRfFPtm9/C/gXVIKF/jdRFL++fbsXeBcwA+8BPyGK4ivtCoqgPoTjCupGXPqvBemSdTPv5zycFEic\nBtFeLBblqDuo2BquXbt2ZIF5FKotHZJ4VKvVss2hGulStdvtJhwOMzc3d2A03EHUaumoBylVobe3\nV94/r9dLT09Pw4R1sVgkkUiQyWTkx3McYW21WrFYLDx//pxoNIogCHi93n2FlMnawd/+H7/ID/29\nT/Offvu/8q3f/AtCTyN0W4ykl9ZIzC1Xfb7s/F63tYPYbApRBHufWa4/t7i6GLsXJhnLcPFaLy8e\nV5KO8ksdCLkNDHoNhdQqgxetxOfTFAtbiLkNcrEMuViGKHDxSi/T20UuoWdRTLYOlpcqHvHpZ1EM\nbTp5Sh2eiGOy7nx/Y32LgSsenldF6mUzeXR6DT/3332WT/7l/Qu6auW0Wj4OoqWlBYPBgNfrJZPJ\ncO/ePWw2G319fYcK6/P0WfzaUfT0eeIp8EPAN6tvFARhCPgyMAw4gW8LgnBh+9u/DnwGWADuC4Lw\nh6IojgPfAP5XURTfFQTh31AR4//6VXeuCOpD0Gg0x/JQq1SqE1nJfRLC/TxNqF/XlEcURdLpNLFY\njFwuh9VqZXBwEL1e39T7lWwMgCyia7VySM1wUuby7OwsgUCAzs7OA39nY2ODWCxGIpGgvb0dp9PJ\n4OBgU96f1ftX3bq4X3RdLYiiyNraGtFolHQ6jcVi4cqVK+j1+ld6rGtFEAS6urrklBRJSPX39+97\nMmWydvBj//Cv8Pm/+X384W/+BaHxCOmlNZKxDP0DDmaexwiNRTAYdeTXCsy9iMnNidHwTiPj/GRC\nzq2eerIgR/YtJ1YJXHIz9TTCeraAs6+HzLZ3Oru2sS3gK6JYiveDyuJEp8ckC+atQongiIvxbaEu\nlkWc7m75+/Dy1Fosi/zqv/5x+rYXNR6H02752I9yuYxaraa3txe3283CwgL37t3DarXS19eHVqs9\nfCMKx0LxUJ8fRFF8BvuecH4BeFcUxQIQFgRhCri1/b0pURRD27/3LvAFQRCeAZ8GvrL9M79FZfKt\nCOrjoNVqd63KPionJd6ky9LNRPKXNvs+zoOg3nsfuVyOWCwmt3G63W46OjqOdaA+7DEcZOmo97K4\nlLlcXb4SCARoa2sDGmfpqJfW1laGh4fJZrNMT08zMzNDIBDAaDQe/stUklRisRjxeJzW1lacTudL\ntptG15m73W6cTifz8/PcvXtXXqy232vU1WPkb/zC58mu5Pnj37nDf/yt79LaXvEgl4plejwdzI0v\nVYpirvbx4vEc6cVV/CNupp8usLqcI3ill8n35ykVy/QGbIw9CFf2pSrneerpAoZ2XSWhQwS7p1sW\n1OHnscrUebEiuONzy3IJDMBaZp1qlqLpXf8PTSToMBlYzazzV754lZ/6mU+j0x/dL70fZ21CDbv3\nWaVSycI6Eolw//59LBYL/f39irBuJoqF5sOAC7hT9f+F7dsA5vfc/hEqNo+MKIrFfX7+QBRBfQha\nrfZYE+qTEtTnSYieF7a2tuQprVarxW634/P5GnJwPuh52mvpUKlU8iS6UaKgunxlbGwMrVZLS0sL\n2Wy2oZaOemlvb+fy5cusrKwwOTkpx5dJwr+acrlMKpUiGo1SKBRwOBxcu3btwEvuB3msjyqsq/+O\nVCoVfX19uN1u5ubmuHPnziub9to7DfzIVz/NF37qE3z3jx6zni0w8zxGdnlHzErpGwAtVXnPYmnn\nflOJndrw6ac7E+utQpHg5V7Gt5NA4vPpnSQUaSq9LahT8RX6h5yEJyq2pfnpJey9JuLbcX+L0RX6\ngnZmQ5V0D7EsErho5cb3efjBd76v5uerFk5bbF4t7CfWVSoVHo8Hl8tFNBrl/v379PT04PV6FWHd\nBJQJ9amjRxCEB1X//w1RFH9D+o8gCN8G7C//Gl8TRfFbTd+7V6AI6kM4rodasnw0m5MS7udhQUwz\nnytJoOVyOZ4+fYrdbmd0dLTpB0IpnUOimVF3ULF0ZDIZ2UqSzWbly9S1LKw6CTo7O7l27RrLy8uM\nj4/T1taGz+dDr9eTzWaJRqOkUilMJhM+n6/mSTa8LKzrqTPf+3MtLS14vV48Hg8zMzPcvn2bvr4+\nnE7nvq+jRqfmU+/c4FPv3OCDO9P8zr/8f2htayUyvcT00wU6e9pZSWYJjUVo72wlu7LO9NiC3L4Y\nn03iCdqYn16sTKyDVsbuzwCwmtqxaaQX1/ANOQltNyfG53dPpfV7Jsw9VqMsqAE5yUOn1/BDP/4G\nn3jLT349R6M5i5aPV227+gpGLBbjwYMHmEwm+vr6Tuyqz7nnHGQfn0OSoijeOOiboii+Wcc2I4Cn\n6v/u7ds44PYU0CUIgnp7Sl398wei/FUegkajaciixGajTI9fH5LnNhaLkclkMJvNtLa2ypnRzUJq\nL5SQptHNSDqAimhfWloiGo2+ZOkQRbHhGdGNwmQy0d3dTTwe5/79+4iiSFtbG263m0AgcKyTjv2E\ndS115q/6W1Wr1bsWW965cwev1/vKlJVLb/j5YfXH6XV4+f/+7/f5z7/3gG5rByvJLMWtEr0X7Izf\nDyOWRdx+CyvbgtnYtXMlYblqYr0wvYjDayE2V6kC11a1FSbjK3gHnYS3Ez7C41E5hQRgocq3DRAJ\nJ3nrnav86E99H2aLkUQigbDRHGvGWbN81LJtlUqFy+WShfXjx4+5devWqTlxVVA4A/wh8DuCIPwq\nlUWJQeAeIADB7USPCJWFi18RRVEUBOHPgR+hkvTxN4FDp9+KoD6E436QnjdBrUyod9jY2JCj7gwG\nA3a7nWAwiEql4vHjx015rqo90ZlMBrvdjlqtlqejjabWlA5BEHC5XNjtdubn57l37x4ej+fA6epJ\nIS0CjUajZLNZ2UYhLQo1m80Ns+BI7yvJbiOdUOwn8mqZekqLLQuFAqFQiJmZGfx+PxaL5cBtdlmM\n/PDf+zQ//Pc+zeSTeb7zrYd8748/YC29M2iAocsAACAASURBVBFOxXai8WaqymJisyncfisL2/YM\nk8UoC+rp8SitbTrWtxM8qnOiCxtbDAw7efZ+Jf0jk8rhG3KQiKR58+2rvP2Vj9Bj6zjSY6+Hs7bd\no25bEAScTic2m00R0w1CAIRzcExTqCAIwjvAvwIswH8UBOGxKIqfFUVxTBCE/wCMA0Xgp0VRLG3/\nzs8Af0IlNu/fiqI4tr25XwDeFQThl4FHwG8edv+KoG4yJ2n5OA8LBk+C4zwOaeFdPB5HFEXsdjtX\nr15t+iXYakuHIAj4fD5mZ2dJJpOHJm7Uw96UDofDUVNKR3VG9MzMDPfu3cPr9WK1Wk/0Csf6+jrR\naJTFxUU6Oztxu910dnbK++DxeOSFXy6X60C/8lGpfozFYlEW1sd57DqdjsHBQTllJRwOEwgEMJvN\nu35urzgLjnoIjnr4W//kbV48muPBnz/jwZ8/Y+Z5DHfAxsL0Ivm1DS5eqyxgBOgwtcG2oJ6fSiCo\nBMSyWPFVj7gZf1jxVYee7Z5KF/KVdSaqFoGR6/38wDtXufXJi/suODxrwvekPdSHcdjVD4UjovTq\nnBtEUfwD4A8O+N6vAL+yz+1/BPzRPreH2EkCqQlFUDeZ85TycRL3cRoRRZFMJkMsFtu18K61tfXA\n32nE614ul+W2PmkCLWVG63Q6OXFDWnj3qpbBWniVpeOoaDQagsEgHo+HUCgkZ1ibTKa69+8wpJOd\naDQKgNPp5NatW/taT6SFX9XlNb29vTgcjoZclZJ4VZ35UUWRlLKSy+WYmpoiFAoRCAR2xQPut01B\nEBi41sfAtT5+/B++RSa5xvOHszy5M83k+/O7fnbuRRy1uoViscTqcg6H30RspjLRzq3tLHosrG8x\ncK2P54/nsbm66Q9a+cLf/BjXPhqgo/vV78GzJnybZSWRUMTx60WZUCs0CkVQN5nzZPmAD9eixHw+\nL0fddXR04HQ6d005m4Fk6aieRms0mgMtHUajUV549/TpUzo6OvD5fDUvgmxm8QqAXq9naGiIXC4n\nR9kFg8EjLQB8FXv332q1MjQ09MqTnWqkhYBut7vhE/VXJYIc5++ora2Ny5cvy/GFoVCIYDBY8za7\neoy88QMjvPEDI0DlRCQ2kyISXiKxkCaf3SAxv0xubYOCuI7ZakKtbkHXqmHwah9tHa1YnV24/RY8\nPgsd3S+np7yKZgrqZtmeTst6AAlFhDcIZVGiQgNRBPUhSB9c9R4EzlPKx3mxfLyKra0t2dKhVqux\n2+309/cf+YB6lOdqPxEtLS6sVSCYTCZu3rxJPB7n4cOHcuLGQftdr6WjXtra2hgdHWVlZYWJiQm0\nWi2BQKBm4buXQqEgZ0a3tbXhcrmOtf/SRL23t3dXOcxeW0U97CesS6XSscWfFF8oPafZbJZcLndk\n+09LSwtuvxW33/rS9+7cucPNmzcbKijP2oT6JJpuFV4XopJDrdAwFEHdZM7ThPq8COq9j6NcLrO8\nvEwsFmNjYwObzcbIyAg6na6p+yEJK4mjiui9CIKAw+HAZrPJjWvVCwMbaemol+oouw8++OBIE/Vy\nuUwymSQSiVAsFnE4HFy/fr2hC7Qkv3I+n99VDtMIj7ooiqRSKSKRCJubmwwMDMjC+jiCrbOzkxs3\nbvDd736X58+f09raemz7T/U+N1pMnjVrhiKozzdKDrVCo1AEdZNRBPXpQ1rAuba2RjweZ3l5GZPJ\nRH9/f8OsCAc9V9KEUjr4C4LQ8JQOqXHN4XAQDoe5ffs2ra2tFAoFLBYLFy9e3Lfk5KQQBAGz2YzJ\nZCKRSPDw4UMsFsuB+bpSDfjy8jJms5lgMEh7e3tT99FgMHDp0iXW1taYnp4GIBAI1HW/+XyeSCRC\nMpmku7sbv9+P0WhsaOsiVE7Ibty4QTqd5smTJxiNRvx+f9Nr7Y/KWZskNzM2T0FB4fygCOomo1g+\nTheFQoFIJMLKygqzs7PY7Xb8fn9TD5j7WTpOonglFouxvLxMe3s7pVIJtVqNxWJ5rWK6GkEQsNvt\nWK3WlxI3SqUS8XicWCyGTqfD6XTKkYQnidFo5MqVK2QyGZ4/f45er8fv9x9qVSmVSiQSCaLRKCqV\nCqfT+dL77FUe63qEoeQh7unpwWw2s7i4yKNHj+jq6sLn89V1xaVZE+qz1GioTKjPOWf8mKZwelAE\ndY3U+6F6kikfSmze/pRKJZLJJPF4nGKxSE9PD0ajkZGRkabe797ileNaOg7jMEtHNptlcnISlUpF\nIBA4NcJaStyw2+28ePGC73znO2g0GjweD1euXDkVdctdXV1cv36dVColW1W8Xu8ukSqKIqurq/IJ\nm9VqZXh4+FDx3UhhLf28IAjYbDasViuxWIz33ntPrq8+qkXmrFg+ztp2FU4BIghKbJ5Cg1AEdQ2o\n1WqKxWJdB3bF8vF6kNIfYrEYa2tr9PT0EAwGMRgMbG1tsby83JT7rbZzpFIpnE7niRevHGTpaG9v\n5+rVq3IVd3t7e92Ty0aSz+eJRqMsLS3R3d3N6OgoS0tL8oJDs9l8KgSNIAgvTX97enpwOBzyCZvB\nYMDpdNa1QHKvsK6nzny/bTqdTux2O9FolHv37mG3219rffVZS/lQLB/nnDNyTFM4/SiCuga0Wi1b\nW1t1CerzZvk47ayvr8vthUajEbvdzsDAwIlE3UkNeYIgEAwGmZ2d5cmTJwSDQbq6uhp6n8dJ6ZCq\nuCVR+Cr/crMoFoskEglisZhsifB6vXKahNlslotMZmdnm1JeUy+CIMixelIiiMlk4vLlyw3xKzdD\nWKtUKtxuN06nk/n5ee7evYvT6aS3t/fEI+HO2iT5NE6oT9v+nGkUPa3QIBRBXQMajYbNzc26LpGf\npwn1aaVYLMpRdyqVCrvdzvXr1w8UCo16rsrlMsViUd7mXl/04OAguVyOyclJBEE4ts2ikSkdkiXA\nYrGwsLDA/fv3cbvduFyupk3jpIKcaDTK2toaVquVkZGRA0WoVGQi5S2fBqvK3mn68PAwBoOBhYUF\nHj161NDncD9h/ao681pQqVT09fXhdruZm5vjzp07eDyehjVF1sJZE77N3G49KGK6sSjFLgqNQhHU\nNSAJ6npQBHVzKJfLpNNpYrEY6+vrcqFHLRPC4zxXkqVD+v1qX/R+B7q2tjauXLlCOp1mbGysruKV\n1dVVotEomUym4SkdUiKI0+mUi018Ph8Wi6VhB+7qabrRaMTpdNLV1VXz9qW85XQ6zfj4OG1tbfh8\nvhNLr5AWGMZiMdlCUT1NB+jr68PlcjE7O8u9e/fo6+vDbrc35Dms3kZ1nfne7x0FqdDG4/EwMzPD\n7du36e/vx+l0Nl2wnTXh2yzLR737+2H6nFdQOEsogroGJMtHPZwny8dJctDBJpvNEo/HSaVSdHd3\n09vbi9FoPFFLh0qlkkV0rQfa7u5ubt68SSKR4L333sNut7/ycvt+lo5mWlek6nKPxyPbLI5jVWlG\n5nV3dzc3btxgaWmJx48fYzab6e/vb2gOtcTeE5laGhjVajV+vx+Px0M4HGZubg6fz0dPT09DWher\n9+2gOvOjIr3uvb29csSiz+fDZrM17b2m5FBXaHaluUKNnKPjpsLrRRHUNXBWJtQnIdxPiuqD2Obm\nJolEgkQigU6nw2634/P5jlWAUstrIlk6pP04btRddUzc3NycPMl0OBwIgnAqild0Oh1DQ0Nks1mm\npqYACAaDNU3ERVGUM6PT6XRTMq8l/7LFYiEajfLgwQMcDgcej6chXuDNzU25gbG1tRWXy3XkExmt\nVsvFixfZ2NiQy2H8fj8mk+nY+/eqRJDjIO1zoVBgenqacDiM3+9vymfXWZtQn7VFlApHQATOz2FT\n4TWjCOoa0Gq1slf2qJxkbN55mVBLJwdScsLW1hY2m43R0dGmR6gd1F7YyIVbKpVKvrweCoWYmZmh\ntbWVjY2NU1G8ApVEEMmqItks/H7/vokge0Wo0+nk4sWLTZ2+CYKAy+XCbrczPz//UivkUahuMCwU\nCtjtdq5du3bsybder2d4eJhcLrerdbGjo+NY24WXhXUul6NYLB5b/EknVNKC0Hw+TyqVakgFu8RZ\nE76nzfKh0DgERMVDrdAwFEFdA8eZUCuWj9qRLrNvbGzIubl+v7/h4nLvc7W3eEWa+DVi8ncQkqUj\nk8nIUX7S9P11i+lqqm0WUkxcf38/KpWKVCpFNBqlUCjgcDgaIkKPSktLC/39/bv8y16vV07heBV7\nFxh6vd6GiN29tLW1MTo6yurqKlNTU7I15Livc7lcZnFxkWg0iiiKBAKBhllBpAWh6XSahYUFQqEQ\ngUCA7u7uY+0znD1BfdaEusIROePHTYXTgyKoa+A4HmplUeLhbGxsEI/HWVxcpK2tDY1G01RxJh0c\nS6XSrpOdkyxeKZVKOBwOrl+/Lj/OTCbDs2fPXjkNfh1INouenh5CoRDf/e53UalUWK1WfD5fw+ra\nj4NGoyEQCOB2uwmFQszNze1rsyiVSrIIBfZdYNgsOjo6uHbtmpwDbjAY6qoGz2azRCIRlpeX6enp\nYWBgAIPBANCUOvPLly/LSSuhUIhgMHisE49mTmY/LIJamWw3kDN63FQ4fSiCugY0Gs2ZENRnyUNd\nLBbl8g5AvsyuVqt59OhR0+5XsnRsbW2Rz+cxGAyo1eqmRsXVmtLR1dXFjRs3duVD9/f3n3hO8F62\ntrbklAu1Ws3FixfJ5XIkk0m6u7tpb28/NQd4vV7P0NDQSzYLgEgkUvMCw2Yi5YAnk0nef/99urq6\n8Hq9r7QzSbnd0WgUtVqNy+Xat4q9ka2L1UhJKysrK0xMTMiLGdvb24+8rbNmdVAsH+cYxUOt0EAU\nQV0DGo2GQqFQ1+8qlo8dRFEknU4Tj8fJZrNYLBYGBgaaLmz2WjoEQWBgYIAXL15gMplkC0MjqU7p\naGtrw+l01rS4bW8+9L179+RYu5M8+EqvVTQaJZvNYrfbGR0d3TU193g88jS4UXaARtHW1sbAwADh\ncJgHDx6g0Wjw+/1NL/mpFUEQsFgs9PT0EI/Hefjw4UsFO9VV5qurq9hsNi5dulRzNGQzhHVnZyc3\nbtyQp+x6vZ5AICBPyGvhrAnJs2YlUVBQeD0ogroGzsKixNMsqHO5HPF4nGQySVdXFy6Xi46OjgMP\nJo14LPuJ6GpLhyRmIpEIDx48aEghx2GWjqMg5UM7HA45H9rv99PT01P3/tXC+vo60WiUxcVFOjs7\ncbvddHZ27vta6XQ6ubxmamqKmZkZgsFgXVPLRiGKIsvLy0QiEdbX13E4HHz84x8nm80yPT3N6urq\nkXLAm40gCDgcDmw2G5FIhPv372Oz2VCpVCQSCQwGAy6Xq64qc2n7jW5dhMqU/ebNmySTSZ48eYLR\naKzZvnLWhORptHwoNA5lUaJCo1AEdQ2chdi8k5qE14pkE0gkEqjVahwOR832heMWr1SndKhUqgMt\nHYIg4Ha7sdvtsmgNBAJHEq3NLl7RaDQEg0E5dWFubo5gMNhQ3/J+vuJbt27VbDVpa2vj8uXLZDIZ\nnj9/Tmtra13e4ONQfSLQ1dVFf3//rnxynU6HyWQikUjsOw1+3QiCgMFgkFsXRVHE6/U2rMGwGcK6\nesou2ZS6urrw+Xyv9P+fNUGtWD7OOYqgVmgQp+NocspRil1qo1wuk0qliMfjFAoF+RL1UaeBR30s\n0iVtqShBqgGXBMNhSH5Qt9vN1NRUTaK1XktHvUipC6urq0xMTKDX648lWqvtBCsrKw3xFXd1dXH9\n+vUTKV6Bo58IVOeAS9Ngl8t1orXbe9nY2JBPBDo6Oujv76ejo4NisXjk1JJa2E9YS6L6OMLaZrNh\ntVqJxWJyQo/X6933tT9rQlKZUJ9nREVQKzQMRVDXgJLysZvqA4xU5hGPx0mn05jNZrxe77Eu+9fy\nWPazdBy3eEWv1zMyMsLKygovXryQUxikaVsjLR31IiVFJJNJHj9+LMfY1TppLRQKcma0dCJQr51g\nP6oTQaTilUaLVumKgFQeMzg4eCQPr0qlwuPx4HA4dhXsNKoq/DCkjPVIJEKxWMTlcnHz5s1dJwJS\naonUujg7O4vP58NsNjdcWEsNoMetMxeESi273W4nGo1y79497Hb7S1cCFEFd/3Zf99Dk3CGiCGqF\nhqEI6ho4C5aPk76fzc1NOequtbUVh8NBIBBomGg66LEcVLzSyElPZ2cn169fZ3FxkYcPH9LV1YUo\niqysrJyK4hXpUrvZbCYajXL//v1XesD3CriTOBFQqVS43W4cDoc8ae3v76+70npra4tYLEYsFmtY\neYxarcbn8+F2u+WqcL/f3zDRupdcLkc0GiWZTGI2m2vym+t0OgYGBmTLz+zsLH6/v+5K+L1UP06p\nFbSlpeVYj1967Z1OJ/Pz89y9exeXyyW3WSqCuoISm3dKOD1OSYUzjiKoa+A4ixLPk+VDipt7//33\nEUURu93O1atXG+5D3Xuw2GvpUKlU8kG/WZdMC4UC6+vrCILAysoKW1tb+P1+uSb8NCAJl2oPuM/n\nw2KxIAiCXAO+vLxcs4BrNC0tLbJorU4EqaWGe78FhlevXm34gkKpdrtatAYCATo7O4+97WpbitTu\n6Pf7j/y+lSw/1ZXwfr+/IV766vezKIpyOcxx3+cqlYq+vj7cbjezs7PcuXMHj8cj/x2fJU7LhLpZ\n+/JhRlmUqNAoFEFdAx/mCbUoimQyGeLxOGtra5TLZQKBQFPLPARBoFQqyV/VvujXVbyyublJKBQi\nEokQDAYbNiFsBNUe8MnJSSYnJ1GpVBgMBpxO5755xSeNVqtlYGCAfD7P1NSULFr3ex/tXWDY19f3\nylSYRiGJVqnERKVSEQgE6roasba2RiQSIZ1ONzT3WqqEl/KgtVotfr//SJaXg9hrA1leXpb/f9xy\nGJ/Ph8fjYWZmhuXlZRKJBP39/R9qcah4qBUUzheKoK4BrVZLPp+v63dPMuWjkfeTz+flqDuj0YjD\n4WBgYIDHjx83Nb1B8kavr6+j1+ubLqJrTemQBGEul5MF61Hzd5uFKIpyDfj6+joWi4XV1VVUKhXt\n7e2n6qBtMBgYHR2VBaFOpyMQCKDRaOSTGVEUcTgcR0oaaSRSiUk6nWZ8fJy2tjZ8Pt+h7/utrS3i\n8TixWAydTofL5Tq2LeUgOjs75dbFp0+fYjQaD03XqIVCoUA0GiUej9PZ2cnAwEDD6sylxJpMJkM+\nn+f27dv4fL66bUBnnbNmfTm3KBNqhQahCOoa0Gq1ZDKZun73JC0fx72fra0tFhcXicfjqNVqeUFR\ntahpxgmCZOeQtiulbUiZwc0QhFLdefXivFpSOtra2rhy5YosZKSWu5NcmCiRz+eJRqMsLS3tO8lN\npVI8efKE7u7u17aPByEJwrm5Oe7cuQMgn7SdhpMUgO7ubm7cuPHK1BLpCk4kEpELcK5cuXIiOdeC\nIGA2mzGZTHJsXT3JKqIoyh77ra0tnE4nN2/e3FUw08hyGEEQCAQCiKJIKBQiHA7j9/tlq9KHBWVC\nfQoQgbIiqBUagyKoa+A8F7uUy2WWl5eJx+Osr69js9kYGRk5cNLVqMcjCWjJ0iH5olUqFXq9HpPJ\nJKdEeDwenE7nsQ8+jUzpkIotpH1sRDFMLRSLRdmTq1KpcDqdeL3efSe5kthqVtpGveyd5A4PD1Mo\nFJifn0en08mL104DUmqJxWKRn0epiCWRSBCPxzEaja8swDmJfZTaNWOxGA8ePMBut9Pb2/vK57Ha\nWtPd3X2gJ7vRrYvSZFan0zE0NMT6+jpTU1OEw2ECgQBms7nubZ4lzuI+nz+U2DyFxqEI6ho4jx5q\nKepueXmZ7u5u+vr6aG9vP/QD/riPp1wuyycnr/JFSwu4bDYbMzMz3L9/v66DbTOLV6r3UUqykNoM\nG3mglKag0WiUtbU1rFYrIyMjNVdQu1wu7HZ7U3KNa0VaYBiNRsnn8/tOcqtj7Pr7+08sxq4WpEg4\njUbD1NQU09PTWK1Wrl27dmpaF1UqFS6XC4fDIdfW7z2Jqk58KZVKRyrxaZSw3iskW1tbuXTpkty4\nGQqFjrxO4SyKU2VCfUpQBLVCg1AEdQ1oNJpj5VCflpSPQqEgtxfq9XocDseREwfqEdQHRd3VchCX\nFty5XC4mJyeZn58nGAweKojrtXTUg1qtxu/343K5mJqakvfxuAs3q8tjjEYjTqeTrq6uuh6DtDDM\n5XLJaRsnsbhyb5V5b2/vgQsMW1pa8Hq9uFwuwuEw8/Pzcozd62TvJPfSpUvo9XpmZ2d5+PDhazlB\neRVSbb3T6WRubo67d+/icDjY2toimUxiMpmOlfhyXGF9kPiVGjfX1taYnJxEFEWCwSAdHR11b/M0\ncxb3+VyiCGqFBqEI6hrQ6XTHakp8nRPqUqlEMpkkHo9TLBax2WxcuXKlbj9trYJ6b/GKdMCVvo5K\na2sro6OjpNNpxsbG9vUuv+7iFakYZnV1dd9imFool8uypaNcLuNwOLhx40bDogl1Oh2Dg4Ny/Jog\nCASDwYb6lvc+hqNWmVfH2FUngtQirBpFuVxmaWmJSCSCKIr7PgYpWUU6QfH7/TXFAZ4UUtKLRqNh\nfn5e9i43ahHgfq2Lkn3rVds/TEgajUauXbtGJpNhYmJCPql+1QnAWRSn5XK5rs+ms/Y4FRQ+LCiC\nugaOa/k4CaqFrlRCEo/HWV1dxWw21x3/9ar72Y9SqbRrIt/o4pXu7u6XvMvt7e3E4/GGWzrqpaOj\nQ67gfvToEVar9aXFndVIbZPV7X/NfgxS/Jq0uLKzsxOv13ss+0J1VFxPT8+xH4NkBVhdXWVychKd\nToff729I/NxBZLNZIpEIy8vLNT0GvV7P0NAQuVyO6elpZmZmGnJ14jjkcjkikQipVIqenh6GhoYw\nGAxsbGwQCoXkyX+jxP9RhXWt4rerq4sbN26wvLzM2NgYra2tBybrnMVs67N4EnDuUBYlKjQQRVDX\nwHEWJZ4UKpWKYrFIOBxmaWmJ9vZ2HA5Hw2O79hPUkqWj+kCqVqub5g+U0g0kgVAul+nv7+eNN944\nNQcoaTFbT08P8/Pz+/qCpbbJRrb/HRVpcWU8Hue9997D4XAcaVHg3gWGTqeTCxcuNPS1l+rWpdSS\nrq4ufD5fw648FItFEokE0WgUtVqNy+U6cnZ3W1vbrjhArVZLIBBoqvivRiqQiUQispd6b3PpfuLf\n7/c3pMAG9hfW+9WZH1VImkwmbt26RTKZ5MmTJxiNRvx+/641BGdRnCoe6tOACKJSlajQGBRBXQPH\nmVA3Gyn1IRaLkcvlsNvtXL9+vWkpCXsPmNWWjma3F+5n6fjYxz5GsVhkcnKS999/vyZ/9UkitcU5\nnU7ZGmC1WlldXaVQKGC327l27dprjbQTBAGHw4HVaj1Q/FcjiiLpdJpIJCK/55odFScIAj09PZjN\nZjnJ4qjivxppsWokEmF1dRWbzSZ7o49DdT70Bx98QEdHBz6fr2nPTTabZWFhQb6yMTw8fKiIl8R/\ndYGN3+9vWIvmQXXm1d87qvgVBAGLxUJPTw+Li4s8fPgQk8kkP7fNEtTNtOudxZOAc4nioVZoEIqg\nroHTNqGWEhPi8Tj5fF62CExOTuJwOJp2v5J43trakuPuGm3p2EstKR0ajeZQf/XrZnNzU76KEIlE\nZL/1aclchoo9p7+/Xxb/8/Pzu2rCNzY2iEajJBIJOjs78Xg8Jx4VJ6Vt2Gw2Wfz39fXVXAm/tbVF\nLBYjFothMBhwuVwMDg42/CqOFFmYSCR4+PAhFouFvr6+hnjhS6US8XicaDSKRqPB5XLVdVWgusDm\n+fPntLa24vP5GjJVP6jO/LifE1JEoNVqJRaLcf/+faxWK3a7vSmfQc0UvfVOqBUR3kAUy4dCA1EE\ndQ0cd0LdqClHNpslHo+TSqXo6urC4/FgNBoRBIFisdi0aUq1paOjo4Pp6WkCgQA9PT1NuT+oL6VD\n8ldLE8yTyoY+iGKxKNsh1Go1TqdTTlWp9i430r7QCPa2QkrNkJKYfV0NhtVI4l9KBJEiC81m80vv\nkeqJej6fx+FwcPXq1abH3QmCgN1ux2q1EolEuH///rGywKWJeiaTadhEHSp/N9evXyeZTPLBBx80\nxE8vsdcGksvl2NraOrZQld6LdrudSCTC48eP5c/BRi3ghebaMpQJ9SlBmVArNAhFUNeAVqt9bZaP\nzc1NOepOq9XicDj2bQ9sdN713vZCQRDQaDS43W4sFgsTExNEIhEuXLjQMJ+olEgSjUYpFot1pXRI\nB1qr1Xqs/Op6kcRbNBqVm/NGR0dfSvqQvMuS+D8tpSsS0iLJ9fV12tvbyeVydHZ20tPT89rFdDUa\njYYLFy6wvr7O9PS0nAjS2dm5K3awo6PjlZF9zUSlUuHxeHblbPf19dWUsy2dlEWjUXQ6HW63uynx\nj9WWing8zsOHD+np6aGvr+/YJ3vViSnlcplgMNiwOnPpue3s7OTp06fcuXMHt9vdsHKg0zahPonE\nqA8dynOq0CAUQV0DOp3uWJaPo34gS+UL8Xiczc1NbDYbo6Ojr5wYNUJQ7/VFH2TpaG1t5fLlyywv\nL/PkyRPMZvOBbX2HsZ+l48KFC8f2QdebX10ve/OWa2nOq7YvzMzMNK0YplaqFxhqtdpdi/NEUZS9\nq4ellrwOWltbGRkZYWVlhWfPnlEoFNDr9bjd7obGDh4HtVqNz+fD7XYTDoflqL29U3Xpb2JhYYG1\ntTXsdjuXL18+UvxivUh+epvNtqsZsh6Bur6+TiQSYWlpCbPZvMuq1Yw68/b2doaGhuQ6e4/Hc+yT\n1GYK6nq3rUy1FRROJ6//KHMGOIlFiVJ0WiwWI5PJYDab8fl8NS8UOo6gPqh45bADkTRljUQiR263\nKxQKxGKxphev7M2vbqTFQkpWiEajQKXprx47REtLi1wMMz09zdzcHBcuXDiR6LX9Jur7iTfJu2qx\nWOQWvqN4l5tNPp8nEonIxSVtbW3y70kKqgAAIABJREFUY7JYLK9793ZRnbNdPVU3GAwv+buHhoZe\ny/OrUqlwu904HA7Zq+7xeHA6na/8XJCGAQsLC5TLZVwu174n241qXZSQxKl00uLxeJiZmeH27dvy\nuoB6tttMy4eS8nEaUKrHFRqHIqhrQKvV1l3schiSV3hpaQmDwYDdbufChQt1rYI/CtJBTMpvrTel\nQ7rkarPZCIVCsg1kvxKORlg66qVR/urqdIiVlRWsVitDQ0MNsb3o9XqGh4dZXV1lYmICvV7/UjxY\no5AWGC4uLmI0GmuaqMNOC5/D4SAcDnP//v3X1mZYfUIjVaxXN3+6XC45DtBut9Pb23vqpurDw8NE\no1Hef/99SqUSbrf7RPzdtVLtVZeq6/v7+18qh6meRptMppozyJtVZ67RaAgGg/T19REKhbh9+zY+\nn+/IpTancUKt0EBE4ASajBU+HCiCugaOUz0OlQ/O6g/PYrHI0tIS8XgcURSx2+1cvXq16Zel97N0\nqNXqhqR0SAvZ1tbWZDEYDAbRaDRNsXTUw3H81ftN1BudDiEh5S4vLS3x+PFjLBYL/f39xxaDkpdV\nOqFxOp112yGqvctSm+FJFZpUF8i86oSm2r4gTVmlSu7XLWQ2NzflaXR7ezujo6OUy2Wmp6fZ2trC\n5/M15USqXjQaDYFAAI/HI9tV+vv7EUVRjrE8aBpdC42oM9/vM0z6XJIy68PhsLyg+jg16Y1AmVCf\nEpQJtUKDUAR1DRynehwqB4tyuSy3F0qXoQcGBk6k+KFeS0c9SLXBkUiEO3fuAJXGM5fL1RRLRz3U\n6q+WLl9HIpETn6hXF8Mc12Kxt/2vkSc0UpvhysoKL168oLW1tSlT9b0FMi6Xq+YSnOoscMmr7vP5\nTtyrLtlrFhYWWF9fx+l0vvR+6u7ulk+kzGYz/f39pyoBRqfT0dfXx+zsLGNjY7S0tBAIBHA6nQ3Z\nfrPqzKVSm3w+z/T0NKFQqKaT6WY2MCoT6lOCIqgVGoQiqGvgOBPqXC7H5uYmDx48oLOzE5fLdSJJ\nA3tTOk6qeKXa0tHf30+hUCCVSp3Kg8dB/mrJDrG8vIzZbCYYDDas9OKoVFssQqEQCwsLu7KhD6I6\nsk+j0eB0Oo/c/ncUOjs75bp1aap+3NxlURTJZDJEIpFX+rtrRbIBbGxsyN7lYDDYsKbAgygUCnJ+\nd0dHB319fQd+BkgnUhaL5diLAhtJuVwmlUqxsLBAqVSS30+SDzyRSBAIBBp2heKowrpW4WswGLh0\n6RLZbJapqSlCoRDBYJCurq59f/6gyXcjUCbUpwFRyaFWaBiKoK6Bowrq/5+9M49yozyz/lXv+75I\nKqk3LW1sjDHYxJD5yIIZlmRCAkNsDJyE1SuYYAgkDoyT4DjYkGQgMxNjmyVmCYGEw0DAkJg5AQLE\nNgmbbVprd0slqRe1pNa+VX1/cN5KtXrTUpLKnfr9k9AtS1XqUul5n/c+98bjcc7qjkgqCqGLZFkW\nyWSSC10hkg4hAhXmes35JB1qtZrrBBdL7jEXzc3NOPPMM2EwGPDmm2+ipqYGfX19eS1AM6W8vBz9\n/f0IhUIwGo0YHh6e1lWfqQCdybIvX/C76sR3OZ1BtlRisRgcDgdcLhfq6upAURSampoEW5ARrXog\nEOA8trVaraDXJcuycLvdoGka0Wg0Y3kN0YTL5fKMhgKFJhKJgKZpjI6Oorm5edrisq6uDsuWLYPP\n54PRaOR2f4QKLJqpsCZFdS5x5nV1dTjzzDPh9/thNBoBAFqtdtrsh6ShXuCwACtFj0sIhFRQp0E6\nX2Ckg+NyuRCNRtHR0YHTTz8dlZWV+Pvf/57X42MYBolEAgzDwOPxoKWlJa/phUBmLh1VVVVYunQp\nvF4vl2TY19dXdCszkjhJ0zTC4TDkcjn6+vrgcDgwODiIsrKyogzbzUVNTQ2WLVs2patOURTGxsYw\nMjKS0YBhvuD7LhOt+nwSi9QCtBDymrq6OixfvhwTExM4fvy4IDHh/DRJcp3n0rWdaSiwt7cXHR0d\neS30iFNHIpEARVHzutfwI9ePHz+O2tpaQXXg/HPlp7SS32VbnBKJmtfrxcDAAKcVJ4sGMWqopSJc\nQkKcyOaxWpP2QvDZTXX58uV46623pv08EAjA6XRyhaxcLp/2Bfrhhx9i0aJFgnYKZ5J0RKNRmEwm\nlJWVQafTCa5jncmlo7OzM6OihwwxDQ8PF21ALBQKweFwYGxsDE1NTVAqldO24MPhMIxGIxdEIbau\nOhkwtFqtCAaDnCZfLO4QfCKRCEwmE6LRKHQ63ZQuIN+/u7m5GRRFFWSwMRWWZTEyMoLBwcGMfbb5\ncghSgHZ2duZFokGG64LBIDQazbzSn0yfm9+NVqlUWUmdWJblrs3m5mb09PQIel2SIW/gH175Y2Nj\n8Pl80Ol0OT33xMQEjEYjampqoNFouMbB4sWLhTj0KRw5cgTLly/P6P7JMAzKy8uL3owQiKKvDBrL\n2tlzG75e7MOQ4PGaZ//7LMuuKPZxZINUUKdBakEdjUbhcrkwOjqK6upqyOVytLS0zNpt+Oijj6DX\n63MucEkBTTo0RMqRKukYGxuD2WxGZ2cnuru7cw424Es62traoFQqcy4w4/E4rFYrvF4v9Hr9rBpG\noUgkEpzFWklJCZRKJdrb2+ctejweD4xGo2giwgOBABwOB9xuN1pbW6FUKlFdXY2hoSGMjo6ir68P\n7e3touxike318vJyNDU1YWxsDCzLcs4rYrC0YxgGdrsdNE3PK7FItYqjKKpgWvtgMAiz2YxEIpGT\nuwrpRtM0jXg8LuhigGVZOJ1ODA0NobOzE11dXYIWgvzCenR0FOFwGFqtVpDnHR8fh8lkQmVlJcrL\ny7F06dKcnzeV9957DytXrszovWYYBhUVFaL4rAhA0W9SjWXt7Ln1lxX7MCR4vOY9IBXUCxmWZXH2\n2Wfj2muvxdGjR7F+/Xp0dnaio6MjrQLr448/hkajyVpXmEwmOas7ID2XDoZhMDQ0xA0LtbW1ZfSa\nM0k6WlpaBC/UgsEgDAYDt9UqZFedaIodDgf8fj86OjqgVCozfg1+YZCtf3Uu8AcMy8rKQFEU2tra\nph0D2aGIRCLTOsFigLiNjI6OgmEYtLe3c9aKYiORSGBwcBDj4+NTFimpMdoURRV1MeDz+WAymVBR\nUQGtVpu2axBfmpLvnQH+IoWiqJzTCwmpril6vR7Nzc05py7yn99kMsFms0GpVOYsB0rl3Xffxec+\n97mM3gupoBaWxtI29ty6rxX7MCR4vDb5mFRQL0QYhsHbb7+NX//61/j973+PK6+8Etdddx2WLFmS\n0fMcP34cPT09GXV1U63uiEtHpjfSSCQCg8EAhmGg1+vnLOpTfYqzkXRkC7+rnmsARyQSgdPp5DTF\nSqVSkKE2UmS53e60/auzJXUx0NnZCYVCkdZigHiBV1ZWCr5IyZRkMgmXywWHwzFlMSCTyTjpj5BF\nltAQiYXf70dNTQ0CgQBaW1tBUZSoZEButxtms3lOHTjRqdvtdsTjcSiVSsjl8oIVZ8lkEsPDw3C5\nXDmlbMbjcTidTjgcDm5mgCwe+RI4IQrrsbExTExMoL6+HlarFR0dHYJZGb7zzjs499xzMzpGqaAW\nlsbSNvbc2n8r9mFI8HjN/7hUUIuBO++8Ey+99BIqKiqg0Wjw2GOPcVKCXbt24cCBAygtLcVDDz2E\niy66CABw6NAhbN26FclkEjfeeCPuvvtuAMCPfvQj3H///SgtLcWKFSswOjqKd955J6sb9IkTJ9DV\n1TXvdnBq8IqQVndEG9ja2jolfCFfko5sYBiG+8LNVLrAMAwn6WAYhlsM5ENrmE99Nd9iLZfFANm2\nNpvNggXDZPLa/DTJzs7OWXcGkskkBgcHMTY2Jjq5CrmmaJpGMpkEy7KorKwUpaYemKoD59sWRqNR\n0DTNDUqqVKqi6NQJ8XicW5imO2BJrim73Q6/3w+lUgmFQjFjYcuXguRaWI+OjnLabIZhQNM0hoeH\nIZfLc7aFfOedd3Deeedl9G+kglpYGkvb2FXVXyn2YUjweD34a6mgFgOvv/46vvzlL6OsrAx33XUX\nAOD+++/HiRMncNVVV+HIkSNwOBxYvXo1DAYDAECv1+OPf/wjVCoVVq5ciWeeeQaLFy/GRRddhHXr\n1uFb3/oWNmzYgJdffhknTpzI6sZ88uRJzn96JviSDn4MuNAdu1R9KLH3y6ekIxuIdCEajUKv18+5\nECGLAY/HU/DFgFD66pkCZORyuSCLAVIE2O32vA+Bks6h0+lEdXU1KIpK+5qKRqMwm80IhUIF8Yae\ni2AwCLvdjomJCbS3t0OpVHI7Ox6PByaTCXV1dejr6yuYJWEmkM/50NAQZ9tJLPjEVIhFIhFYrVb4\n/f5Z4+uJ3MnhcKC6uhoqlSrtBaYQhfXIyAj8fv8UbXYymYTNZoPdbodKpcraI1wqqKWCWmI6p3JB\nvSBGhQn/+q//yv3/VatW4fnnnwcAvPjii1i7di0qKyvR29sLrVaLI0eOAPjMe7Svrw8AsHbtWrz4\n4os47bTT8P777+MPf/gDAOBb3/oWnnrqqayPq6SkBKkLFyLp4AcWEM/ofFJZWYmKigqYzWaUlZVh\nyZIleR8IzJTKykosWbIEPp8PJ0+eRH19PTQaDVewxmIxTlNcXV0NpVKZdmqekDQ3N2PlypVwOp04\nduxYxvrqYDAImqa5AcN8BMgQCzu5XA6r1crFrQvlDkF0rDRNIxQKQaFQZOW5XllZicWLF3Pe0CSB\nTyg/4/lIJpMYGRmBw+HgCtCZfMibm5u5Hau///3vggTYCAnZ4XC5XNygtM/ny6sXfbZUVVXhtNNO\n49ILBwcHodVq0djYCL/fD7vdDq/XC7lcjjPPPDPjayrXOHNgZms7YmWoUqkwNDSE9957D11dXQWf\nrZAQAlZKSpQQDHF8C+SBRx99FGvWrAEA0DSNVatWcb9TqVSgaRrAZ6Ej/J//9a9/hdvtRlNTE/cl\nqVKpkEgksvYkTQ0m4Hejy8vL85peSLZKibVfW1sbFi1ahNraWvh8PhgMBk53KbbhsMbGRqxYsQIu\nlwtHjx5Fc3MzotEoYrEY5HJ5QcJy5kMmk3EuFcRzeS59dSKR4Ao3oinWarV5/yIuLy+HXq9HKBSC\nyWSaMRgmE/g69YaGBnR1dQmSAEq8od1uNz755JO8u6v4/X7QNA2Px8N5x8+nOZfJZOjs7ER7ezsX\nYFOMYVUC8VO32+1ciMzKlSu5+1csFoPVasXw8DDXCRbDThSBpBf6fD6cOHECkUgE9fX16OnpmdXb\nPhNyKaznuueXlZVBo9Ggq6sLg4ODePfdd9Hb25u1NlyiCLCQkhIlBOOUK6hXr14Nl8s17ec7d+7E\nZZddxv3/srIyXH311YK+diKRyLiAI8VzLBabEkhQqOCVkZER1NTUzNjFJQUriTjOZVAoX4RCIQQC\nAQCfyTuSySQWLVokqP+uEJCEOIqiuCRDkgrJsix8Ph9omuYGDJcuXVqUYcGamhqcccYZ8Hq9OHHi\nBOrr69N2L0iVpmSa/pcJra2taGlp4br/SqUSarVakM8Mf1FTXl4OiqKy2uHgB9gUKnSFD78b3djY\niN7e3hllZRUVFejv7+diwoeGhrhOsBjgS2w6OjpQX1/PzVLU1tam7VwyH5nGmQPpBbuQSPvu7m5Y\nLBYMDg6ir68PnZ2debkOxHR/XhBISYkSAnHKFdR/+tOf5vz9448/jpdffhmHDx/mbjwURcFms3GP\nsdvtoCgKAGb8eWtrK7xeLxKJBMrKymC321FZWYlYLJZ2Qc136WhsbITVakVJSQk6OzszOt9MmMml\n46yzzpqzu0cijjs6OmCxWEDTNPR6fVG/bFNt4pRKJTQaDUpKShAKhWAwGGC326HT6QT7shWK6upq\nnHHGGfB4PPj4449RWlqKRCKB+vp6wSO0c6GpqYnr/r///vtzFqyhUAg0TWN8fBwtLS15kabMBOn+\nd3Z2Ynh4GEeOHEFPT0/WhQoZavP5fILGspNOpUqlgsViwfDwMLRaLZqbm3N+7lTm60bPRXV1NU4/\n/XT4/X6YTKa8RK6nC7lX2e12yGQyqFSqKRKb9vZ2uN1ufPzxx2hoaEBvb69gevV048zJcaa7iKuo\nqMCiRYs4Zxir1cpZlorhMy8xHRYAK3WoJQRiQQ0lHjp0CLfffjv+/Oc/o729nfv58ePHsW7dOm4o\n8YILLoDRaATLstDr9Th8+DAoisLKlSvx9NNPY8mSJbjyyitxxRVXYO3atdiwYQMOHz6MP/3pT3N2\nRsl2IsMw3M25rKwMMpkM8XgcRqMR8Xgc/f39gmlDZ5J05DKYFwgEMDAwgOrqami12oJJKogW1+Fw\nIBAIQC6XQ6FQzPol6na7YTKZ0NbWVlAHi/kgXVyHw4FYLIaamhpMTk5CrVaLVmNJ7MxGRka4Divf\nNYUvaynm8cdiMc7CLt2CNR6Pc4uzqqqqjAYlsyUYDMJkMoFl2Skx1rkQi8VA0zTXjeZbxWULGbAU\nOiZ8LvhhOG1tbaAoas57Id+5pK2tDd3d3YLLf8jwYmqcOQAMDw9DJpNNkQamC9GGh0KhGWVg2Q4l\nVlZWivI+kgVFX2U0yFrYVWX/Ov8DJQrGHxPPnrJDiQuqoNZqtYhGo9yNa9WqVfjVr34F4DMZyKOP\nPoqysjL84he/wCWXXAIAeOWVV3DbbbchmUzi+uuvx/bt2wEAFosFa9euxcTEBJYvX46JiQns3bt3\nWod5Jl30XC4dHo8HBoMh50JwJkmHUIUCy7IYHR2FxWLJu0cwP3q6sbERSqUSjY2NaZ0H37Wkt7c3\nb1us6RAMBuFwOLguLj81r5D+1bkQjUbx6aefckNscrkcFEWJbheAFKwAZuywpkps5HI5lEplwfX2\nXq8XJpMJNTU1WRWspBtN0zQikQjnGy102iCJCW9paRHMYzn1NcbHx2G325FMJqFSqTJenDEMA4fD\nAZvNBrlcnrNX/UzHSP6XX1gPDw+jtLQUKpUq6+cOBAIwmUyIx+PQ6XTcELhUUIujoP5cyYXFPgwJ\nHn9ifisV1AudSy+9FA888ADXqUgNXslEF80wDGw2G5xOJzQazZRu+nz/rpDBK8lkElarFW63m0sh\nE+p5SfcTAHce2X5BxmIxmM1mBINB6PX6giUEpg4YkjjzuaKqjUYjkskkp68WA3xrssrKSjQ3N2Ns\nbEwUwTBzQTqsRAcuk8k4276amhpQFIXm5uaibreTgtVisXCL6PkK4lgsxmmjGxoaOMvNfJ4HPw1U\noVBkbQXHh+9/3dzcDJVKlXO3PplMwm63w+Fw5GUQNNVqb3h4GJWVlVAqlTk/9+TkJLcQ1Ol0+Pjj\nj6WCushIBbX4kArqfwK+/vWv44c//CG6urqm3HBzCV6JRqMwGAxIJpPo7++fsRMotKQjG4huubS0\nFDqdLqsCKzXsg8SAC9n9JAmB+ZSrpHY/s4kz93q9MBgMeXewmIuZurh8iQ1J1ePLasRiDceHYRjO\nwaK0tJSzLxObYw2/wzrTrk9qjDYJLin0e048lp1OJ9RqNZRKZUb3Nr7GOxaL5S2NMZFIYGhoCGNj\nY+ju7oZcLhd0wcEwDNxuNywWCzQajaCDpl6vF0ajET6fD6tWrcpokSEV1AIfgEx2CEBbsY9DYgrj\nLMteXOyDyAapoE6Ts88+G5s3b8Y3vvENrhMt1E2NpBjyZSD5lHRky/j4OEwmEzo7O9Hd3Z3W+ZPz\nIBP7+T4PvlxFSGcI/nnU1dVBqVTm1P3kdwQLabnG737W1dXNOyhZyGCYTOCfB0mU9Pl8cDqdonSr\nISSTSQwNDWF0dBQ9PT1obm7mrit+jHaxjz0ej2NoaAjj4+NpOZekdtWF0HinA7EE9Hq96Ovry3kA\nkH8ejY2NU6RbQsWZA59dB++88w4qKipQU1MDjUaT1lyNVFBLSIgXqaBOk1deeQW7d++GRqPBjh07\nBNfBMgyDoaEh2O12VFRUoKSkJO+SjmwgxzkyMsJNsM/0GDKYF4/Hi3IepHAZGxvLWrdMulQ0TSMW\ni3EJhkKeRyH01aTbTNM0otFoVudB4qInJiaKpgNP1RTPdB7xeBwWiwU+n0/QABshITIQo9HIOXXw\ng4vEBHGsCAaD0Gg0U95Psstht9sRDAa5bnQxziMcDsNisSAUCk07zvkgu2c2m407j9TdASHjzIHP\nPvfvv/8+zjnnHK5RQXas5trtYhgGVVVVRV9wCcSCOAkJCYJUUGcAwzB4+umncf/992PTpk245ppr\nct7KTJV0NDc3IxwOQyaTzSoDEQORSAQGgwEMw0Cv16OmpgaBQAA0TWNiYgKtra1QKpUFsVfL9Djn\nI3XAUKlUor6+Pq/HmQ99NX/gs7m5GUqlMueuYTF04Kl+y+loikmATTKZLJjN33zEYjFO40260WVl\nZTCbzUgmk9BqtXm/zrIlGAzCbDYjkUigt7cXgUAADocDtbW1UKlUaQ8SF+I4yd9dq9XOeb0nk0m4\nXC7QNI2qqiqo1ep5bS2FKqxjsRg+/PBDrFy5knvekZERWCwWtLS0zOoNLxXUEhLiRSqos8Dr9eKe\ne+7BBx98gD179uCMM87I+Dn4ko7q6uppdl4TExMwGAzo6OhAd3e3aGzhUhkdHcXAwABYluW8ltva\n2kS3JenxeGA0GtHc3Ize3t5p2lR+9HRJSQkoippzwDBf5KqvJoOrNE2DYRjOY1zo64foQDMJhskE\n4gxB0zTi8TjnR52pptjn88FoNHLb6kJ5GacLy7Lwer2w2+0IhUKzdnHJcVZXV0Oj0YhyEHRychIW\niwUTExOoqanB4sWLCzYAnClkAJB4hPMXfvwgmc7OTlAUlfF1kWthHYlE8Mknn2DFiqmzVyzLwuFw\nYHBwEB0dHdNcV6SCWkJCvEgFdQ787W9/w9atW7Fs2TJs37593jCUTF06GIbhEsNmk1cUA/7Wezgc\nRmdnJxiGwcjICPr6+gqWFJcpLMuCpmnYbDZukGlychIOhwM+nw+dnZ0ZDxjm6zgz1VeTjqHb7S7Y\n4CrpqlmtVigUCnR1deW8AIlEIqBpmuuqUxSVc9eW77TR3t5eEN/yeDwOh8MBp9OJurq6tLq4ZBFB\nupT5sLDLFH4Xt7KyEiqVCi0tLZiYmIDZbEZDQ0NeFlRCQY6zuroaTU1NGBkZ4YJkhFj4Z1tYh8Nh\nnDx5EmedddaMvyezC8PDw9xnq6ysTCqoJSREjFRQ50gymcSBAwfw8MMP4/bbb8eVV145bXrf7/fD\n4XBk7dJBZAskiKZYMpBQKASHw4GxsTE0NTVxEgJyc4/FYjCZTAiHw+jv7xfFNvtMBINBnDhxAn6/\nH01NTdxwmNi+pObTV5Nih9j2FWt3YKZgmEzeS36keTKZ5LrRQhe9fN/yfAxYkm40TdMIBoNQKBRQ\nKBQZF8WkSzk8PCzoYG0mBAIB2O12eDyeWbu4/NCV9vZ2dHd3i84JJhKJwG63w+l0gmEYtLa2Qq/X\n52VHhXhYzxdnDnx2Lx0YGMDy5cvnfF7iumK327nFdW1trejuVVmyIE5CQoIgFdQCMT4+jrvvvhsW\niwUPPPAAampqcODAAaxcuZL78m5tbc3pRsiXgfT09BTkSzZVCkG8lucqdnw+HwwGA9e9KnaXDfjH\ngKHD4eAG8+rr62GxWFBRUQGdTldwOUC68HXLOp0OyWSSsx8US1cdmOoHrtPp5t2x4afmpYbh5BP+\ngKVGo8n5cxmPx+F0OuFwONLuRqcDWai4XC709PQIbg2XCtllommaCzNJxzWD7wST7yCodEi17qMo\nCp2dnSgpKYHL5eLkFPlYAKRbWAcCAZjNZixbtiyt5yU2gTKZDIsWLZIKagkJESIV1AISiUTw4IMP\n4uc//zlaW1uxZs0a3HzzzYI6DRRCBkI6bQ6Hg/NaVigUGXXG+V22YtqYhUIh0DSN8fHxGSUEZJvd\nbDZnZAdYaIh7Bdl61+l0aG9vF+UXayAQgMFgQHl5ObRa7ZTrhq/xZlmW03gX4z0Ph8Mwm82IxWLQ\n6XQZSUv4DheBQIBzhsjH4pFYw/l8Pm4BICT8z0h7e3vW6ZiJRALDw8MYHR3Nizf0fPBlNnNZ9/EX\nAEqlEiqVSvDdEH5hTYpq/nvh9/thtVozmr8hzylJPiQkxIlUUAuA1WrFgw8+iDfffBNf+cpXcPXV\nV+Pw4cM4cOAAtm/fjq9+9auC3wDzIQOJRCLcoKQQXsvAPwrByclJ6PX6ebuWQjBTV32+oo2/UOnr\n6xNFsUrCPmiaRigU4jT3bre74P7V2UAWKq2trejo6IDL5eI03hRFpeW4UggmJydhNBpRVVU170Bg\najd6Ph9vIQmFQjCbzVyEdS7aciKzsdvtYFkWKpVKsCFcvje0EDsA80Es7/x+f0YLG/4OQFdXFxQK\nheCpi+R/+XHmMpkMPp8PNpsNp59+ekbPx7KsaJ2fskAqqCUWFFJBLQBmsxlGoxEXXnjhlE6H0+nE\nHXfcAY/Hgz179qC3t1fw13a73TAajVl3V/kdQ75+Veit0EAggIGBgbylGAqVxBiNRmEymRCNRqHX\n64uiA+cvbGaLni6Ef3WukIWN1WpFNBqFXC5Hf3+/KB1r+AOBra2tU5IhU7vRCoUCSqWyaFImsgCo\nrKyERqPJ6BrnD322trZymtx8QHYAotEotFqtoItpcm3Z7XZUVlZCrVZnvfgnEiC3253VDMB88AcX\nSWFNUkqXLFmS8fNIBbWEhDiRCuo8w7Is3njjDXz3u9/FV77yFdx2222C6135YSs6nS6t4oq4WxQy\nzpyfYiiU1pJ4+7pcLkETJQutA+eHyGRiE1cMX+j54PuREwlBeXk5rFZrUYNh0oEfEU5kSuTaUqlU\nBetGzwcJ6zGbzZwV5GzXKHms3W5HPB7nNMWFWtj4/X6YTCaUlJRAq9XmdI2GQiHY7Xa43W50dHSA\noijB7qfRaBRWqxWTk5Po6+s0PSAkAAAgAElEQVQTvLPOL6y9Xi/GxsawePHijP49AFHMSwhE8T9I\nEhICIhXUBSIWi+FnP/sZnn32Wfzwhz/EBRdckFcZSH9//7QbbywWg8vlgtPpRHV1tSCDktmQTCZh\ntVrhdruh1+vR3Nyc0b8XIvkv3dch9nVqtRoURQn+XvH1q7kM5uXqX50rpGNI0zTKysqgUqnQ2to6\nbcEUDodhMpmQSCREE7jCh3SjbTYbJiYmIJPJoNVqRRtlzr9GFQoF1Go1VyjHYjHQNI2RkRE0NjZC\npVIVNTjG4/HAZDKhtrZ23kRAPvmUp8xEKBSCxWJBNBqFRqNBU1OTYM8dDAZhs9ng8Xig1Wq580jn\n2pIKagkJcSMV1AVmeHgYt912G2QyGX7605+CoijBX4MvA1Gr1fB4PJy7hVwuh1wuF4VvbCgUgsFg\nQGlpKXQ63bxfFHzbPqE8itMhkUjAarXC4/FAp9NlvABIJZlMYnR0FA6HAzKZLC2Ndzpk41+dK36/\nH3a7HV6vNyPHEbIDUFdXB41GU/TrMR6PcxaE/G50NBqF2WxGOBxOy7mkWBB7NYfDgfb2doTDYUQi\nES5IRix2dsQT3Gq1zuu1HY1GuQVBS0sLVCpVQXdg/H4/zGYzAECj0WR9ryELApvNBplMBrVazQ2T\nZ+JhLRXUEhLiRiqoiwDLsnjllVewfft2rFmzBhs3bhS8oPD7/fj0008xOTmJ1tbWnL4Q8s34+DhM\nJtOMOvCZis/5bPvyBVkAlJSUQKfTZaxl9Pv9oGkaHo8nJzeF+ci3vjqRSHDFZ2VlJSiKymqng0iA\nrFYr5HL5lO5qISC6e7vdDr/fD7lcDqVSOeNn0e/3w2g0zuhcIgbIsCRxTwEAnU6Xlu1dMZits04G\nce12OyKRCCiKglwuL6ru3uv1wmw2o6KiAhqNJu1hWrJD4HK55lwQpBsOIxXUEhLiRiqoi0g4HMau\nXbvwyiuv4Cc/+Qk+//nP5/TlRwodp9OJsrIyKJVK1NXVwWQyQSaTQa/Xi/ZmzNeBk46lw+GA1+vN\nesAwX7jdbphMJrS1tc2bupdafCqVyoIVOULqq/lDn5OTk1w3WgjvbtJdJX7LnZ2deX1/+N3o6upq\nqFSqtAfayN9+Pt1yIUhdEPAdLvgDgTqdTrQR4fzOel1dHUKhEOrr6zkvb7FAvK3NZjPq6+vR19c3\n47XPlwyFQiFQFAWFQpHWgmC+wloqqCUkxI1UUIsAg8GArVu3oqWlBffddx86OzvT/reko+NwOBAI\nBNDZ2QmFQjHtpku6wHK5XJCI6HwQi8Vgs9lgs9m4ASaxalf5qXu9vb1TikDypUrTNNf5VCgURQuO\nyUVfnUvxmSkkGCYQCECn0wmqXc2kG53Oc5HuajGCTPiLNPI3mW1YUuyddb/fD5vNBp/Ph4qKCsRi\nMfT19QnutCEU/F0V4gZTXl4+JaK9uroaarU663Cf2QprqaCWkBA3UkEtEhiGwe9//3v86Ec/wnXX\nXYcbbrhhTt1jOByGw+HA6OgoGhsboVQq572BZ+MGkm/IgKHD4UAkEuGKT1IItLa2ore3V5RWa8DU\nuPXe3l5MTk7C5XIV3KN4PjLRV89kE6dQKAqmcw4EAjAajZy2PpciMJFIwOl0wul0oqqqStAFQTKZ\nxNDQEEZHR/Nit5YKX68ul8tBUVTafxPiCNLY2Ije3t6iataJjMtut6O8vBxqtZpz5olGo7BYLAgE\nAtBoNIKGYgkJwzBwOp0YHBxERUUF4vE49zcRauE8W2Et1kTXLCj+jVFCQkCkglpkBAIB/PCHP8Rb\nb72F3bt34+yzz+a+pPl6YgBc0EemxWY4HIbBYCiqDCR1wFCpVE7bluZ3gcXatSILgqGhIfh8PtTV\n1eH0008XTWhJKnPpq4kFodPpFMWCgMgrWlpa0Nvbm9FgHdkhmJyczKkbnQ78IlDozjrfPaW8vJxz\nT8m280mit8lOVSEXqqmJjCqVatZ7TzAYhNls5txgxDT/QTzL7XY7kskkqqqqMDk5CZVKlZfdClJY\nE0/31atXC/r8RURcN3MJiRyRCmqR8sknn+CWW25BX18fLr74YvzmN79BZ2cnNm7cCIVCIUjBVmgZ\nSOqCgLhbzPelzu8C9/f3i8Jqjb9D0NTUxDmOkC+9YkgBMoHoqxOJBORyOdxuN5fGmK8I7WxgWRY0\nTcNms0GtVkOpVM76nvKlEFVVVaAoShBP8nQJBoMwGo2QyWTQ6XQ5fUaDwSDsdjsmJiYE91tmGIbT\nLXd1dUGpVObtPeIXnwzDZGx55/P5YDKZUFFRUXTJSjwe54YMm5qaoFKpuHtRIpHgdiu6u7sFk6ox\nDIP33nsPe/fuxdDQELZt24Y1a9bk/LwiQSqoJRYUUkEtUkZGRvDrX/8a//3f/42ysjJ87Wtfwz33\n3CN4l41hGAwODmJ0dBR6vV7wLVaWZTl3i1wHDAsdtpIKP1WSYRgufCV1QZBMJjE4OIjx8XHRhpjE\nYjE4HA7QNI1EIoHm5mYsWrSo6PZ1s8HvrGs0Gs52DACnjRZ6WDJbJiYmYDKZMpZXkOvLbrdDJpNB\npVKhra0tb4sykhA4MTGBvr4+QYdl+Q4Xzc3NU4rPbCCSFfLZL+R1yo82J0OGs+2WxGIxDA4OwuPx\noLe3F+3t7Vm9p6FQCL/97W/x2GOPoa+vD1u2bMHnP/950S7Qs0QqqCUWFFJBLTKi0SjWrFmDsbEx\nXHvttVi7di1YlsU999yDjz76CHv27MHSpUsFf91wOIyBgQGUlJQIIgNJDZERqlvI1wLnu7tGCAaD\noGkabrc7o1RJ0gVmGAZ6vb7oMhDiVGC32xGNRjmP4tLS0oL7V2dLJBLhouGbmprgdrtRWVkJlUpV\n0G70fPDlFamBK6mEw2HQNI2xsTG0tbWBoqiCXiuRSARmsxmRSCSniHCWZeH1emG32zmHCyE9sIns\nYXBwEO3t7eju7s6bvzbDMFy0eUVFRcbR5pFIBBaLBcFgMG0tOMuysFqt2L9/P/70pz/hiiuuwPr1\n66FUKnM9HbEijg+rhIRASAW1CDGbzdBoNNN+/v7772Pr1q1Yvnw5tm/fnhcrrLGxMZjN5qxkIKRg\no2ka4XCYSzDMRzcpHo/DYrFgcnISer1ecIut1OQ/iqKy7hZ6PB4YjUbOaq3QIRuRSAQOhwMjIyOc\nPGWma4ffWU/tAosF0o32eDxgGAZNTU3Q6/WiHdQitnBOpxM9PT2Qy+WcYwNfh0viwIu5kCER4aWl\npdBqtWkX9WTw0+FwoLa2lrO8y9fihmEY0DQNu90uuLQqHA7DbrenpfNOB74WXKPRzHifSiaTeOON\nN7B3714EAgFs3LgRV1xxhWh3iwREKqglFhRSQX2KkUwmsX//fvzXf/0Xtm3bhiuuuELwL2HiXjA2\nNgadTjdvd2U2PXEhuoWBQAADAwOorq6GVqvN6UuI77Xs8/kySv5L57mJFlhIjeVcrzc+Pg6aphGP\nx6d0o+eDHw+eq3+1EKR6eZNuNADOwqyzs7PgQ3aZEIvFuLTN+vp6TE5OCiKFyAdEsjKfvCIQCMBm\ns8Hr9UKhUOR18HMmEokEhoeHOd0yWaxkCmkE2Gw2xONxqFQqwRc3k5OTMJvN+Pjjj7F06VIsX74c\nPp8PBw8exNNPP40VK1Zg8+bNOPPMM0Wzy1IA/mlOVOKfA6mgPkUZGxvDXXfdBZvNht27d6O/v1/w\n1yAykJmiwbMdMMwHxBvWYrFk1bEiKXNCy1Nme618dtb5i5tcCzav1wuj0Vg0zXqqTdxs2mj+kB2/\nCywW+FKbcDgMAKisrIROpxNdMU3gyys6OjrQ3d2N0tJSTgpB0zRKS0uhVquzdh0RCrJY8fl86Ovr\nS/t4yOfe4XCgoaEBarU6724ihw8fxvbt21FeXo5QKITrr78e119/vSjnLAqAeD6kEhICIBXUs/Dc\nc89hx44dOHnyJI4cOYIVK1Zwv9u1axcOHDiA0tJSPPTQQ7joooum/Xur1Yq1a9fC7Xbj7LPPxsGD\nBwXv3rAsi7/85S/Ytm0bvvCFL+DOO+/MSzeRyEAUCgWamprgdDq5+GylUll0bTAhmUzCarXC7XZD\nr9ejubl51seSQByaphEMBovitWwwGFBZWQmtVpuTZIFhmClOChRFCba4ycS/WghIQIbD4UBFRUVG\nseaxWAwWiwV+v19w+7psIIOfLpcLDQ0NUKlUnNSGLFbq6upmTd0TA8S60mazobq6GtFoFG1tbVCp\nVKILieGnQ86lBSdhMpOTk1xnPd+LxXg8jj/84Q/Yt28fysvL8bnPfQ6vv/46zjvvPHz/+99He3t7\nXl9fpEgFtcSCQiqoZ+HkyZMoKSnB+vXr8cADD3AF9YkTJ3DVVVfhyJEjcDgcWL16NQwGw7Ti5Zvf\n/CYuv/xyrF27Fhs2bMCyZcuwcePGvBxrIpHAL3/5Szz22GPYvn07vvKVrwjaMYrH43A4HBgaGkIy\nmURPTw96enpE1QXkEwqFuL9Jamc9Go1yeuL6+npQFJVXvedcsCyLsbExWCyWrDTrfF/f1tZWUBSV\nN3kG0VePjY1Bq9UKrq/md6NzldoEg8Epf/9CFn78UJxgMMhJbWYq2Pipe/wusFggHus2mw2JRIKL\nNNdoNFm7VxQCogUnaau1tbVgGIYLkylkZ310dBSPP/44fve73+FLX/oSNm/eDL1eD5lMBoZh8Oyz\nz2LPnj148sknsXjx4rweiwgR5wUkIZElUkE9D1/84henFNS7du0CAHzve98DAFx00UXYsWMHzj33\nXO7fsCyL9vZ2uFwulJWV4d1338WOHTvw2muv5fVYHQ4H7rjjDvh8PuzZswc9PT1ZP1fqgCFJMEwk\nEhgYGEBZWZmoh8GAf/hsd3R0oLa2Fk6nk9MTd3Z2Fnw4cDb4CZZkGHC2L3pSGNA0DQBcN7pQw2xC\n6quFDC2ZCWK11tzczEVE54tcBvP4AUaF0NfPB+msO51Ozm+ZSCGIe0UoFIJWqy36LsBceDweGAwG\nsCyLZDKJjo6OgnTWWZbFsWPHsHfvXgwMDOCGG27AtddeO6ucJB6Po7S0VLTOOnlEKqglFhTiqChO\nIWiaxqpVq7j/VqlUXHFDcLvdaGpq4gq2mR6TD5RKJZ566ikcPnwY1157Lb761a9i69atGXX6UgcM\nu7u70dDQwH3BV1RUYPny5RgbG8Pf//53zhJMjF8GNTU1aG1thc1mA8uy0Gg0UKvVxT6saZSUlKC3\ntxcKhQImkwl2u31ascoP+mhra8Npp51WFKlNdXU1li5dCq/XixMnTmSlrw4EApxTR2dnJ5YuXZqX\ntM7W1la0tLTA4XDg2LFjeZGs8D2w5XI5li9fnrFsqKSkBF1dXVAoFLBarThy5EjB/ctn6qyvXLly\n2qKzqqoKixcvRiAQgMlkgkwm47rAYoHY99lsNshkMjQ2NsLr9QJAXhfRkUgEzz//PB599FFQFIUt\nW7bgC1/4wrzXm1hClCQkJHLjn7qgXr16NVwu17Sf79y5E5dddlkRjih3ZDIZVq9ejXfeeQcPPvgg\nLrjgAvzoRz/Cl7/85Vm7XslkEmNjY3A4HGBZFgqFAuecc86c28/t7e1oaWnB4OAgjh49Oq9muVCk\nDktSFIX/9//+H2KxGIxGI6evFovum09VVRVOP/10rlitq6tDXV0dRkZGUFpaCoqioNPpRLF4aWpq\nwooVK+ByudIqVlO70RRFob+/P++dWJlMxlnSDQ0N4ciRI/PuAswH0XnTNM25jpx22mk5n0t5eTn0\nej23CzA0NJT32O1kMsl11qurq6FSqdKKm6+rq8OZZ54Jj8fDXavF1oKn7hJ0d3dzOmoyC3Ds2LF5\nfcEzxWazYf/+/Xj11Vfxta99Dc8995woF+4SEhL5RZJ8zMOpJPmYicHBQdx2220oLS3F/fffPyUk\ngCQY5jpgGAqFMDAwgPLycuh0uqJ8qaaeC0VRM27tTkxMwGg0orW1Fb29vaLSrBLIuYyOjoJhGHR3\nd4tasz6XfzW/Gy10hHY2kGCYWCyWcbGa2lmnKCqv1zqJ3a6qqoJGoxH0feOfy1wOKunA14LnO3Bl\nJoLBIGw2G3cuFEXNukvA9wWfL8p+LhiGwVtvvYVf/epXGB8fx/r16/HNb36zqNf2KYg4b2gSElki\nFdTzkFpQHz9+HOvWreOGEi+44AIYjcZphdmVV16JK664ghtKPOOMM7Bp06ZinAJYlsXLL7+Me+65\nB5dddhkYhsHvf/973HvvvTj33HMF060SNxClUilo2MJs8P2J+Y4Q870uX7Pa19eHjo6OoherfHcL\n0sFta2vjnEs8Hg90Op0odgFmg3RW4/E4mpubMT4+jrKyMi5Cu9jvMZ/JyUkYDAbU1NRAo9HMWkym\n2sQV+lyIn7jZbEZbWxt6enqyLlb50eYlJSWCnws/cCXfjjDE2YbIOtRqdUbnEo/HMTQ0hPHxcfT2\n9qZ9D/D7/XjmmWdw8OBBLFmyBFu2bMHKlStFdW2fQkhvmsSCQiqoZ+GFF17ALbfcgrGxMTQ1NeHM\nM8/kOsw7d+7Eo48+irKyMvziF7/AJZdcAgC49NJLsX//fiiVSlgsFqxduxYTExNYvnw5nnzyyaJt\nhzIMg//7v//DI488grfeegu9vb3YunWr4G4gwNRuZT5kIETrSdM0/H4/5wiRzXsbi8VgMpkQDofR\n399fFE9gosGdL0gmGAxyC7dU5xKxEAgEuAhthmHQ0tKC/v5+0WpE+S4rqS4bfAeVuXY8CgW/WM20\nsxqJRLgdj0JEmycSCS4YKpNiNR1isRhomobL5UJLSwtUKlVO+u1oNAqLxYJAIDBrRDjLsjAYDNi3\nbx/eeustrF27FjfddBM6OjpyORUJqaCWWGBIBfUC580338Qtt9yCz33uc7jhhhtwzjnnwGg04tZb\nb0V7ezt+/OMf5+WLQWgZSCwW48JX6urqQFFUWlrPdPD5fDAYDAULMCFaT6fTiaqqqoyCZPjOJWKw\nWSOadX4Hl+x4uFwuDA4OCh4PLTQkGIamabS2tiIYDIJlWahUKrS3t4vquBOJBAYHB+F2u9HX1zdr\nV5YfJhOLxaBSqQoevMQvVrVabdaLa7KIttlsCIVCoCgKCoVC0HMhEeEkyGbVqlVIJBJ47bXXsG/f\nPiSTSWzatAmXXXaZaNyBFgBSQS2xoJAK6gWOz+dDWVnZtC4OwzB4/vnncd999+GGG27AddddJ/gX\nBekAms3mrIoqvnVfJBKBQqGY1dNXiGMlASZdXV1QKpWCdu9TO+tEt5pNkAw/GbBYkhXSjZ6YmEBH\nRweUSuWMHdx8+1cLAengjoyMoKSkBCzLYtGiRaKW10QiEZjNZkQiEeh0Oi4whnjGO53OgqX/zUcw\nGITJZALLstBqtWnvBPGHP6urq6FWq/PuGX/s2DHcfvvtKCsrg9fr5byjlyxZIsk6hEd6QyUWFFJB\n/U9OIBDAjh078Je//AW7d+/GWWedlRcZiNVqxcTEBPR6/bzetanWfRRFcQVDvhE6Gpwfa15TUwOK\notDc3CzIe8yXrOj1+rwXTqndaKLzTmeRJKR/tRCQ0BK73Y54PM45gZSWlnLyGplMBp1OJ0pHGILf\n74fRaAQAlJaWIhwOQ6lUQqFQiE5qQ9Iha2tr0dfXN6tsKRQKwW63w+12F2T4E/jsevjwww+xd+9e\nfPTRRzjvvPNw9OhRrFq1Cj/4wQ8keUd+kApqiQWFVFBLAAA+/vhj3HLLLdDpdPiP//iPGbWEuUIS\n7CoqKqDT6aZ0Z8nAFE3TYBiGC18plqQhEAhgYGAA1dXV0Gq1GXWSiQ8uTdMIBAJcWl6+Ys3JgF1t\nbS00Go3gr8P3wM5VT0yKqvr6emg0moIXfUSDOzIygsbGximhJalMTEzAZDKhqakJvb29oitQ+R1c\nmUyGWCyG9vZ2UR4rga9b5w9ZkuFLu90OhmEKJreJRqN48cUXceDAATQ3N2PLli1YvXo1SkpKwDAM\nnnvuOfz0pz/F7t27ceGFF+b1WP4JkQpqiQWFVFAXmDVr1mBgYADAZ8VFU1MTPvjgg2mP6+npQX19\nPUpLS1FWVoZjx47l/dgYhsHBgwfxwAMPYMuWLbj66qsF/0JLlYE0NzfD6XTC7Xajra0NSqWy6N1L\nArEDs1gsaUlWSMKcy+UqeKw5y7IYGRmB1WoVRLPMd7fgO0IIcT2wLFtQfTXLsvB4PLDb7YhEItwC\nJx2JE18KJBYtOH+Bw+/gsiwLh8OB4eFh0RzrbDAMwx1rTU0NwuEwmpuboVKpCjIc7HQ6ceDAAfzv\n//4vLr74YmzatAl9fX0zPjYWiyEej4vmvrSAkApqiQWFVFAXkW3btqGxsRH33nvvtN/19PTg2LFj\nRdGcTkxM4Ac/+AGOHz+OPXv24PTTTxf0+UmYhNVqRSKRQE9PD7q7u0X75U8kKyQUhq+tTY1oJ8Va\nsTqEfJcVnU6X8U5DMBgETdNwu915d7fIt76ayG0cDgfq6+uhUqmmpH5me6y5BsNkQ6pN3FwLnGQy\niaGhIYyOjqKvrw/t7e2i0/9OTk7CZrPB7/ejsrISkUgEvb296OzszNuxMgyDd999F3v37oXNZsNN\nN92EdevWiVrSs8AR10UpIZEjUkFdJFiWRVdXF9544w3odLppvy9mQU04duwYtm7dihUrVuD73/9+\nThpdlmUxOTkJmqanWMQlk0kMDAygsrJymgxEbIRCIRgMBpSWlqK7uxtutxsjIyNoaGjgdN5iKVzC\n4TCMRiNYloVer5+zKGYYhtNGk2TBQrpbRCIRGI1GQfTV5Dqz2+3w+/2C64n5w4CF0K3zLe8ytYmL\nRqMwm80IhULQ6XQ5zwPkCtn1sNvtqKiogFqt5uYJYrEYN7ug1WoFlZwFg0H89re/xeOPPw6tVovN\nmzfjvPPOE+0C/p8IcdwsJSQEQiqoi8Sbb76J22+/fVYpR29vL/dls379etx8880FPsLPSCaTeOSR\nR/A///M/uOOOO3D55Zdn9EXEH8qrrq6e0SKOL61QqVRQqVSiKUz5kEE2i8UCv9+P1tZWLF68WNSL\nAH4yZGooCH/4q62tDSqVqqhey7noq/khP1VVVVCpVIINf87E5OQkjEYjqqqqoNVqBR2aIxIVm82G\naDQKlUqV0zxBIBDgPMy1Wm3BO7LhcBh2u53z9FapVLMOJBL7umQyCZ1Ol7X8g2VZWCwW7N+/H4cP\nH8a///u/Y/369VAoFLmcioSwiO8mLyGRA1JBnQdWr14Nl8s17ec7d+7EZZddBgDYuHEjtFottm3b\nNuNz0DQNiqIwOjqKCy+8EA8//DDOP//8vB73XIyOjuKuu+6C3W7Hnj17oNfrZ30sKQhomkYwGIRC\noYBCoZi38Ewmk7BYLPB4PGm5gRQKfpewubkZFEWhtrYWQ0NDGBkZgUajQXt7e7EPc1b4oSBdXV0o\nLS0tWjd6PjLVV/v9ftjtdni93nljp/NxrLMFw2TDTBIVIbvKZMiysbEx737rRApls9kQj8e5RUG6\n15nP54PRaER1dXVGsevJZBKHDx/GI488gmAwiI0bN+Lyyy8X9aL3nxipoJZYUEgFdRFIJBKgKArv\nv/8+VCrVvI/fsWMH6urqcMcddxTg6GaHZVm8/fbb2LZtG770pS/hzjvvnNLtikajcDgcGBkZyWko\nLxgMFl0GQjSrNE1zf6+ZuoR8uUJ/f79o9ZihUAjDw8NwuVwoKSlBf38/Ojs7i31YszKXvjqZTHID\nk+Xl5VPCZIoBP8q+u7sbCoUio2MhEpXJyUkoFAoolcq8Fbv8BYtCoUBXV5egiyn+oiBXH2zi/GGx\nWNDS0oKenp5Z3xev14snn3wSTz/9NFauXInNmzdj2bJlotzpIjz33HPYsWMHTp48iSNHjmDFihXc\n73bt2oUDBw6gtLQUDz30EC666KJp/95qtWLt2rVwu904++yzcfDgwVNt4SDeP46ERBZIBXUROHTo\nEHbt2oU///nPM/4+GAyCYRjU19cjGAziwgsvxL333ouLL764wEc6M/F4HA8//DCeeOIJfP/730cg\nEMATTzyBTZs24ayzzkrbQWEuiiUDCYfDXHx2S0sLKIpKa9vZ4/HAYDCgtbUVvb29RU8wBP5hRWi3\n2wGAsyIjKZb5kCsIDX/Bolar4Xa7uTAZiqJEFcFOPMx9Ph90Ot2cwTD8RUFFRQVUKlXaaZlCkEwm\nuQWWEMOAfr8fNpstL4sChmHgdDoxPDyM0tJSLF26FNXV1WBZFidOnMDevXtx9OhRXHPNNbj++uvR\n2toqyOvmm5MnT6KkpATr16/HAw88wBXUJ06cwFVXXYUjR47A4XBg9erV3OwGn29+85u4/PLLsXbt\nWmzYsAHLli3Dxo0bi3Eq2SIV1BILCqmgLgLf/va3sWrVKmzYsIH7mcPhwI033ohXXnkFFosF3/jG\nNwB81s1et24dtm/fXqzDnRGLxYL//M//xMGDB3HaaafhO9/5Di699FLBXyeRSMBqtcLj8aC/vz8v\ng1V8D2yWZaFUKrOKaeZLK4qVYAh81o2maRrj4+Noa2sDRVHTOud8uYJcLhe8UykU5G8zODiIUCiE\nxsZGLFmyRNSLgFAoxIWtpAbD8HXrYlgUkGFAv9+fcTw4GWa12+0oLS2FWq3O605BMpnEr371K+zd\nuxeXXHIJPv74Y1RVVWHz5s249NJLRbGIzYYvfvGLUwrqXbt2AQC+973vAQAuuugi7NixA+eeey73\nb1iWRXt7O1wuF8rKyvDuu+9ix44deO211wp/AtkjFdQSCwphs6Yl0uLxxx+f9jOlUolXXnkFANDX\n14cPP/ywwEeVHkeOHMH27dshk8lwww034P7778dbb72Fu+66C8ePH8ett94qaLFTVlYGnU7HyUBI\nV1WIrc1gMAiHw8EVnv39/Tk5TJSUlECtVqOzsxMmkwl2ux39/f0F8dVNXRRQFAWNRjNrkSyTydDR\n0YHW1lYMDw/jyJEjorKGR0QAACAASURBVNKC83cK2trauK6ky+XC3/72N1H7LNfU1GDZsmXweDz4\n5JNP0NDQgMbGRjidTrAsC5VKBa1WK4pjr6iowKJFi7h48KGhIeh0ujk/B/yZgra2NixZsqQgw6zj\n4+MIBAJoaGjAe++9h3g8jj179iy4wBWaprFq1Sruv1UqFWianvIYt9uNpqYmbidwpsdISEgUFqmg\nlsiIzs5OPPLII+jt7eV+duGFF+L888/HAw88gAsuuAA//vGP8cUvflHQTlVtbS2WL1+O0dFRvP/+\n+1Cr1aAoKuPXIPHZDoeDG8qbq/DMhoqKCixevBg+nw8nT55EQ0ND3obA+A4Kra2tGS8KSktL0dvb\nC4VCwS0CihUNzk/LSyaToCgKfX19U/42CoUCHR0dGBwcxJEjR/LiXy0UNTU1aGtrg91uh8vlysu1\nJhS1tbXcIuDEiROor69HX18ft3Al6Z82mw2RSAQqlQrnnHNO3rvCLMvi6NGj2Lt3L4xGI2644Qa8\n+eabqKurg8ViwQ9+8AM8+OCD2L9/f1rzKIUmnQF1CQmJhYEk+ZAQlMHBQWzduhUVFRX46U9/mheb\nqmxkIIFAADRNCxKfnQn8pL2uri4olcqcFxozdaM7OjoEKdS8Xi8MBkNB47aj0SgXB55JWh5fX52L\nxZqQpBaexAcbgOjDVggkdXNwcBDt7e0oLy+H0+lEbW0t1Gp1Qfysw+Ewnn/+eTz66KNQq9XYsmUL\nzj///Bmv8WPHjmHRokWi+PtngyT5kJBYGEgFtYTgsCyLl156Cffccw+uvvpqrF+/Pi+FWSAQwMDA\nAKqrq2eUgfAHv8rKykBRlGDx2ZlCBtYmJyeh1+uzKkr4MojW1lbOvk9o+BHWQi0CZnqNiYkJ2O12\nxGIxLmEym45nLv7VQpFIJDh3C1J4zhT0E41GYTKZEIlEoNPp0NDQUPBjTYdgMIjh4WGMjY2BZVn0\n9vZCrVbnfRFgs9mwf/9+vPrqq7jsssuwYcMGqNXqvL5msUktqI8fP45169ZxQ4kXXHAB5yPO58or\nr8QVV1zBDSWeccYZ2LRpUzFOIVukglpiQSEV1Kc4O3bswL59+zjt609+8pMZhwMPHTqErVu3IplM\n4sYbb8Tdd9+d92MLhULYuXMnXn/9dezatQvnnntuXgqzkZERWK1WTgZCutEej0cUg1985lsEpELs\n++x2OxiG4ez7CrEoSCQSsFgs8Hq9gvmCx2IxOBwOuFwuNDQ0cHHguZKpf7VQ8H2wibtFOvp+v98P\ng8GAqqqqjHyW80lqvLlarUZbWxu3I+T1eqHRaAR30WAYBm+++Sb27t2LsbExbNiwAWvWrBH14KkQ\nvPDCC7jlllswNjaGpqYmnHnmmVyHeefOnXj00UdRVlaGX/ziF7jkkksAAJdeein2798PpVIJi8WC\ntWvXYmJiAsuXL8eTTz55qr1nUkEtsaCQCupTnHQ8qpPJJPR6Pf74xz9CpVJh5cqVeOaZZ7B48eKC\nHOOnn36KW2+9FXK5HD/+8Y/zMvgWiURw/Phx+Hw+NDQ0oKenp6jexHPBtwScrfhLte/LJHJaaILB\nIAwGAzcgmmnxx7IsfD4f7HY7gsEg143ORyd5Lv9qoeBHaOfig00042azGe3t7ejp6SmKU0UsFgNN\n03C5XHNeayTOPtcUQ4Lf78fTTz+NgwcP4vTTT8eWLVuwcuVKUX5mJfKC9IeWWFBIBfUpTjoFdaq+\nLlWjVwgYhsFzzz2HnTt34sYbb8R1112Xc/HAsiwmJydB0zQmJyfR2dmJxsZGWK1W1NTUQKvVFmX7\nP12SySSsVivcbjd0Oh2ampq4MBkylJeNfV++GB8fh8lkSjsVMFUGQZL/ClEw5UNfnRqhLZQOn2+3\nmE0wTDaQRY7NZkMoFAJFUVAoFGldayTFsKamBhqNJqOuKMuyGBgYwL59+/D222/jqquuwk033SQa\ndxmJgiIV1BILCqmgPsXZsWMHHn/8cTQ0NGDFihV48MEHp3nJPv/88zh06BD2798PADh48CD++te/\n4pe//GXBj3dychI7duzAe++9h927d+Oss87K+Dni8ThcLhecTieqqqpAUdSUUIyZZCBi7noRZ4VY\nLMYVq2IdsGIYBjabDU6nc9bhOn7yn1wuT1sGkQ9y1VenOo+oVCrBBkBTicfjnLRCq9WipaVF8NdI\nJpNwuVygaRrV1dXckGE23XXiY97e3o7u7u45w5wSiQQOHTqEffv2gWVZbNq0CV/72tdyDoAqFGvW\nrMHAwACAz66ppqYmfPDBB9Me19PTg/r6epSWlqKsrAzHjh0r9KGeSoj3piwhkQVSQX0KMJf10qpV\nq9DW1gaZTIZ77rkHTqcTjz766JTHiamgJnz00Ue45ZZbsGjRItx7773zBkqQjhpN0/D7/WkVakQD\n7PP50N/fL6oBMIZh4Ha7p1jElZaWwmKxoLOzE93d3aK0VyPwh+v6+/s5j2iHw1GU5L+5yEZfzZdB\nZOI8IgQkGIZl2Xk9oTN5ThIo09nZCYqiBNHb8rvrMy1e3W43fv3rX+PZZ5/Fv/zLv2Dz5s1YvHix\nKK6LbNm2bRsaGxtx7733TvtdT08Pjh07JlorR5Fx6l4EEhIzIBXUC4jBwUF89atfxSeffDLl52KQ\nfMwEwzB44okn8LOf/Qy33norrrrqqmmFTiwWg9PphMvlQm1tLSiKQlNTU0ZfyGQQUAwyEH4oxkzR\n5gzDYGhoCCMjI6IKWpkNl8uFgYEBLrBErVaLdjBqPn11qtaboijI5fKidVE9Hg9MJlPWPub87jrD\nMFz0fL666ydPnsSGDRtw2223QaPRYP/+/fjoo49w3XXX4Vvf+lZB7PbyDcuy6OrqwhtvvAGdTjft\n91JBnRFSQS2xoJAK6lMcp9PJ+dz+/Oc/x1//+lf85je/mfKYRCIBvV6Pw4cPg6IorFy5Ek8//TSW\nLFlSjEOexsTEBLZv346TJ09iz549OO200/Dqq6/C5/NBo9FAoVBAoVDkVAjzu5T5soKb67VJYZNI\nJDinjrn0qnwNcH9//7To8GJChvJomkZpaSkoikIikcDQ0BBUKhUoihJ1d528t/F4HHq9HlVVVZwM\noqamJmsZRD7gX7dKpRJqtXre9zYej4OmaTidzoJ216PRKB577DE88cQTcLlc2LFjB9avXy/qayFT\n3nzzTdx+++2zSjl6e3vR3NwMmUyG9evX4+abby7wEZ5SFP8DJiEhIFJBfYpz7bXX4oMPPoBMJkNP\nTw/27t0LhUIBh8OBG2+8kYszf+WVV3DbbbchmUzi+uuvx/bt24t85NN57bXXuC+gpUuX4jvf+Q5W\nrVolaGGTSCRgNpsxOTmZdxkIvxudbWHj8XhgMBjQ2tqK3t7eog4ohkIh0DQ961Be6pBlPjTAQuJ0\nOmEwGLjueldXV9G03vORTCYxPDyMkZGRObXrNpsNfr+fGzIsRHfd4XDgwIEDeOmll3DJJZdg48aN\n8Hq9uOuuu6BUKnHfffedEl7S6aQabty4EVqtFtu2bZvxOWiaBkVRGB0dxYUXXoiHH34Y559/fl6P\n+xRGKqglFhRSQS1RVBiGweHDh7Fv3z7YbDZce+21CIfDeOKJJ/Dd734XX//61/PS4QoEAvj0009R\nV1cnaBgI6UbTNI14PJ5WN3o++DrVvr4+dHR0FKx7yvfBJoXnfLKBcDgMg8EAANDr9QVJpEwXhmEw\nOjoKu92O0tJSqFQqxONxDA0NFdS/Olui0SjMZjNCoRD0ej3q6uq47npFRQXUajXXIc0nDMPgnXfe\nwd69e0HTNG666SasW7duyt+aZVm8+uqrOHr0KP7jP/4jr8dTCMju0vvvv59WzHk6Dkz/5EgFtcSC\nQiqoJYrK+Pg47rnnHtx44404++yzuZ+PjIzgu9/9LpxOJ/bs2TOjXjFXhJSBRCIROBwOLj6boijU\n19cLeryxWAwmkwnhcBj9/f153cZP1Xpn44M9MTEBo9Eoiu56JBKB3W7H2NgY2traoFKppnXX8+1f\nLSTj4+P49NNPEY/HoVAo0NPTU5BwmGAwiGeffRZPPPEEdDodNm/ejHPPPVfUixChOHToEHbt2oU/\n//nPM/4+GAyCYRjU19cjGAziwgsvxL333ouLL764wEd6yiAV1BILCqmglhAtLMvirbfewrZt27B6\n9Wps27YtL1pifix4JjIQlmU5pw6hutHp4PP5YDAYsh5Wm418nA+/u97T0wO5XF5Q7frExARsNhvi\n8ThUKtW8KZORSAQmkwmxWIzrAIuFmc6ntLQUVqsVbW1t81rX5fK6FosF+/btwxtvvIErr7wSN998\nMze78c/Ct7/9baxatQobNmzgfsaX1lksFnzjG98A8Fk3e926daKU1okIqaCWWFBIBbWE6InH43jo\noYdw8OBB3HPPPbj44ovzUpT5/X4MDAzMKwMpRDd6PliWhdPpxNDQUM7ddWIRNzIygsbGRqhUqrx0\n1y0WCwKBAPR6fV6166nx5mq1OuPzIYuW+vp69PX1FVVbHY/HuYCcmc6Hv2gRcuA2mUzi8OHD2Lt3\nL8LhMDZu3IjLL79c1GFJEqcUUkEtsaCQCmqJKdx555146aWXUFFRAY1Gg8ceewxNTU3THleMAAO7\n3Y5t27YhHA5j9+7d6OrqEvw1+DIQfmod6d7SNI1YLMbFZxc7xZDfXdfr9Wlbk7EsC6/XC5vNhkgk\nwp1PvofY/H4/DAYDqqurodVqBStUSWqmzWZDIBAQZCgvG/9qIfH7/bDZbJicnIRCoYBSqZyzmI3H\n4xgcHITH44FGo0Fra2tWr+v1evHkk0/iqaeewjnnnIPNmzdj2bJlonA9kVhQSBeUxIJCKqglpvD6\n66/jy1/+MsrKynDXXXcBAO6///5pjyuW3yrLsnj99dfxve99D1//+tdxyy235MX3mBSqXq8XjY2N\n8Hg8aGpqykv3VgiI1/Z8hSq/21lfXw+VSoWGhoaCFkssy2J0dBRWqxUKhSItK7jZ4Cf/VVVVQa1W\nZ+xTns5rEH11vr3BU4cm1Wo1WltbMzqfcDgMo9GIZDIJvV6flvadZVkcP34cjzzyCI4ePYprr70W\n119/veidWiROaaSCWmJBIRXUErPywgsv4Pnnn8dTTz017XfFDjCIRqPYvXs3XnjhBdx33334whe+\nIFgRRbSqdrsdoVAIDMOgubkZOp1O1NvdpFC1WCxTOqqke2u32+H3+6FUKnP29RaCZDKJoaEhjI6O\nZjwIGAwGYbfbMTExIWjy31zkU1/NHwKdaWgyG/ix67PJVuLxOF5++WXs27cP1dXV2LJlCy6++OKi\n77xkyo4dO7Bv3z5usfOTn/wEl1566bTHHTp0CFu3bkUymcSNN96Iu+++u9CHKvEPpIJaYkEhFdQS\ns/Jv//ZvWLNmDa655pppvxNLgIHZbMZ3vvMdVFVVYdeuXTkNSkWjUU57S7TEDQ0NU/TKfBmIWCF+\n0OPj42hubobP50NVVRVUKlVBLNUyhR9iM1dHlWEYjI2NwW63QyaTQaVSoa2treAOE0Lpq1mWhcfj\ngd1uRyQS4YYmhSxmWZbFyMgIrFYrBgYGsGbNGlRXV2NkZASPP/44fve732H16tXYtGkTdDqd6K6N\ndEnHoo507P/4xz9CpVJh5cqVeOaZZ7B48eICHqkEj1PzYpOQmIXiZOpKFJV0Agx27tyJsrIyXH31\n1TM+x9tvvz0lwGDRokVFCTDQaDR48cUX8eKLL+Lyyy/HNddcg5tvvjnt7iu/Gx2NRqFUKrFy5cop\n2luZTAalUon29v/f3n1HRXmm7wO/BgUbgvQyM3QENJYAthPbatDEGLuJSQyuHmMl6nFj+1qOmk1i\ny+quuoolijHGtpqCXRM0MQqiklgiNcjMCEoZQYbO+/7+8Dg/ECwwhWG4PufknMAMvA8oeM3z3s99\nOyE1NRX37t1DQECASZZ+AI8HsJSXl0MQBOTm5qJ169baiYCmqGXLlujUqRMePnyIW7duoV27dvDx\n8dH+GVTdvXVwcEBQUFCDTo60tbVFaGgosrKycPXq1TrXV1dUVGjLbtq0aQNPT0+DjeWWSCRwdXWF\no6Mjjh07hm7dusHHxwcPHz7E5MmTERsbW+d2iI1VXFwc/Pz84OPjAwAYN24cvv/+ewZqItILBuom\n6OzZs899fPfu3YiOjsa5c+eeuWMllUoBAM7Ozhg5ciTi4uIabCKYRCLBiBEjMGjQIPzzn//E66+/\njtWrV6NHjx7PXH/VzhY2Njbw9vZ+YecJS0tLBAYG4tGjR7hz547e29bporKyUjsO3NLSEjKZDIGB\ngZBIJMjJyUFCQgJcXFzg6elpsj2D27Vrh27duuHevXuIi4uDo6MjiouLUVZWBqlUiu7du5tMKYJE\nIoGbmxucnZ2Rnp6OuLi4F9ZXazQaKBQKqNVquLm54dVXXzVK95Di4mIcPnwYv/32G1599VWUl5ej\noqICwcHBZhWmN23ahD179iA0NBRffvkl7Ozsqj2uUqmqTWyUyWSIjY019jKJyEyx5IOqOXnyJObO\nnYvz588/MxyY+gCDO3fu4OOPP4a7uztWrlyp/ToEQYBarYZKpdK5s0XVMhBj91euqmotsbOzM6RS\naa070YIg4O7du7h//77BD9bp4smhSZVKBVEUIZFIEBQUVGunGVPyrPrqJ5MmFQoFJBIJ5HI5HB0d\njfJ3JSMjAzt27MDJkycxfPhwTJs2TRsob968ifnz50MqlWL79u0GX4s+PO/OWs+ePbXf16VLlyIz\nMxNfffVVtecdPnwYJ0+exI4dOwAAX3/9NWJjY7Fp0yajrJ9qYMkHmRUGaqrGz88PpaWl2pZbPXv2\nxNatWxvdAANBEHDgwAF8/vnn+OCDD/DgwQP8+OOP2LhxI7p06aK3W+zl5eVITU1FYWGh0cpAdKkl\nrlqvHBAQ0KClE1U9aXn39KFJjUaDpKQkWFpaws/Pz2TLVp54Ul/dunVrWFlZIScnp96TJutDEASc\nP38ekZGRyM3NxbRp0/DOO+8888BmWlqatgTCXKSnp2Po0KG4efNmtfdfunQJy5cvx6lTpwAAX3zx\nBQBg0aJFRl8jAWCgJjPDQE1mSRAExMTEYNOmTbh8+TL8/f2xaNEig5WlFBQUIDExETY2NvD19TVI\nP+fi4mKoVCrt+GypVFrvQKxWq5GUlNSgY8GflKkolUq0aNECcrn8mYcms7OzkZqaChcXF3h4eJhM\n6UdVoigiPz8fCoUC+fn5EAQBHh4e8PDwMHiZTUFBAfbt24e9e/eiU6dOiIiIQGhoaKM9ZFhXmZmZ\n2gPJ69evR2xsLPbv31/tOU8OvZ47dw5SqRTdunXDvn370LFjx4ZYMjFQk5lhoCazc+zYMSxZsgQh\nISGYOnUqQkND8fvvv2P27NkICgrCsmXLDFJCIIoi7t27h4yMDL2VgYiiiJycHCiVSlRWVmrHgesj\noFWdsOft7Q0XFxejBLCioiIolUrk5uY+t0yltvVmZGQgKysLPj4+cHJyMonAWLUXdqtWrSCXy2Fr\nawtBEKr1r9Z3qYcoikhMTMS2bdtw8eJFvP/++5g8ebLJlvMY0ocffoiEhARIJBJ4eXkhMjISbm5u\n1e6sAcDx48cxZ84cVFZWYtKkSSZ3Z62JafgfXiI9YqAms6NUKtG2bdsaZR2CIGD37t1Yv349Zs+e\njXHjxhlk57C8vBwpKSkoKipCQEBAvfoVl5aWag9N2tnZQSaT6bXvcVVlZWVISUlBcXFxvdf7Ik9q\niZVKJURRhEwmg5OTU72+/6WlpUhJSUFpaane+0HXRdUXBs/rha3v/tUVFRU4efIkIiMjYWFhgRkz\nZuDtt982+JRLIj1joCazwkBNTU5ubi4WL16MO3fuYN26dQZrm1XXMpCqLfwaYrz5k/pffXYvqfrC\nQN+1xFX7Qfv6+hql20rVOwaCINTphYGu/atzcnKwZ88eHDx4EH369MHMmTMRFBRkErv0RPXAv7hk\nVhioqUkSRRFxcXGYM2cOevbsiYULFxrkQOHLlIGUlZUhMzMTmZmZsLGx0Q6UaQhVu5d4eHjA3d29\nzoHt6YElUqnUYC8MRFFEVlYW0tPTIZPJIJPJDBIwy8vLoVKpkJWVpR1BX5+d5qrrfZn+1aIoIiEh\nAZGRkbhx4wYmTpyICRMmGKxvtSHMmzcPP/74I6ysrODr64tdu3bVWnLl5eWFtm3bolmzZmjevDni\n4+MbYLVkRAzUZFYYqMkgXjTit7S0FOHh4bh69SocHBxw4MABeHl5GX2dFRUV2Lp1K7Zt24YFCxZg\n+PDhRikDadOmDfLz86FUKqHRaLS70abQ0xp4vN60tDQUFBSgffv2LxXgnrS8u3fvHtq2bQuZTGa0\n4FdRUYH09HTk5eXBz88P9vb2evm8VbuPSKVSuLm56aW0ourY9drqq0tLS3H06FHs3LkTjo6OiIiI\nwMCBA022h/jznD59GgMGDEDz5s2xYMECAMDq1atrPM/Lywvx8fF1GkFPjRoDNZkVBmrSu5cZ8fvf\n//4Xf/zxB7Zu3Yr9+/fj6NGjOHDgQIOt+f79+5g3bx7u37+PtWvXws/PzyDXycvLw+3bt1FZWQk7\nOzt4eHjA1tbWZG/bFxYWIjExES1btoS/v3+tZQqPHj2CQqFAQUEB3Nzc4O7u3mAvDIqKipCcnAyJ\nRAJ/f3+0atWqzp9DEATtIUMrK6vndh/RVUlJCRISErBy5Up8+umncHNzw44dOxAdHY0hQ4Zg+vTp\n8Pb21vt1G8rRo0dx+PBhfPPNNzUeY6Buckzzlx5RPTFQk969TL/XwYMHY/ny5ejVqxcqKirg6uqK\n7OzsBg2Woiji/PnzmDdvHsLCwvCPf/yjXoGsNgUFBVAqlSgoKICrqyuAx62+jNldo75EUcSDBw+Q\nlpamLVMAoG15Z2lpCblcDnt7e5P5OnJzc5GSkgJHR0d4eXm9VLlJcXExlEolcnJy4OTkBJlMZpS+\n14IgYMeOHdi8eTM0Gg0WLlyIjz76SG9/90zJ22+/jXfffRfjx4+v8Zi3t7f2hcvUqVMxZcqUBlgh\nGZFp/LIg0hMeCye9e5kRv1Wf07x5c9ja2iI3N7dBd6ckEgn69++P3377DRs2bMDAgQOxbNkyDB48\nuF5B8Uk7tXv37sHKygoymazaITJ3d3ekpKRApVIZrLuGPkgkEri4uMDR0RFJSUn45Zdf0KxZM7i6\nuqJTp04mOWzFwcEBdnZ2UCqViIuLe+YLlycHQRUKBcrLyyGTyeDr62uU0gqNRoMDBw4gKioK7du3\nx+7du5GRkYHVq1dDFEXMmDHDZEqAXuR5UwyHDx+u/f/mzZvjgw8+qPVz/Prrr5BKpXjw4AHCwsIQ\nGBhosL7xRET6xkBN9BRLS0vMmzcP48aNw9y5cxEVFYU1a9ZUe5HwPIWFhVAqlVCr1XBxcUHnzp1r\nbadmZWWFDh06ID8/H3/++SdsbW3h4+Njcu3Pnu5s4e3tjdzcXBQVFTX00p7LwsICHh4ecHV1RWpq\nKpRKJdq3bw8bG5tq9d5PurAYY8qlKIpITU3Fjh078NNPP2Hs2LH48ccftXctXnvtNQwfPhz/+te/\nsHTpUqxatcrga9KHs2fPPvfx3bt3Izo6GufOnXvmi1OpVAoAcHZ2xsiRIxEXF8dATUSNhmn9y01m\nQSqVQqFQaN9WKpXafyyffo5MJkNFRQXy8/O1485NhVwux8GDB3Hq1CmMGzcOo0aNQkRERK3hWBAE\nPHjwAEqlEs2aNYNMJkNAQMBL7Wzb2toiNDQUKpUKV65cMZkykLKyMm1nCzs7O/j7+2t30T08PJCT\nk4OEhAS4uLjA09PTZA/MWVlZISgoCI8ePcLt27dRUVEBCwsLuLu7IyQkxCi7wJWVlTh79iwiIyNR\nUlKC6dOn48svv6z12q1bt8aSJUsMviZjOXnyJNasWYPz588/c7KnRqOBIAho27YtNBoNTp8+jWXL\nlhl5pURE9ccaatK7lxnxu3nzZty4cUN7KPHIkSM4ePBgA676+UpKSrBmzRp8//33+Oyzz9CnTx9I\nJBL8+eefsLCwQF5eHpycnCCVSnWqfa06ZCUwMFBvPZtfVtXx2UVFRdqWd8/aNRcEAXfv3sX9+/fh\n6+trklP6nn6x07ZtW2RnZ79U2zpdqdVq7N27F/v27UOPHj0wc+ZMdO7cucFfLBmTn58fSktLtS+Y\ne/bsia1bt1abYpiWloaRI0cCePz74/333+cUQ/PXdH4IqElgoCaDqG3E77JlyxAaGophw4ahpKQE\nH374Ia5fvw57e3vs378fPj4+Db3sF0pNTcXHH3+MsrIyFBQUQBRFbNmyBYGBgXoNZvn5+UhMTISd\nnR28vb0NXgZSUVGhLYFo06aNtuXdywa/kpISJCcno6KiAgEBAc/ciTSmkpISqFQqPHjwAI6OjpDJ\nZNoXO5WVldqx4P7+/nq9OyKKIm7evIlt27YhPj4e4eHhmDhxot5a+RGZCQZqMisM1EQvSaVSYfv2\n7Th69Cg8PT3x4MEDjB07Fh999JFBAq8oilCpVFAoFPDx8YGzs7PedzYLCwuhUCjw8OFDbcu7uk7w\nq0qtViMpKQkODg7w9vY22pTHJ54eKiOTyeDi4vLMdZSUlCApKQmCIKB9+/Y6vRAoKytDdHQ0tm/f\njjZt2iAiIgKDBw82+veAqJFgoCazwkBN9BK2bduGb775BpMnT8aYMWPQqlUraDQafPrpp/jpp5+w\natUq9OjRwyC38p+UgZSUlGiHwuji6RIIuVwOBwcHva1dEASoVCoolUqj1YM/vcMul8vrNFRGrVYj\nOTm5XncE7t+/j127duHIkSMICwvDjBkz4Ofn16TKOojqgT8gZFYYqIleQnl5+TMPr92+fRuzZs2C\nXC7HihUrDNb6r2oZiI+PT513PouLi6FSqZCdnV2jBMIQqtaDG6otoEajgUKhgFqt1nmHveodAU9P\nT7i5uT0zFAuCWqfi7QAAFmFJREFUgCtXriAyMhKpqamYPHkyxo8fb/Sa9/pqLJNMyawxUJNZYaAm\n0gNBELB//3588cUXmDZtGsLDww1yq18URSiVSiiVypcqAxFFEbm5uVAoFKisrIRUKoWLi4tRO3IU\nFBQgMTERNjY28PHx0bmrhiAIyMnJgUKhgEQigVwurzG6WxdVx657e3tXe4FUXFyMQ4cOYdeuXfDw\n8MDMmTPRt29fk+1wUpvGOMmUzBIDNZkVBmpqFBQKBcLDw3H//n1IJBJMmTIFs2fPrvacmJgYDB8+\nXDuqedSoUUZvvZWfn49ly5YhPj4ea9euRdeuXQ1ynbKyMiQnJ6O0tLTWMpCysjLcu3cPWVlZsLW1\nhUwmM0qf5WcRRRGZmZm4e/cuPDw84O7uXucAXLWNn729PWQymUF3hAsLCzF//nxkZ2fjH//4B44d\nO4ZTp05hxIgRmDZtmnZiZGPTWCeZktnhXyYyK+xDTY1C8+bN8eWXXyI4OBiPHj1CSEgIwsLCqu2q\nAUCfPn0QHR3dQKt83FP63//+NxISEjBr1ix07NgRS5cuRbt27fR6HSsrK3Ts2BEPHz7ErVu3YG9v\nDy8vL+1QGY1GA3d3d4SGhprEoBiJRAJ3d3c4OTkhLS0N8fHxaN++/QvrnGtr49e9e3ejHPRr3bo1\nRo0ahcjISIwZMwZhYWH47bffYGNjY/BrG1JjnWRKRGTKGs99SjI5oiiid+/eOHHihPZ9hw4dwhtv\nvKH3a7m5uSE4OBgA0LZtWwQFBUGlUun9OvrStWtX/PzzzwgJCcHgwYOxf/9+CIKg9+u0a9cOwcHB\nKC4uxvnz55GcnAx3d3d0794dcrncJMJ0VZaWlggICEBQUBBSUlJw69YtlJWV1XheZWWldtCNQqGA\nXC5H9+7dIZPJDB6mCwoKsGXLFvTp0wdHjhzBihUrcO/ePYSEhKB///744Ycf8II7e0RE1MQwUFO9\nSSQSbN26FXPnzkVJSQkKCwvxf//3f9i8ebNBr5ueno7r16+jR48eNR67dOkSunTpgjfffBO3bt0y\n6DpepFmzZpg8eTJiYmJw+fJlDBs2DLdv39bb59doNLhz5w6uXLkCa2tr9OjRA61bt0Z6errJjwW3\ntrZGcHAwHB0dcfXqVWRkZEAQBBQVFSEpKQlxcXEoLS1Fly5d0KlTJ7Rr186g5QaiKOLPP//E3Llz\nMWjQIJSXl+PMmTPYvXs3QkND0bJlS8yfPx/Hjh3D8ePH8fDhQ4OtxdDqMskUgMlOMiUiMiWsoSad\nzZ8/H23atIFGo0Hbtm2xdOlSg12rsLAQ/fr1w+LFizFq1KhqjxUUFMDCwgLW1tY4fvw4Zs+ejeTk\nZIOtpS5EUURsbCzmzJmD1157DQsWLKhX1wtBEJCdnQ2lUvnMA3kPHz5EUlIS7O3tG6QXdF1VVFTg\n9u3byM3NRatWreDt7Q0nJyejHPSrqKjAiRMnsG3bNlhYWGDmzJkYOnSoye3s65M5TjKlRok11GRW\nGKhJZxqNBsHBwbCyskJ8fDxatGhhkOuUl5dj6NChGDx4MObOnfvC53t5eSE+Pt6k6j4rKiqwZcsW\nbN++HYsWLcLbb7/9UsGx6tQ/BwcHyGSy5w4hqdoN5MlIcFM7UFZeXq49ZNiuXTs4OjpCqVTCwsIC\n7du3R8uWLQ127ZycHERFReHgwYPo27cvZs6ciaCgIJP7HhmKuU4ypUalafywUZPBQE16sWzZMlhb\nW2P+/PkG+fyiKGLChAmwt7fHhg0ban1OVlaWdohIXFwcxowZg7t375pkSMrKysK8efOQnZ2NtWvX\nwtfXt8ZzRFFEXl4elEolysrKtC3v6rLjXFpaipSUFJSVlZnMSPCCggIoFAo8evQIUqkUbm5u1XaE\nc3JykJKSAhcXF3h6euptp1oURVy/fh2RkZG4desWJk6ciPDw8DoNgCEivTG9X8xEOjDf+5pkVBYW\nFga9RX/x4kV8/fXX6NSpk7YV3eeff46MjAwAwLRp03D48GFs2bIFzZs3R6tWrbB//36TDNMA4Orq\nij179uD8+fOYOHGidte9VatWyM7ORkpKCiQSCWxsbODt7V3vzhItWrTQdgO5ceNGg40EFwQBWVlZ\nUKlUsLKyglwuR4cOHWr983F0dIS9vT0yMjIQFxen3WGvr9LSUhw5cgQ7d+6Es7MzIiIiMGDAgEbV\nO5qIiEwbd6hJL5YvXw5ra2t88sknDb2URqesrAzr16/Hzp07IZfLoVAoMG/ePLzzzjs6D0GpShAE\nKJVKqFQqo5WBFBcXQ6lUIicnB05OTpDJZHUq5SgpKUFycjIqKirqvMOuUqmwY8cOHDt2DG+99Ram\nTZum7VFORA3ONHc7iOqJO9REDai4uBgHDhzADz/8gPbt20MQBHTo0AH9+vXTa5gGHt9F8PDwgIuL\nC5KTk6FSqQxSBvKkVEWhUKC8vBwymQy+vr712hFu2bIlOnXqBLVa/VI77IIg4OLFi4iMjERmZiam\nTJmC5cuXG3TEuj41lgFGRERUHXeoiRpIeno6hg8fjjFjxmDy5Mlwc3ODKIo4ceIEFi9ejDFjxmDm\nzJmwsrIyyPXVajWSkpLg6OgILy8vnctAysvLkZmZiXv37sHGxgZyuVyv0xkFQYBKpYJSqYSzszO8\nvb21Ib2wsBAHDhxAVFQUAgMDMXPmTPTs2dNkS36eJTMzE5mZmdUGGH333XfVBhjFxMRg3bp1DTrA\niEgPGtcPJ9ELsIiQqIF4enri6tWrWLp0Kdzc3AA87u09ZMgQXLp0CeXl5Rg4cCAuXLhgkEEidnZ2\n6NatGywtLXHlyhVkZ2fX6/M8evQIt2/fxtWrVyGKIkJCQtChQwe9jzq3sLCAXC5HSEgIvv32W+2Q\nlQULFmDAgAFQq9WIjo7G3r170atXr0YXpoHGN8CIiIge4w41kQlLSUnB7NmzYWNjg88++wyurq4G\nuU5paSmSk5NRXl7+UmUggiDgwYMHUCqVaNasGeRyORwcHIwSYisrK3HmzBls374d169fR3BwMKKi\nonQ6uGiK0tPT0bdvX9y8ebPaodSYmBiMHj0aMpkM7u7uWLduXbUe0kSNRON7xUv0HNyhpibNy8tL\n2zkkNDS0xuOiKGLWrFnw8/ND586dce3aNaOuz8/PD9HR0Rg7dixGjBiBrVu3oqKiQu/XadGiBV55\n5RV4eXnhxo0bSE1NRWVlZY3nlZSUIDU1FbGxsXj06BE6duyIV199tcZwGUNQq9X4z3/+g969e+PU\nqVNYvXo1VCoVxo0bh9dffx27du0yyHj3hlBYWIjRo0djw4YNNTq8BAcH4+7du/j999/x8ccfY8SI\nEQZfj0KhgLe3N/Ly8gA8/rPw9vZGenq6wa9NRNQYcIeamrQXDX85fvw4Nm7ciOPHjyM2NhazZ89G\nbGyskVf5mEajwcqVKxETE4PVq1ejW7duBgmxgiBAoVAgMzMTvr6+cHR0hFqthlKpRElJCWQyWZ37\nYdeXKIq4efMmIiMjce3aNYSHh2PixImws7Or9rz8/Hx89tlnmDNnDtzd3Q2+LkMy1QFGa9asQUpK\nCrZt24apU6fCy8sLixYtMug1yaxxh5rMCgM1NWkvCiNTp05F//798d577wEAAgICEBMTo615bgi3\nbt3CrFmz4OnpiRUrVsDBwcEg1ykqKsKNGzdQVFQEe3t7eHl5GW0ISllZGaKjo7F9+3ZYW1sjIiIC\ngwYNMvkx6roy5QFG5eXlCAkJwaRJk7B9+3YkJCTovRMNNSkM1GRW2DaPmjSJRIJBgwZBIpFg6tSp\nmDJlSrXHVSoV5HK59m2ZTAaVStWggbpjx444c+YM9u3bhyFDhmDGjBkYP3683sKmRqOBQqGAWq2G\nm5sbWrdujb/++gs5OTmwtrY2aKjNysrC7t27ceTIEYSFhWHnzp3w9fVtlAcM68OUBxhZWlpi7dq1\neOONN3D69GmGaSKiKhioqUn79ddfIZVK8eDBA4SFhSEwMBB9+/Zt6GW9kIWFBcaPH4+hQ4di6dKl\nePPNN7F27Vp06dKlXp9PEATk5ORAoVBAIpFALpcjICBAG9QcHR2hUChw5coVnScX1nbtuLg4REZG\nIi0tDZMnT0ZsbCzatGmjt2s0Fr17935hR5eIiAhEREQYaUXVnThxAm5ubrh58ybCwsIaZA1ERKaI\ngZqaNKlUCgBwdnbGyJEjERcXVy1QS6VSKBQK7dtKpVL7MaagXbt22LhxI65du4bZs2ejc+fOWLJk\nyUuXZpSVlUGlUiErKwv29vYIDAysNchaWFjA09OzxlAYXQamFBUV4fDhw/jqq6/g6emJiIgI9OnT\nhyPBTVRCQgLOnDmDy5cvo3fv3hg3blyD3qkhIjIl/JeLmiyNRoNHjx5p///06dN45ZVXqj1n2LBh\n2LNnD0RRxOXLl2Fra2uSISI4OBgxMTHo2rUrBg0ahAMHDjyz44Uoinj48CFu3LiB69evw9LSEt27\nd0dAQMALd4WfTC708PDAH3/8gbS0tFq7gTyLKIq4e/culixZgv79+0OlUuHo0aM4dOgQ+vXrZ/Jh\n2tS7whiKKIqYPn06NmzYAA8PD8ybNw+ffPJJQy+LiMhk8FAiNVlpaWkYOXIkAKCiogLvv/8+Fi9e\njK1btwJ4XK8qiiIiIiJw8uRJtG7dGrt27ao1SJmSnJwcLFy4EGlpaVi7di2CgoIAPB7AolarkZWV\nhVatWkEul8PW1rbe9beCICAjIwNZWVnw8/N7bpcJQRDw888/IzIyEvn5+Zg2bRrGjBmDFi1a1Ova\nDaUxdYXRp23btuHcuXM4cOAAgMe9wLt164b169ejX79+Dbw6aqSaxsEIajIYqInMkCiKuHTpEubO\nnYsuXbpAo9Hg0qVL2LhxI3r16qXXIFtSUoKkpCSIoggfH59qExILCgrwzTffYO/evejatSsiIiIQ\nHBzcaA8ZNsauMEQmqnH+EiB6BtZQE5khQRCgVqthb2+PmJgYODk54dNPP0W/fv30HmZbtmyJzp07\nIy8vD6NHj0ZwcDDGjRuHqKgoXLp0CR988AHOnDlj8D7JxtAYu8IQEZHhmXbBIhHV2YkTJxASEoIT\nJ05g3bp1SExMxKFDh3D8+HGMHTsWf/31l0Gua2Njg2nTpuH333/HW2+9BVdXV1y7dg0LFiwwizAN\nPO4Kc+3aNZw4cQKbN2/GhQsXGnpJRERkAhioicxM165d8csvv2DTpk3o0KEDAMDNzQ1ff/01Pvnk\nE4SHh+OLL75ASUmJXq6XnZ2NdevW4bXXXsPly5exdetW/PHHH0hMTMS7776r7aFsDmrrCvP046bc\nFYaIiAyDgZrIzLi5uVWrY35CIpFgwIABuHTpEtq0aYOBAwfizJkzL+x7XBtRFHH16lVMmTIFI0eO\nhL29PS5evIhNmzYhKCgIcrkc+/fvx4wZM7B06dJ6XcPUmFNXGCIi0i8eSiTSoye7sk+kpaVh5cqV\nmDNnjvZ9MTExGD58OLy9vQEAo0aNwrJly4y+1oyMDO26Vq9e/VI7qaWlpfjf//6Hr776Ci4uLoiI\niMDf/vY3k293pw/m2hWGqIHwUCKZFQZqIgOprKyEVCpFbGwsPD09te+PiYnBunXrEB0d3YCre0wU\nRRw/fhyLFy/GO++8gxkzZsDKyqrG81QqFXbs2IFjx45h6NChmD59erWviYiojhioyayY/7YSUQM5\nd+4cfH19TTp4SiQSvPXWW7h06RJKS0vx+uuv45dffoEoihAEARcuXMD48eMRHh6OwMBAxMfHY9Wq\nVSb9NRERERkbd6iJDGTSpEkIDg5GREREtffHxMRg9OjRkMlkcHd3x7p169CxY8cGWmV1ycnJmDVr\nFgoKClBUVISOHTti5syZ6NmzZ6PtHU1EJom/UMisMFATGUBZWRnc3d1x69YtuLi4VHusoKAAFhYW\nsLa2xvHjxzF79mwkJyc30EprEgQBa9euxfjx49mhgogMhYGazApLPogM4MSJEwgODq4RpoHH/Zqt\nra0BAEOGDEF5eTlycnKMvcRnsrCwwIIFCxpNmE5MTETXrl21/9nY2GDDhg3VnhMTEwNbW1vtc1au\nXNlAqyUiInPESYlEBvDtt99qx08/LSsrCy4uLpBIJIiLi4MgCHBwcDDyCs1HQEAAEhISAPz/g6BP\nunFU1adPH5M4CEpEROaHgZpIzzQaDc6cOYPIyEjt+6q2Vjt8+DC2bNmC5s2bo1WrVti/fz/rk/Wk\nMRwEJSIi88MaaiIyG43xIChRE8VdBDIrDNREZBYa80FQoiaIgZrMCg8lEpFZaMwHQYmIqHFjoCYi\ns/Cig6BP7sbxICgREekbDyUSUaPHg6BERNSQWENNRERExsZXtGRWWPJBZKImTZoEZ2dnvPLKK9r3\n5eXlISwsDP7+/ggLC4Nara71Y6OiouDv7w9/f39ERUUZa8lERERNEneoiUzUhQsXYG1tjfDwcNy8\neRMAMH/+fNjb22PhwoVYtWoV1Go1Vq9eXe3j8vLyEBoaivj4eEgkEoSEhODq1auws7NriC+DiKg2\n3KEms8IdaiIT1bdvX9jb21d73/fff48JEyYAACZMmIDvvvuuxsedOnUKYWFhsLe3h52dHcLCwnDy\n5EmjrJm76kRE1BQxUBM1Ivfv34ebmxsAwNXVFffv36/xHJVKBblcrn1bJpNBpVIZZX1///vfa4T3\nVatWYeDAgUhOTsbAgQOxatWqGh+Xl5eHFStWIDY2FnFxcVixYsUzgzcREZGpYaAmaqQkEonJdapo\njLvqREREumKgJmpEXFxckJmZCQDIzMyEs7NzjedIpVIoFArt20qlElKp1GhrfJqp76oTERHpioGa\nqBEZNmyYtr44KioKw4cPr/GcwYMH4/Tp01Cr1VCr1Th9+jQGDx5s7KXWyhR31YmIiHTFQE1kot57\n7z306tULiYmJkMlk2LlzJxYuXIgzZ87A398fZ8+excKFCwEA8fHxmDx5MgDA3t4eS5cuRbdu3dCt\nWzcsW7asRhmGMTXGXXUiIqK6YNs8ItKr9PR0DB06VNvqb968eXBwcNC2+svLy8OaNWuqfUxeXh5C\nQkJw7do1AEBwcDCuXr3aoC8EiMigeKuKzAp3qIlIb8xlV52IiKguuENNRERExsYdajIr3KEmIiIi\nItIBAzURERERkQ4YqImIiIiIdMBATURERESkAwZqIiIiIiIdMFATEREREemAgZqIiIiISAcM1ERE\nREREOmCgJiIiIiLSAQM1EREREZEOGKiJiIiIiHTAQE1EREREpAMGaiIiIiIiHTBQExERERHpgIGa\niIiIiEgHDNRERERERDpgoCYiIiIi0gEDNRERERGRDhioiYiIiIh0wEBNRERERKQDBmoiIiIiIh0w\nUBMRERER6YCBmoiIiIhIBwzUREREREQ6YKAmIiIiItIBAzURERERkQ4YqImIiIiIdMBATURERESk\nAwZqIiIiIiIdMFATEREREemAgZqIiIiISAcM1EREREREOmCgJiIiIiLSAQM1EREREZEOGKiJiIiI\niHTAQE1EREREpAMGaiIiIiIiHTBQExERERHpgIGaiIiIiEgHzV/wuMQoqyAiIiIiaqS4Q01ERERE\npAMGaiIiIiIiHTBQExERERHpgIGaiIiIiEgHDNRERERERDpgoCYiIiIi0sH/A40HkhePRQXNAAAA\nAElFTkSuQmCC\n",
                "text/plain": "<Figure size 864x864 with 2 Axes>"
              }
            ],
            "_view_module": "@jupyter-widgets/output",
            "_model_module_version": "1.0.0",
            "_view_count": null,
            "_view_module_version": "1.0.0",
            "layout": "IPY_MODEL_49a60aa9a50e4ccfa7ca5872995614b0",
            "_model_module": "@jupyter-widgets/output"
          }
        },
        "29637f331b4f4bd0bbcbc90337627f38": {
          "model_module": "@jupyter-widgets/controls",
          "model_name": "SliderStyleModel",
          "state": {
            "_view_name": "StyleView",
            "handle_color": null,
            "_model_name": "SliderStyleModel",
            "description_width": "",
            "_view_module": "@jupyter-widgets/base",
            "_model_module_version": "1.5.0",
            "_view_count": null,
            "_view_module_version": "1.2.0",
            "_model_module": "@jupyter-widgets/controls"
          }
        },
        "19cb1ad1e1d142249239f18ce9e2a221": {
          "model_module": "@jupyter-widgets/base",
          "model_name": "LayoutModel",
          "state": {
            "_view_name": "LayoutView",
            "grid_template_rows": null,
            "right": null,
            "justify_content": null,
            "_view_module": "@jupyter-widgets/base",
            "overflow": null,
            "_model_module_version": "1.2.0",
            "_view_count": null,
            "flex_flow": null,
            "width": null,
            "min_width": null,
            "border": null,
            "align_items": null,
            "bottom": null,
            "_model_module": "@jupyter-widgets/base",
            "top": null,
            "grid_column": null,
            "overflow_y": null,
            "overflow_x": null,
            "grid_auto_flow": null,
            "grid_area": null,
            "grid_template_columns": null,
            "flex": null,
            "_model_name": "LayoutModel",
            "justify_items": null,
            "grid_row": null,
            "max_height": null,
            "align_content": null,
            "visibility": null,
            "align_self": null,
            "height": null,
            "min_height": null,
            "padding": null,
            "grid_auto_rows": null,
            "grid_gap": null,
            "max_width": null,
            "order": null,
            "_view_module_version": "1.2.0",
            "grid_template_areas": null,
            "object_position": null,
            "object_fit": null,
            "grid_auto_columns": null,
            "margin": null,
            "display": null,
            "left": null
          }
        },
        "bdad017055d74d0fa7062e78f75b34b5": {
          "model_module": "@jupyter-widgets/controls",
          "model_name": "SliderStyleModel",
          "state": {
            "_view_name": "StyleView",
            "handle_color": null,
            "_model_name": "SliderStyleModel",
            "description_width": "",
            "_view_module": "@jupyter-widgets/base",
            "_model_module_version": "1.5.0",
            "_view_count": null,
            "_view_module_version": "1.2.0",
            "_model_module": "@jupyter-widgets/controls"
          }
        },
        "dd9bc62ebc3c4a60a903931b9628a592": {
          "model_module": "@jupyter-widgets/base",
          "model_name": "LayoutModel",
          "state": {
            "_view_name": "LayoutView",
            "grid_template_rows": null,
            "right": null,
            "justify_content": null,
            "_view_module": "@jupyter-widgets/base",
            "overflow": null,
            "_model_module_version": "1.2.0",
            "_view_count": null,
            "flex_flow": null,
            "width": null,
            "min_width": null,
            "border": null,
            "align_items": null,
            "bottom": null,
            "_model_module": "@jupyter-widgets/base",
            "top": null,
            "grid_column": null,
            "overflow_y": null,
            "overflow_x": null,
            "grid_auto_flow": null,
            "grid_area": null,
            "grid_template_columns": null,
            "flex": null,
            "_model_name": "LayoutModel",
            "justify_items": null,
            "grid_row": null,
            "max_height": null,
            "align_content": null,
            "visibility": null,
            "align_self": null,
            "height": null,
            "min_height": null,
            "padding": null,
            "grid_auto_rows": null,
            "grid_gap": null,
            "max_width": null,
            "order": null,
            "_view_module_version": "1.2.0",
            "grid_template_areas": null,
            "object_position": null,
            "object_fit": null,
            "grid_auto_columns": null,
            "margin": null,
            "display": null,
            "left": null
          }
        }
      }
    }
  },
  "cells": [
    {
      "cell_type": "markdown",
      "metadata": {
        "id": "5b7yRJhELSS9",
        "colab_type": "text"
      },
      "source": [
        "## ML functions: Implementation in Python (Due: 2/28/20 - Friday)\n",
        "\n",
        "- In this third programming assignment, you will be implementing some important functions and algorithms used in machine learning. This assignment will help reinforce the basics of Python\n",
        "\n",
        "**Instructions:**\n",
        "- You will be using Python 3.\n",
        "- Avoid using for-loops and while-loops, unless you are explicitly told to do so.\n",
        "- Do not modify the (# GRADED FUNCTION [function name]) comment in some cells. Your work would not be graded if you change this. Each cell containing that comment should only contain one function.\n",
        "- After coding your function, run the cell right below it to check if your result is correct.\n",
        "\n",
        "**After this assignment you will:**\n",
        "- Understand the concept of \"broadcasting\"\n",
        "- Be able to vectorize code\n",
        "- Be familiar with the 'sigmoid function\"\n",
        "- Be familiar with the gradient descent algorithm  to optimize a function\n"
      ]
    },
    {
      "cell_type": "markdown",
      "metadata": {
        "id": "Dti-4e1NLSTA",
        "colab_type": "text"
      },
      "source": [
        "## Note on completing this assignment ##\n",
        "You only need to write code between the ### START CODE HERE ### and ### END CODE HERE ### comments. After writing your code, you can run the cell by either pressing \"SHIFT\"+\"ENTER\" or by clicking on \"Run Cell\" (denoted by a play symbol) in the upper bar of the notebook. \n",
        "\n",
        "We will often specify \"(≈ X lines of code)\" in the comments to tell you about how much code you need to write. It is just a rough estimate, so don't feel bad if your code is longer or shorter.\n",
        "\n",
        "**Exercise**: Set test to `\"Hello World\"` in the cell below to print \"Hello World\" and run the two cells below."
      ]
    },
    {
      "cell_type": "code",
      "metadata": {
        "id": "_RfLkBRWLSTC",
        "colab_type": "code",
        "colab": {}
      },
      "source": [
        "### START CODE HERE ### (≈ 1 line of code)\n",
        "test = \"Hello World\"\n",
        "### END CODE HERE ###"
      ],
      "execution_count": 0,
      "outputs": []
    },
    {
      "cell_type": "code",
      "metadata": {
        "id": "gkb9H2qDLSTG",
        "colab_type": "code",
        "outputId": "dc43c8d2-0bb5-47c3-a9fa-e04bb767301e",
        "colab": {
          "base_uri": "https://localhost:8080/",
          "height": 34
        }
      },
      "source": [
        "print (\"test: \" + test)"
      ],
      "execution_count": 0,
      "outputs": [
        {
          "output_type": "stream",
          "text": [
            "test: Hello World\n"
          ],
          "name": "stdout"
        }
      ]
    },
    {
      "cell_type": "markdown",
      "metadata": {
        "id": "moBkqDguLSTK",
        "colab_type": "text"
      },
      "source": [
        "**Expected output**:\n",
        "test: Hello World"
      ]
    },
    {
      "cell_type": "markdown",
      "metadata": {
        "id": "umla9wuHLSTL",
        "colab_type": "text"
      },
      "source": [
        "<font color='blue'>\n",
        "**What you need to remember**:\n",
        "- Run your cells using SHIFT+ENTER (or \"Run cell\")\n",
        "- Write code in the designated areas using Python 3 only\n",
        "- Do not modify the code outside of the designated areas"
      ]
    },
    {
      "cell_type": "markdown",
      "metadata": {
        "id": "rg7eOZbXLSTN",
        "colab_type": "text"
      },
      "source": [
        "## 1 - Building basic functions with numpy ##\n",
        "\n",
        "Numpy is the main package for scientific computing in Python. It is maintained by a large community (www.numpy.org). In this exercise you will learn several key numpy functions such as np.exp, np.log, and np.reshape. You will need to know how to use these functions for future assignments.\n",
        "\n",
        "### 1.1 - sigmoid function, np.exp() ###\n",
        "\n",
        "Before using np.exp(), you will use math.exp() to implement the sigmoid function. You will then see why np.exp() is preferable to math.exp().\n",
        "\n",
        "#### <font color=blue> **Exercise 1**: </font> Build a function that returns the sigmoid of a real number x. Use math.exp(x) for the exponential function.\n",
        "\n",
        "**Reminder**:\n",
        "$sigmoid(x) = \\frac{1}{1+e^{-x}}$ is sometimes also known as the logistic function. It is a non-linear function used not only in Machine Learning (Logistic Regression), but also in Deep Learning.\n",
        "\n",
        "<img src=\"Sigmoid.png\" style=\"width:500px;height:400px;\">\n",
        "\n",
        "To refer to a function belonging to a specific package you could call it using package_name.function(). Run the code below to see an example with math.exp()."
      ]
    },
    {
      "cell_type": "code",
      "metadata": {
        "id": "z3779G0ULSTP",
        "colab_type": "code",
        "colab": {}
      },
      "source": [
        "# GRADED FUNCTION: basic_sigmoid\n",
        "\n",
        "import math\n",
        "\n",
        "def basic_sigmoid(x):\n",
        "    \"\"\"\n",
        "    Compute sigmoid of x.\n",
        "\n",
        "    Arguments:\n",
        "    x -- A scalar\n",
        "\n",
        "    Return:\n",
        "    s -- sigmoid(x)\n",
        "    \"\"\"\n",
        "    \n",
        "    ### START CODE HERE ### (≈ 1 line of code)\n",
        "    s=(1/(1+math.exp(-x)))\n",
        "    ### END CODE HERE ###\n",
        "    \n",
        "    return s"
      ],
      "execution_count": 0,
      "outputs": []
    },
    {
      "cell_type": "code",
      "metadata": {
        "id": "EgMwp145LSTT",
        "colab_type": "code",
        "outputId": "074fc81a-1bd4-457e-e5c4-4bb58359c3f6",
        "colab": {
          "base_uri": "https://localhost:8080/",
          "height": 34
        }
      },
      "source": [
        "basic_sigmoid(3)"
      ],
      "execution_count": 0,
      "outputs": [
        {
          "output_type": "execute_result",
          "data": {
            "text/plain": [
              "0.9525741268224334"
            ]
          },
          "metadata": {
            "tags": []
          },
          "execution_count": 13
        }
      ]
    },
    {
      "cell_type": "markdown",
      "metadata": {
        "id": "7aqtc-0iLSTW",
        "colab_type": "text"
      },
      "source": [
        "**Expected Output**: \n",
        "<table style = \"width:40%\">\n",
        "    <tr>\n",
        "    <td>** basic_sigmoid(3) **</td> \n",
        "        <td>0.9525741268224334 </td> \n",
        "    </tr>\n",
        "\n",
        "</table>"
      ]
    },
    {
      "cell_type": "markdown",
      "metadata": {
        "id": "Zd_LfU4TLSTX",
        "colab_type": "text"
      },
      "source": [
        "Actually, we rarely use the \"math\" library in deep learning because the inputs of the functions are real numbers. In deep learning we mostly use matrices and vectors. This is why numpy is more useful. "
      ]
    },
    {
      "cell_type": "code",
      "metadata": {
        "id": "VU5aDIWvLSTY",
        "colab_type": "code",
        "outputId": "7c7be286-be6e-4687-ee29-705e79f398c9",
        "colab": {
          "base_uri": "https://localhost:8080/",
          "height": 299
        }
      },
      "source": [
        "### One reason why we use \"numpy\" instead of \"math\" in Deep Learning ###\n",
        "x = [1, 2, 3]\n",
        "basic_sigmoid(x) # you will see this give an error when you run it, because x is a vector."
      ],
      "execution_count": 0,
      "outputs": [
        {
          "output_type": "error",
          "ename": "TypeError",
          "evalue": "ignored",
          "traceback": [
            "\u001b[0;31m---------------------------------------------------------------------------\u001b[0m",
            "\u001b[0;31mTypeError\u001b[0m                                 Traceback (most recent call last)",
            "\u001b[0;32m<ipython-input-14-0468e34d7ed7>\u001b[0m in \u001b[0;36m<module>\u001b[0;34m()\u001b[0m\n\u001b[1;32m      1\u001b[0m \u001b[0mx\u001b[0m \u001b[0;34m=\u001b[0m \u001b[0;34m[\u001b[0m\u001b[0;36m1\u001b[0m\u001b[0;34m,\u001b[0m \u001b[0;36m2\u001b[0m\u001b[0;34m,\u001b[0m \u001b[0;36m3\u001b[0m\u001b[0;34m]\u001b[0m\u001b[0;34m\u001b[0m\u001b[0;34m\u001b[0m\u001b[0m\n\u001b[0;32m----> 2\u001b[0;31m \u001b[0mbasic_sigmoid\u001b[0m\u001b[0;34m(\u001b[0m\u001b[0mx\u001b[0m\u001b[0;34m)\u001b[0m \u001b[0;31m# you will see this give an error when you run it, because x is a vector.\u001b[0m\u001b[0;34m\u001b[0m\u001b[0;34m\u001b[0m\u001b[0m\n\u001b[0m",
            "\u001b[0;32m<ipython-input-12-02776fc50213>\u001b[0m in \u001b[0;36mbasic_sigmoid\u001b[0;34m(x)\u001b[0m\n\u001b[1;32m     14\u001b[0m \u001b[0;34m\u001b[0m\u001b[0m\n\u001b[1;32m     15\u001b[0m     \u001b[0;31m### START CODE HERE ### (≈ 1 line of code)\u001b[0m\u001b[0;34m\u001b[0m\u001b[0;34m\u001b[0m\u001b[0;34m\u001b[0m\u001b[0m\n\u001b[0;32m---> 16\u001b[0;31m     \u001b[0ms\u001b[0m\u001b[0;34m=\u001b[0m\u001b[0;34m(\u001b[0m\u001b[0;36m1\u001b[0m\u001b[0;34m/\u001b[0m\u001b[0;34m(\u001b[0m\u001b[0;36m1\u001b[0m\u001b[0;34m+\u001b[0m\u001b[0mmath\u001b[0m\u001b[0;34m.\u001b[0m\u001b[0mexp\u001b[0m\u001b[0;34m(\u001b[0m\u001b[0;34m-\u001b[0m\u001b[0mx\u001b[0m\u001b[0;34m)\u001b[0m\u001b[0;34m)\u001b[0m\u001b[0;34m)\u001b[0m\u001b[0;34m\u001b[0m\u001b[0;34m\u001b[0m\u001b[0m\n\u001b[0m\u001b[1;32m     17\u001b[0m     \u001b[0;31m### END CODE HERE ###\u001b[0m\u001b[0;34m\u001b[0m\u001b[0;34m\u001b[0m\u001b[0;34m\u001b[0m\u001b[0m\n\u001b[1;32m     18\u001b[0m \u001b[0;34m\u001b[0m\u001b[0m\n",
            "\u001b[0;31mTypeError\u001b[0m: bad operand type for unary -: 'list'"
          ]
        }
      ]
    },
    {
      "cell_type": "markdown",
      "metadata": {
        "id": "2cg5-lv_LSTd",
        "colab_type": "text"
      },
      "source": [
        "In fact, if $ x = (x_1, x_2, ..., x_n)$ is a row vector then $np.exp(x)$ will apply the exponential function to every element of x. The output will thus be: $np.exp(x) = (e^{x_1}, e^{x_2}, ..., e^{x_n})$"
      ]
    },
    {
      "cell_type": "code",
      "metadata": {
        "id": "6bOve45CLSTe",
        "colab_type": "code",
        "outputId": "16f0e574-d04f-4776-aa79-8ba7001d2b63",
        "colab": {
          "base_uri": "https://localhost:8080/",
          "height": 34
        }
      },
      "source": [
        "import numpy as np\n",
        "\n",
        "# example of np.exp\n",
        "x = np.array([1, 2, 3])\n",
        "print(np.exp(x)) # result is (exp(1), exp(2), exp(3))"
      ],
      "execution_count": 0,
      "outputs": [
        {
          "output_type": "stream",
          "text": [
            "[ 2.71828183  7.3890561  20.08553692]\n"
          ],
          "name": "stdout"
        }
      ]
    },
    {
      "cell_type": "markdown",
      "metadata": {
        "id": "X_FICv1nLSTh",
        "colab_type": "text"
      },
      "source": [
        "Furthermore, if x is a vector, then a Python operation such as $s = x + 3$ or $s = \\frac{1}{x}$ will output s as a vector of the same size as x."
      ]
    },
    {
      "cell_type": "code",
      "metadata": {
        "id": "KpP3bMJ0LSTi",
        "colab_type": "code",
        "outputId": "924c2ff5-b05e-4d8d-b135-127606c6964d",
        "colab": {
          "base_uri": "https://localhost:8080/",
          "height": 34
        }
      },
      "source": [
        "# example of vector operation\n",
        "x = np.array([1, 2, 3])\n",
        "print (x + 3)"
      ],
      "execution_count": 0,
      "outputs": [
        {
          "output_type": "stream",
          "text": [
            "[4 5 6]\n"
          ],
          "name": "stdout"
        }
      ]
    },
    {
      "cell_type": "markdown",
      "metadata": {
        "id": "l2XBq2yjLSTm",
        "colab_type": "text"
      },
      "source": [
        "Any time you need more info on a numpy function, we encourage you to look at [the official documentation](https://docs.scipy.org/doc/numpy-1.10.1/reference/generated/numpy.exp.html). \n",
        "\n",
        "You can also create a new cell in the notebook and write `np.exp?` (for example) to get quick access to the documentation.\n",
        "\n",
        "#### <font color=blue> **Exercise 2**: </font> Now implement the sigmoid function using numpy. \n",
        "\n",
        "**Instructions**: x could now be either a real number, a vector, or a matrix. The data structures we use in numpy to represent these shapes (vectors, matrices...) are called numpy arrays. You don't need to know more for now.\n",
        "$$ \\text{For } x \\in \\mathbb{R}^n \\text{,     } sigmoid(x) = sigmoid(\\begin{pmatrix}\n",
        "    x_1  \\\\\n",
        "    x_2  \\\\\n",
        "    ...  \\\\\n",
        "    x_n  \\\\\n",
        "\\end{pmatrix}) = \\begin{pmatrix}\n",
        "    \\frac{1}{1+e^{-x_1}}  \\\\\n",
        "    \\frac{1}{1+e^{-x_2}}  \\\\\n",
        "    ...  \\\\\n",
        "    \\frac{1}{1+e^{-x_n}}  \\\\\n",
        "\\end{pmatrix}\\tag{1} $$"
      ]
    },
    {
      "cell_type": "code",
      "metadata": {
        "id": "UJFws_vbLSTn",
        "colab_type": "code",
        "colab": {}
      },
      "source": [
        "# GRADED FUNCTION: sigmoid\n",
        "\n",
        "import numpy as np # this means you can access numpy functions by writing np.function() instead of numpy.function()\n",
        "\n",
        "def sigmoid(x):\n",
        "    \"\"\"\n",
        "    Compute the sigmoid of x\n",
        "\n",
        "    Arguments:\n",
        "    x -- A scalar or numpy array of any size\n",
        "\n",
        "    Return:\n",
        "    s -- sigmoid(x)\n",
        "    \"\"\"\n",
        "    \n",
        "    ### START CODE HERE ### (≈ 1 line of code)\n",
        "    s =  s=(1/(1+np.exp(-x)))\n",
        "    ### END CODE HERE ###\n",
        "    \n",
        "    return s"
      ],
      "execution_count": 0,
      "outputs": []
    },
    {
      "cell_type": "code",
      "metadata": {
        "id": "HtfjXTFiLSTq",
        "colab_type": "code",
        "outputId": "d0271ffe-0589-4d07-a83b-fafbc0af9403",
        "colab": {
          "base_uri": "https://localhost:8080/",
          "height": 34
        }
      },
      "source": [
        "x = np.array([1, 2, 3])\n",
        "sigmoid(x)"
      ],
      "execution_count": 0,
      "outputs": [
        {
          "output_type": "execute_result",
          "data": {
            "text/plain": [
              "array([0.73105858, 0.88079708, 0.95257413])"
            ]
          },
          "metadata": {
            "tags": []
          },
          "execution_count": 18
        }
      ]
    },
    {
      "cell_type": "markdown",
      "metadata": {
        "id": "FQuSZV2MLSTt",
        "colab_type": "text"
      },
      "source": [
        "**Expected Output**: \n",
        "<table>\n",
        "    <tr> \n",
        "        <td> **sigmoid([1,2,3])**</td> \n",
        "        <td> array([ 0.73105858,  0.88079708,  0.95257413]) </td> \n",
        "    </tr>\n",
        "</table> \n"
      ]
    },
    {
      "cell_type": "markdown",
      "metadata": {
        "id": "YcVMQlH3LSTu",
        "colab_type": "text"
      },
      "source": [
        "### 1.2 - Sigmoid gradient\n",
        "\n",
        "As you've seen in lecture, you will need to compute gradients to optimize loss functions using backpropagation. Let's code your first gradient function.\n",
        "\n",
        "#### <font color=blue> **Exercise 3**: </font> Implement the function sigmoid_grad() to compute the gradient of the sigmoid function with respect to its input x. The formula is: $$sigmoid\\_derivative(x) = \\sigma'(x) = \\sigma(x) (1 - \\sigma(x))\\tag{2}$$\n",
        "You often code this function in two steps:\n",
        "1. Set s to be the sigmoid of x. You might find your sigmoid(x) function useful.\n",
        "2. Compute $\\sigma'(x) = s(1-s)$"
      ]
    },
    {
      "cell_type": "code",
      "metadata": {
        "id": "rmQXDJBcLSTw",
        "colab_type": "code",
        "colab": {}
      },
      "source": [
        "# GRADED FUNCTION: sigmoid_derivative\n",
        "\n",
        "def sigmoid_derivative(x):\n",
        "    \"\"\"\n",
        "    Compute the gradient (also called the slope or derivative) of the sigmoid function with respect to its input x.\n",
        "    You can store the output of the sigmoid function into variables and then use it to calculate the gradient.\n",
        "    \n",
        "    Arguments:\n",
        "    x -- A scalar or numpy array\n",
        "\n",
        "    Return:\n",
        "    ds -- Your computed gradient.\n",
        "    \"\"\"\n",
        "    \n",
        "    ### START CODE HERE ### (≈ 2 lines of code)\n",
        "    s = sigmoid(x)\n",
        "    ds = s*(1-s)\n",
        "    ### END CODE HERE ###\n",
        "    \n",
        "    return ds"
      ],
      "execution_count": 0,
      "outputs": []
    },
    {
      "cell_type": "code",
      "metadata": {
        "id": "AkM18HfSLST1",
        "colab_type": "code",
        "outputId": "6495da07-9a50-4c11-e16f-162195c49dc8",
        "colab": {
          "base_uri": "https://localhost:8080/",
          "height": 34
        }
      },
      "source": [
        "x = np.array([1, 2, 3])\n",
        "print (\"sigmoid_derivative(x) = \" + str(sigmoid_derivative(x)))"
      ],
      "execution_count": 0,
      "outputs": [
        {
          "output_type": "stream",
          "text": [
            "sigmoid_derivative(x) = [0.19661193 0.10499359 0.04517666]\n"
          ],
          "name": "stdout"
        }
      ]
    },
    {
      "cell_type": "markdown",
      "metadata": {
        "id": "TAKKhrwDLST5",
        "colab_type": "text"
      },
      "source": [
        "**Expected Output**: \n",
        "\n",
        "\n",
        "<table>\n",
        "    <tr> \n",
        "        <td> **sigmoid_derivative([1,2,3])**</td> \n",
        "        <td> [ 0.19661193  0.10499359  0.04517666] </td> \n",
        "    </tr>\n",
        "</table> \n",
        "\n"
      ]
    },
    {
      "cell_type": "markdown",
      "metadata": {
        "id": "w7b28T6GLST5",
        "colab_type": "text"
      },
      "source": [
        "### 1.3 - Reshaping arrays ###\n",
        "\n",
        "Two common numpy functions used in deep learning are [np.shape](https://docs.scipy.org/doc/numpy/reference/generated/numpy.ndarray.shape.html) and [np.reshape()](https://docs.scipy.org/doc/numpy/reference/generated/numpy.reshape.html). \n",
        "- X.shape is used to get the shape (dimension) of a matrix/vector X. \n",
        "- X.reshape(...) is used to reshape X into some other dimension. \n",
        "\n",
        "For example, in computers, an image is typically stored as a 3D array of shape $(length, height, depth = 3)$. However, when you read an image as the input of an algorithm you convert it to a vector of shape $(length*height*3, 1)$. In other words, you \"unroll\", or reshape, the 3D array into a 1D vector.\n",
        "\n",
        "<img src=\"image2vector_kiank.png\" style=\"width:500px;height:300;\">\n",
        "\n",
        "#### <font color=blue> **Exercise 4**: </font> Implement `image2vector()` that takes an input of shape (length, height, 3) and returns a vector of shape (length\\*height\\*3, 1). For example, if you would like to reshape an array v of shape (a, b, c) into a vector of shape (a*b,c) you would do:\n",
        "``` python\n",
        "v = v.reshape((v.shape[0]*v.shape[1], v.shape[2])) # v.shape[0] = a ; v.shape[1] = b ; v.shape[2] = c\n",
        "```\n",
        "- Please don't hardcode the dimensions of image as a constant. Instead look up the quantities you need with `image.shape[0]`, etc. "
      ]
    },
    {
      "cell_type": "code",
      "metadata": {
        "id": "LOeOIJBcLST6",
        "colab_type": "code",
        "colab": {}
      },
      "source": [
        "# GRADED FUNCTION: image2vector\n",
        "def image2vector(image):\n",
        "    \"\"\"\n",
        "    Argument:\n",
        "    image -- a numpy array of shape (length, height, depth)\n",
        "    \n",
        "    Returns:\n",
        "    v -- a vector of shape (length*height*depth, 1)\n",
        "    \"\"\"\n",
        "    \n",
        "    ### START CODE HERE ### (≈ 1 line of code)\n",
        "    v = image.reshape((image.shape[0]*image.shape[1]*image.shape[2],1))\n",
        "    ### END CODE HERE ###\n",
        "    \n",
        "    return v"
      ],
      "execution_count": 0,
      "outputs": []
    },
    {
      "cell_type": "code",
      "metadata": {
        "id": "eKWV66mPLST-",
        "colab_type": "code",
        "outputId": "46d8babb-8668-41f7-a835-2eeac0a06093",
        "colab": {
          "base_uri": "https://localhost:8080/",
          "height": 323
        }
      },
      "source": [
        "# This is a 3 by 3 by 2 array, typically images will be (num_px_x, num_px_y,3) where 3 represents the RGB values\n",
        "image = np.array([[[ 0.67826139,  0.29380381],\n",
        "        [ 0.90714982,  0.52835647],\n",
        "        [ 0.4215251 ,  0.45017551]],\n",
        "\n",
        "       [[ 0.92814219,  0.96677647],\n",
        "        [ 0.85304703,  0.52351845],\n",
        "        [ 0.19981397,  0.27417313]],\n",
        "\n",
        "       [[ 0.60659855,  0.00533165],\n",
        "        [ 0.10820313,  0.49978937],\n",
        "        [ 0.34144279,  0.94630077]]])\n",
        "\n",
        "print (\"image2vector(image) = \" + str(image2vector(image)))"
      ],
      "execution_count": 0,
      "outputs": [
        {
          "output_type": "stream",
          "text": [
            "image2vector(image) = [[0.67826139]\n",
            " [0.29380381]\n",
            " [0.90714982]\n",
            " [0.52835647]\n",
            " [0.4215251 ]\n",
            " [0.45017551]\n",
            " [0.92814219]\n",
            " [0.96677647]\n",
            " [0.85304703]\n",
            " [0.52351845]\n",
            " [0.19981397]\n",
            " [0.27417313]\n",
            " [0.60659855]\n",
            " [0.00533165]\n",
            " [0.10820313]\n",
            " [0.49978937]\n",
            " [0.34144279]\n",
            " [0.94630077]]\n"
          ],
          "name": "stdout"
        }
      ]
    },
    {
      "cell_type": "markdown",
      "metadata": {
        "id": "6b8lpreJLSUB",
        "colab_type": "text"
      },
      "source": [
        "**Expected Output**: \n",
        "\n",
        "\n",
        "<table style=\"width:100%\">\n",
        "     <tr> \n",
        "       <td> **image2vector(image)** </td> \n",
        "       <td> [[ 0.67826139]\n",
        " [ 0.29380381]\n",
        " [ 0.90714982]\n",
        " [ 0.52835647]\n",
        " [ 0.4215251 ]\n",
        " [ 0.45017551]\n",
        " [ 0.92814219]\n",
        " [ 0.96677647]\n",
        " [ 0.85304703]\n",
        " [ 0.52351845]\n",
        " [ 0.19981397]\n",
        " [ 0.27417313]\n",
        " [ 0.60659855]\n",
        " [ 0.00533165]\n",
        " [ 0.10820313]\n",
        " [ 0.49978937]\n",
        " [ 0.34144279]\n",
        " [ 0.94630077]]</td> \n",
        "     </tr>\n",
        "    \n",
        "   \n",
        "</table>"
      ]
    },
    {
      "cell_type": "markdown",
      "metadata": {
        "id": "sqyHiqXZLSUC",
        "colab_type": "text"
      },
      "source": [
        "### 1.4 - Normalizing rows\n",
        "\n",
        "Another common technique we use in Machine Learning and Deep Learning is to normalize our data. It often leads to a better performance because gradient descent converges faster after normalization. Here, by normalization we mean changing x to $ \\frac{x}{\\| x\\|} $ (dividing each row vector of x by its norm).\n",
        "\n",
        "For example, if $$x = \n",
        "\\begin{bmatrix}\n",
        "    0 & 3 & 4 \\\\\n",
        "    2 & 6 & 4 \\\\\n",
        "\\end{bmatrix}\\tag{3}$$ then $$\\| x\\| = np.linalg.norm(x, axis = 1, keepdims = True) = \\begin{bmatrix}\n",
        "    5 \\\\\n",
        "    \\sqrt{56} \\\\\n",
        "\\end{bmatrix}\\tag{4} $$and        $$ x\\_normalized = \\frac{x}{\\| x\\|} = \\begin{bmatrix}\n",
        "    0 & \\frac{3}{5} & \\frac{4}{5} \\\\\n",
        "    \\frac{2}{\\sqrt{56}} & \\frac{6}{\\sqrt{56}} & \\frac{4}{\\sqrt{56}} \\\\\n",
        "\\end{bmatrix}\\tag{5}$$ Note that you can divide matrices of different sizes and it works fine: this is called broadcasting and you're going to learn about it in part 5.\n",
        "\n",
        "\n",
        "#### <font color=blue> **Exercise 5**: </font> Implement normalizeRows() to normalize the rows of a matrix. After applying this function to an input matrix x, each row of x should be a vector of unit length (meaning length 1)."
      ]
    },
    {
      "cell_type": "code",
      "metadata": {
        "id": "BokdZOtQLSUD",
        "colab_type": "code",
        "colab": {}
      },
      "source": [
        "# GRADED FUNCTION: normalizeRows\n",
        "\n",
        "def normalizeRows(x):\n",
        "    \"\"\"\n",
        "    Implement a function that normalizes each row of the matrix x (to have unit length).\n",
        "    \n",
        "    Argument:\n",
        "    x -- A numpy matrix of shape (n, m)\n",
        "    \n",
        "    Returns:\n",
        "    x -- The normalized (by row) numpy matrix. You are allowed to modify x.\n",
        "    \"\"\"\n",
        "    \n",
        "    ### START CODE HERE ### (≈ 2 lines of code)\n",
        "    # Compute x_norm as the norm 2 of x. Use np.linalg.norm(..., ord = 2, axis = ..., keepdims = True)\n",
        "    x_norm = np.linalg.norm(x,ord=2,axis=1,keepdims=True)\n",
        "    \n",
        "    # Divide x by its norm.\n",
        "    x = x/x_norm\n",
        "    ### END CODE HERE ###\n",
        "\n",
        "    return x"
      ],
      "execution_count": 0,
      "outputs": []
    },
    {
      "cell_type": "code",
      "metadata": {
        "id": "wX18RgW8LSUG",
        "colab_type": "code",
        "outputId": "ad8a6daa-e607-41b0-9366-4bb24fafc505",
        "colab": {
          "base_uri": "https://localhost:8080/",
          "height": 51
        }
      },
      "source": [
        "x = np.array([\n",
        "    [0, 3, 4],\n",
        "    [1, 6, 4]])\n",
        "print(\"normalizeRows(x) = \" + str(normalizeRows(x)))"
      ],
      "execution_count": 0,
      "outputs": [
        {
          "output_type": "stream",
          "text": [
            "normalizeRows(x) = [[0.         0.6        0.8       ]\n",
            " [0.13736056 0.82416338 0.54944226]]\n"
          ],
          "name": "stdout"
        }
      ]
    },
    {
      "cell_type": "markdown",
      "metadata": {
        "id": "IBw6dSaGLSUJ",
        "colab_type": "text"
      },
      "source": [
        "**Expected Output**: \n",
        "\n",
        "<table style=\"width:60%\">\n",
        "\n",
        "     <tr> \n",
        "       <td> **normalizeRows(x)** </td> \n",
        "       <td> [[ 0.          0.6         0.8       ]\n",
        " [ 0.13736056  0.82416338  0.54944226]]</td> \n",
        "     </tr>\n",
        "    \n",
        "   \n",
        "</table>"
      ]
    },
    {
      "cell_type": "markdown",
      "metadata": {
        "id": "UtoZnk2aLSUK",
        "colab_type": "text"
      },
      "source": [
        "**Note**:\n",
        "In normalizeRows(), you can try to print the shapes of x_norm and x, and then rerun the assessment. You'll find out that they have different shapes. This is normal given that x_norm takes the norm of each row of x. So x_norm has the same number of rows but only 1 column. So how did it work when you divided x by x_norm? This is called broadcasting and we'll talk about it now! "
      ]
    },
    {
      "cell_type": "markdown",
      "metadata": {
        "id": "AOuwJnd2LSUM",
        "colab_type": "text"
      },
      "source": [
        "### 1.5 - Broadcasting and the softmax function ####\n",
        "A very important concept to understand in numpy is \"broadcasting\". It is very useful for performing mathematical operations between arrays of different shapes. For the full details on broadcasting, you can read the official [broadcasting documentation](http://docs.scipy.org/doc/numpy/user/basics.broadcasting.html)."
      ]
    },
    {
      "cell_type": "markdown",
      "metadata": {
        "id": "T2sg8ulyLSUO",
        "colab_type": "text"
      },
      "source": [
        "#### <font color=blue> **Exercise 6**: </font> Implement a softmax function using numpy. You can think of softmax as a normalizing function used when your algorithm needs to classify two or more classes. You will learn more about softmax in the second course of this specialization.\n",
        "\n",
        "**Instructions**:\n",
        "- $ \\text{for } x \\in \\mathbb{R}^{1\\times n} \\text{,     } softmax(x) = softmax(\\begin{bmatrix}\n",
        "    x_1  &&\n",
        "    x_2 &&\n",
        "    ...  &&\n",
        "    x_n  \n",
        "\\end{bmatrix}) = \\begin{bmatrix}\n",
        "     \\frac{e^{x_1}}{\\sum_{j}e^{x_j}}  &&\n",
        "    \\frac{e^{x_2}}{\\sum_{j}e^{x_j}}  &&\n",
        "    ...  &&\n",
        "    \\frac{e^{x_n}}{\\sum_{j}e^{x_j}} \n",
        "\\end{bmatrix} $ \n",
        "\n",
        "- $\\text{for a matrix } x \\in \\mathbb{R}^{m \\times n} \\text{,  $x_{ij}$ maps to the element in the $i^{th}$ row and $j^{th}$ column of $x$, thus we have: }$  $$softmax(x) = softmax\\begin{bmatrix}\n",
        "    x_{11} & x_{12} & x_{13} & \\dots  & x_{1n} \\\\\n",
        "    x_{21} & x_{22} & x_{23} & \\dots  & x_{2n} \\\\\n",
        "    \\vdots & \\vdots & \\vdots & \\ddots & \\vdots \\\\\n",
        "    x_{m1} & x_{m2} & x_{m3} & \\dots  & x_{mn}\n",
        "\\end{bmatrix} = \\begin{bmatrix}\n",
        "    \\frac{e^{x_{11}}}{\\sum_{j}e^{x_{1j}}} & \\frac{e^{x_{12}}}{\\sum_{j}e^{x_{1j}}} & \\frac{e^{x_{13}}}{\\sum_{j}e^{x_{1j}}} & \\dots  & \\frac{e^{x_{1n}}}{\\sum_{j}e^{x_{1j}}} \\\\\n",
        "    \\frac{e^{x_{21}}}{\\sum_{j}e^{x_{2j}}} & \\frac{e^{x_{22}}}{\\sum_{j}e^{x_{2j}}} & \\frac{e^{x_{23}}}{\\sum_{j}e^{x_{2j}}} & \\dots  & \\frac{e^{x_{2n}}}{\\sum_{j}e^{x_{2j}}} \\\\\n",
        "    \\vdots & \\vdots & \\vdots & \\ddots & \\vdots \\\\\n",
        "    \\frac{e^{x_{m1}}}{\\sum_{j}e^{x_{mj}}} & \\frac{e^{x_{m2}}}{\\sum_{j}e^{x_{mj}}} & \\frac{e^{x_{m3}}}{\\sum_{j}e^{x_{mj}}} & \\dots  & \\frac{e^{x_{mn}}}{\\sum_{j}e^{x_{mj}}}\n",
        "\\end{bmatrix} = \\begin{pmatrix}\n",
        "    softmax\\text{(first row of x)}  \\\\\n",
        "    softmax\\text{(second row of x)} \\\\\n",
        "    ...  \\\\\n",
        "    softmax\\text{(last row of x)} \\\\\n",
        "\\end{pmatrix} $$"
      ]
    },
    {
      "cell_type": "code",
      "metadata": {
        "id": "_VUxg567LSUP",
        "colab_type": "code",
        "colab": {}
      },
      "source": [
        "# GRADED FUNCTION: softmax\n",
        "\n",
        "def softmax(x):\n",
        "    \"\"\"Calculates the softmax for each row of the input x.\n",
        "\n",
        "    Your code should work for a row vector and also for matrices of shape (n, m).\n",
        "\n",
        "    Argument:\n",
        "    x -- A numpy matrix of shape (n,m)\n",
        "\n",
        "    Returns:\n",
        "    s -- A numpy matrix equal to the softmax of x, of shape (n,m)\n",
        "    \"\"\"\n",
        "    \n",
        "    ### START CODE HERE ### (≈ 3 lines of code)\n",
        "    # Apply exp() element-wise to x. Use np.exp(...).\n",
        "    x_exp = np.exp(x)\n",
        "\n",
        "    # Create a vector x_sum that sums each row of x_exp. Use np.sum(..., axis = 1, keepdims = True).\n",
        "    x_sum = np.sum(x_exp, axis=1, keepdims=True)\n",
        "    \n",
        "    # Compute softmax(x) by dividing x_exp by x_sum. It should automatically use numpy broadcasting.\n",
        "    s = x_exp/x_sum\n",
        "\n",
        "    ### END CODE HERE ###\n",
        "    \n",
        "    return s"
      ],
      "execution_count": 0,
      "outputs": []
    },
    {
      "cell_type": "code",
      "metadata": {
        "id": "9e-y0zwJLSUT",
        "colab_type": "code",
        "outputId": "76e8934a-b1a8-4981-e055-1eefc6859d38",
        "colab": {
          "base_uri": "https://localhost:8080/",
          "height": 85
        }
      },
      "source": [
        "x = np.array([\n",
        "    [9, 2, 5, 0, 0],\n",
        "    [7, 5, 0, 0 ,0]])\n",
        "print(\"softmax(x) = \" + str(softmax(x)))"
      ],
      "execution_count": 0,
      "outputs": [
        {
          "output_type": "stream",
          "text": [
            "softmax(x) = [[9.80897665e-01 8.94462891e-04 1.79657674e-02 1.21052389e-04\n",
            "  1.21052389e-04]\n",
            " [8.78679856e-01 1.18916387e-01 8.01252314e-04 8.01252314e-04\n",
            "  8.01252314e-04]]\n"
          ],
          "name": "stdout"
        }
      ]
    },
    {
      "cell_type": "markdown",
      "metadata": {
        "id": "o6UsAu0qLSUV",
        "colab_type": "text"
      },
      "source": [
        "**Expected Output**:\n",
        "\n",
        "<table style=\"width:60%\">\n",
        "\n",
        "     <tr> \n",
        "       <td> **softmax(x)** </td> \n",
        "       <td> [[  9.80897665e-01   8.94462891e-04   1.79657674e-02   1.21052389e-04\n",
        "    1.21052389e-04]\n",
        " [  8.78679856e-01   1.18916387e-01   8.01252314e-04   8.01252314e-04\n",
        "    8.01252314e-04]]</td> \n",
        "     </tr>\n",
        "</table>\n"
      ]
    },
    {
      "cell_type": "markdown",
      "metadata": {
        "id": "VDgVdPnCLSUW",
        "colab_type": "text"
      },
      "source": [
        "**Note**:\n",
        "- If you print the shapes of x_exp, x_sum and s above and rerun the assessment cell, you will see that x_sum is of shape (2,1) while x_exp and s are of shape (2,5). **x_exp/x_sum** works due to python broadcasting.\n",
        "\n",
        "Congratulations! You now have a pretty good understanding of python numpy and have implemented a few useful functions that you will be using in deep learning."
      ]
    },
    {
      "cell_type": "markdown",
      "metadata": {
        "id": "Qf7WCypwLSUX",
        "colab_type": "text"
      },
      "source": [
        "<font color='blue'>\n",
        "**What you need to remember:**\n",
        "- np.exp(x) works for any np.array x and applies the exponential function to every coordinate\n",
        "- the sigmoid function and its gradient\n",
        "- image2vector is commonly used in deep learning\n",
        "- np.reshape is widely used. In the future, you'll see that keeping your matrix/vector dimensions straight will go toward eliminating a lot of bugs. \n",
        "- numpy has efficient built-in functions\n",
        "- broadcasting is extremely useful"
      ]
    },
    {
      "cell_type": "markdown",
      "metadata": {
        "collapsed": true,
        "id": "OTqKovcqLSUY",
        "colab_type": "text"
      },
      "source": [
        "## 2) Vectorization"
      ]
    },
    {
      "cell_type": "markdown",
      "metadata": {
        "id": "lhV9WRlLLSUZ",
        "colab_type": "text"
      },
      "source": [
        "\n",
        "In deep learning, you deal with very large datasets. Hence, a non-computationally-optimal function can become a huge bottleneck in your algorithm and can result in a model that takes ages to run. To make sure that your code is  computationally efficient, you will use vectorization. For example, try to tell the difference between the following implementations of the dot/outer/elementwise product."
      ]
    },
    {
      "cell_type": "code",
      "metadata": {
        "id": "PvWCfCJ4LSUa",
        "colab_type": "code",
        "colab": {}
      },
      "source": [
        "import time\n",
        "\n",
        "x1 = [9, 2, 5, 0, 0, 7, 5, 0, 0, 0, 9, 2, 5, 0, 0]\n",
        "x2 = [9, 2, 2, 9, 0, 9, 2, 5, 0, 0, 9, 2, 5, 0, 0]\n",
        "\n",
        "### CLASSIC DOT PRODUCT OF VECTORS IMPLEMENTATION ###\n",
        "tic = time.process_time()\n",
        "dot = 0\n",
        "for i in range(len(x1)):\n",
        "    dot+= x1[i]*x2[i]\n",
        "toc = time.process_time()\n",
        "print (\"dot = \" + str(dot) + \"\\n ----- Computation time = \" + str(1000*(toc - tic)) + \"ms\")\n",
        "\n",
        "### CLASSIC OUTER PRODUCT IMPLEMENTATION ###\n",
        "tic = time.process_time()\n",
        "outer = np.zeros((len(x1),len(x2))) # we create a len(x1)*len(x2) matrix with only zeros\n",
        "for i in range(len(x1)):\n",
        "    for j in range(len(x2)):\n",
        "        outer[i,j] = x1[i]*x2[j]\n",
        "toc = time.process_time()\n",
        "print (\"outer = \" + str(outer) + \"\\n ----- Computation time = \" + str(1000*(toc - tic)) + \"ms\")\n",
        "\n",
        "### CLASSIC ELEMENTWISE IMPLEMENTATION ###\n",
        "tic = time.process_time()\n",
        "mul = np.zeros(len(x1))\n",
        "for i in range(len(x1)):\n",
        "    mul[i] = x1[i]*x2[i]\n",
        "toc = time.process_time()\n",
        "print (\"elementwise multiplication = \" + str(mul) + \"\\n ----- Computation time = \" + str(1000*(toc - tic)) + \"ms\")\n",
        "\n",
        "### CLASSIC GENERAL DOT PRODUCT IMPLEMENTATION ###\n",
        "W = np.random.rand(3,len(x1)) # Random 3*len(x1) numpy array\n",
        "tic = time.process_time()\n",
        "gdot = np.zeros(W.shape[0])\n",
        "for i in range(W.shape[0]):\n",
        "    for j in range(len(x1)):\n",
        "        gdot[i] += W[i,j]*x1[j]\n",
        "toc = time.process_time()\n",
        "print (\"gdot = \" + str(gdot) + \"\\n ----- Computation time = \" + str(1000*(toc - tic)) + \"ms\")"
      ],
      "execution_count": 0,
      "outputs": []
    },
    {
      "cell_type": "code",
      "metadata": {
        "id": "rdKb6a9LLSUd",
        "colab_type": "code",
        "colab": {}
      },
      "source": [
        "x1 = [9, 2, 5, 0, 0, 7, 5, 0, 0, 0, 9, 2, 5, 0, 0]\n",
        "x2 = [9, 2, 2, 9, 0, 9, 2, 5, 0, 0, 9, 2, 5, 0, 0]\n",
        "\n",
        "### VECTORIZED DOT PRODUCT OF VECTORS ###\n",
        "tic = time.process_time()\n",
        "dot = np.dot(x1,x2)\n",
        "toc = time.process_time()\n",
        "print (\"dot = \" + str(dot) + \"\\n ----- Computation time = \" + str(1000*(toc - tic)) + \"ms\")\n",
        "\n",
        "### VECTORIZED OUTER PRODUCT ###\n",
        "tic = time.process_time()\n",
        "outer = np.outer(x1,x2)\n",
        "toc = time.process_time()\n",
        "print (\"outer = \" + str(outer) + \"\\n ----- Computation time = \" + str(1000*(toc - tic)) + \"ms\")\n",
        "\n",
        "### VECTORIZED ELEMENTWISE MULTIPLICATION ###\n",
        "tic = time.process_time()\n",
        "mul = np.multiply(x1,x2)\n",
        "toc = time.process_time()\n",
        "print (\"elementwise multiplication = \" + str(mul) + \"\\n ----- Computation time = \" + str(1000*(toc - tic)) + \"ms\")\n",
        "\n",
        "### VECTORIZED GENERAL DOT PRODUCT ###\n",
        "tic = time.process_time()\n",
        "dot = np.dot(W,x1)\n",
        "toc = time.process_time()\n",
        "print (\"gdot = \" + str(dot) + \"\\n ----- Computation time = \" + str(1000*(toc - tic)) + \"ms\")"
      ],
      "execution_count": 0,
      "outputs": []
    },
    {
      "cell_type": "markdown",
      "metadata": {
        "id": "tjdUEVeQLSUi",
        "colab_type": "text"
      },
      "source": [
        "As you may have noticed, the vectorized implementation is much cleaner and more efficient. For bigger vectors/matrices, the differences in running time become even bigger. \n",
        "\n",
        "**Note** that `np.dot()` performs a matrix-matrix or matrix-vector multiplication. This is different from `np.multiply()` and the `*` operator (which is equivalent to  `.*` in Matlab/Octave), which performs an element-wise multiplication."
      ]
    },
    {
      "cell_type": "markdown",
      "metadata": {
        "id": "w9CBIYKvLSUj",
        "colab_type": "text"
      },
      "source": [
        "### 2.1 Implement the L1 and L2 loss functions\n",
        "\n",
        "#### <font color=blue> **Exercise 7**: </font> Implement the numpy vectorized version of the L1 loss. You may find the function abs(x) (absolute value of x) useful.\n",
        "\n",
        "**Reminder**:\n",
        "- The loss is used to evaluate the performance of your model. The bigger your loss is, the more different your predictions ($ \\hat{y} $) are from the true values ($y$). In deep learning, you use optimization algorithms like Gradient Descent to train your model and to minimize the cost.\n",
        "- L1 loss is defined as:\n",
        "$$\\begin{align*} & L_1(\\hat{y}, y) = \\sum_{i=0}^m|y^{(i)} - \\hat{y}^{(i)}| \\end{align*}\\tag{6}$$"
      ]
    },
    {
      "cell_type": "code",
      "metadata": {
        "id": "ZeuiJcDRLSUk",
        "colab_type": "code",
        "colab": {}
      },
      "source": [
        "# GRADED FUNCTION: L1\n",
        "\n",
        "def L1(yhat, y):\n",
        "    \"\"\"\n",
        "    Arguments:\n",
        "    yhat -- vector of size m (predicted labels)\n",
        "    y -- vector of size m (true labels)\n",
        "    \n",
        "    Returns:\n",
        "    loss -- the value of the L1 loss function defined above\n",
        "    \"\"\"\n",
        "    \n",
        "    ### START CODE HERE ### (≈ 1 line of code)\n",
        "    loss = np.sum(abs(y-yhat))\n",
        "    ### END CODE HERE ###\n",
        "    \n",
        "    return loss"
      ],
      "execution_count": 0,
      "outputs": []
    },
    {
      "cell_type": "code",
      "metadata": {
        "id": "7K9ejBqyLSUn",
        "colab_type": "code",
        "outputId": "86908da1-0ef0-4da5-dfed-7b6916f1daa7",
        "colab": {
          "base_uri": "https://localhost:8080/",
          "height": 34
        }
      },
      "source": [
        "yhat = np.array([.9, 0.2, 0.1, .4, .9])\n",
        "y = np.array([1, 0, 0, 1, 1])\n",
        "print(\"L1 = \" + str(L1(yhat,y)))"
      ],
      "execution_count": 0,
      "outputs": [
        {
          "output_type": "stream",
          "text": [
            "L1 = 1.1\n"
          ],
          "name": "stdout"
        }
      ]
    },
    {
      "cell_type": "markdown",
      "metadata": {
        "id": "5SHyutM_LSUq",
        "colab_type": "text"
      },
      "source": [
        "**Expected Output**:\n",
        "\n",
        "<table style=\"width:20%\">\n",
        "\n",
        "     <tr> \n",
        "       <td> **L1** </td> \n",
        "       <td> 1.1 </td> \n",
        "     </tr>\n",
        "</table>\n"
      ]
    },
    {
      "cell_type": "markdown",
      "metadata": {
        "id": "GOtIxMyWLSUr",
        "colab_type": "text"
      },
      "source": [
        "#### <font color=blue> **Exercise 8**: </font> Implement the numpy vectorized version of the L2 loss. There are several way of implementing the L2 loss but you may find the function np.dot() useful. As a reminder, if $x = [x_1, x_2, ..., x_n]$, then `np.dot(x,x)` = $\\sum_{j=0}^n x_j^{2}$. \n",
        "\n",
        "- L2 loss is defined as $$\\begin{align*} & L_2(\\hat{y},y) = \\sum_{i=0}^m(y^{(i)} - \\hat{y}^{(i)})^2 \\end{align*}\\tag{7}$$"
      ]
    },
    {
      "cell_type": "code",
      "metadata": {
        "id": "wDs1vmS_LSUr",
        "colab_type": "code",
        "colab": {}
      },
      "source": [
        "# GRADED FUNCTION: L2\n",
        "\n",
        "def L2(yhat, y):\n",
        "    \"\"\"\n",
        "    Arguments:\n",
        "    yhat -- vector of size m (predicted labels)\n",
        "    y -- vector of size m (true labels)\n",
        "    \n",
        "    Returns:\n",
        "    loss -- the value of the L2 loss function defined above\n",
        "    \"\"\"\n",
        "    \n",
        "    ### START CODE HERE ### (≈ 1 line of code)\n",
        "    loss = np.sum(np.dot(abs(y-yhat),abs(y-yhat)))\n",
        "    ### END CODE HERE ###\n",
        "    \n",
        "    return loss"
      ],
      "execution_count": 0,
      "outputs": []
    },
    {
      "cell_type": "code",
      "metadata": {
        "id": "qWoDWXvOLSUv",
        "colab_type": "code",
        "outputId": "cd9bb87e-3464-4300-eca0-e7cb8a557a84",
        "colab": {
          "base_uri": "https://localhost:8080/",
          "height": 34
        }
      },
      "source": [
        "yhat = np.array([.9, 0.2, 0.1, .4, .9])\n",
        "y = np.array([1, 0, 0, 1, 1])\n",
        "print(\"L2 = \" + str(L2(yhat,y)))"
      ],
      "execution_count": 0,
      "outputs": [
        {
          "output_type": "stream",
          "text": [
            "L2 = 0.43\n"
          ],
          "name": "stdout"
        }
      ]
    },
    {
      "cell_type": "markdown",
      "metadata": {
        "id": "xKSRZxh2LSUz",
        "colab_type": "text"
      },
      "source": [
        "**Expected Output**: \n",
        "<table style=\"width:20%\">\n",
        "     <tr> \n",
        "       <td> **L2** </td> \n",
        "       <td> 0.43 </td> \n",
        "     </tr>\n",
        "</table>"
      ]
    },
    {
      "cell_type": "markdown",
      "metadata": {
        "id": "TMpD34o_LSUz",
        "colab_type": "text"
      },
      "source": [
        "Congratulations on completing this assignment. We hope that this little warm-up exercise helps you in the future assignments, which will be more exciting and interesting!"
      ]
    },
    {
      "cell_type": "code",
      "metadata": {
        "id": "H1RxnOfrywU8",
        "colab_type": "code",
        "colab": {}
      },
      "source": [
        ""
      ],
      "execution_count": 0,
      "outputs": []
    },
    {
      "cell_type": "markdown",
      "metadata": {
        "id": "fjSNvFwlLSU0",
        "colab_type": "text"
      },
      "source": [
        "<font color='green'>\n",
        "**What to remember:**\n",
        "- Vectorization is very important in deep learning. It provides computational efficiency and clarity.\n",
        "- You have reviewed the L1 and L2 loss.\n",
        "- You are familiar with many numpy functions such as np.sum, np.dot, np.multiply, np.maximum, etc..."
      ]
    },
    {
      "cell_type": "markdown",
      "metadata": {
        "id": "VDVu7grjLSU1",
        "colab_type": "text"
      },
      "source": [
        "#### <font color=blue> **Exercise 9**: </font>   $$f(x,y) = x^3 - 6x^2 + 12x + y^3 + 9y^2 + 27y +19$$  \n",
        "\n",
        "- Generate a graph of the using ipywidgets, so we can explore the surface\n"
      ]
    },
    {
      "cell_type": "code",
      "metadata": {
        "id": "mOv4QhpZ5B_x",
        "colab_type": "code",
        "outputId": "5af101f3-51a0-4493-e954-ccebd07138ac",
        "colab": {
          "base_uri": "https://localhost:8080/",
          "height": 781,
          "referenced_widgets": [
            "dcb15ca8a8ce4440b10e6a62023684e6",
            "1a8d8b90ebd84e118ada407ba71253bc",
            "6d28187886444d3a9915947a0c599fe9",
            "98946590ad444984abbb630680f15390",
            "8186722436f24b1eafde6d6c02808198",
            "29637f331b4f4bd0bbcbc90337627f38",
            "19cb1ad1e1d142249239f18ce9e2a221",
            "bdad017055d74d0fa7062e78f75b34b5",
            "dd9bc62ebc3c4a60a903931b9628a592"
          ]
        }
      },
      "source": [
        "import ipywidgets\n",
        "from mpl_toolkits import mplot3d\n",
        "import numpy as np\n",
        "import matplotlib.pyplot as plt\n",
        "\n",
        "x = np.outer(np.linspace(-10, 10, 1000), np.ones(1000))\n",
        "y = x.copy().T\n",
        "z = x**3 - 6*x**2 + 12*x + y**3 + 9*y**2 + 27*y + 19\n",
        "\n",
        "def fun_plot(a,b):\n",
        "    fig = plt.figure(figsize=plt.figaspect(.5))\n",
        "    fig = plt.figure(figsize=(12,12))\n",
        "    ax = plt.axes(projection='3d')\n",
        "    ax.view_init(10, 50)\n",
        "\n",
        "    sc = ax.plot_surface(x, y, z,cmap='viridis', edgecolor='none')\n",
        "    ax.set_title('$f(x,y)=x^3-6x^2+12x+y^3+9y^2+27y+19$')\n",
        "    ax.set_xlabel(\"X\")\n",
        "    ax.set_ylabel(\"Y\")\n",
        "    ax.set_zlabel(\"Z\")\n",
        "    #ax.set_zlim([-2000,2000])\n",
        "    ax.view_init(a, b)\n",
        "    plt.colorbar(sc, aspect = 3)\n",
        "\n",
        "    plt.show()\n",
        "\n",
        "widget = ipywidgets\n",
        "widget.interact(fun_plot,\n",
        "                 a=widget.IntSlider(min=-180, max=180,description='angle1', step=10, value = 20),\n",
        "                 b=widget.IntSlider(min=-180, max=180,description='angle2', step=10, value = 50))\n"
      ],
      "execution_count": 66,
      "outputs": [
        {
          "output_type": "display_data",
          "data": {
            "application/vnd.jupyter.widget-view+json": {
              "model_id": "dcb15ca8a8ce4440b10e6a62023684e6",
              "version_minor": 0,
              "version_major": 2
            },
            "text/plain": [
              "interactive(children=(IntSlider(value=20, description='angle1', max=180, min=-180, step=10), IntSlider(value=5…"
            ]
          },
          "metadata": {
            "tags": []
          }
        },
        {
          "output_type": "execute_result",
          "data": {
            "text/plain": [
              "<function __main__.fun_plot>"
            ]
          },
          "metadata": {
            "tags": []
          },
          "execution_count": 66
        }
      ]
    },
    {
      "cell_type": "markdown",
      "metadata": {
        "id": "Pbn8jkrrLSU1",
        "colab_type": "text"
      },
      "source": [
        "#### <font color=blue> **Exercise 10**: </font>  $$f(x,y) = x^3 - 6x^2 + 12x + y^3 + 9y^2 + 27y +19$$  \n",
        "\n",
        "- Write the gradient of the funxtion\n",
        "- Implement gradient descent algorithm to find at least one minimum value of this fucntion"
      ]
    },
    {
      "cell_type": "code",
      "metadata": {
        "id": "jsFXx1guLSU2",
        "colab_type": "code",
        "outputId": "23a69b34-f92f-4730-b59b-3d67c9acac4e",
        "colab": {
          "base_uri": "https://localhost:8080/",
          "height": 119
        }
      },
      "source": [
        "\n",
        "X = np.array([10,10])\n",
        "alpha = .01\n",
        "grad = np.array([3*X[0]*X[0] - 12*X[0] + 12, 3*X[1]*X[1] + 18*X[1] +27])\n",
        "print(grad)\n",
        "for i in range(4000):\n",
        "    grad = np.array([3*X[0]*X[0] - 12*X[0] + 12, 3*X[1]*X[1] + 18*X[1] +27])\n",
        "    X = X - alpha*grad\n",
        "    if (i%1000 == 0):\n",
        "        print(\"Aproximate Solution at iteration {} is {}\".format(i, X))\n",
        "print(\"after {} iterations the approxiamte solution is {}\".format(i,X))"
      ],
      "execution_count": 69,
      "outputs": [
        {
          "output_type": "stream",
          "text": [
            "[192 507]\n",
            "Aproximate Solution at iteration 0 is [8.08 4.93]\n",
            "Aproximate Solution at iteration 1000 is [ 2.03297705 -2.96699113]\n",
            "Aproximate Solution at iteration 2000 is [ 2.01657144 -2.98342053]\n",
            "Aproximate Solution at iteration 3000 is [ 2.01106722 -2.9889292 ]\n",
            "after 3999 iterations the approxiamte solution is [ 2.0083101  -2.99168788]\n"
          ],
          "name": "stdout"
        }
      ]
    }
  ]
}