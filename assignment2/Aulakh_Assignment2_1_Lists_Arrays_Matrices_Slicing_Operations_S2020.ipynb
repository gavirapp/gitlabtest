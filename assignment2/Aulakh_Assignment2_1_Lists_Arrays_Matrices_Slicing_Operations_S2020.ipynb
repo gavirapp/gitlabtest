{
  "nbformat": 4,
  "nbformat_minor": 0,
  "metadata": {
    "kernelspec": {
      "display_name": "Python 3",
      "language": "python",
      "name": "python3"
    },
    "language_info": {
      "codemirror_mode": {
        "name": "ipython",
        "version": 3
      },
      "file_extension": ".py",
      "mimetype": "text/x-python",
      "name": "python",
      "nbconvert_exporter": "python",
      "pygments_lexer": "ipython3",
      "version": "3.7.6"
    },
    "colab": {
      "name": "Aulakh_Assignment2.1 - Lists-Arrays-Matrices-Slicing-Operations_S2020.ipynb",
      "provenance": [],
      "collapsed_sections": [
        "7Dx1MikS3Lpi",
        "zCztSdei3Lp7",
        "qTJK9B8x3LqY",
        "mlSeG4du3LrT",
        "IA-WiuWm3Lra",
        "EzPGAI753Lrd",
        "jrQiJjtk3Lrx",
        "mfbzwRBE3Lrz",
        "Ai26jCs03Lr5",
        "xNWdArJB3LsE",
        "giDZiUvW3LsF",
        "HBNRbXxF3Ls0",
        "S3ZKsiUF3LtJ",
        "uma7iPuC3LvD",
        "evxqgaYl3Lw4",
        "37Z7GncK3LxZ"
      ]
    }
  },
  "cells": [
    {
      "cell_type": "markdown",
      "metadata": {
        "id": "y5nedxI83LnC",
        "colab_type": "text"
      },
      "source": [
        "## Assignment 2.1:  Vectors, matrices and multidimensional arrays (Due: 2/19/20)"
      ]
    },
    {
      "cell_type": "markdown",
      "metadata": {
        "id": "OxA7TaNR3LnH",
        "colab_type": "text"
      },
      "source": [
        "Adapted from Robert Johansson: Source code listings for [Numerical Python - A Practical Techniques Approach for Industry](http://www.apress.com/9781484205549) (ISBN 978-1-484205-54-9).\n",
        "\n",
        "The source code listings can be downloaded from http://www.apress.com/9781484205549"
      ]
    },
    {
      "cell_type": "code",
      "metadata": {
        "id": "S4DaeOQ33LnI",
        "colab_type": "code",
        "colab": {}
      },
      "source": [
        "import numpy as np"
      ],
      "execution_count": 0,
      "outputs": []
    },
    {
      "cell_type": "markdown",
      "metadata": {
        "id": "m7mjUJho3LnP",
        "colab_type": "text"
      },
      "source": [
        "### The NumPy array object"
      ]
    },
    {
      "cell_type": "code",
      "metadata": {
        "id": "SNEVp9ym3LnQ",
        "colab_type": "code",
        "colab": {}
      },
      "source": [
        "data = np.array([[1, 2], [3, 4], [5, 6]])"
      ],
      "execution_count": 0,
      "outputs": []
    },
    {
      "cell_type": "code",
      "metadata": {
        "id": "jr5Frxe-3LnU",
        "colab_type": "code",
        "outputId": "7271ee61-8652-46fe-af6a-e13abde92d3b",
        "colab": {
          "base_uri": "https://localhost:8080/",
          "height": 34
        }
      },
      "source": [
        "type(data)"
      ],
      "execution_count": 0,
      "outputs": [
        {
          "output_type": "execute_result",
          "data": {
            "text/plain": [
              "numpy.ndarray"
            ]
          },
          "metadata": {
            "tags": []
          },
          "execution_count": 3
        }
      ]
    },
    {
      "cell_type": "code",
      "metadata": {
        "id": "dkkkGUhu3Lna",
        "colab_type": "code",
        "outputId": "0bd17c4d-17ac-43ce-f5fd-4da75d20d1de",
        "colab": {
          "base_uri": "https://localhost:8080/",
          "height": 68
        }
      },
      "source": [
        "data"
      ],
      "execution_count": 0,
      "outputs": [
        {
          "output_type": "execute_result",
          "data": {
            "text/plain": [
              "array([[1, 2],\n",
              "       [3, 4],\n",
              "       [5, 6]])"
            ]
          },
          "metadata": {
            "tags": []
          },
          "execution_count": 4
        }
      ]
    },
    {
      "cell_type": "code",
      "metadata": {
        "id": "3HU48xXA3Lng",
        "colab_type": "code",
        "outputId": "f05d8904-517e-4c9a-8f90-de1035ff8512",
        "colab": {
          "base_uri": "https://localhost:8080/",
          "height": 34
        }
      },
      "source": [
        "data.ndim"
      ],
      "execution_count": 0,
      "outputs": [
        {
          "output_type": "execute_result",
          "data": {
            "text/plain": [
              "2"
            ]
          },
          "metadata": {
            "tags": []
          },
          "execution_count": 5
        }
      ]
    },
    {
      "cell_type": "code",
      "metadata": {
        "id": "4M6ggc-W3Lnl",
        "colab_type": "code",
        "outputId": "f01ba8a4-bae8-4b6a-f0ba-6f5cc09391e4",
        "colab": {
          "base_uri": "https://localhost:8080/",
          "height": 34
        }
      },
      "source": [
        "data.shape"
      ],
      "execution_count": 0,
      "outputs": [
        {
          "output_type": "execute_result",
          "data": {
            "text/plain": [
              "(3, 2)"
            ]
          },
          "metadata": {
            "tags": []
          },
          "execution_count": 6
        }
      ]
    },
    {
      "cell_type": "code",
      "metadata": {
        "id": "MTCvnVW03Lnq",
        "colab_type": "code",
        "outputId": "3381d45d-6674-4a68-d50d-112e1623e206",
        "colab": {
          "base_uri": "https://localhost:8080/",
          "height": 34
        }
      },
      "source": [
        "data.size"
      ],
      "execution_count": 0,
      "outputs": [
        {
          "output_type": "execute_result",
          "data": {
            "text/plain": [
              "6"
            ]
          },
          "metadata": {
            "tags": []
          },
          "execution_count": 7
        }
      ]
    },
    {
      "cell_type": "code",
      "metadata": {
        "id": "HjXAteO73Lnv",
        "colab_type": "code",
        "outputId": "029bf30c-1f0c-40f6-c074-2e334384e56f",
        "colab": {
          "base_uri": "https://localhost:8080/",
          "height": 34
        }
      },
      "source": [
        "data.dtype"
      ],
      "execution_count": 0,
      "outputs": [
        {
          "output_type": "execute_result",
          "data": {
            "text/plain": [
              "dtype('int64')"
            ]
          },
          "metadata": {
            "tags": []
          },
          "execution_count": 8
        }
      ]
    },
    {
      "cell_type": "code",
      "metadata": {
        "id": "Qy0rcGxe3Ln_",
        "colab_type": "code",
        "outputId": "bd25f2cf-86d0-4fe8-9738-f94f0060dca9",
        "colab": {
          "base_uri": "https://localhost:8080/",
          "height": 34
        }
      },
      "source": [
        "data.nbytes"
      ],
      "execution_count": 0,
      "outputs": [
        {
          "output_type": "execute_result",
          "data": {
            "text/plain": [
              "48"
            ]
          },
          "metadata": {
            "tags": []
          },
          "execution_count": 9
        }
      ]
    },
    {
      "cell_type": "markdown",
      "metadata": {
        "id": "2sDa2kcD3LoD",
        "colab_type": "text"
      },
      "source": [
        "### <font color = 'blue'> Exercise #1: </font> \n",
        "1. Create a 3-dimensional array of integers\n",
        "2. Find all 3 of its dimensions, print them out one per line"
      ]
    },
    {
      "cell_type": "code",
      "metadata": {
        "id": "FOvUZPOC32cj",
        "colab_type": "code",
        "outputId": "66c530c4-d073-4775-b517-f774bece137b",
        "colab": {
          "base_uri": "https://localhost:8080/",
          "height": 85
        }
      },
      "source": [
        "arr = np.array([[[1,1], [2,3]], \n",
        "                [[3,4], [5,7]], \n",
        "                [[9,12], [0,1]]])\n",
        "\n",
        "arr2 = np.random.randint(0,10, size = (5,3,4))\n",
        "\n",
        "print(arr2.shape)\n",
        "\n",
        "for i in arr2.shape:\n",
        "  print(i)\n"
      ],
      "execution_count": 0,
      "outputs": [
        {
          "output_type": "stream",
          "text": [
            "(5, 3, 4)\n",
            "5\n",
            "3\n",
            "4\n"
          ],
          "name": "stdout"
        }
      ]
    },
    {
      "cell_type": "markdown",
      "metadata": {
        "id": "bV1Y9EqB3135",
        "colab_type": "text"
      },
      "source": [
        ""
      ]
    },
    {
      "cell_type": "code",
      "metadata": {
        "id": "M-qSNvqu3LoF",
        "colab_type": "code",
        "colab": {}
      },
      "source": [
        "threed_array = np.random.randint(-10,10, size=(5,3,4))"
      ],
      "execution_count": 0,
      "outputs": []
    },
    {
      "cell_type": "code",
      "metadata": {
        "id": "kToFEZhq3LoI",
        "colab_type": "code",
        "outputId": "1e76dbbb-c81f-4054-90b1-9f87cb33fc8b",
        "colab": {
          "base_uri": "https://localhost:8080/",
          "height": 34
        }
      },
      "source": [
        "threed_array.shape"
      ],
      "execution_count": 0,
      "outputs": [
        {
          "output_type": "execute_result",
          "data": {
            "text/plain": [
              "(5, 3, 4)"
            ]
          },
          "metadata": {
            "tags": []
          },
          "execution_count": 11
        }
      ]
    },
    {
      "cell_type": "code",
      "metadata": {
        "id": "OJwEN3Es3LoM",
        "colab_type": "code",
        "outputId": "c47fa06a-363d-46b1-9346-f3439822177b",
        "colab": {
          "base_uri": "https://localhost:8080/",
          "height": 68
        }
      },
      "source": [
        "for x in threed_array.shape:\n",
        "    print(x)"
      ],
      "execution_count": 0,
      "outputs": [
        {
          "output_type": "stream",
          "text": [
            "5\n",
            "3\n",
            "4\n"
          ],
          "name": "stdout"
        }
      ]
    },
    {
      "cell_type": "markdown",
      "metadata": {
        "id": "IoXl90m63LoQ",
        "colab_type": "text"
      },
      "source": [
        "## Data types"
      ]
    },
    {
      "cell_type": "code",
      "metadata": {
        "id": "jXriPehw3LoR",
        "colab_type": "code",
        "outputId": "c69b3589-b4d3-4216-e1a4-7ec8e375624b",
        "colab": {}
      },
      "source": [
        "np.array([1, 2, 3], dtype=np.int)"
      ],
      "execution_count": 0,
      "outputs": [
        {
          "output_type": "execute_result",
          "data": {
            "text/plain": [
              "array([1, 2, 3])"
            ]
          },
          "metadata": {
            "tags": []
          },
          "execution_count": 10
        }
      ]
    },
    {
      "cell_type": "code",
      "metadata": {
        "id": "K8mzrSfA3LoU",
        "colab_type": "code",
        "outputId": "14f91f7e-2aaa-427f-f557-d97b292ca1d6",
        "colab": {}
      },
      "source": [
        "np.array([1, 2, 3], dtype=np.float)"
      ],
      "execution_count": 0,
      "outputs": [
        {
          "output_type": "execute_result",
          "data": {
            "text/plain": [
              "array([ 1.,  2.,  3.])"
            ]
          },
          "metadata": {
            "tags": []
          },
          "execution_count": 11
        }
      ]
    },
    {
      "cell_type": "code",
      "metadata": {
        "id": "GpcgZ-nV3Loa",
        "colab_type": "code",
        "outputId": "13611d9c-5676-4d42-f9e1-ca1daeb6731e",
        "colab": {}
      },
      "source": [
        "np.array([1, 2, 3], dtype=np.complex)"
      ],
      "execution_count": 0,
      "outputs": [
        {
          "output_type": "execute_result",
          "data": {
            "text/plain": [
              "array([ 1.+0.j,  2.+0.j,  3.+0.j])"
            ]
          },
          "metadata": {
            "tags": []
          },
          "execution_count": 12
        }
      ]
    },
    {
      "cell_type": "code",
      "metadata": {
        "id": "6Fgf5eat3Lof",
        "colab_type": "code",
        "colab": {}
      },
      "source": [
        "data = np.array([1, 2, 3], dtype=np.float)"
      ],
      "execution_count": 0,
      "outputs": []
    },
    {
      "cell_type": "code",
      "metadata": {
        "id": "70rUZqNl3Lol",
        "colab_type": "code",
        "outputId": "421bda84-16e1-4eb8-8cb3-8e6eed50280f",
        "colab": {}
      },
      "source": [
        "data"
      ],
      "execution_count": 0,
      "outputs": [
        {
          "output_type": "execute_result",
          "data": {
            "text/plain": [
              "array([ 1.,  2.,  3.])"
            ]
          },
          "metadata": {
            "tags": []
          },
          "execution_count": 14
        }
      ]
    },
    {
      "cell_type": "code",
      "metadata": {
        "id": "IC9ekn6V3Loo",
        "colab_type": "code",
        "outputId": "1e6ce902-a88e-4a35-9226-5eee332e7080",
        "colab": {}
      },
      "source": [
        "data.dtype"
      ],
      "execution_count": 0,
      "outputs": [
        {
          "output_type": "execute_result",
          "data": {
            "text/plain": [
              "dtype('float64')"
            ]
          },
          "metadata": {
            "tags": []
          },
          "execution_count": 15
        }
      ]
    },
    {
      "cell_type": "code",
      "metadata": {
        "id": "hkhrK85e3Lor",
        "colab_type": "code",
        "colab": {}
      },
      "source": [
        "data = np.array([1, 2, 3], dtype=np.int)"
      ],
      "execution_count": 0,
      "outputs": []
    },
    {
      "cell_type": "code",
      "metadata": {
        "id": "9QhKTJEo3Lov",
        "colab_type": "code",
        "outputId": "3c41aff8-ac49-484b-db94-59cf6710a775",
        "colab": {}
      },
      "source": [
        "data.dtype"
      ],
      "execution_count": 0,
      "outputs": [
        {
          "output_type": "execute_result",
          "data": {
            "text/plain": [
              "dtype('int32')"
            ]
          },
          "metadata": {
            "tags": []
          },
          "execution_count": 17
        }
      ]
    },
    {
      "cell_type": "code",
      "metadata": {
        "id": "2kOXqjE53Loz",
        "colab_type": "code",
        "outputId": "6413061c-f513-4b33-9aec-c92443f31d07",
        "colab": {}
      },
      "source": [
        "data"
      ],
      "execution_count": 0,
      "outputs": [
        {
          "output_type": "execute_result",
          "data": {
            "text/plain": [
              "array([1, 2, 3])"
            ]
          },
          "metadata": {
            "tags": []
          },
          "execution_count": 18
        }
      ]
    },
    {
      "cell_type": "code",
      "metadata": {
        "id": "n3NigLc03Lo2",
        "colab_type": "code",
        "colab": {}
      },
      "source": [
        "data = np.array([1, 2, 3], dtype=np.float)"
      ],
      "execution_count": 0,
      "outputs": []
    },
    {
      "cell_type": "code",
      "metadata": {
        "id": "EPnxR6VJ3Lo6",
        "colab_type": "code",
        "outputId": "e4bc19f8-c0ba-4435-eb2e-2a9a439db1d0",
        "colab": {}
      },
      "source": [
        "data"
      ],
      "execution_count": 0,
      "outputs": [
        {
          "output_type": "execute_result",
          "data": {
            "text/plain": [
              "array([ 1.,  2.,  3.])"
            ]
          },
          "metadata": {
            "tags": []
          },
          "execution_count": 20
        }
      ]
    },
    {
      "cell_type": "code",
      "metadata": {
        "id": "zbm6rA-g3Lo-",
        "colab_type": "code",
        "outputId": "0f3ecd2a-7f83-488a-b86a-075986292ffe",
        "colab": {}
      },
      "source": [
        "data.astype(np.int)"
      ],
      "execution_count": 0,
      "outputs": [
        {
          "output_type": "execute_result",
          "data": {
            "text/plain": [
              "array([1, 2, 3])"
            ]
          },
          "metadata": {
            "tags": []
          },
          "execution_count": 21
        }
      ]
    },
    {
      "cell_type": "code",
      "metadata": {
        "id": "FWteSXtL3LpD",
        "colab_type": "code",
        "colab": {}
      },
      "source": [
        "d1 = np.array([1, 2, 3], dtype=float)"
      ],
      "execution_count": 0,
      "outputs": []
    },
    {
      "cell_type": "code",
      "metadata": {
        "id": "Jb7YuBnk3LpH",
        "colab_type": "code",
        "colab": {}
      },
      "source": [
        "d2 = np.array([1, 2, 3], dtype=complex)"
      ],
      "execution_count": 0,
      "outputs": []
    },
    {
      "cell_type": "code",
      "metadata": {
        "id": "GiAesC8u3LpM",
        "colab_type": "code",
        "outputId": "6dae00de-d6d8-4479-b107-c273a44bf2ea",
        "colab": {}
      },
      "source": [
        "d1 + d2"
      ],
      "execution_count": 0,
      "outputs": [
        {
          "output_type": "execute_result",
          "data": {
            "text/plain": [
              "array([ 2.+0.j,  4.+0.j,  6.+0.j])"
            ]
          },
          "metadata": {
            "tags": []
          },
          "execution_count": 24
        }
      ]
    },
    {
      "cell_type": "code",
      "metadata": {
        "id": "Ree6oUm43LpQ",
        "colab_type": "code",
        "outputId": "5fba89c0-00fd-4aaf-8a30-ce3e913b2bbc",
        "colab": {}
      },
      "source": [
        "(d1 + d2).dtype"
      ],
      "execution_count": 0,
      "outputs": [
        {
          "output_type": "execute_result",
          "data": {
            "text/plain": [
              "dtype('complex128')"
            ]
          },
          "metadata": {
            "tags": []
          },
          "execution_count": 25
        }
      ]
    },
    {
      "cell_type": "code",
      "metadata": {
        "id": "__lq5w6F3LpW",
        "colab_type": "code",
        "outputId": "de513533-a1d1-4780-874e-08a04e8bcfdc",
        "colab": {}
      },
      "source": [
        "np.sqrt(np.array([-1, 0, 1]))"
      ],
      "execution_count": 0,
      "outputs": [
        {
          "output_type": "stream",
          "text": [
            "C:\\ProgramData\\Anaconda3\\lib\\site-packages\\ipykernel_launcher.py:1: RuntimeWarning: invalid value encountered in sqrt\n",
            "  \"\"\"Entry point for launching an IPython kernel.\n"
          ],
          "name": "stderr"
        },
        {
          "output_type": "execute_result",
          "data": {
            "text/plain": [
              "array([ nan,   0.,   1.])"
            ]
          },
          "metadata": {
            "tags": []
          },
          "execution_count": 26
        }
      ]
    },
    {
      "cell_type": "code",
      "metadata": {
        "id": "FwbDsPCR3Lpc",
        "colab_type": "code",
        "outputId": "aa8abf33-fbe9-4a9c-8a15-a0bcfbca9892",
        "colab": {}
      },
      "source": [
        "np.sqrt(np.array([-1, 0, 1], dtype=complex))"
      ],
      "execution_count": 0,
      "outputs": [
        {
          "output_type": "execute_result",
          "data": {
            "text/plain": [
              "array([ 0.+1.j,  0.+0.j,  1.+0.j])"
            ]
          },
          "metadata": {
            "tags": []
          },
          "execution_count": 27
        }
      ]
    },
    {
      "cell_type": "markdown",
      "metadata": {
        "id": "lyNAq6XH3Lpg",
        "colab_type": "text"
      },
      "source": [
        "### <font color = 'blue'> Exercise #2: </font>\n",
        "1. Create a 2-dimensional numpy array of type float32\n",
        "2. Add it to another of same dimensions but of type float64\n",
        "3. Guess what type the entries of the sum array would be, and check your guess by carrying out the addition."
      ]
    },
    {
      "cell_type": "code",
      "metadata": {
        "id": "Mwz3e9bc4FBC",
        "colab_type": "code",
        "outputId": "046c8f26-6159-474e-ebbe-65c8dc4aa986",
        "colab": {
          "base_uri": "https://localhost:8080/",
          "height": 34
        }
      },
      "source": [
        "arr3 = np.array([[1,2],[2,3]], dtype = np.float32)\n",
        "arr4 = np.array([[4,5],[5,6]], dtype = float) #float64\n",
        "#float64 because it is broader\n",
        "arr5 = arr3 + arr4\n",
        "arr5.dtype"
      ],
      "execution_count": 0,
      "outputs": [
        {
          "output_type": "execute_result",
          "data": {
            "text/plain": [
              "dtype('float64')"
            ]
          },
          "metadata": {
            "tags": []
          },
          "execution_count": 14
        }
      ]
    },
    {
      "cell_type": "markdown",
      "metadata": {
        "id": "7Dx1MikS3Lpi",
        "colab_type": "text"
      },
      "source": [
        "### Real and imaginary parts"
      ]
    },
    {
      "cell_type": "code",
      "metadata": {
        "id": "jkmwUZZf3Lpk",
        "colab_type": "code",
        "colab": {}
      },
      "source": [
        "data = np.array([1, 2, 3], dtype=complex)"
      ],
      "execution_count": 0,
      "outputs": []
    },
    {
      "cell_type": "code",
      "metadata": {
        "id": "oquzlHTm3Lpq",
        "colab_type": "code",
        "outputId": "c4a2abd9-b8a6-4b92-f888-b81aa2a7529f",
        "colab": {}
      },
      "source": [
        "data"
      ],
      "execution_count": 0,
      "outputs": [
        {
          "output_type": "execute_result",
          "data": {
            "text/plain": [
              "array([ 1.+0.j,  2.+0.j,  3.+0.j])"
            ]
          },
          "metadata": {
            "tags": []
          },
          "execution_count": 29
        }
      ]
    },
    {
      "cell_type": "code",
      "metadata": {
        "id": "iMk1DbdA3Lpt",
        "colab_type": "code",
        "outputId": "2677ee84-cfb7-4ea5-a80d-4058c6f6c136",
        "colab": {}
      },
      "source": [
        "data.real"
      ],
      "execution_count": 0,
      "outputs": [
        {
          "output_type": "execute_result",
          "data": {
            "text/plain": [
              "array([ 1.,  2.,  3.])"
            ]
          },
          "metadata": {
            "tags": []
          },
          "execution_count": 30
        }
      ]
    },
    {
      "cell_type": "code",
      "metadata": {
        "id": "ol17GO773Lp3",
        "colab_type": "code",
        "outputId": "5a9157eb-f6eb-41f6-ada1-562f44334df1",
        "colab": {}
      },
      "source": [
        "data.imag"
      ],
      "execution_count": 0,
      "outputs": [
        {
          "output_type": "execute_result",
          "data": {
            "text/plain": [
              "array([ 0.,  0.,  0.])"
            ]
          },
          "metadata": {
            "tags": []
          },
          "execution_count": 31
        }
      ]
    },
    {
      "cell_type": "markdown",
      "metadata": {
        "id": "HsbebVou3Lp7",
        "colab_type": "text"
      },
      "source": [
        "# Creating arrays"
      ]
    },
    {
      "cell_type": "markdown",
      "metadata": {
        "id": "zCztSdei3Lp7",
        "colab_type": "text"
      },
      "source": [
        "### Arrays created from lists and other array-like objects"
      ]
    },
    {
      "cell_type": "code",
      "metadata": {
        "id": "QtWm7Jgi3Lp9",
        "colab_type": "code",
        "colab": {}
      },
      "source": [
        "data = np.array(np.arange(16))"
      ],
      "execution_count": 0,
      "outputs": []
    },
    {
      "cell_type": "code",
      "metadata": {
        "id": "IL3uUQKj3Lp_",
        "colab_type": "code",
        "outputId": "df018f32-b9db-40cf-d7d0-d0ad5d0589be",
        "colab": {}
      },
      "source": [
        "data"
      ],
      "execution_count": 0,
      "outputs": [
        {
          "output_type": "execute_result",
          "data": {
            "text/plain": [
              "array([ 0,  1,  2,  3,  4,  5,  6,  7,  8,  9, 10, 11, 12, 13, 14, 15])"
            ]
          },
          "metadata": {
            "tags": []
          },
          "execution_count": 26
        }
      ]
    },
    {
      "cell_type": "code",
      "metadata": {
        "id": "A7zKya2-3LqD",
        "colab_type": "code",
        "outputId": "2906e965-769e-47f4-c99c-92b5d90e2951",
        "colab": {}
      },
      "source": [
        "data.reshape(-1,4)"
      ],
      "execution_count": 0,
      "outputs": [
        {
          "output_type": "execute_result",
          "data": {
            "text/plain": [
              "array([[ 0,  1,  2,  3],\n",
              "       [ 4,  5,  6,  7],\n",
              "       [ 8,  9, 10, 11],\n",
              "       [12, 13, 14, 15]])"
            ]
          },
          "metadata": {
            "tags": []
          },
          "execution_count": 31
        }
      ]
    },
    {
      "cell_type": "code",
      "metadata": {
        "id": "Ea_swDJ73LqI",
        "colab_type": "code",
        "colab": {}
      },
      "source": [
        "data = np.array([[1, 2], [3, 4]])"
      ],
      "execution_count": 0,
      "outputs": []
    },
    {
      "cell_type": "code",
      "metadata": {
        "id": "c136CP_Y3LqO",
        "colab_type": "code",
        "outputId": "389473f9-2172-430c-b89c-8c84eed20980",
        "colab": {}
      },
      "source": [
        "data.ndim"
      ],
      "execution_count": 0,
      "outputs": [
        {
          "output_type": "execute_result",
          "data": {
            "text/plain": [
              "2"
            ]
          },
          "metadata": {
            "tags": []
          },
          "execution_count": 19
        }
      ]
    },
    {
      "cell_type": "code",
      "metadata": {
        "id": "BgqNy-jT3LqV",
        "colab_type": "code",
        "outputId": "dc11e74f-0954-43d8-dfc8-e24f3ed96f85",
        "colab": {}
      },
      "source": [
        "data.shape"
      ],
      "execution_count": 0,
      "outputs": [
        {
          "output_type": "execute_result",
          "data": {
            "text/plain": [
              "(2, 2)"
            ]
          },
          "metadata": {
            "tags": []
          },
          "execution_count": 20
        }
      ]
    },
    {
      "cell_type": "markdown",
      "metadata": {
        "id": "qTJK9B8x3LqY",
        "colab_type": "text"
      },
      "source": [
        "### Arrays filled with special constant values"
      ]
    },
    {
      "cell_type": "code",
      "metadata": {
        "id": "MmS73qoA3LqY",
        "colab_type": "code",
        "outputId": "e2a21615-cbad-4c46-98f7-15753a41322c",
        "colab": {}
      },
      "source": [
        "np.zeros((2, 3))"
      ],
      "execution_count": 0,
      "outputs": [
        {
          "output_type": "execute_result",
          "data": {
            "text/plain": [
              "array([[0., 0., 0.],\n",
              "       [0., 0., 0.]])"
            ]
          },
          "metadata": {
            "tags": []
          },
          "execution_count": 21
        }
      ]
    },
    {
      "cell_type": "code",
      "metadata": {
        "id": "I3OdBm793Lqc",
        "colab_type": "code",
        "outputId": "801ce7b9-b616-4542-e1c5-be29bfe4f654",
        "colab": {}
      },
      "source": [
        "np.ones(4)"
      ],
      "execution_count": 0,
      "outputs": [
        {
          "output_type": "execute_result",
          "data": {
            "text/plain": [
              "array([1., 1., 1., 1.])"
            ]
          },
          "metadata": {
            "tags": []
          },
          "execution_count": 22
        }
      ]
    },
    {
      "cell_type": "code",
      "metadata": {
        "id": "4kepee8J3Lql",
        "colab_type": "code",
        "colab": {}
      },
      "source": [
        "data = np.ones(4)"
      ],
      "execution_count": 0,
      "outputs": []
    },
    {
      "cell_type": "code",
      "metadata": {
        "id": "RypUQ16N3Lqo",
        "colab_type": "code",
        "outputId": "d5e809d4-b97f-4024-8c9a-c0fa12eab966",
        "colab": {}
      },
      "source": [
        "data.dtype"
      ],
      "execution_count": 0,
      "outputs": [
        {
          "output_type": "execute_result",
          "data": {
            "text/plain": [
              "dtype('float64')"
            ]
          },
          "metadata": {
            "tags": []
          },
          "execution_count": 24
        }
      ]
    },
    {
      "cell_type": "code",
      "metadata": {
        "id": "Diz7iEWP3Lqu",
        "colab_type": "code",
        "colab": {}
      },
      "source": [
        "data = np.ones(4, dtype=np.int64)"
      ],
      "execution_count": 0,
      "outputs": []
    },
    {
      "cell_type": "code",
      "metadata": {
        "id": "KIBLYgJJ3Lqx",
        "colab_type": "code",
        "outputId": "37dc52c3-f456-4e05-97f4-1001239a0f89",
        "colab": {}
      },
      "source": [
        "data.dtype"
      ],
      "execution_count": 0,
      "outputs": [
        {
          "output_type": "execute_result",
          "data": {
            "text/plain": [
              "dtype('int64')"
            ]
          },
          "metadata": {
            "tags": []
          },
          "execution_count": 26
        }
      ]
    },
    {
      "cell_type": "code",
      "metadata": {
        "id": "NB4VFb9V3Lq2",
        "colab_type": "code",
        "colab": {}
      },
      "source": [
        "x1 = 5.4 * np.ones(10)"
      ],
      "execution_count": 0,
      "outputs": []
    },
    {
      "cell_type": "code",
      "metadata": {
        "id": "4jk8jcuN3Lq5",
        "colab_type": "code",
        "colab": {}
      },
      "source": [
        "x2 = np.full(10, 5.4)"
      ],
      "execution_count": 0,
      "outputs": []
    },
    {
      "cell_type": "code",
      "metadata": {
        "id": "g6BZQ8-W3Lq9",
        "colab_type": "code",
        "outputId": "aae76877-f824-498a-83e9-bc74b45d24ce",
        "colab": {}
      },
      "source": [
        "x2"
      ],
      "execution_count": 0,
      "outputs": [
        {
          "output_type": "execute_result",
          "data": {
            "text/plain": [
              "array([5.4, 5.4, 5.4, 5.4, 5.4, 5.4, 5.4, 5.4, 5.4, 5.4])"
            ]
          },
          "metadata": {
            "tags": []
          },
          "execution_count": 33
        }
      ]
    },
    {
      "cell_type": "code",
      "metadata": {
        "id": "jlEsIhIk3LrC",
        "colab_type": "code",
        "colab": {}
      },
      "source": [
        "x1 = np.empty(5)"
      ],
      "execution_count": 0,
      "outputs": []
    },
    {
      "cell_type": "code",
      "metadata": {
        "id": "CN_JIFCQ3LrF",
        "colab_type": "code",
        "colab": {}
      },
      "source": [
        "x1.fill(3.0)"
      ],
      "execution_count": 0,
      "outputs": []
    },
    {
      "cell_type": "code",
      "metadata": {
        "id": "PqERrmfo3LrH",
        "colab_type": "code",
        "outputId": "e7ae6953-372e-48ab-bb38-2c885b07b884",
        "colab": {}
      },
      "source": [
        "x1"
      ],
      "execution_count": 0,
      "outputs": [
        {
          "output_type": "execute_result",
          "data": {
            "text/plain": [
              "array([3., 3., 3., 3., 3.])"
            ]
          },
          "metadata": {
            "tags": []
          },
          "execution_count": 31
        }
      ]
    },
    {
      "cell_type": "code",
      "metadata": {
        "id": "dulJQ9Ti3LrN",
        "colab_type": "code",
        "colab": {}
      },
      "source": [
        "x2 = np.full(5, 3.0)"
      ],
      "execution_count": 0,
      "outputs": []
    },
    {
      "cell_type": "code",
      "metadata": {
        "id": "s_vvnRxI3LrQ",
        "colab_type": "code",
        "outputId": "b4c4b379-c20e-494f-b181-1b35146468d6",
        "colab": {}
      },
      "source": [
        "x2"
      ],
      "execution_count": 0,
      "outputs": [
        {
          "output_type": "execute_result",
          "data": {
            "text/plain": [
              "array([3., 3., 3., 3., 3.])"
            ]
          },
          "metadata": {
            "tags": []
          },
          "execution_count": 33
        }
      ]
    },
    {
      "cell_type": "markdown",
      "metadata": {
        "id": "mlSeG4du3LrT",
        "colab_type": "text"
      },
      "source": [
        "### Arrays filled with incremental sequences"
      ]
    },
    {
      "cell_type": "code",
      "metadata": {
        "id": "MbyVBBSZ3LrU",
        "colab_type": "code",
        "outputId": "4a313f9a-5b48-45cb-e66c-14cbc184dccc",
        "colab": {}
      },
      "source": [
        "np.arange(0.0, 10, 1)"
      ],
      "execution_count": 0,
      "outputs": [
        {
          "output_type": "execute_result",
          "data": {
            "text/plain": [
              "array([0., 1., 2., 3., 4., 5., 6., 7., 8., 9.])"
            ]
          },
          "metadata": {
            "tags": []
          },
          "execution_count": 34
        }
      ]
    },
    {
      "cell_type": "code",
      "metadata": {
        "id": "9q_vnlq63LrW",
        "colab_type": "code",
        "outputId": "98141819-4545-4e5d-8486-4a46ef87f4cf",
        "colab": {}
      },
      "source": [
        "np.linspace(0, 10, 11)"
      ],
      "execution_count": 0,
      "outputs": [
        {
          "output_type": "execute_result",
          "data": {
            "text/plain": [
              "array([ 0.,  1.,  2.,  3.,  4.,  5.,  6.,  7.,  8.,  9., 10.])"
            ]
          },
          "metadata": {
            "tags": []
          },
          "execution_count": 35
        }
      ]
    },
    {
      "cell_type": "markdown",
      "metadata": {
        "id": "IA-WiuWm3Lra",
        "colab_type": "text"
      },
      "source": [
        "### Arrays filled with logarithmic sequences"
      ]
    },
    {
      "cell_type": "code",
      "metadata": {
        "id": "jco7ECDy3Lrb",
        "colab_type": "code",
        "outputId": "89b0474b-ffbe-43c0-96ad-81fd3985282a",
        "colab": {}
      },
      "source": [
        "np.logspace(0, 2, 5)  # 5 data points between 10**0=1 to 10**2=100"
      ],
      "execution_count": 0,
      "outputs": [
        {
          "output_type": "execute_result",
          "data": {
            "text/plain": [
              "array([  1.        ,   3.16227766,  10.        ,  31.6227766 ,\n",
              "       100.        ])"
            ]
          },
          "metadata": {
            "tags": []
          },
          "execution_count": 36
        }
      ]
    },
    {
      "cell_type": "markdown",
      "metadata": {
        "id": "EzPGAI753Lrd",
        "colab_type": "text"
      },
      "source": [
        "### Mesh-grid arrays"
      ]
    },
    {
      "cell_type": "code",
      "metadata": {
        "id": "rsQVsO5G3Lre",
        "colab_type": "code",
        "colab": {}
      },
      "source": [
        "x = np.array([-1, 0, 1])"
      ],
      "execution_count": 0,
      "outputs": []
    },
    {
      "cell_type": "code",
      "metadata": {
        "id": "NUDqQEoL3Lrg",
        "colab_type": "code",
        "colab": {}
      },
      "source": [
        "y = np.array([-2, 0, 2])"
      ],
      "execution_count": 0,
      "outputs": []
    },
    {
      "cell_type": "code",
      "metadata": {
        "id": "TN_QwF1X3Lri",
        "colab_type": "code",
        "colab": {}
      },
      "source": [
        "X, Y = np.meshgrid(x, y)"
      ],
      "execution_count": 0,
      "outputs": []
    },
    {
      "cell_type": "code",
      "metadata": {
        "id": "EaIrQAKm3Lrl",
        "colab_type": "code",
        "outputId": "7094dd37-0852-45ba-8f76-e367b3530478",
        "colab": {}
      },
      "source": [
        "X"
      ],
      "execution_count": 0,
      "outputs": [
        {
          "output_type": "execute_result",
          "data": {
            "text/plain": [
              "array([[-1,  0,  1],\n",
              "       [-1,  0,  1],\n",
              "       [-1,  0,  1]])"
            ]
          },
          "metadata": {
            "tags": []
          },
          "execution_count": 40
        }
      ]
    },
    {
      "cell_type": "code",
      "metadata": {
        "id": "NaLEvZ6j3Lrn",
        "colab_type": "code",
        "outputId": "7f8e4034-0daf-432d-fe2a-ac482f88d67f",
        "colab": {}
      },
      "source": [
        "Y"
      ],
      "execution_count": 0,
      "outputs": [
        {
          "output_type": "execute_result",
          "data": {
            "text/plain": [
              "array([[-2, -2, -2],\n",
              "       [ 0,  0,  0],\n",
              "       [ 2,  2,  2]])"
            ]
          },
          "metadata": {
            "tags": []
          },
          "execution_count": 41
        }
      ]
    },
    {
      "cell_type": "markdown",
      "metadata": {
        "id": "FN8r41673Lrp",
        "colab_type": "text"
      },
      "source": [
        "### <font color = 'blue'> Exercise #3: </font> Meshgrid produces the Cartesian product of the arrays, except that the x-values and y-values are kept seperate\n",
        "\n",
        "1. Generate a meshgrid X,Y of x = a sequence of integers 1...5 and y of -1,0,1\n",
        "2. How many entries will X have? Y?"
      ]
    },
    {
      "cell_type": "code",
      "metadata": {
        "id": "Gf6CL01d57Kn",
        "colab_type": "code",
        "colab": {}
      },
      "source": [
        "x = np.arange(1,6,1)\n",
        "y = np.array([-1,0,1])\n",
        "\n",
        "X,Y = np.meshgrid(x,y)\n",
        "#X has 15 entries\n",
        "#Y has 15 entries\n"
      ],
      "execution_count": 0,
      "outputs": []
    },
    {
      "cell_type": "code",
      "metadata": {
        "id": "oKxWHVBX3Lrq",
        "colab_type": "code",
        "colab": {}
      },
      "source": [
        "Z = (X + Y) ** 2"
      ],
      "execution_count": 0,
      "outputs": []
    },
    {
      "cell_type": "code",
      "metadata": {
        "id": "bX5v1Wak3Lru",
        "colab_type": "code",
        "outputId": "42711fc1-18f2-41de-8a5a-e363033be3e7",
        "colab": {}
      },
      "source": [
        "Z"
      ],
      "execution_count": 0,
      "outputs": [
        {
          "output_type": "execute_result",
          "data": {
            "text/plain": [
              "array([[9, 4, 1],\n",
              "       [1, 0, 1],\n",
              "       [1, 4, 9]], dtype=int32)"
            ]
          },
          "metadata": {
            "tags": []
          },
          "execution_count": 43
        }
      ]
    },
    {
      "cell_type": "markdown",
      "metadata": {
        "id": "jrQiJjtk3Lrx",
        "colab_type": "text"
      },
      "source": [
        "### Creating uninitialized arrays"
      ]
    },
    {
      "cell_type": "code",
      "metadata": {
        "id": "cbeEsLfH3Lrx",
        "colab_type": "code",
        "outputId": "077cd026-e746-4d91-bb12-6b8c78ee69c1",
        "colab": {}
      },
      "source": [
        "np.empty(3, dtype=np.float)"
      ],
      "execution_count": 0,
      "outputs": [
        {
          "output_type": "execute_result",
          "data": {
            "text/plain": [
              "array([8.15931808e-312, 0.00000000e+000, 6.95229481e-310])"
            ]
          },
          "metadata": {
            "tags": []
          },
          "execution_count": 44
        }
      ]
    },
    {
      "cell_type": "markdown",
      "metadata": {
        "id": "mfbzwRBE3Lrz",
        "colab_type": "text"
      },
      "source": [
        "### Creating arrays with properties of other arrays"
      ]
    },
    {
      "cell_type": "code",
      "metadata": {
        "id": "Csrcdepx3Lr0",
        "colab_type": "code",
        "colab": {}
      },
      "source": [
        "def f(x):\n",
        "    y = np.ones_like(x)\n",
        "    # compute with x and y\n",
        "    return y"
      ],
      "execution_count": 0,
      "outputs": []
    },
    {
      "cell_type": "markdown",
      "metadata": {
        "id": "Ai26jCs03Lr5",
        "colab_type": "text"
      },
      "source": [
        "### Creating special matrix arrays"
      ]
    },
    {
      "cell_type": "code",
      "metadata": {
        "id": "DnTnGY_73Lr6",
        "colab_type": "code",
        "outputId": "9ab4aae5-7d51-46c3-b601-bb0337db75d2",
        "colab": {}
      },
      "source": [
        "np.identity(4)"
      ],
      "execution_count": 0,
      "outputs": [
        {
          "output_type": "execute_result",
          "data": {
            "text/plain": [
              "array([[1., 0., 0., 0.],\n",
              "       [0., 1., 0., 0.],\n",
              "       [0., 0., 1., 0.],\n",
              "       [0., 0., 0., 1.]])"
            ]
          },
          "metadata": {
            "tags": []
          },
          "execution_count": 46
        }
      ]
    },
    {
      "cell_type": "code",
      "metadata": {
        "id": "mYOrSJUZ3Lr9",
        "colab_type": "code",
        "outputId": "144ff266-9e10-4863-dece-047ec51e8912",
        "colab": {}
      },
      "source": [
        "np.eye(3, k=1)"
      ],
      "execution_count": 0,
      "outputs": [
        {
          "output_type": "execute_result",
          "data": {
            "text/plain": [
              "array([[0., 1., 0.],\n",
              "       [0., 0., 1.],\n",
              "       [0., 0., 0.]])"
            ]
          },
          "metadata": {
            "tags": []
          },
          "execution_count": 47
        }
      ]
    },
    {
      "cell_type": "code",
      "metadata": {
        "id": "TvQyjKTA3Lr_",
        "colab_type": "code",
        "outputId": "be618d58-a09f-4f70-e4f9-b4f153fa2756",
        "colab": {}
      },
      "source": [
        "np.eye(3, k=-1)"
      ],
      "execution_count": 0,
      "outputs": [
        {
          "output_type": "execute_result",
          "data": {
            "text/plain": [
              "array([[0., 0., 0.],\n",
              "       [1., 0., 0.],\n",
              "       [0., 1., 0.]])"
            ]
          },
          "metadata": {
            "tags": []
          },
          "execution_count": 48
        }
      ]
    },
    {
      "cell_type": "code",
      "metadata": {
        "id": "B6_uvMbP3LsB",
        "colab_type": "code",
        "outputId": "d8f3683d-5ef4-4d99-af80-0909e7c36cb5",
        "colab": {}
      },
      "source": [
        "np.diag(np.arange(0, 20, 5))"
      ],
      "execution_count": 0,
      "outputs": [
        {
          "output_type": "execute_result",
          "data": {
            "text/plain": [
              "array([[ 0,  0,  0,  0],\n",
              "       [ 0,  5,  0,  0],\n",
              "       [ 0,  0, 10,  0],\n",
              "       [ 0,  0,  0, 15]])"
            ]
          },
          "metadata": {
            "tags": []
          },
          "execution_count": 49
        }
      ]
    },
    {
      "cell_type": "markdown",
      "metadata": {
        "id": "xNWdArJB3LsE",
        "colab_type": "text"
      },
      "source": [
        "## Index and slicing"
      ]
    },
    {
      "cell_type": "markdown",
      "metadata": {
        "id": "giDZiUvW3LsF",
        "colab_type": "text"
      },
      "source": [
        "### One-dimensional arrays"
      ]
    },
    {
      "cell_type": "code",
      "metadata": {
        "id": "a5eIhn4m3LsF",
        "colab_type": "code",
        "colab": {}
      },
      "source": [
        "a = np.arange(0, 11)"
      ],
      "execution_count": 0,
      "outputs": []
    },
    {
      "cell_type": "code",
      "metadata": {
        "id": "Sg4-3aWq3LsI",
        "colab_type": "code",
        "outputId": "5030026b-df94-4529-de18-74f34a1d2fba",
        "colab": {}
      },
      "source": [
        "a"
      ],
      "execution_count": 0,
      "outputs": [
        {
          "output_type": "execute_result",
          "data": {
            "text/plain": [
              "array([ 0,  1,  2,  3,  4,  5,  6,  7,  8,  9, 10])"
            ]
          },
          "metadata": {
            "tags": []
          },
          "execution_count": 51
        }
      ]
    },
    {
      "cell_type": "code",
      "metadata": {
        "id": "4ftNmqqL3LsL",
        "colab_type": "code",
        "outputId": "ee124813-dcc7-4380-85b3-60e64cbcab9c",
        "colab": {}
      },
      "source": [
        "a[0]  # the first element"
      ],
      "execution_count": 0,
      "outputs": [
        {
          "output_type": "execute_result",
          "data": {
            "text/plain": [
              "0"
            ]
          },
          "metadata": {
            "tags": []
          },
          "execution_count": 52
        }
      ]
    },
    {
      "cell_type": "code",
      "metadata": {
        "id": "1tsTM3XJ3LsP",
        "colab_type": "code",
        "outputId": "faf3cc44-1cbf-4c26-f774-6e473ec0d0ad",
        "colab": {}
      },
      "source": [
        "a[-1] # the last element"
      ],
      "execution_count": 0,
      "outputs": [
        {
          "output_type": "execute_result",
          "data": {
            "text/plain": [
              "10"
            ]
          },
          "metadata": {
            "tags": []
          },
          "execution_count": 53
        }
      ]
    },
    {
      "cell_type": "code",
      "metadata": {
        "id": "kyX00gd_3LsT",
        "colab_type": "code",
        "outputId": "ca2a6694-2815-4be4-8b40-1900a1b142ed",
        "colab": {}
      },
      "source": [
        "a[4]  # the fifth element, at index 4"
      ],
      "execution_count": 0,
      "outputs": [
        {
          "output_type": "execute_result",
          "data": {
            "text/plain": [
              "4"
            ]
          },
          "metadata": {
            "tags": []
          },
          "execution_count": 54
        }
      ]
    },
    {
      "cell_type": "code",
      "metadata": {
        "id": "8tS57Ul23LsV",
        "colab_type": "code",
        "outputId": "9eb8c7f7-6603-4f6e-d227-efdc2340e35c",
        "colab": {}
      },
      "source": [
        "a[1:-1]"
      ],
      "execution_count": 0,
      "outputs": [
        {
          "output_type": "execute_result",
          "data": {
            "text/plain": [
              "array([1, 2, 3, 4, 5, 6, 7, 8, 9])"
            ]
          },
          "metadata": {
            "tags": []
          },
          "execution_count": 55
        }
      ]
    },
    {
      "cell_type": "code",
      "metadata": {
        "id": "DCQMgx3J3LsY",
        "colab_type": "code",
        "outputId": "44511429-8f08-4748-8094-ff8c1a77bd4f",
        "colab": {}
      },
      "source": [
        "a[1:-1:2]"
      ],
      "execution_count": 0,
      "outputs": [
        {
          "output_type": "execute_result",
          "data": {
            "text/plain": [
              "array([1, 3, 5, 7, 9])"
            ]
          },
          "metadata": {
            "tags": []
          },
          "execution_count": 56
        }
      ]
    },
    {
      "cell_type": "code",
      "metadata": {
        "id": "2c8Wd84z3Lsa",
        "colab_type": "code",
        "outputId": "358869c0-21e6-4bd0-bc00-a043422ac25b",
        "colab": {}
      },
      "source": [
        "a[:5]"
      ],
      "execution_count": 0,
      "outputs": [
        {
          "output_type": "execute_result",
          "data": {
            "text/plain": [
              "array([0, 1, 2, 3, 4])"
            ]
          },
          "metadata": {
            "tags": []
          },
          "execution_count": 57
        }
      ]
    },
    {
      "cell_type": "code",
      "metadata": {
        "id": "nnVf0F8f3Lsc",
        "colab_type": "code",
        "outputId": "9a377255-6155-4f3e-b1c7-d7ebea75d593",
        "colab": {}
      },
      "source": [
        "a[-5:]"
      ],
      "execution_count": 0,
      "outputs": [
        {
          "output_type": "execute_result",
          "data": {
            "text/plain": [
              "array([ 6,  7,  8,  9, 10])"
            ]
          },
          "metadata": {
            "tags": []
          },
          "execution_count": 58
        }
      ]
    },
    {
      "cell_type": "code",
      "metadata": {
        "id": "h4ePpbqN3Lse",
        "colab_type": "code",
        "outputId": "a34a736d-1e6f-41d8-8420-7483781cb398",
        "colab": {}
      },
      "source": [
        "a[::-2]\n"
      ],
      "execution_count": 0,
      "outputs": [
        {
          "output_type": "execute_result",
          "data": {
            "text/plain": [
              "array([10,  8,  6,  4,  2,  0])"
            ]
          },
          "metadata": {
            "tags": []
          },
          "execution_count": 59
        }
      ]
    },
    {
      "cell_type": "markdown",
      "metadata": {
        "id": "ZT3FqeOF3Lsf",
        "colab_type": "text"
      },
      "source": [
        "## Multidimensional arrays"
      ]
    },
    {
      "cell_type": "code",
      "metadata": {
        "id": "glnw8ctK3Lsg",
        "colab_type": "code",
        "outputId": "377eea7d-a626-43be-a49f-9d54e28cae7f",
        "colab": {
          "base_uri": "https://localhost:8080/",
          "height": 119
        }
      },
      "source": [
        "#The f is special function that takes two arguments m and n\n",
        "f = lambda m, n: n + 10 * m\n",
        "#The function is called with m=6, n = 6 to create a matrix (2-dim array)\n",
        "A = np.fromfunction(f, (6, 6), dtype=int)\n",
        "#prints it our\n",
        "A"
      ],
      "execution_count": 0,
      "outputs": [
        {
          "output_type": "execute_result",
          "data": {
            "text/plain": [
              "array([[ 0,  1,  2,  3,  4,  5],\n",
              "       [10, 11, 12, 13, 14, 15],\n",
              "       [20, 21, 22, 23, 24, 25],\n",
              "       [30, 31, 32, 33, 34, 35],\n",
              "       [40, 41, 42, 43, 44, 45],\n",
              "       [50, 51, 52, 53, 54, 55]])"
            ]
          },
          "metadata": {
            "tags": []
          },
          "execution_count": 15
        }
      ]
    },
    {
      "cell_type": "code",
      "metadata": {
        "id": "P77RVx1D3Lsi",
        "colab_type": "code",
        "outputId": "fc60bffa-41d5-45cd-8624-321b9825004e",
        "colab": {}
      },
      "source": [
        "A[:, 1]  # the second column"
      ],
      "execution_count": 0,
      "outputs": [
        {
          "output_type": "execute_result",
          "data": {
            "text/plain": [
              "array([ 1, 11, 21, 31, 41, 51])"
            ]
          },
          "metadata": {
            "tags": []
          },
          "execution_count": 65
        }
      ]
    },
    {
      "cell_type": "code",
      "metadata": {
        "id": "XKWF3kSN3Lsk",
        "colab_type": "code",
        "outputId": "c276fc4e-7584-4fc0-fa02-63b883929e1f",
        "colab": {}
      },
      "source": [
        "A[1, :]  # the second row"
      ],
      "execution_count": 0,
      "outputs": [
        {
          "output_type": "execute_result",
          "data": {
            "text/plain": [
              "array([10, 11, 12, 13, 14, 15])"
            ]
          },
          "metadata": {
            "tags": []
          },
          "execution_count": 66
        }
      ]
    },
    {
      "cell_type": "code",
      "metadata": {
        "id": "D9IdxxWd3Lsm",
        "colab_type": "code",
        "outputId": "57306900-e64c-4ee2-a12e-21f17d405ce5",
        "colab": {}
      },
      "source": [
        "A[:3, :3]  # upper half diagonal block matrix"
      ],
      "execution_count": 0,
      "outputs": [
        {
          "output_type": "execute_result",
          "data": {
            "text/plain": [
              "array([[ 0,  1,  2],\n",
              "       [10, 11, 12],\n",
              "       [20, 21, 22]])"
            ]
          },
          "metadata": {
            "tags": []
          },
          "execution_count": 67
        }
      ]
    },
    {
      "cell_type": "code",
      "metadata": {
        "id": "gXbMMk2t3Lsn",
        "colab_type": "code",
        "outputId": "4529ba00-5adc-4e7f-b030-2dde3595ec91",
        "colab": {}
      },
      "source": [
        "A[3:, :3]  # lower left off-diagonal block matrix"
      ],
      "execution_count": 0,
      "outputs": [
        {
          "output_type": "execute_result",
          "data": {
            "text/plain": [
              "array([[30, 31, 32],\n",
              "       [40, 41, 42],\n",
              "       [50, 51, 52]])"
            ]
          },
          "metadata": {
            "tags": []
          },
          "execution_count": 68
        }
      ]
    },
    {
      "cell_type": "code",
      "metadata": {
        "id": "Wnr8jshi3Lsq",
        "colab_type": "code",
        "outputId": "3499123d-d360-41ca-d9e2-0e1fce0bf79e",
        "colab": {}
      },
      "source": [
        "A[::2, ::2]  # every second element starting from 0, 0"
      ],
      "execution_count": 0,
      "outputs": [
        {
          "output_type": "execute_result",
          "data": {
            "text/plain": [
              "array([[ 0,  2,  4],\n",
              "       [20, 22, 24],\n",
              "       [40, 42, 44]])"
            ]
          },
          "metadata": {
            "tags": []
          },
          "execution_count": 69
        }
      ]
    },
    {
      "cell_type": "code",
      "metadata": {
        "id": "vE_99zML3Lsv",
        "colab_type": "code",
        "outputId": "4be9ad25-2c08-4f78-eeb7-0a84562c6792",
        "colab": {}
      },
      "source": [
        "A[1::2, 1::3]  # every second element starting from 1, 1"
      ],
      "execution_count": 0,
      "outputs": [
        {
          "output_type": "execute_result",
          "data": {
            "text/plain": [
              "array([[11, 14],\n",
              "       [31, 34],\n",
              "       [51, 54]])"
            ]
          },
          "metadata": {
            "tags": []
          },
          "execution_count": 70
        }
      ]
    },
    {
      "cell_type": "markdown",
      "metadata": {
        "id": "HBNRbXxF3Ls0",
        "colab_type": "text"
      },
      "source": [
        "### Views"
      ]
    },
    {
      "cell_type": "code",
      "metadata": {
        "id": "bTO93QWJ3Ls1",
        "colab_type": "code",
        "colab": {}
      },
      "source": [
        "B = A[1:5, 1:5]"
      ],
      "execution_count": 0,
      "outputs": []
    },
    {
      "cell_type": "code",
      "metadata": {
        "id": "R_XIzBet3Ls3",
        "colab_type": "code",
        "outputId": "ac6f995f-a8d0-4be7-bb70-cb1899c6e474",
        "colab": {}
      },
      "source": [
        "B"
      ],
      "execution_count": 0,
      "outputs": [
        {
          "output_type": "execute_result",
          "data": {
            "text/plain": [
              "array([[11, 12, 13, 14],\n",
              "       [21, 22, 23, 24],\n",
              "       [31, 32, 33, 34],\n",
              "       [41, 42, 43, 44]])"
            ]
          },
          "metadata": {
            "tags": []
          },
          "execution_count": 72
        }
      ]
    },
    {
      "cell_type": "code",
      "metadata": {
        "id": "pE_HXDAG3Ls6",
        "colab_type": "code",
        "colab": {}
      },
      "source": [
        "#Be extremely careful here: we are not setting B to zeros, but also changing A[1:5, 1:5] also to zeros!!!\n",
        "B[:, :] = 0"
      ],
      "execution_count": 0,
      "outputs": []
    },
    {
      "cell_type": "code",
      "metadata": {
        "id": "FIJ0nmXE3Ls8",
        "colab_type": "code",
        "outputId": "103f36cb-56f1-4fe8-862a-f7a150f6c722",
        "colab": {}
      },
      "source": [
        "#As expected\n",
        "B"
      ],
      "execution_count": 0,
      "outputs": [
        {
          "output_type": "execute_result",
          "data": {
            "text/plain": [
              "array([[0, 0, 0, 0],\n",
              "       [0, 0, 0, 0],\n",
              "       [0, 0, 0, 0],\n",
              "       [0, 0, 0, 0]])"
            ]
          },
          "metadata": {
            "tags": []
          },
          "execution_count": 76
        }
      ]
    },
    {
      "cell_type": "code",
      "metadata": {
        "id": "latWxieg3Ls9",
        "colab_type": "code",
        "outputId": "90618892-1af3-4fc8-d180-b708c7491a90",
        "colab": {}
      },
      "source": [
        "#But is this expected?\n",
        "A"
      ],
      "execution_count": 0,
      "outputs": [
        {
          "output_type": "execute_result",
          "data": {
            "text/plain": [
              "array([[ 0,  1,  2,  3,  4,  5],\n",
              "       [10,  0,  0,  0,  0, 15],\n",
              "       [20,  0,  0,  0,  0, 25],\n",
              "       [30,  0,  0,  0,  0, 35],\n",
              "       [40,  0,  0,  0,  0, 45],\n",
              "       [50, 51, 52, 53, 54, 55]])"
            ]
          },
          "metadata": {
            "tags": []
          },
          "execution_count": 77
        }
      ]
    },
    {
      "cell_type": "code",
      "metadata": {
        "id": "1G5I31wH3Ls_",
        "colab_type": "code",
        "colab": {}
      },
      "source": [
        "#If we don't want to change the original matrix use .copy() function of the array object\n",
        "C = B[1:3, 1:3].copy()"
      ],
      "execution_count": 0,
      "outputs": []
    },
    {
      "cell_type": "code",
      "metadata": {
        "id": "Y2DZlpOO3LtA",
        "colab_type": "code",
        "outputId": "e47b9779-cdff-4bf8-b0a9-17b4f67c2bee",
        "colab": {}
      },
      "source": [
        "C"
      ],
      "execution_count": 0,
      "outputs": [
        {
          "output_type": "execute_result",
          "data": {
            "text/plain": [
              "array([[0, 0],\n",
              "       [0, 0]])"
            ]
          },
          "metadata": {
            "tags": []
          },
          "execution_count": 79
        }
      ]
    },
    {
      "cell_type": "code",
      "metadata": {
        "id": "3szYYH233LtD",
        "colab_type": "code",
        "colab": {}
      },
      "source": [
        "C[:, :] = 1  # this does not affect B since C is a copy of the view B[1:3, 1:3]"
      ],
      "execution_count": 0,
      "outputs": []
    },
    {
      "cell_type": "code",
      "metadata": {
        "id": "o1lU400n3LtF",
        "colab_type": "code",
        "outputId": "32c9f899-9d3e-4864-b83a-5b190f09a855",
        "colab": {}
      },
      "source": [
        "C"
      ],
      "execution_count": 0,
      "outputs": [
        {
          "output_type": "execute_result",
          "data": {
            "text/plain": [
              "array([[1, 1],\n",
              "       [1, 1]])"
            ]
          },
          "metadata": {
            "tags": []
          },
          "execution_count": 81
        }
      ]
    },
    {
      "cell_type": "code",
      "metadata": {
        "id": "ZxYwJd-a3LtG",
        "colab_type": "code",
        "outputId": "66e288eb-3a29-4069-c423-227f5c781c33",
        "colab": {}
      },
      "source": [
        "#Chaing C contents does not affect B!\n",
        "B"
      ],
      "execution_count": 0,
      "outputs": [
        {
          "output_type": "execute_result",
          "data": {
            "text/plain": [
              "array([[0, 0, 0, 0],\n",
              "       [0, 0, 0, 0],\n",
              "       [0, 0, 0, 0],\n",
              "       [0, 0, 0, 0]])"
            ]
          },
          "metadata": {
            "tags": []
          },
          "execution_count": 83
        }
      ]
    },
    {
      "cell_type": "markdown",
      "metadata": {
        "id": "YaJqGqJJ3LtI",
        "colab_type": "text"
      },
      "source": [
        "### <font color = 'blue'> Exercise #4 </font>:\n",
        "1. Create an 2-dimensional numpy array of type int16\n",
        "2. Add it to another of same dimensions but of type float64\n",
        "3. Guess what type the entries of the sum array would be, and check your guess by carrying out the addition."
      ]
    },
    {
      "cell_type": "code",
      "metadata": {
        "id": "XO5_k9zt7pUn",
        "colab_type": "code",
        "colab": {
          "base_uri": "https://localhost:8080/",
          "height": 34
        },
        "outputId": "b759c701-799b-4f59-bc06-b1dd15e4405a"
      },
      "source": [
        "arr6 = np.array([[1,2],[2,3]], dtype = np.int16)\n",
        "arr7 = np.array([[1.1,2.2],[2.2,3.3]], dtype = float) \n",
        "#float64 since it is broader\n",
        "arr8 = arr6 + arr7\n",
        "arr8.dtype\n"
      ],
      "execution_count": 34,
      "outputs": [
        {
          "output_type": "execute_result",
          "data": {
            "text/plain": [
              "dtype('float64')"
            ]
          },
          "metadata": {
            "tags": []
          },
          "execution_count": 34
        }
      ]
    },
    {
      "cell_type": "markdown",
      "metadata": {
        "id": "S3ZKsiUF3LtJ",
        "colab_type": "text"
      },
      "source": [
        "### Fancy indexing and Boolean-valued indexing"
      ]
    },
    {
      "cell_type": "code",
      "metadata": {
        "id": "hsYIN3Hc3LtJ",
        "colab_type": "code",
        "colab": {}
      },
      "source": [
        "A = np.linspace(0, 1, 11)"
      ],
      "execution_count": 0,
      "outputs": []
    },
    {
      "cell_type": "code",
      "metadata": {
        "id": "7kwU1nHK3LtS",
        "colab_type": "code",
        "outputId": "c3f9dd17-1956-4384-f16c-8397aad3d424",
        "colab": {}
      },
      "source": [
        "A[np.array([0, 2, 4])]"
      ],
      "execution_count": 0,
      "outputs": [
        {
          "output_type": "execute_result",
          "data": {
            "text/plain": [
              "array([ 0. ,  0.2,  0.4])"
            ]
          },
          "metadata": {
            "tags": []
          },
          "execution_count": 96
        }
      ]
    },
    {
      "cell_type": "code",
      "metadata": {
        "id": "-yHeTQJY3LtU",
        "colab_type": "code",
        "outputId": "a352eb1b-bb1c-4452-cb8a-da0cadd0c2c3",
        "colab": {}
      },
      "source": [
        "A[[0, 2, 4]]"
      ],
      "execution_count": 0,
      "outputs": [
        {
          "output_type": "execute_result",
          "data": {
            "text/plain": [
              "array([ 0. ,  0.2,  0.4])"
            ]
          },
          "metadata": {
            "tags": []
          },
          "execution_count": 97
        }
      ]
    },
    {
      "cell_type": "code",
      "metadata": {
        "id": "MT1ul6zZ3LtW",
        "colab_type": "code",
        "outputId": "10b072a0-5cb7-42c9-bfe1-c4b952a4f971",
        "colab": {}
      },
      "source": [
        "A > 0.5 "
      ],
      "execution_count": 0,
      "outputs": [
        {
          "output_type": "execute_result",
          "data": {
            "text/plain": [
              "array([False, False, False, False, False, False,  True,  True,  True,\n",
              "        True,  True], dtype=bool)"
            ]
          },
          "metadata": {
            "tags": []
          },
          "execution_count": 98
        }
      ]
    },
    {
      "cell_type": "code",
      "metadata": {
        "id": "7wf1eUQH3LtX",
        "colab_type": "code",
        "outputId": "56930764-1409-473e-e16e-229322252de5",
        "colab": {}
      },
      "source": [
        "A[A > 0.5]"
      ],
      "execution_count": 0,
      "outputs": [
        {
          "output_type": "execute_result",
          "data": {
            "text/plain": [
              "array([ 0.6,  0.7,  0.8,  0.9,  1. ])"
            ]
          },
          "metadata": {
            "tags": []
          },
          "execution_count": 99
        }
      ]
    },
    {
      "cell_type": "code",
      "metadata": {
        "id": "LO-gkw0J3Lta",
        "colab_type": "code",
        "colab": {}
      },
      "source": [
        "A = np.arange(10)"
      ],
      "execution_count": 0,
      "outputs": []
    },
    {
      "cell_type": "code",
      "metadata": {
        "id": "qsIif7lj3Ltc",
        "colab_type": "code",
        "outputId": "4e3b0891-0d8e-4b74-df07-ab096ae7121a",
        "colab": {}
      },
      "source": [
        "A"
      ],
      "execution_count": 0,
      "outputs": [
        {
          "output_type": "execute_result",
          "data": {
            "text/plain": [
              "array([0, 1, 2, 3, 4, 5, 6, 7, 8, 9])"
            ]
          },
          "metadata": {
            "tags": []
          },
          "execution_count": 101
        }
      ]
    },
    {
      "cell_type": "code",
      "metadata": {
        "id": "CM5AKG5j3Ltf",
        "colab_type": "code",
        "colab": {}
      },
      "source": [
        "indices = [2, 4, 6]"
      ],
      "execution_count": 0,
      "outputs": []
    },
    {
      "cell_type": "code",
      "metadata": {
        "id": "lqzXuGK53Ltg",
        "colab_type": "code",
        "colab": {}
      },
      "source": [
        "B = A[indices]"
      ],
      "execution_count": 0,
      "outputs": []
    },
    {
      "cell_type": "code",
      "metadata": {
        "id": "EK78iGsI3Ltj",
        "colab_type": "code",
        "colab": {}
      },
      "source": [
        "B[0] = -1  # this does not affect A"
      ],
      "execution_count": 0,
      "outputs": []
    },
    {
      "cell_type": "code",
      "metadata": {
        "id": "ZIZrs68B3Ltk",
        "colab_type": "code",
        "outputId": "94be591e-5de0-48e1-cdf3-ef4aafd6bb7b",
        "colab": {}
      },
      "source": [
        "A"
      ],
      "execution_count": 0,
      "outputs": [
        {
          "output_type": "execute_result",
          "data": {
            "text/plain": [
              "array([0, 1, 2, 3, 4, 5, 6, 7, 8, 9])"
            ]
          },
          "metadata": {
            "tags": []
          },
          "execution_count": 105
        }
      ]
    },
    {
      "cell_type": "code",
      "metadata": {
        "id": "PQqWToTJ3Ltn",
        "colab_type": "code",
        "colab": {}
      },
      "source": [
        "A[indices] = -1"
      ],
      "execution_count": 0,
      "outputs": []
    },
    {
      "cell_type": "code",
      "metadata": {
        "id": "qPMDKwAl3Ltp",
        "colab_type": "code",
        "outputId": "a9c1fbc2-b22f-4e87-fd84-d9eb4ece389b",
        "colab": {}
      },
      "source": [
        "A"
      ],
      "execution_count": 0,
      "outputs": [
        {
          "output_type": "execute_result",
          "data": {
            "text/plain": [
              "array([ 0,  1, -1,  3, -1,  5, -1,  7,  8,  9])"
            ]
          },
          "metadata": {
            "tags": []
          },
          "execution_count": 107
        }
      ]
    },
    {
      "cell_type": "code",
      "metadata": {
        "id": "MdTVAu9O3Ltr",
        "colab_type": "code",
        "colab": {}
      },
      "source": [
        "A = np.arange(10)"
      ],
      "execution_count": 0,
      "outputs": []
    },
    {
      "cell_type": "code",
      "metadata": {
        "id": "bbVQprMh3Lts",
        "colab_type": "code",
        "colab": {}
      },
      "source": [
        "B = A[A > 5]"
      ],
      "execution_count": 0,
      "outputs": []
    },
    {
      "cell_type": "code",
      "metadata": {
        "id": "qALRP8q93Ltw",
        "colab_type": "code",
        "colab": {}
      },
      "source": [
        "B[0] = -1  # this does not affect A"
      ],
      "execution_count": 0,
      "outputs": []
    },
    {
      "cell_type": "code",
      "metadata": {
        "id": "yb0UpQFg3Lty",
        "colab_type": "code",
        "outputId": "eb4c0672-5be0-4df5-d9c7-5686cd264400",
        "colab": {}
      },
      "source": [
        "A"
      ],
      "execution_count": 0,
      "outputs": [
        {
          "output_type": "execute_result",
          "data": {
            "text/plain": [
              "array([0, 1, 2, 3, 4, 5, 6, 7, 8, 9])"
            ]
          },
          "metadata": {
            "tags": []
          },
          "execution_count": 111
        }
      ]
    },
    {
      "cell_type": "code",
      "metadata": {
        "id": "GMNmi7fs3Lt3",
        "colab_type": "code",
        "colab": {}
      },
      "source": [
        "A[A > 5] = -1"
      ],
      "execution_count": 0,
      "outputs": []
    },
    {
      "cell_type": "code",
      "metadata": {
        "id": "rI_VEJY03Lt5",
        "colab_type": "code",
        "outputId": "f99fce4e-4bd2-4aa9-e24f-0fa6a5aa7839",
        "colab": {}
      },
      "source": [
        "A"
      ],
      "execution_count": 0,
      "outputs": [
        {
          "output_type": "execute_result",
          "data": {
            "text/plain": [
              "array([ 0,  1,  2,  3,  4,  5, -1, -1, -1, -1])"
            ]
          },
          "metadata": {
            "tags": []
          },
          "execution_count": 113
        }
      ]
    },
    {
      "cell_type": "markdown",
      "metadata": {
        "id": "op19fPBC3Lt8",
        "colab_type": "text"
      },
      "source": [
        "## Reshaping and resizing"
      ]
    },
    {
      "cell_type": "code",
      "metadata": {
        "id": "2roMYb5x3Lt9",
        "colab_type": "code",
        "colab": {}
      },
      "source": [
        "data = np.array([[1, 2], [3, 4]])"
      ],
      "execution_count": 0,
      "outputs": []
    },
    {
      "cell_type": "code",
      "metadata": {
        "id": "FbZ7b4qV3Lt_",
        "colab_type": "code",
        "outputId": "8410e83c-5c8e-4bcb-bbe1-b68abfab4c9a",
        "colab": {
          "base_uri": "https://localhost:8080/",
          "height": 34
        }
      },
      "source": [
        "np.reshape(data, (1, 4))"
      ],
      "execution_count": 37,
      "outputs": [
        {
          "output_type": "execute_result",
          "data": {
            "text/plain": [
              "array([[1, 2, 3, 4]])"
            ]
          },
          "metadata": {
            "tags": []
          },
          "execution_count": 37
        }
      ]
    },
    {
      "cell_type": "code",
      "metadata": {
        "id": "2DHggqaw3LuA",
        "colab_type": "code",
        "outputId": "aa4fb189-90f4-4385-e580-55527a40f891",
        "colab": {
          "base_uri": "https://localhost:8080/",
          "height": 34
        }
      },
      "source": [
        "data.reshape(4)"
      ],
      "execution_count": 38,
      "outputs": [
        {
          "output_type": "execute_result",
          "data": {
            "text/plain": [
              "array([1, 2, 3, 4])"
            ]
          },
          "metadata": {
            "tags": []
          },
          "execution_count": 38
        }
      ]
    },
    {
      "cell_type": "code",
      "metadata": {
        "id": "97iDfily3LuC",
        "colab_type": "code",
        "colab": {}
      },
      "source": [
        "data = np.array([[1, 2], [3, 4]])"
      ],
      "execution_count": 0,
      "outputs": []
    },
    {
      "cell_type": "code",
      "metadata": {
        "id": "ALW6LnnF3LuD",
        "colab_type": "code",
        "outputId": "053223c4-9d35-4c4f-d31f-fb70d9b2244c",
        "colab": {
          "base_uri": "https://localhost:8080/",
          "height": 51
        }
      },
      "source": [
        "data"
      ],
      "execution_count": 40,
      "outputs": [
        {
          "output_type": "execute_result",
          "data": {
            "text/plain": [
              "array([[1, 2],\n",
              "       [3, 4]])"
            ]
          },
          "metadata": {
            "tags": []
          },
          "execution_count": 40
        }
      ]
    },
    {
      "cell_type": "code",
      "metadata": {
        "id": "o3dvRBg73LuG",
        "colab_type": "code",
        "outputId": "0643f809-a8fb-4ddc-8831-8c0a14b8fe78",
        "colab": {
          "base_uri": "https://localhost:8080/",
          "height": 34
        }
      },
      "source": [
        "data.flatten()"
      ],
      "execution_count": 41,
      "outputs": [
        {
          "output_type": "execute_result",
          "data": {
            "text/plain": [
              "array([1, 2, 3, 4])"
            ]
          },
          "metadata": {
            "tags": []
          },
          "execution_count": 41
        }
      ]
    },
    {
      "cell_type": "code",
      "metadata": {
        "id": "QXJI7VY03LuJ",
        "colab_type": "code",
        "outputId": "b3743f6f-ec41-4a68-8dcd-6b04555aa436",
        "colab": {
          "base_uri": "https://localhost:8080/",
          "height": 34
        }
      },
      "source": [
        "data.flatten().shape"
      ],
      "execution_count": 42,
      "outputs": [
        {
          "output_type": "execute_result",
          "data": {
            "text/plain": [
              "(4,)"
            ]
          },
          "metadata": {
            "tags": []
          },
          "execution_count": 42
        }
      ]
    },
    {
      "cell_type": "code",
      "metadata": {
        "id": "zl5SWf823LuM",
        "colab_type": "code",
        "colab": {}
      },
      "source": [
        "data = np.arange(0, 5)"
      ],
      "execution_count": 0,
      "outputs": []
    },
    {
      "cell_type": "code",
      "metadata": {
        "id": "Kldf1x0P3LuO",
        "colab_type": "code",
        "colab": {}
      },
      "source": [
        "column = data[:, np.newaxis]"
      ],
      "execution_count": 0,
      "outputs": []
    },
    {
      "cell_type": "code",
      "metadata": {
        "id": "u2UzrvE73LuQ",
        "colab_type": "code",
        "outputId": "160cbc33-8047-4e50-9145-82b9f5ef8237",
        "colab": {
          "base_uri": "https://localhost:8080/",
          "height": 102
        }
      },
      "source": [
        "column"
      ],
      "execution_count": 45,
      "outputs": [
        {
          "output_type": "execute_result",
          "data": {
            "text/plain": [
              "array([[0],\n",
              "       [1],\n",
              "       [2],\n",
              "       [3],\n",
              "       [4]])"
            ]
          },
          "metadata": {
            "tags": []
          },
          "execution_count": 45
        }
      ]
    },
    {
      "cell_type": "code",
      "metadata": {
        "id": "U3hl1T_S3LuU",
        "colab_type": "code",
        "colab": {}
      },
      "source": [
        "row = data[np.newaxis, :]"
      ],
      "execution_count": 0,
      "outputs": []
    },
    {
      "cell_type": "code",
      "metadata": {
        "id": "kwOee87C3LuX",
        "colab_type": "code",
        "outputId": "096a4130-47f0-43f3-c93c-01b4aee5d3e2",
        "colab": {
          "base_uri": "https://localhost:8080/",
          "height": 34
        }
      },
      "source": [
        "row"
      ],
      "execution_count": 47,
      "outputs": [
        {
          "output_type": "execute_result",
          "data": {
            "text/plain": [
              "array([[0, 1, 2, 3, 4]])"
            ]
          },
          "metadata": {
            "tags": []
          },
          "execution_count": 47
        }
      ]
    },
    {
      "cell_type": "code",
      "metadata": {
        "id": "amCkkIKu3LuZ",
        "colab_type": "code",
        "colab": {}
      },
      "source": [
        "data = np.arange(5)"
      ],
      "execution_count": 0,
      "outputs": []
    },
    {
      "cell_type": "code",
      "metadata": {
        "id": "K9h6ee1E3Lub",
        "colab_type": "code",
        "outputId": "07037f76-2539-4de9-a583-61178bbd663d",
        "colab": {}
      },
      "source": [
        "data"
      ],
      "execution_count": 0,
      "outputs": [
        {
          "output_type": "execute_result",
          "data": {
            "text/plain": [
              "array([0, 1, 2, 3, 4])"
            ]
          },
          "metadata": {
            "tags": []
          },
          "execution_count": 127
        }
      ]
    },
    {
      "cell_type": "code",
      "metadata": {
        "id": "YNcRdAy-3Lud",
        "colab_type": "code",
        "outputId": "d534dcd1-fa41-4360-de0a-06c65793b99e",
        "colab": {}
      },
      "source": [
        "data = np.arange(9)\n",
        "data"
      ],
      "execution_count": 0,
      "outputs": [
        {
          "output_type": "execute_result",
          "data": {
            "text/plain": [
              "array([0, 1, 2, 3, 4, 5, 6, 7, 8])"
            ]
          },
          "metadata": {
            "tags": []
          },
          "execution_count": 4
        }
      ]
    },
    {
      "cell_type": "code",
      "metadata": {
        "id": "fJGhn6iL3Lug",
        "colab_type": "code",
        "outputId": "427faca5-02c4-4a6e-d354-228e477557b3",
        "colab": {}
      },
      "source": [
        "data.reshape(3, 3)"
      ],
      "execution_count": 0,
      "outputs": [
        {
          "output_type": "execute_result",
          "data": {
            "text/plain": [
              "array([[0, 1, 2],\n",
              "       [3, 4, 5],\n",
              "       [6, 7, 8]])"
            ]
          },
          "metadata": {
            "tags": []
          },
          "execution_count": 6
        }
      ]
    },
    {
      "cell_type": "code",
      "metadata": {
        "id": "v-uzQQy23Luh",
        "colab_type": "code",
        "outputId": "99f23099-7f39-47cc-e1ee-f434e284b04e",
        "colab": {}
      },
      "source": [
        "np.transpose(data)"
      ],
      "execution_count": 0,
      "outputs": [
        {
          "output_type": "execute_result",
          "data": {
            "text/plain": [
              "array([[0, 3, 6],\n",
              "       [1, 4, 7],\n",
              "       [2, 5, 8]])"
            ]
          },
          "metadata": {
            "tags": []
          },
          "execution_count": 222
        }
      ]
    },
    {
      "cell_type": "code",
      "metadata": {
        "id": "oa7iCdMK3Lui",
        "colab_type": "code",
        "colab": {}
      },
      "source": [
        "data = np.random.randn(4, 3)"
      ],
      "execution_count": 0,
      "outputs": []
    },
    {
      "cell_type": "code",
      "metadata": {
        "id": "G5ThuEoC3Lul",
        "colab_type": "code",
        "outputId": "3bfead21-6035-4a97-d997-61d83fa119c2",
        "colab": {
          "base_uri": "https://localhost:8080/",
          "height": 34
        }
      },
      "source": [
        "data.shape"
      ],
      "execution_count": 49,
      "outputs": [
        {
          "output_type": "execute_result",
          "data": {
            "text/plain": [
              "(4, 3)"
            ]
          },
          "metadata": {
            "tags": []
          },
          "execution_count": 49
        }
      ]
    },
    {
      "cell_type": "code",
      "metadata": {
        "id": "aXd3H8Ib3Lup",
        "colab_type": "code",
        "outputId": "4e415030-9c8a-45f8-f66d-4cc6c5d3f921",
        "colab": {
          "base_uri": "https://localhost:8080/",
          "height": 34
        }
      },
      "source": [
        "data.T.shape"
      ],
      "execution_count": 50,
      "outputs": [
        {
          "output_type": "execute_result",
          "data": {
            "text/plain": [
              "(3, 4)"
            ]
          },
          "metadata": {
            "tags": []
          },
          "execution_count": 50
        }
      ]
    },
    {
      "cell_type": "code",
      "metadata": {
        "id": "PuPRySIb3Luq",
        "colab_type": "code",
        "outputId": "cfb5207e-f4d8-4889-e585-30a94d43fc22",
        "colab": {
          "base_uri": "https://localhost:8080/",
          "height": 34
        }
      },
      "source": [
        "np.vstack((data, data, data)).shape"
      ],
      "execution_count": 51,
      "outputs": [
        {
          "output_type": "execute_result",
          "data": {
            "text/plain": [
              "(12, 3)"
            ]
          },
          "metadata": {
            "tags": []
          },
          "execution_count": 51
        }
      ]
    },
    {
      "cell_type": "code",
      "metadata": {
        "id": "SF3YUOQ33Luv",
        "colab_type": "code",
        "colab": {}
      },
      "source": [
        "data = np.arange(5)"
      ],
      "execution_count": 0,
      "outputs": []
    },
    {
      "cell_type": "code",
      "metadata": {
        "id": "11uggmrK3Luz",
        "colab_type": "code",
        "outputId": "36ee7417-9402-419d-a93e-2553eb7a95e2",
        "colab": {
          "base_uri": "https://localhost:8080/",
          "height": 34
        }
      },
      "source": [
        "data"
      ],
      "execution_count": 53,
      "outputs": [
        {
          "output_type": "execute_result",
          "data": {
            "text/plain": [
              "array([0, 1, 2, 3, 4])"
            ]
          },
          "metadata": {
            "tags": []
          },
          "execution_count": 53
        }
      ]
    },
    {
      "cell_type": "code",
      "metadata": {
        "id": "cTViIg0f3Lu2",
        "colab_type": "code",
        "outputId": "23d897a6-a40b-4990-a532-a9e04bb3f4bb",
        "colab": {
          "base_uri": "https://localhost:8080/",
          "height": 34
        }
      },
      "source": [
        "np.hstack((data, data, data))"
      ],
      "execution_count": 54,
      "outputs": [
        {
          "output_type": "execute_result",
          "data": {
            "text/plain": [
              "array([0, 1, 2, 3, 4, 0, 1, 2, 3, 4, 0, 1, 2, 3, 4])"
            ]
          },
          "metadata": {
            "tags": []
          },
          "execution_count": 54
        }
      ]
    },
    {
      "cell_type": "code",
      "metadata": {
        "id": "KbaBgjUl3Lu5",
        "colab_type": "code",
        "colab": {}
      },
      "source": [
        "data = data[:, np.newaxis]"
      ],
      "execution_count": 0,
      "outputs": []
    },
    {
      "cell_type": "code",
      "metadata": {
        "id": "-hOSNN-H3Lu8",
        "colab_type": "code",
        "outputId": "8e660531-9a67-49c7-f936-1c46fe9bd5a9",
        "colab": {}
      },
      "source": [
        "np.hstack((data, data, data))"
      ],
      "execution_count": 0,
      "outputs": [
        {
          "output_type": "execute_result",
          "data": {
            "text/plain": [
              "array([[0, 0, 0],\n",
              "       [1, 1, 1],\n",
              "       [2, 2, 2],\n",
              "       [3, 3, 3],\n",
              "       [4, 4, 4]])"
            ]
          },
          "metadata": {
            "tags": []
          },
          "execution_count": 133
        }
      ]
    },
    {
      "cell_type": "markdown",
      "metadata": {
        "id": "fMBgdfvJ3LvC",
        "colab_type": "text"
      },
      "source": [
        "### <font color = 'blue'> Exercise #5 </font>\n",
        "- Create a three dimensional array of size 3 x 3 x 4 of random integers named A\n",
        "- Stack 3 copies of the A vertically and name it B.  Can you guess the dimensions of the resulting array?\n",
        "- Now stack 3 copies of the transpose of A horizontally, and name it C.  Can you guess the dimension of C? Is it same as that of B?\n",
        "- Now use the flatten() method of A, call the result A_flat.  What is the shape of A_flat?\n",
        "- Reconstruct A from A_flat using reshape() method"
      ]
    },
    {
      "cell_type": "code",
      "metadata": {
        "id": "L05HSdnyByc2",
        "colab_type": "code",
        "colab": {
          "base_uri": "https://localhost:8080/",
          "height": 204
        },
        "outputId": "d8cb8472-d18c-413b-b880-3c261f18ab03"
      },
      "source": [
        "A = np.random.randint(0,10, size = (3,3,4))\n",
        "B = np.vstack((A,A,A)) #new dimension 9x3x4 since vstack adds the rows\n",
        "C = np.hstack((A.T, A.T, A.T)) #new dimension 4x9x3 since hstack adds the columns and the first and last dimension get flipped due to transpose\n",
        "A_flat = A.flatten() #shape will be 1x36\n",
        "A_flat.shape #(36,) 1x36\n",
        "np.reshape(A_flat, (3,3,4))\n",
        "\n",
        "\n"
      ],
      "execution_count": 69,
      "outputs": [
        {
          "output_type": "execute_result",
          "data": {
            "text/plain": [
              "array([[[2, 2, 5, 7],\n",
              "        [6, 2, 6, 4],\n",
              "        [6, 2, 0, 4]],\n",
              "\n",
              "       [[2, 7, 9, 0],\n",
              "        [1, 8, 1, 8],\n",
              "        [4, 9, 7, 3]],\n",
              "\n",
              "       [[3, 6, 3, 1],\n",
              "        [2, 6, 1, 6],\n",
              "        [7, 2, 9, 2]]])"
            ]
          },
          "metadata": {
            "tags": []
          },
          "execution_count": 69
        }
      ]
    },
    {
      "cell_type": "markdown",
      "metadata": {
        "id": "pij8Rgh93LvD",
        "colab_type": "text"
      },
      "source": [
        "## Vectorized expressions"
      ]
    },
    {
      "cell_type": "markdown",
      "metadata": {
        "id": "uma7iPuC3LvD",
        "colab_type": "text"
      },
      "source": [
        "### Arithmetic operations"
      ]
    },
    {
      "cell_type": "code",
      "metadata": {
        "collapsed": true,
        "id": "0cjeIpjP3LvE",
        "colab_type": "code",
        "colab": {}
      },
      "source": [
        "x = np.array([[1, 2], [3, 4]]) "
      ],
      "execution_count": 0,
      "outputs": []
    },
    {
      "cell_type": "code",
      "metadata": {
        "collapsed": true,
        "id": "DKRdrGNX3LvF",
        "colab_type": "code",
        "colab": {}
      },
      "source": [
        "y = np.array([[5, 6], [7, 8]])"
      ],
      "execution_count": 0,
      "outputs": []
    },
    {
      "cell_type": "code",
      "metadata": {
        "id": "IOy2IlkL3LvH",
        "colab_type": "code",
        "outputId": "e0783e6f-1e59-4c37-ca18-db6ef5c1c70c",
        "colab": {}
      },
      "source": [
        "x + y"
      ],
      "execution_count": 0,
      "outputs": [
        {
          "output_type": "execute_result",
          "data": {
            "text/plain": [
              "array([[ 6,  8],\n",
              "       [10, 12]])"
            ]
          },
          "metadata": {
            "tags": []
          },
          "execution_count": 136
        }
      ]
    },
    {
      "cell_type": "code",
      "metadata": {
        "id": "eoBpUCDE3LvL",
        "colab_type": "code",
        "outputId": "19c9e3be-2e46-472a-86e5-ef0f64525171",
        "colab": {}
      },
      "source": [
        "y - x"
      ],
      "execution_count": 0,
      "outputs": [
        {
          "output_type": "execute_result",
          "data": {
            "text/plain": [
              "array([[4, 4],\n",
              "       [4, 4]])"
            ]
          },
          "metadata": {
            "tags": []
          },
          "execution_count": 137
        }
      ]
    },
    {
      "cell_type": "code",
      "metadata": {
        "id": "AYIa9wmm3LvX",
        "colab_type": "code",
        "outputId": "7ebc70f7-13cf-4ffa-efb2-8294aeb7b9fc",
        "colab": {}
      },
      "source": [
        "x * y"
      ],
      "execution_count": 0,
      "outputs": [
        {
          "output_type": "execute_result",
          "data": {
            "text/plain": [
              "array([[ 5, 12],\n",
              "       [21, 32]])"
            ]
          },
          "metadata": {
            "tags": []
          },
          "execution_count": 138
        }
      ]
    },
    {
      "cell_type": "code",
      "metadata": {
        "id": "I2Tf0BsA3LvZ",
        "colab_type": "code",
        "outputId": "672fe135-1c21-4c3f-cfb5-442b19c49760",
        "colab": {}
      },
      "source": [
        "y / x"
      ],
      "execution_count": 0,
      "outputs": [
        {
          "output_type": "execute_result",
          "data": {
            "text/plain": [
              "array([[ 5.        ,  3.        ],\n",
              "       [ 2.33333333,  2.        ]])"
            ]
          },
          "metadata": {
            "tags": []
          },
          "execution_count": 139
        }
      ]
    },
    {
      "cell_type": "code",
      "metadata": {
        "id": "Fg2xba-J3Lve",
        "colab_type": "code",
        "outputId": "1f0c5c43-43e6-4285-c394-f6b9f7ef2017",
        "colab": {}
      },
      "source": [
        "x * 2"
      ],
      "execution_count": 0,
      "outputs": [
        {
          "output_type": "execute_result",
          "data": {
            "text/plain": [
              "array([[2, 4],\n",
              "       [6, 8]])"
            ]
          },
          "metadata": {
            "tags": []
          },
          "execution_count": 140
        }
      ]
    },
    {
      "cell_type": "code",
      "metadata": {
        "id": "MEUmt_du3Lvi",
        "colab_type": "code",
        "outputId": "82730bc5-9909-4752-820d-c27eed9598b3",
        "colab": {}
      },
      "source": [
        "2 ** x"
      ],
      "execution_count": 0,
      "outputs": [
        {
          "output_type": "execute_result",
          "data": {
            "text/plain": [
              "array([[ 2,  4],\n",
              "       [ 8, 16]], dtype=int32)"
            ]
          },
          "metadata": {
            "tags": []
          },
          "execution_count": 141
        }
      ]
    },
    {
      "cell_type": "code",
      "metadata": {
        "id": "D57_NKiB3Lvk",
        "colab_type": "code",
        "outputId": "3b033d02-d92a-4479-f841-213b98ff6a06",
        "colab": {}
      },
      "source": [
        "y / 2"
      ],
      "execution_count": 0,
      "outputs": [
        {
          "output_type": "execute_result",
          "data": {
            "text/plain": [
              "array([[ 2.5,  3. ],\n",
              "       [ 3.5,  4. ]])"
            ]
          },
          "metadata": {
            "tags": []
          },
          "execution_count": 142
        }
      ]
    },
    {
      "cell_type": "code",
      "metadata": {
        "id": "RkYslKrh3Lvm",
        "colab_type": "code",
        "outputId": "a56ff3ae-b1e4-4753-fdc4-18979e93c899",
        "colab": {}
      },
      "source": [
        "(y / 2).dtype"
      ],
      "execution_count": 0,
      "outputs": [
        {
          "output_type": "execute_result",
          "data": {
            "text/plain": [
              "dtype('float64')"
            ]
          },
          "metadata": {
            "tags": []
          },
          "execution_count": 143
        }
      ]
    },
    {
      "cell_type": "code",
      "metadata": {
        "collapsed": true,
        "id": "OvFr_Ixz3Lvq",
        "colab_type": "code",
        "colab": {}
      },
      "source": [
        "x = np.array([1, 2, 3, 4]).reshape(2,2)"
      ],
      "execution_count": 0,
      "outputs": []
    },
    {
      "cell_type": "code",
      "metadata": {
        "collapsed": true,
        "id": "12UJueGp3Lvy",
        "colab_type": "code",
        "colab": {}
      },
      "source": [
        "z = np.array([1, 2, 3, 4])"
      ],
      "execution_count": 0,
      "outputs": []
    },
    {
      "cell_type": "code",
      "metadata": {
        "id": "K7lwGe7w3Lv0",
        "colab_type": "code",
        "outputId": "40b05d77-470b-4b09-9ece-64401a3aa623",
        "colab": {}
      },
      "source": [
        "x / z"
      ],
      "execution_count": 0,
      "outputs": [
        {
          "output_type": "error",
          "ename": "ValueError",
          "evalue": "operands could not be broadcast together with shapes (2,2) (4,) ",
          "traceback": [
            "\u001b[1;31m---------------------------------------------------------------------------\u001b[0m",
            "\u001b[1;31mValueError\u001b[0m                                Traceback (most recent call last)",
            "\u001b[1;32m<ipython-input-146-b88ced08eb6a>\u001b[0m in \u001b[0;36m<module>\u001b[1;34m()\u001b[0m\n\u001b[1;32m----> 1\u001b[1;33m \u001b[0mx\u001b[0m \u001b[1;33m/\u001b[0m \u001b[0mz\u001b[0m\u001b[1;33m\u001b[0m\u001b[0m\n\u001b[0m",
            "\u001b[1;31mValueError\u001b[0m: operands could not be broadcast together with shapes (2,2) (4,) "
          ]
        }
      ]
    },
    {
      "cell_type": "code",
      "metadata": {
        "collapsed": true,
        "id": "26yZCGwl3Lv2",
        "colab_type": "code",
        "colab": {}
      },
      "source": [
        "z = np.array([[2, 4]])"
      ],
      "execution_count": 0,
      "outputs": []
    },
    {
      "cell_type": "code",
      "metadata": {
        "id": "XLjk4sNK3Lv3",
        "colab_type": "code",
        "outputId": "cca18598-549c-4412-87bd-987657b0d0f7",
        "colab": {}
      },
      "source": [
        "z"
      ],
      "execution_count": 0,
      "outputs": [
        {
          "output_type": "execute_result",
          "data": {
            "text/plain": [
              "array([[2, 4]])"
            ]
          },
          "metadata": {
            "tags": []
          },
          "execution_count": 148
        }
      ]
    },
    {
      "cell_type": "code",
      "metadata": {
        "id": "TC2jJcin3Lv5",
        "colab_type": "code",
        "outputId": "3d7ce3c2-3d6e-4881-ea01-ac3341ecadf8",
        "colab": {}
      },
      "source": [
        "z.shape"
      ],
      "execution_count": 0,
      "outputs": [
        {
          "output_type": "execute_result",
          "data": {
            "text/plain": [
              "(1, 2)"
            ]
          },
          "metadata": {
            "tags": []
          },
          "execution_count": 149
        }
      ]
    },
    {
      "cell_type": "code",
      "metadata": {
        "id": "cyAsGz333Lv7",
        "colab_type": "code",
        "outputId": "a3219142-9e1f-45a8-e8f4-46abfaa36820",
        "colab": {}
      },
      "source": [
        "x / z"
      ],
      "execution_count": 0,
      "outputs": [
        {
          "output_type": "execute_result",
          "data": {
            "text/plain": [
              "array([[ 0.5,  0.5],\n",
              "       [ 1.5,  1. ]])"
            ]
          },
          "metadata": {
            "tags": []
          },
          "execution_count": 150
        }
      ]
    },
    {
      "cell_type": "code",
      "metadata": {
        "collapsed": true,
        "id": "KqgxxzDN3Lv8",
        "colab_type": "code",
        "colab": {}
      },
      "source": [
        "zz = np.concatenate([z, z], axis=0)"
      ],
      "execution_count": 0,
      "outputs": []
    },
    {
      "cell_type": "code",
      "metadata": {
        "id": "TwLzcMaV3Lv-",
        "colab_type": "code",
        "outputId": "d8b28c08-2d51-45e7-ecc5-5a11fd12dbe8",
        "colab": {}
      },
      "source": [
        "zz"
      ],
      "execution_count": 0,
      "outputs": [
        {
          "output_type": "execute_result",
          "data": {
            "text/plain": [
              "array([[2, 4],\n",
              "       [2, 4]])"
            ]
          },
          "metadata": {
            "tags": []
          },
          "execution_count": 152
        }
      ]
    },
    {
      "cell_type": "code",
      "metadata": {
        "id": "jYo0fEZ23Lv_",
        "colab_type": "code",
        "outputId": "dd243589-08c4-404e-b5ec-638af538e5ad",
        "colab": {}
      },
      "source": [
        "x / zz"
      ],
      "execution_count": 0,
      "outputs": [
        {
          "output_type": "execute_result",
          "data": {
            "text/plain": [
              "array([[ 0.5,  0.5],\n",
              "       [ 1.5,  1. ]])"
            ]
          },
          "metadata": {
            "tags": []
          },
          "execution_count": 153
        }
      ]
    },
    {
      "cell_type": "code",
      "metadata": {
        "collapsed": true,
        "id": "2O8SUd243LwD",
        "colab_type": "code",
        "colab": {}
      },
      "source": [
        "z = np.array([[2], [4]])"
      ],
      "execution_count": 0,
      "outputs": []
    },
    {
      "cell_type": "code",
      "metadata": {
        "id": "mNew-Xra3LwE",
        "colab_type": "code",
        "outputId": "eee9db2b-48d8-4f04-eab2-639e6c541663",
        "colab": {}
      },
      "source": [
        "z.shape"
      ],
      "execution_count": 0,
      "outputs": [
        {
          "output_type": "execute_result",
          "data": {
            "text/plain": [
              "(2, 1)"
            ]
          },
          "metadata": {
            "tags": []
          },
          "execution_count": 155
        }
      ]
    },
    {
      "cell_type": "code",
      "metadata": {
        "id": "bsZEUfWq3LwG",
        "colab_type": "code",
        "outputId": "44ee0c60-37ce-457e-d8e4-3b1e42b78b6a",
        "colab": {}
      },
      "source": [
        "x / z"
      ],
      "execution_count": 0,
      "outputs": [
        {
          "output_type": "execute_result",
          "data": {
            "text/plain": [
              "array([[ 0.5 ,  1.  ],\n",
              "       [ 0.75,  1.  ]])"
            ]
          },
          "metadata": {
            "tags": []
          },
          "execution_count": 156
        }
      ]
    },
    {
      "cell_type": "code",
      "metadata": {
        "collapsed": true,
        "id": "CfLhu3BX3LwI",
        "colab_type": "code",
        "colab": {}
      },
      "source": [
        "zz = np.concatenate([z, z], axis=1)"
      ],
      "execution_count": 0,
      "outputs": []
    },
    {
      "cell_type": "code",
      "metadata": {
        "id": "UJorD3O53LwL",
        "colab_type": "code",
        "outputId": "a2de4a0c-d6c3-4a91-aaff-b298be95232d",
        "colab": {}
      },
      "source": [
        "zz"
      ],
      "execution_count": 0,
      "outputs": [
        {
          "output_type": "execute_result",
          "data": {
            "text/plain": [
              "array([[2, 2],\n",
              "       [4, 4]])"
            ]
          },
          "metadata": {
            "tags": []
          },
          "execution_count": 158
        }
      ]
    },
    {
      "cell_type": "code",
      "metadata": {
        "id": "UGhoNh6M3LwS",
        "colab_type": "code",
        "outputId": "1ca133b7-82f8-4ab5-d689-1722b7e013ab",
        "colab": {}
      },
      "source": [
        "x / zz"
      ],
      "execution_count": 0,
      "outputs": [
        {
          "output_type": "execute_result",
          "data": {
            "text/plain": [
              "array([[ 0.5 ,  1.  ],\n",
              "       [ 0.75,  1.  ]])"
            ]
          },
          "metadata": {
            "tags": []
          },
          "execution_count": 159
        }
      ]
    },
    {
      "cell_type": "code",
      "metadata": {
        "id": "TWdQdSTt3LwU",
        "colab_type": "code",
        "outputId": "b1b11f1d-563c-4c8a-97f1-3d715bf15d90",
        "colab": {}
      },
      "source": [
        "x = np.array([[1, 3], [2, 4]])\n",
        "x = x + y\n",
        "x"
      ],
      "execution_count": 0,
      "outputs": [
        {
          "output_type": "execute_result",
          "data": {
            "text/plain": [
              "array([[ 6,  9],\n",
              "       [ 9, 12]])"
            ]
          },
          "metadata": {
            "tags": []
          },
          "execution_count": 160
        }
      ]
    },
    {
      "cell_type": "code",
      "metadata": {
        "id": "QzLBvk5n3LwW",
        "colab_type": "code",
        "outputId": "41709193-7015-40ad-b7f4-9f9de5f88d6a",
        "colab": {}
      },
      "source": [
        "x = np.array([[1, 3], [2, 4]])\n",
        "x += y\n",
        "x"
      ],
      "execution_count": 0,
      "outputs": [
        {
          "output_type": "execute_result",
          "data": {
            "text/plain": [
              "array([[ 6,  9],\n",
              "       [ 9, 12]])"
            ]
          },
          "metadata": {
            "tags": []
          },
          "execution_count": 161
        }
      ]
    },
    {
      "cell_type": "markdown",
      "metadata": {
        "id": "QUvrh5H53Lwc",
        "colab_type": "text"
      },
      "source": [
        "### Elementwise functions"
      ]
    },
    {
      "cell_type": "code",
      "metadata": {
        "id": "dfcDg6EC3Lwc",
        "colab_type": "code",
        "colab": {}
      },
      "source": [
        "x = np.linspace(-1, 1, 11)"
      ],
      "execution_count": 0,
      "outputs": []
    },
    {
      "cell_type": "code",
      "metadata": {
        "id": "pednmv5X3Lwe",
        "colab_type": "code",
        "outputId": "0bbefaf7-4f43-465e-bbcd-c8d3247cfabe",
        "colab": {}
      },
      "source": [
        "x"
      ],
      "execution_count": 0,
      "outputs": [
        {
          "output_type": "execute_result",
          "data": {
            "text/plain": [
              "array([-1. , -0.8, -0.6, -0.4, -0.2,  0. ,  0.2,  0.4,  0.6,  0.8,  1. ])"
            ]
          },
          "metadata": {
            "tags": []
          },
          "execution_count": 163
        }
      ]
    },
    {
      "cell_type": "code",
      "metadata": {
        "id": "eMSr8brV3Lwh",
        "colab_type": "code",
        "colab": {}
      },
      "source": [
        "y = np.sin(np.pi * x)"
      ],
      "execution_count": 0,
      "outputs": []
    },
    {
      "cell_type": "code",
      "metadata": {
        "id": "-yL47zB13Lwj",
        "colab_type": "code",
        "outputId": "4527b0b2-a469-408e-cc10-94670c51efa3",
        "colab": {}
      },
      "source": [
        "np.round(y, decimals=4)"
      ],
      "execution_count": 0,
      "outputs": [
        {
          "output_type": "execute_result",
          "data": {
            "text/plain": [
              "array([-0.    , -0.5878, -0.9511, -0.9511, -0.5878,  0.    ,  0.5878,\n",
              "        0.9511,  0.9511,  0.5878,  0.    ])"
            ]
          },
          "metadata": {
            "tags": []
          },
          "execution_count": 165
        }
      ]
    },
    {
      "cell_type": "code",
      "metadata": {
        "id": "QeL3e46Q3Lwl",
        "colab_type": "code",
        "outputId": "1fa8a173-af68-4e9c-ed82-5a88b8d4e65b",
        "colab": {}
      },
      "source": [
        "np.add(np.sin(x) ** 2, np.cos(x) ** 2)"
      ],
      "execution_count": 0,
      "outputs": [
        {
          "output_type": "execute_result",
          "data": {
            "text/plain": [
              "array([ 1.,  1.,  1.,  1.,  1.,  1.,  1.,  1.,  1.,  1.,  1.])"
            ]
          },
          "metadata": {
            "tags": []
          },
          "execution_count": 166
        }
      ]
    },
    {
      "cell_type": "code",
      "metadata": {
        "id": "V2q_kOjj3Lwm",
        "colab_type": "code",
        "outputId": "913b341e-9e26-4eb8-9443-337316d5e4f8",
        "colab": {}
      },
      "source": [
        "np.sin(x) ** 2 + np.cos(x) ** 2"
      ],
      "execution_count": 0,
      "outputs": [
        {
          "output_type": "execute_result",
          "data": {
            "text/plain": [
              "array([ 1.,  1.,  1.,  1.,  1.,  1.,  1.,  1.,  1.,  1.,  1.])"
            ]
          },
          "metadata": {
            "tags": []
          },
          "execution_count": 167
        }
      ]
    },
    {
      "cell_type": "code",
      "metadata": {
        "id": "kJIWNqzU3Lwo",
        "colab_type": "code",
        "colab": {}
      },
      "source": [
        "def heaviside(x):\n",
        "    return 1 if x > 0 else 0"
      ],
      "execution_count": 0,
      "outputs": []
    },
    {
      "cell_type": "code",
      "metadata": {
        "id": "cIdVpj_V3Lwp",
        "colab_type": "code",
        "outputId": "8c07852c-1201-45f3-c7e2-586ba68acf64",
        "colab": {}
      },
      "source": [
        "heaviside(-1)"
      ],
      "execution_count": 0,
      "outputs": [
        {
          "output_type": "execute_result",
          "data": {
            "text/plain": [
              "0"
            ]
          },
          "metadata": {
            "tags": []
          },
          "execution_count": 169
        }
      ]
    },
    {
      "cell_type": "code",
      "metadata": {
        "id": "LUSBwmhj3Lwq",
        "colab_type": "code",
        "outputId": "7c67234d-1e21-4be1-964a-9db53a8d4f3e",
        "colab": {}
      },
      "source": [
        "heaviside(1.5)"
      ],
      "execution_count": 0,
      "outputs": [
        {
          "output_type": "execute_result",
          "data": {
            "text/plain": [
              "1"
            ]
          },
          "metadata": {
            "tags": []
          },
          "execution_count": 170
        }
      ]
    },
    {
      "cell_type": "code",
      "metadata": {
        "id": "VADULZle3Lwr",
        "colab_type": "code",
        "colab": {}
      },
      "source": [
        "x = np.linspace(-5, 5, 11)"
      ],
      "execution_count": 0,
      "outputs": []
    },
    {
      "cell_type": "code",
      "metadata": {
        "id": "6mVgAE9W3Lws",
        "colab_type": "code",
        "outputId": "ded98b36-2f0a-47e4-8980-9345ceb1722f",
        "colab": {}
      },
      "source": [
        "heaviside(x)"
      ],
      "execution_count": 0,
      "outputs": [
        {
          "output_type": "error",
          "ename": "ValueError",
          "evalue": "The truth value of an array with more than one element is ambiguous. Use a.any() or a.all()",
          "traceback": [
            "\u001b[1;31m---------------------------------------------------------------------------\u001b[0m",
            "\u001b[1;31mValueError\u001b[0m                                Traceback (most recent call last)",
            "\u001b[1;32m<ipython-input-172-fe9fb94bcf99>\u001b[0m in \u001b[0;36m<module>\u001b[1;34m()\u001b[0m\n\u001b[1;32m----> 1\u001b[1;33m \u001b[0mheaviside\u001b[0m\u001b[1;33m(\u001b[0m\u001b[0mx\u001b[0m\u001b[1;33m)\u001b[0m\u001b[1;33m\u001b[0m\u001b[0m\n\u001b[0m",
            "\u001b[1;32m<ipython-input-168-01b8e2f570bc>\u001b[0m in \u001b[0;36mheaviside\u001b[1;34m(x)\u001b[0m\n\u001b[0;32m      1\u001b[0m \u001b[1;32mdef\u001b[0m \u001b[0mheaviside\u001b[0m\u001b[1;33m(\u001b[0m\u001b[0mx\u001b[0m\u001b[1;33m)\u001b[0m\u001b[1;33m:\u001b[0m\u001b[1;33m\u001b[0m\u001b[0m\n\u001b[1;32m----> 2\u001b[1;33m     \u001b[1;32mreturn\u001b[0m \u001b[1;36m1\u001b[0m \u001b[1;32mif\u001b[0m \u001b[0mx\u001b[0m \u001b[1;33m>\u001b[0m \u001b[1;36m0\u001b[0m \u001b[1;32melse\u001b[0m \u001b[1;36m0\u001b[0m\u001b[1;33m\u001b[0m\u001b[0m\n\u001b[0m",
            "\u001b[1;31mValueError\u001b[0m: The truth value of an array with more than one element is ambiguous. Use a.any() or a.all()"
          ]
        }
      ]
    },
    {
      "cell_type": "code",
      "metadata": {
        "id": "42oAf78J3Lwu",
        "colab_type": "code",
        "colab": {}
      },
      "source": [
        "heaviside = np.vectorize(heaviside)"
      ],
      "execution_count": 0,
      "outputs": []
    },
    {
      "cell_type": "code",
      "metadata": {
        "id": "u-6Mp-2w3Lwv",
        "colab_type": "code",
        "outputId": "d60dd964-5b05-4fe2-bc4c-40387a863c3a",
        "colab": {}
      },
      "source": [
        "heaviside(x)"
      ],
      "execution_count": 0,
      "outputs": [
        {
          "output_type": "execute_result",
          "data": {
            "text/plain": [
              "array([0, 0, 0, 0, 0, 0, 1, 1, 1, 1, 1])"
            ]
          },
          "metadata": {
            "tags": []
          },
          "execution_count": 174
        }
      ]
    },
    {
      "cell_type": "code",
      "metadata": {
        "id": "LJETUc9z3Lw2",
        "colab_type": "code",
        "colab": {}
      },
      "source": [
        "def heaviside(x):\n",
        "    return 1.0 * (x > 0)"
      ],
      "execution_count": 0,
      "outputs": []
    },
    {
      "cell_type": "markdown",
      "metadata": {
        "id": "XMQh2r6W3Lw3",
        "colab_type": "text"
      },
      "source": [
        "### <font color = 'blue'> Exercise #6 </font>  \n",
        "\n",
        "1.  Create a function \"sigmoid\" that takes one variable $x$ as input and returns $\\frac{1}{1 + e^{-x}}$ as output\n",
        "2.  Create a 2-dimensional array A of random numbers of size 3x4\n",
        "3.  Let S = sigmoid(A).  Print S\n",
        "\n",
        "**Note this is an example of broadcasting: applying an operation to every element of an object, where the operation was only meant between elements**"
      ]
    },
    {
      "cell_type": "code",
      "metadata": {
        "id": "wvO4g8YVEarG",
        "colab_type": "code",
        "colab": {
          "base_uri": "https://localhost:8080/",
          "height": 68
        },
        "outputId": "80e5fd89-7689-454c-9148-7fa377371be5"
      },
      "source": [
        "def sigmoid(x):\n",
        "  return 1/(1 + np.exp(-x))\n",
        "\n",
        "A = np.random.rand(3,4)\n",
        "S = sigmoid(A)\n",
        "S\n"
      ],
      "execution_count": 94,
      "outputs": [
        {
          "output_type": "execute_result",
          "data": {
            "text/plain": [
              "array([[0.65209277, 0.58881247, 0.62422997, 0.68694482],\n",
              "       [0.71546213, 0.71426964, 0.58896062, 0.66513298],\n",
              "       [0.68813552, 0.58446242, 0.64121941, 0.63900135]])"
            ]
          },
          "metadata": {
            "tags": []
          },
          "execution_count": 94
        }
      ]
    },
    {
      "cell_type": "markdown",
      "metadata": {
        "id": "evxqgaYl3Lw4",
        "colab_type": "text"
      },
      "source": [
        "### Aggregate functions"
      ]
    },
    {
      "cell_type": "code",
      "metadata": {
        "collapsed": true,
        "id": "a4NtQN0Q3Lw4",
        "colab_type": "code",
        "colab": {}
      },
      "source": [
        "data = np.random.normal(size=(15,15))"
      ],
      "execution_count": 0,
      "outputs": []
    },
    {
      "cell_type": "code",
      "metadata": {
        "id": "oWpUCOyJ3Lw5",
        "colab_type": "code",
        "outputId": "f5061591-5b8c-4d49-f0bc-ce4b1aa105e6",
        "colab": {}
      },
      "source": [
        "np.mean(data)"
      ],
      "execution_count": 0,
      "outputs": [
        {
          "output_type": "execute_result",
          "data": {
            "text/plain": [
              "-0.074403636812459123"
            ]
          },
          "metadata": {
            "tags": []
          },
          "execution_count": 177
        }
      ]
    },
    {
      "cell_type": "code",
      "metadata": {
        "id": "4Zcrdyxv3Lw6",
        "colab_type": "code",
        "outputId": "f62beb56-0926-405a-cdca-fe9b83f7127b",
        "colab": {}
      },
      "source": [
        "data.mean()"
      ],
      "execution_count": 0,
      "outputs": [
        {
          "output_type": "execute_result",
          "data": {
            "text/plain": [
              "-0.074403636812459123"
            ]
          },
          "metadata": {
            "tags": []
          },
          "execution_count": 178
        }
      ]
    },
    {
      "cell_type": "code",
      "metadata": {
        "collapsed": true,
        "id": "uaTO6qgy3Lw-",
        "colab_type": "code",
        "colab": {}
      },
      "source": [
        "data = np.random.normal(size=(5, 10, 15))"
      ],
      "execution_count": 0,
      "outputs": []
    },
    {
      "cell_type": "code",
      "metadata": {
        "id": "0DQTocBu3Lw_",
        "colab_type": "code",
        "outputId": "8d722b92-4eeb-4e45-dd52-509ed8ad5f20",
        "colab": {}
      },
      "source": [
        "data.sum(axis=0).shape"
      ],
      "execution_count": 0,
      "outputs": [
        {
          "output_type": "execute_result",
          "data": {
            "text/plain": [
              "(10, 15)"
            ]
          },
          "metadata": {
            "tags": []
          },
          "execution_count": 180
        }
      ]
    },
    {
      "cell_type": "code",
      "metadata": {
        "id": "3yX9m2r73LxB",
        "colab_type": "code",
        "outputId": "de0fb8e3-6486-4c04-9476-7c604e0d6d71",
        "colab": {}
      },
      "source": [
        "data.sum(axis=(0, 2)).shape"
      ],
      "execution_count": 0,
      "outputs": [
        {
          "output_type": "execute_result",
          "data": {
            "text/plain": [
              "(10,)"
            ]
          },
          "metadata": {
            "tags": []
          },
          "execution_count": 181
        }
      ]
    },
    {
      "cell_type": "code",
      "metadata": {
        "id": "bQZ7NEVd3LxF",
        "colab_type": "code",
        "outputId": "fdb756f9-f5ea-4a54-c4b1-8eb547d65365",
        "colab": {}
      },
      "source": [
        "data.sum()"
      ],
      "execution_count": 0,
      "outputs": [
        {
          "output_type": "execute_result",
          "data": {
            "text/plain": [
              "11.003615133940048"
            ]
          },
          "metadata": {
            "tags": []
          },
          "execution_count": 182
        }
      ]
    },
    {
      "cell_type": "code",
      "metadata": {
        "collapsed": true,
        "id": "BSgYzYV63LxI",
        "colab_type": "code",
        "colab": {}
      },
      "source": [
        "data = np.arange(1,10).reshape(3,3)"
      ],
      "execution_count": 0,
      "outputs": []
    },
    {
      "cell_type": "code",
      "metadata": {
        "id": "l3XodFzk3LxL",
        "colab_type": "code",
        "outputId": "11b3ddc4-ebbd-4ade-98ea-a1236465f567",
        "colab": {}
      },
      "source": [
        "data"
      ],
      "execution_count": 0,
      "outputs": [
        {
          "output_type": "execute_result",
          "data": {
            "text/plain": [
              "array([[1, 2, 3],\n",
              "       [4, 5, 6],\n",
              "       [7, 8, 9]])"
            ]
          },
          "metadata": {
            "tags": []
          },
          "execution_count": 184
        }
      ]
    },
    {
      "cell_type": "code",
      "metadata": {
        "id": "l92luQo83LxM",
        "colab_type": "code",
        "outputId": "befa183e-9129-4dc8-b678-f06759b522f0",
        "colab": {}
      },
      "source": [
        "data.sum()"
      ],
      "execution_count": 0,
      "outputs": [
        {
          "output_type": "execute_result",
          "data": {
            "text/plain": [
              "45"
            ]
          },
          "metadata": {
            "tags": []
          },
          "execution_count": 185
        }
      ]
    },
    {
      "cell_type": "code",
      "metadata": {
        "id": "IkZDilTV3LxX",
        "colab_type": "code",
        "outputId": "7c0f16d0-7da0-4f35-9ad4-15b611adca91",
        "colab": {}
      },
      "source": [
        "data.sum(axis=0)"
      ],
      "execution_count": 0,
      "outputs": [
        {
          "output_type": "execute_result",
          "data": {
            "text/plain": [
              "array([12, 15, 18])"
            ]
          },
          "metadata": {
            "tags": []
          },
          "execution_count": 186
        }
      ]
    },
    {
      "cell_type": "code",
      "metadata": {
        "id": "N2bNOA5d3LxY",
        "colab_type": "code",
        "outputId": "7542777b-f932-4961-806e-14d6c805dcc3",
        "colab": {}
      },
      "source": [
        "data.sum(axis=1)"
      ],
      "execution_count": 0,
      "outputs": [
        {
          "output_type": "execute_result",
          "data": {
            "text/plain": [
              "array([ 6, 15, 24])"
            ]
          },
          "metadata": {
            "tags": []
          },
          "execution_count": 187
        }
      ]
    },
    {
      "cell_type": "markdown",
      "metadata": {
        "id": "37Z7GncK3LxZ",
        "colab_type": "text"
      },
      "source": [
        "### Boolean arrays"
      ]
    },
    {
      "cell_type": "code",
      "metadata": {
        "collapsed": true,
        "id": "_xEG1M8Z3LxZ",
        "colab_type": "code",
        "colab": {}
      },
      "source": [
        "a = np.array([1, 2, 3, 4])"
      ],
      "execution_count": 0,
      "outputs": []
    },
    {
      "cell_type": "code",
      "metadata": {
        "collapsed": true,
        "id": "D4CiGZr63Lxb",
        "colab_type": "code",
        "colab": {}
      },
      "source": [
        "b = np.array([4, 3, 2, 1])"
      ],
      "execution_count": 0,
      "outputs": []
    },
    {
      "cell_type": "code",
      "metadata": {
        "id": "oL_hNyru3Lxb",
        "colab_type": "code",
        "outputId": "d52d7196-007b-4133-8c4d-08d2e0ff8225",
        "colab": {}
      },
      "source": [
        "a < b"
      ],
      "execution_count": 0,
      "outputs": [
        {
          "output_type": "execute_result",
          "data": {
            "text/plain": [
              "array([ True,  True, False, False], dtype=bool)"
            ]
          },
          "metadata": {
            "tags": []
          },
          "execution_count": 190
        }
      ]
    },
    {
      "cell_type": "code",
      "metadata": {
        "id": "RnRsXYaf3Lxd",
        "colab_type": "code",
        "outputId": "182e3963-8959-4a7b-bcd7-51028c24a1e6",
        "colab": {}
      },
      "source": [
        "np.all(a < b)"
      ],
      "execution_count": 0,
      "outputs": [
        {
          "output_type": "execute_result",
          "data": {
            "text/plain": [
              "False"
            ]
          },
          "metadata": {
            "tags": []
          },
          "execution_count": 191
        }
      ]
    },
    {
      "cell_type": "code",
      "metadata": {
        "id": "qYAkwHkO3Lxe",
        "colab_type": "code",
        "outputId": "6a74cc20-f64a-4b23-c345-6c0414d14faf",
        "colab": {}
      },
      "source": [
        "np.any(a < b)"
      ],
      "execution_count": 0,
      "outputs": [
        {
          "output_type": "execute_result",
          "data": {
            "text/plain": [
              "True"
            ]
          },
          "metadata": {
            "tags": []
          },
          "execution_count": 192
        }
      ]
    },
    {
      "cell_type": "code",
      "metadata": {
        "collapsed": true,
        "id": "GJS8qc8q3Lxf",
        "colab_type": "code",
        "colab": {}
      },
      "source": [
        "x = np.array([-2, -1, 0, 1, 2])"
      ],
      "execution_count": 0,
      "outputs": []
    },
    {
      "cell_type": "code",
      "metadata": {
        "id": "Y9zZ8Ra-3Lxg",
        "colab_type": "code",
        "outputId": "173e43ac-6e23-471f-9d5d-8495be2e6642",
        "colab": {}
      },
      "source": [
        "x > 0"
      ],
      "execution_count": 0,
      "outputs": [
        {
          "output_type": "execute_result",
          "data": {
            "text/plain": [
              "array([False, False, False,  True,  True], dtype=bool)"
            ]
          },
          "metadata": {
            "tags": []
          },
          "execution_count": 195
        }
      ]
    },
    {
      "cell_type": "code",
      "metadata": {
        "id": "XNxfbHeb3Lxk",
        "colab_type": "code",
        "outputId": "66a04665-0e8e-45ad-8a7f-e18dbc1c4520",
        "colab": {}
      },
      "source": [
        "1 * (x > 0)"
      ],
      "execution_count": 0,
      "outputs": [
        {
          "output_type": "execute_result",
          "data": {
            "text/plain": [
              "array([0, 0, 0, 1, 1])"
            ]
          },
          "metadata": {
            "tags": []
          },
          "execution_count": 196
        }
      ]
    },
    {
      "cell_type": "code",
      "metadata": {
        "id": "DlI9jAr33Lxn",
        "colab_type": "code",
        "outputId": "93939bb2-de4a-4cc4-f7a3-17ab4cca05ba",
        "colab": {}
      },
      "source": [
        "x * (x > 0)"
      ],
      "execution_count": 0,
      "outputs": [
        {
          "output_type": "execute_result",
          "data": {
            "text/plain": [
              "array([0, 0, 0, 1, 2])"
            ]
          },
          "metadata": {
            "tags": []
          },
          "execution_count": 197
        }
      ]
    },
    {
      "cell_type": "markdown",
      "metadata": {
        "id": "1dYO9Qfj3Lxo",
        "colab_type": "text"
      },
      "source": [
        "# Set operations"
      ]
    },
    {
      "cell_type": "code",
      "metadata": {
        "id": "EN4GKcMF3Lxo",
        "colab_type": "code",
        "colab": {}
      },
      "source": [
        "a = np.unique([1,2,3,3])"
      ],
      "execution_count": 0,
      "outputs": []
    },
    {
      "cell_type": "code",
      "metadata": {
        "id": "6v85y_XB3Lxp",
        "colab_type": "code",
        "colab": {}
      },
      "source": [
        "b = np.unique([2,3,4,4,5,6,5])"
      ],
      "execution_count": 0,
      "outputs": []
    },
    {
      "cell_type": "code",
      "metadata": {
        "id": "kgHu-n2p3Lxq",
        "colab_type": "code",
        "outputId": "8d8665f1-198e-411d-f2b7-51a24f097753",
        "colab": {}
      },
      "source": [
        "np.in1d(a, b)"
      ],
      "execution_count": 0,
      "outputs": [
        {
          "output_type": "execute_result",
          "data": {
            "text/plain": [
              "array([False,  True,  True], dtype=bool)"
            ]
          },
          "metadata": {
            "tags": []
          },
          "execution_count": 212
        }
      ]
    },
    {
      "cell_type": "code",
      "metadata": {
        "id": "5WZ8lC7e3Lxr",
        "colab_type": "code",
        "outputId": "dd9264fe-bfc6-41aa-b0ee-dee2b07c0341",
        "colab": {}
      },
      "source": [
        "1 in a"
      ],
      "execution_count": 0,
      "outputs": [
        {
          "output_type": "execute_result",
          "data": {
            "text/plain": [
              "True"
            ]
          },
          "metadata": {
            "tags": []
          },
          "execution_count": 213
        }
      ]
    },
    {
      "cell_type": "code",
      "metadata": {
        "id": "tnLpybur3Lxt",
        "colab_type": "code",
        "outputId": "681ead32-0c0f-4bae-b143-ec9f403f0ecd",
        "colab": {}
      },
      "source": [
        "1 in b"
      ],
      "execution_count": 0,
      "outputs": [
        {
          "output_type": "execute_result",
          "data": {
            "text/plain": [
              "False"
            ]
          },
          "metadata": {
            "tags": []
          },
          "execution_count": 214
        }
      ]
    },
    {
      "cell_type": "code",
      "metadata": {
        "id": "BKe3Unwo3Lxu",
        "colab_type": "code",
        "outputId": "35b139f7-e24c-481b-8136-49c004c29a30",
        "colab": {}
      },
      "source": [
        "np.all(np.in1d(a, b))"
      ],
      "execution_count": 0,
      "outputs": [
        {
          "output_type": "execute_result",
          "data": {
            "text/plain": [
              "False"
            ]
          },
          "metadata": {
            "tags": []
          },
          "execution_count": 215
        }
      ]
    },
    {
      "cell_type": "code",
      "metadata": {
        "id": "OtUh0vfm3Lxv",
        "colab_type": "code",
        "outputId": "a2b2c1e0-0f57-4306-a9c0-06460c42ca52",
        "colab": {}
      },
      "source": [
        "np.union1d(a, b)"
      ],
      "execution_count": 0,
      "outputs": [
        {
          "output_type": "execute_result",
          "data": {
            "text/plain": [
              "array([1, 2, 3, 4, 5, 6])"
            ]
          },
          "metadata": {
            "tags": []
          },
          "execution_count": 216
        }
      ]
    },
    {
      "cell_type": "code",
      "metadata": {
        "id": "QGNJiETe3Lxw",
        "colab_type": "code",
        "outputId": "a33c34f8-ed5f-4bb5-baa4-e4881aa42e6d",
        "colab": {}
      },
      "source": [
        "np.intersect1d(a, b)"
      ],
      "execution_count": 0,
      "outputs": [
        {
          "output_type": "execute_result",
          "data": {
            "text/plain": [
              "array([2, 3])"
            ]
          },
          "metadata": {
            "tags": []
          },
          "execution_count": 217
        }
      ]
    },
    {
      "cell_type": "code",
      "metadata": {
        "id": "z3_QoJS-3Lxx",
        "colab_type": "code",
        "outputId": "f33c003f-155c-4195-9203-613850a4af20",
        "colab": {}
      },
      "source": [
        "np.setdiff1d(a, b)"
      ],
      "execution_count": 0,
      "outputs": [
        {
          "output_type": "execute_result",
          "data": {
            "text/plain": [
              "array([1])"
            ]
          },
          "metadata": {
            "tags": []
          },
          "execution_count": 218
        }
      ]
    },
    {
      "cell_type": "code",
      "metadata": {
        "id": "D0UABwum3Lxy",
        "colab_type": "code",
        "outputId": "5fff0230-8ddd-4aa6-baa6-e6a644166f42",
        "colab": {}
      },
      "source": [
        "np.setdiff1d(b, a)"
      ],
      "execution_count": 0,
      "outputs": [
        {
          "output_type": "execute_result",
          "data": {
            "text/plain": [
              "array([4, 5, 6])"
            ]
          },
          "metadata": {
            "tags": []
          },
          "execution_count": 219
        }
      ]
    },
    {
      "cell_type": "markdown",
      "metadata": {
        "id": "3vbuAcrM3Lx1",
        "colab_type": "text"
      },
      "source": [
        "### <font color = 'blue'> Exercise #7 </font> \n",
        "1.  Let the **list** L = ['M', 'A', 'S', 'S', 'A', 'C', 'H', 'U', 'S', 'E', 'T', 'S']\n",
        "2.  Use the **set** operation to find the unique entries in the list, call it S.  \n",
        "3.  Use the **zip** operation to now create Z = ordered pairs unique entries of L in alphabatical order with integer 0, 1, 2, 3 etc. \n",
        "4.  Print the entries of Z"
      ]
    },
    {
      "cell_type": "code",
      "metadata": {
        "id": "-J1qgAy8HTi6",
        "colab_type": "code",
        "colab": {
          "base_uri": "https://localhost:8080/",
          "height": 153
        },
        "outputId": "d3a7fa0b-9123-4feb-85d4-cda1861dd69a"
      },
      "source": [
        "L = ['M', 'A', 'S', 'S', 'A', 'C', 'H', 'U', 'S', 'E', 'T', 'S']\n",
        "S = np.unique(L)\n",
        "Z = zip(S,range(S.size))\n",
        "list(Z)\n",
        "\n",
        "\n"
      ],
      "execution_count": 109,
      "outputs": [
        {
          "output_type": "execute_result",
          "data": {
            "text/plain": [
              "[('A', 0),\n",
              " ('C', 1),\n",
              " ('E', 2),\n",
              " ('H', 3),\n",
              " ('M', 4),\n",
              " ('S', 5),\n",
              " ('T', 6),\n",
              " ('U', 7)]"
            ]
          },
          "metadata": {
            "tags": []
          },
          "execution_count": 109
        }
      ]
    },
    {
      "cell_type": "markdown",
      "metadata": {
        "id": "Pm1rE29y3Lx2",
        "colab_type": "text"
      },
      "source": [
        "## Matrix and vector operations"
      ]
    },
    {
      "cell_type": "code",
      "metadata": {
        "id": "FwLuvn253Lx2",
        "colab_type": "code",
        "colab": {}
      },
      "source": [
        "A = np.arange(1, 7).reshape(2, 3)"
      ],
      "execution_count": 0,
      "outputs": []
    },
    {
      "cell_type": "code",
      "metadata": {
        "id": "r-yrKf553Lx3",
        "colab_type": "code",
        "outputId": "65f1dd1b-9a9c-4bce-9eb4-c0b9e4ea98ec",
        "colab": {}
      },
      "source": [
        "A"
      ],
      "execution_count": 0,
      "outputs": [
        {
          "output_type": "execute_result",
          "data": {
            "text/plain": [
              "array([[1, 2, 3],\n",
              "       [4, 5, 6]])"
            ]
          },
          "metadata": {
            "tags": []
          },
          "execution_count": 227
        }
      ]
    },
    {
      "cell_type": "code",
      "metadata": {
        "id": "dWh5GKWP3Lx4",
        "colab_type": "code",
        "colab": {}
      },
      "source": [
        "B = np.arange(1, 7).reshape(3, 2)"
      ],
      "execution_count": 0,
      "outputs": []
    },
    {
      "cell_type": "code",
      "metadata": {
        "id": "Bmwkc0yg3Lx6",
        "colab_type": "code",
        "outputId": "10d923de-524d-40ae-d371-bff25c3f9ed5",
        "colab": {}
      },
      "source": [
        "B"
      ],
      "execution_count": 0,
      "outputs": [
        {
          "output_type": "execute_result",
          "data": {
            "text/plain": [
              "array([[1, 2],\n",
              "       [3, 4],\n",
              "       [5, 6]])"
            ]
          },
          "metadata": {
            "tags": []
          },
          "execution_count": 229
        }
      ]
    },
    {
      "cell_type": "code",
      "metadata": {
        "id": "NTGQ7Pec3Lx7",
        "colab_type": "code",
        "outputId": "f89e2e27-fa14-4bcf-b67a-803e3559dd36",
        "colab": {}
      },
      "source": [
        "np.dot(A, B)"
      ],
      "execution_count": 0,
      "outputs": [
        {
          "output_type": "execute_result",
          "data": {
            "text/plain": [
              "array([[22, 28],\n",
              "       [49, 64]])"
            ]
          },
          "metadata": {
            "tags": []
          },
          "execution_count": 230
        }
      ]
    },
    {
      "cell_type": "code",
      "metadata": {
        "id": "hdzV8oJv3Lx8",
        "colab_type": "code",
        "outputId": "86dfeb57-b1b9-4908-9b4c-b08de083df8f",
        "colab": {}
      },
      "source": [
        "np.dot(B, A)"
      ],
      "execution_count": 0,
      "outputs": [
        {
          "output_type": "execute_result",
          "data": {
            "text/plain": [
              "array([[ 9, 12, 15],\n",
              "       [19, 26, 33],\n",
              "       [29, 40, 51]])"
            ]
          },
          "metadata": {
            "tags": []
          },
          "execution_count": 231
        }
      ]
    },
    {
      "cell_type": "code",
      "metadata": {
        "id": "xj7DfEgF3Lx9",
        "colab_type": "code",
        "colab": {}
      },
      "source": [
        "A = np.arange(9).reshape(3, 3)"
      ],
      "execution_count": 0,
      "outputs": []
    },
    {
      "cell_type": "code",
      "metadata": {
        "id": "x-Eqscdf3Lx_",
        "colab_type": "code",
        "outputId": "4da57d69-b183-4114-d73e-7a8ac1da9dc6",
        "colab": {}
      },
      "source": [
        "A"
      ],
      "execution_count": 0,
      "outputs": [
        {
          "output_type": "execute_result",
          "data": {
            "text/plain": [
              "array([[0, 1, 2],\n",
              "       [3, 4, 5],\n",
              "       [6, 7, 8]])"
            ]
          },
          "metadata": {
            "tags": []
          },
          "execution_count": 233
        }
      ]
    },
    {
      "cell_type": "code",
      "metadata": {
        "id": "eVzQU3Kk3LyB",
        "colab_type": "code",
        "colab": {}
      },
      "source": [
        "x = np.arange(3)"
      ],
      "execution_count": 0,
      "outputs": []
    },
    {
      "cell_type": "code",
      "metadata": {
        "id": "O6oZJ9iW3LyC",
        "colab_type": "code",
        "outputId": "f9c286da-c885-41c5-c424-9350fc8639fa",
        "colab": {}
      },
      "source": [
        "x"
      ],
      "execution_count": 0,
      "outputs": [
        {
          "output_type": "execute_result",
          "data": {
            "text/plain": [
              "array([0, 1, 2])"
            ]
          },
          "metadata": {
            "tags": []
          },
          "execution_count": 235
        }
      ]
    },
    {
      "cell_type": "code",
      "metadata": {
        "id": "UbLgeE9v3LyD",
        "colab_type": "code",
        "outputId": "a1238afd-2374-4dd7-ee99-20217ef99512",
        "colab": {}
      },
      "source": [
        "np.dot(A, x)"
      ],
      "execution_count": 0,
      "outputs": [
        {
          "output_type": "execute_result",
          "data": {
            "text/plain": [
              "array([ 5, 14, 23])"
            ]
          },
          "metadata": {
            "tags": []
          },
          "execution_count": 236
        }
      ]
    },
    {
      "cell_type": "code",
      "metadata": {
        "id": "FLBdzep03LyE",
        "colab_type": "code",
        "outputId": "5599f725-37e3-402c-e8b4-879831f5eeb0",
        "colab": {}
      },
      "source": [
        "A.dot(x)"
      ],
      "execution_count": 0,
      "outputs": [
        {
          "output_type": "execute_result",
          "data": {
            "text/plain": [
              "array([ 5, 14, 23])"
            ]
          },
          "metadata": {
            "tags": []
          },
          "execution_count": 237
        }
      ]
    },
    {
      "cell_type": "code",
      "metadata": {
        "id": "8ArsIocv3LyG",
        "colab_type": "code",
        "colab": {}
      },
      "source": [
        "A = np.random.rand(3,3)\n",
        "B = np.random.rand(3,3)"
      ],
      "execution_count": 0,
      "outputs": []
    },
    {
      "cell_type": "code",
      "metadata": {
        "id": "pQPlOboh3LyH",
        "colab_type": "code",
        "colab": {}
      },
      "source": [
        "Ap = np.dot(B, np.dot(A, np.linalg.inv(B)))"
      ],
      "execution_count": 0,
      "outputs": []
    },
    {
      "cell_type": "code",
      "metadata": {
        "id": "1wnNDaD13LyK",
        "colab_type": "code",
        "colab": {}
      },
      "source": [
        "Ap = B.dot(A.dot(np.linalg.inv(B)))"
      ],
      "execution_count": 0,
      "outputs": []
    },
    {
      "cell_type": "code",
      "metadata": {
        "id": "bEsH-GoB3LyN",
        "colab_type": "code",
        "colab": {}
      },
      "source": [
        "A = np.matrix(A)"
      ],
      "execution_count": 0,
      "outputs": []
    },
    {
      "cell_type": "code",
      "metadata": {
        "id": "jQ42XJI33LyR",
        "colab_type": "code",
        "colab": {}
      },
      "source": [
        "B = np.matrix(B)"
      ],
      "execution_count": 0,
      "outputs": []
    },
    {
      "cell_type": "code",
      "metadata": {
        "id": "SXSHypmT3LyT",
        "colab_type": "code",
        "colab": {}
      },
      "source": [
        "Ap = B * A * B.I"
      ],
      "execution_count": 0,
      "outputs": []
    },
    {
      "cell_type": "code",
      "metadata": {
        "id": "8hpnC7Dw3LyU",
        "colab_type": "code",
        "colab": {}
      },
      "source": [
        "A = np.asmatrix(A)"
      ],
      "execution_count": 0,
      "outputs": []
    },
    {
      "cell_type": "code",
      "metadata": {
        "id": "kOMQQVbF3LyX",
        "colab_type": "code",
        "colab": {}
      },
      "source": [
        "B = np.asmatrix(B)"
      ],
      "execution_count": 0,
      "outputs": []
    },
    {
      "cell_type": "code",
      "metadata": {
        "id": "vHSYIYzX3LyZ",
        "colab_type": "code",
        "colab": {}
      },
      "source": [
        "Ap = B * A * B.I"
      ],
      "execution_count": 0,
      "outputs": []
    },
    {
      "cell_type": "code",
      "metadata": {
        "id": "4vJIMN_23Lya",
        "colab_type": "code",
        "colab": {}
      },
      "source": [
        "Ap = np.asarray(Ap)"
      ],
      "execution_count": 0,
      "outputs": []
    },
    {
      "cell_type": "code",
      "metadata": {
        "id": "l5t-cXn63Lyc",
        "colab_type": "code",
        "outputId": "10a9700d-a6d4-4a7f-9b47-f0b237aaf13b",
        "colab": {}
      },
      "source": [
        "np.inner(x, x)"
      ],
      "execution_count": 0,
      "outputs": [
        {
          "output_type": "execute_result",
          "data": {
            "text/plain": [
              "5"
            ]
          },
          "metadata": {
            "tags": []
          },
          "execution_count": 248
        }
      ]
    },
    {
      "cell_type": "code",
      "metadata": {
        "id": "K5y7R7lF3Lyd",
        "colab_type": "code",
        "outputId": "fc476104-d42b-469b-b90f-cbf5abeb8c0c",
        "colab": {}
      },
      "source": [
        "np.dot(x, x)"
      ],
      "execution_count": 0,
      "outputs": [
        {
          "output_type": "execute_result",
          "data": {
            "text/plain": [
              "5"
            ]
          },
          "metadata": {
            "tags": []
          },
          "execution_count": 249
        }
      ]
    },
    {
      "cell_type": "code",
      "metadata": {
        "id": "wwF3_bT23Lye",
        "colab_type": "code",
        "colab": {}
      },
      "source": [
        "y = x[:, np.newaxis]"
      ],
      "execution_count": 0,
      "outputs": []
    },
    {
      "cell_type": "code",
      "metadata": {
        "id": "6Al4s0gE3Lyh",
        "colab_type": "code",
        "outputId": "cee339e4-f0be-4813-dbda-4c3103bfb7b0",
        "colab": {}
      },
      "source": [
        "y"
      ],
      "execution_count": 0,
      "outputs": [
        {
          "output_type": "execute_result",
          "data": {
            "text/plain": [
              "array([[0],\n",
              "       [1],\n",
              "       [2]])"
            ]
          },
          "metadata": {
            "tags": []
          },
          "execution_count": 251
        }
      ]
    },
    {
      "cell_type": "code",
      "metadata": {
        "id": "Tre2DH7F3Lyk",
        "colab_type": "code",
        "outputId": "1fa37eca-bd7c-4814-96ca-d40d95840ae8",
        "colab": {}
      },
      "source": [
        "np.dot(y.T, y)"
      ],
      "execution_count": 0,
      "outputs": [
        {
          "output_type": "execute_result",
          "data": {
            "text/plain": [
              "array([[5]])"
            ]
          },
          "metadata": {
            "tags": []
          },
          "execution_count": 252
        }
      ]
    },
    {
      "cell_type": "code",
      "metadata": {
        "id": "zCDMMT-X3Lyt",
        "colab_type": "code",
        "colab": {}
      },
      "source": [
        "x = np.array([1, 2, 3])"
      ],
      "execution_count": 0,
      "outputs": []
    },
    {
      "cell_type": "code",
      "metadata": {
        "id": "dsSkQsBo3Lyu",
        "colab_type": "code",
        "outputId": "7d290995-69a4-4929-fc1e-a3c5876761f2",
        "colab": {}
      },
      "source": [
        "np.outer(x, x) "
      ],
      "execution_count": 0,
      "outputs": [
        {
          "output_type": "execute_result",
          "data": {
            "text/plain": [
              "array([[1, 2, 3],\n",
              "       [2, 4, 6],\n",
              "       [3, 6, 9]])"
            ]
          },
          "metadata": {
            "tags": []
          },
          "execution_count": 254
        }
      ]
    },
    {
      "cell_type": "code",
      "metadata": {
        "id": "0cs0hy5U3Lyv",
        "colab_type": "code",
        "outputId": "1ae31849-72f8-47e3-9c4d-ac8a3e37237a",
        "colab": {}
      },
      "source": [
        "np.kron(x, x) "
      ],
      "execution_count": 0,
      "outputs": [
        {
          "output_type": "execute_result",
          "data": {
            "text/plain": [
              "array([1, 2, 3, 2, 4, 6, 3, 6, 9])"
            ]
          },
          "metadata": {
            "tags": []
          },
          "execution_count": 255
        }
      ]
    },
    {
      "cell_type": "code",
      "metadata": {
        "id": "9xcZPzmg3Lyw",
        "colab_type": "code",
        "outputId": "d4f0755d-6359-4cc1-a596-994e48f181af",
        "colab": {}
      },
      "source": [
        "np.kron(x[:, np.newaxis], x[np.newaxis, :])"
      ],
      "execution_count": 0,
      "outputs": [
        {
          "output_type": "execute_result",
          "data": {
            "text/plain": [
              "array([[1, 2, 3],\n",
              "       [2, 4, 6],\n",
              "       [3, 6, 9]])"
            ]
          },
          "metadata": {
            "tags": []
          },
          "execution_count": 256
        }
      ]
    },
    {
      "cell_type": "code",
      "metadata": {
        "id": "VI4N50_43Lyx",
        "colab_type": "code",
        "outputId": "d08374ac-9bfd-4de5-8262-530f0bb967a1",
        "colab": {}
      },
      "source": [
        "np.kron(np.ones((2,2)), np.identity(2))"
      ],
      "execution_count": 0,
      "outputs": [
        {
          "output_type": "execute_result",
          "data": {
            "text/plain": [
              "array([[ 1.,  0.,  1.,  0.],\n",
              "       [ 0.,  1.,  0.,  1.],\n",
              "       [ 1.,  0.,  1.,  0.],\n",
              "       [ 0.,  1.,  0.,  1.]])"
            ]
          },
          "metadata": {
            "tags": []
          },
          "execution_count": 257
        }
      ]
    },
    {
      "cell_type": "code",
      "metadata": {
        "id": "FI5euDsz3Lyy",
        "colab_type": "code",
        "outputId": "9709c3fe-4cfe-4aab-da8c-99d67b263550",
        "colab": {}
      },
      "source": [
        "np.kron(np.identity(2), np.ones((2,2)))"
      ],
      "execution_count": 0,
      "outputs": [
        {
          "output_type": "execute_result",
          "data": {
            "text/plain": [
              "array([[ 1.,  1.,  0.,  0.],\n",
              "       [ 1.,  1.,  0.,  0.],\n",
              "       [ 0.,  0.,  1.,  1.],\n",
              "       [ 0.,  0.,  1.,  1.]])"
            ]
          },
          "metadata": {
            "tags": []
          },
          "execution_count": 258
        }
      ]
    },
    {
      "cell_type": "code",
      "metadata": {
        "id": "MbMc5-b-3Lyz",
        "colab_type": "code",
        "colab": {}
      },
      "source": [
        "x = np.array([1, 2, 3, 4])"
      ],
      "execution_count": 0,
      "outputs": []
    },
    {
      "cell_type": "code",
      "metadata": {
        "id": "MW22yEiM3Ly0",
        "colab_type": "code",
        "colab": {}
      },
      "source": [
        "y = np.array([5, 6, 7, 8])"
      ],
      "execution_count": 0,
      "outputs": []
    },
    {
      "cell_type": "code",
      "metadata": {
        "id": "pHhnCqxX3Ly1",
        "colab_type": "code",
        "outputId": "5dc3387f-05c6-4b23-8b9f-b8c5779c0eba",
        "colab": {}
      },
      "source": [
        "np.einsum(\"n,n\", x, y)"
      ],
      "execution_count": 0,
      "outputs": [
        {
          "output_type": "execute_result",
          "data": {
            "text/plain": [
              "70"
            ]
          },
          "metadata": {
            "tags": []
          },
          "execution_count": 261
        }
      ]
    },
    {
      "cell_type": "code",
      "metadata": {
        "id": "xezMv-Er3Ly3",
        "colab_type": "code",
        "outputId": "e59268de-ffd7-478e-9550-ed3bfb4711a0",
        "colab": {}
      },
      "source": [
        "np.inner(x, y)"
      ],
      "execution_count": 0,
      "outputs": [
        {
          "output_type": "execute_result",
          "data": {
            "text/plain": [
              "70"
            ]
          },
          "metadata": {
            "tags": []
          },
          "execution_count": 262
        }
      ]
    },
    {
      "cell_type": "code",
      "metadata": {
        "id": "UAS1gSzg3Ly6",
        "colab_type": "code",
        "colab": {}
      },
      "source": [
        "A = np.arange(9).reshape(3, 3)"
      ],
      "execution_count": 0,
      "outputs": []
    },
    {
      "cell_type": "code",
      "metadata": {
        "id": "Z8gEcroN3Ly7",
        "colab_type": "code",
        "colab": {}
      },
      "source": [
        "B = A.T"
      ],
      "execution_count": 0,
      "outputs": []
    },
    {
      "cell_type": "code",
      "metadata": {
        "id": "0WQagpus3Ly7",
        "colab_type": "code",
        "outputId": "2a45f8d2-268c-40e3-9e38-57a5ca9c98f7",
        "colab": {}
      },
      "source": [
        "np.einsum(\"mk,kn\", A, B)"
      ],
      "execution_count": 0,
      "outputs": [
        {
          "output_type": "execute_result",
          "data": {
            "text/plain": [
              "array([[  5,  14,  23],\n",
              "       [ 14,  50,  86],\n",
              "       [ 23,  86, 149]])"
            ]
          },
          "metadata": {
            "tags": []
          },
          "execution_count": 265
        }
      ]
    },
    {
      "cell_type": "code",
      "metadata": {
        "id": "Ml2J93A73Ly8",
        "colab_type": "code",
        "outputId": "e9c91265-62c7-4600-ccc0-79843e1d0fbe",
        "colab": {}
      },
      "source": [
        "np.alltrue(np.einsum(\"mk,kn\", A, B) == np.dot(A, B))"
      ],
      "execution_count": 0,
      "outputs": [
        {
          "output_type": "execute_result",
          "data": {
            "text/plain": [
              "True"
            ]
          },
          "metadata": {
            "tags": []
          },
          "execution_count": 266
        }
      ]
    },
    {
      "cell_type": "code",
      "metadata": {
        "id": "EOz3jgrQ3LzB",
        "colab_type": "code",
        "colab": {}
      },
      "source": [
        ""
      ],
      "execution_count": 0,
      "outputs": []
    }
  ]
}